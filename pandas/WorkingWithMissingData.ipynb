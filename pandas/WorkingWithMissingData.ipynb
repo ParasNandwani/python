{
  "nbformat": 4,
  "nbformat_minor": 0,
  "metadata": {
    "colab": {
      "name": "WorkingWithMissingData.ipynb",
      "provenance": [],
      "collapsed_sections": [],
      "include_colab_link": true
    },
    "kernelspec": {
      "name": "python3",
      "display_name": "Python 3"
    }
  },
  "cells": [
    {
      "cell_type": "markdown",
      "metadata": {
        "id": "view-in-github",
        "colab_type": "text"
      },
      "source": [
        "<a href=\"https://colab.research.google.com/github/ParasNandwani/python/blob/master/pandas/WorkingWithMissingData.ipynb\" target=\"_parent\"><img src=\"https://colab.research.google.com/assets/colab-badge.svg\" alt=\"Open In Colab\"/></a>"
      ]
    },
    {
      "cell_type": "markdown",
      "metadata": {
        "id": "b5oTN791N65N",
        "colab_type": "text"
      },
      "source": [
        "In this section,we will discuss missing values in pandas"
      ]
    },
    {
      "cell_type": "markdown",
      "metadata": {
        "id": "feAIS1JVP3OK",
        "colab_type": "text"
      },
      "source": [
        "## Values considered \"missing\".     \n",
        "As data comes in many shapes and forms, pandas aims to be flexible with regard to handling missing data.While NaN is the default missing value marker for reasons of computational speed and convenience, we need to be able to easily detect this value with data of different types: floating point, integer, boolean, and general object. In many cases, however, the Python None will arise and we wish to also consider that “missing” or “not available” or “NA”.\n",
        "\n",
        "Note If you want to consider inf and -inf to be “NA” in computations, you can set"
      ]
    },
    {
      "cell_type": "code",
      "metadata": {
        "id": "zuq6z8OcNge4",
        "colab_type": "code",
        "colab": {}
      },
      "source": [
        "import pandas as pd\n",
        "import numpy as np"
      ],
      "execution_count": 0,
      "outputs": []
    },
    {
      "cell_type": "code",
      "metadata": {
        "id": "kfNqrMkURwlW",
        "colab_type": "code",
        "colab": {
          "base_uri": "https://localhost:8080/",
          "height": 204
        },
        "outputId": "531f1569-2ee5-4eea-b5be-c9070df0dbe7"
      },
      "source": [
        "df=pd.DataFrame(np.random.randn(5,3),index=['a','c','e','f','h'],columns=['one','two','three'])\n",
        "df"
      ],
      "execution_count": 5,
      "outputs": [
        {
          "output_type": "execute_result",
          "data": {
            "text/html": [
              "<div>\n",
              "<style scoped>\n",
              "    .dataframe tbody tr th:only-of-type {\n",
              "        vertical-align: middle;\n",
              "    }\n",
              "\n",
              "    .dataframe tbody tr th {\n",
              "        vertical-align: top;\n",
              "    }\n",
              "\n",
              "    .dataframe thead th {\n",
              "        text-align: right;\n",
              "    }\n",
              "</style>\n",
              "<table border=\"1\" class=\"dataframe\">\n",
              "  <thead>\n",
              "    <tr style=\"text-align: right;\">\n",
              "      <th></th>\n",
              "      <th>one</th>\n",
              "      <th>two</th>\n",
              "      <th>three</th>\n",
              "    </tr>\n",
              "  </thead>\n",
              "  <tbody>\n",
              "    <tr>\n",
              "      <th>a</th>\n",
              "      <td>1.640246</td>\n",
              "      <td>0.897440</td>\n",
              "      <td>1.035000</td>\n",
              "    </tr>\n",
              "    <tr>\n",
              "      <th>c</th>\n",
              "      <td>1.039216</td>\n",
              "      <td>-0.360027</td>\n",
              "      <td>-1.288774</td>\n",
              "    </tr>\n",
              "    <tr>\n",
              "      <th>e</th>\n",
              "      <td>0.593519</td>\n",
              "      <td>0.354016</td>\n",
              "      <td>-0.736766</td>\n",
              "    </tr>\n",
              "    <tr>\n",
              "      <th>f</th>\n",
              "      <td>0.332272</td>\n",
              "      <td>0.155057</td>\n",
              "      <td>0.343916</td>\n",
              "    </tr>\n",
              "    <tr>\n",
              "      <th>h</th>\n",
              "      <td>-0.791845</td>\n",
              "      <td>0.279513</td>\n",
              "      <td>0.786916</td>\n",
              "    </tr>\n",
              "  </tbody>\n",
              "</table>\n",
              "</div>"
            ],
            "text/plain": [
              "        one       two     three\n",
              "a  1.640246  0.897440  1.035000\n",
              "c  1.039216 -0.360027 -1.288774\n",
              "e  0.593519  0.354016 -0.736766\n",
              "f  0.332272  0.155057  0.343916\n",
              "h -0.791845  0.279513  0.786916"
            ]
          },
          "metadata": {
            "tags": []
          },
          "execution_count": 5
        }
      ]
    },
    {
      "cell_type": "code",
      "metadata": {
        "id": "KPxLOEPQSW_-",
        "colab_type": "code",
        "colab": {
          "base_uri": "https://localhost:8080/",
          "height": 204
        },
        "outputId": "8b1d0abc-aa0e-4da6-e509-22d1ba46ee83"
      },
      "source": [
        "df['four'] = 'bar'\n",
        "df"
      ],
      "execution_count": 7,
      "outputs": [
        {
          "output_type": "execute_result",
          "data": {
            "text/html": [
              "<div>\n",
              "<style scoped>\n",
              "    .dataframe tbody tr th:only-of-type {\n",
              "        vertical-align: middle;\n",
              "    }\n",
              "\n",
              "    .dataframe tbody tr th {\n",
              "        vertical-align: top;\n",
              "    }\n",
              "\n",
              "    .dataframe thead th {\n",
              "        text-align: right;\n",
              "    }\n",
              "</style>\n",
              "<table border=\"1\" class=\"dataframe\">\n",
              "  <thead>\n",
              "    <tr style=\"text-align: right;\">\n",
              "      <th></th>\n",
              "      <th>one</th>\n",
              "      <th>two</th>\n",
              "      <th>three</th>\n",
              "      <th>four</th>\n",
              "    </tr>\n",
              "  </thead>\n",
              "  <tbody>\n",
              "    <tr>\n",
              "      <th>a</th>\n",
              "      <td>1.640246</td>\n",
              "      <td>0.897440</td>\n",
              "      <td>1.035000</td>\n",
              "      <td>bar</td>\n",
              "    </tr>\n",
              "    <tr>\n",
              "      <th>c</th>\n",
              "      <td>1.039216</td>\n",
              "      <td>-0.360027</td>\n",
              "      <td>-1.288774</td>\n",
              "      <td>bar</td>\n",
              "    </tr>\n",
              "    <tr>\n",
              "      <th>e</th>\n",
              "      <td>0.593519</td>\n",
              "      <td>0.354016</td>\n",
              "      <td>-0.736766</td>\n",
              "      <td>bar</td>\n",
              "    </tr>\n",
              "    <tr>\n",
              "      <th>f</th>\n",
              "      <td>0.332272</td>\n",
              "      <td>0.155057</td>\n",
              "      <td>0.343916</td>\n",
              "      <td>bar</td>\n",
              "    </tr>\n",
              "    <tr>\n",
              "      <th>h</th>\n",
              "      <td>-0.791845</td>\n",
              "      <td>0.279513</td>\n",
              "      <td>0.786916</td>\n",
              "      <td>bar</td>\n",
              "    </tr>\n",
              "  </tbody>\n",
              "</table>\n",
              "</div>"
            ],
            "text/plain": [
              "        one       two     three four\n",
              "a  1.640246  0.897440  1.035000  bar\n",
              "c  1.039216 -0.360027 -1.288774  bar\n",
              "e  0.593519  0.354016 -0.736766  bar\n",
              "f  0.332272  0.155057  0.343916  bar\n",
              "h -0.791845  0.279513  0.786916  bar"
            ]
          },
          "metadata": {
            "tags": []
          },
          "execution_count": 7
        }
      ]
    },
    {
      "cell_type": "code",
      "metadata": {
        "id": "LNhtd_HjSnYR",
        "colab_type": "code",
        "colab": {
          "base_uri": "https://localhost:8080/",
          "height": 204
        },
        "outputId": "9ae13d10-96e5-4013-b98f-dc8eccecd5d4"
      },
      "source": [
        " df['five'] = df['one'] > 0\n",
        " df"
      ],
      "execution_count": 9,
      "outputs": [
        {
          "output_type": "execute_result",
          "data": {
            "text/html": [
              "<div>\n",
              "<style scoped>\n",
              "    .dataframe tbody tr th:only-of-type {\n",
              "        vertical-align: middle;\n",
              "    }\n",
              "\n",
              "    .dataframe tbody tr th {\n",
              "        vertical-align: top;\n",
              "    }\n",
              "\n",
              "    .dataframe thead th {\n",
              "        text-align: right;\n",
              "    }\n",
              "</style>\n",
              "<table border=\"1\" class=\"dataframe\">\n",
              "  <thead>\n",
              "    <tr style=\"text-align: right;\">\n",
              "      <th></th>\n",
              "      <th>one</th>\n",
              "      <th>two</th>\n",
              "      <th>three</th>\n",
              "      <th>four</th>\n",
              "      <th>five</th>\n",
              "    </tr>\n",
              "  </thead>\n",
              "  <tbody>\n",
              "    <tr>\n",
              "      <th>a</th>\n",
              "      <td>1.640246</td>\n",
              "      <td>0.897440</td>\n",
              "      <td>1.035000</td>\n",
              "      <td>bar</td>\n",
              "      <td>True</td>\n",
              "    </tr>\n",
              "    <tr>\n",
              "      <th>c</th>\n",
              "      <td>1.039216</td>\n",
              "      <td>-0.360027</td>\n",
              "      <td>-1.288774</td>\n",
              "      <td>bar</td>\n",
              "      <td>True</td>\n",
              "    </tr>\n",
              "    <tr>\n",
              "      <th>e</th>\n",
              "      <td>0.593519</td>\n",
              "      <td>0.354016</td>\n",
              "      <td>-0.736766</td>\n",
              "      <td>bar</td>\n",
              "      <td>True</td>\n",
              "    </tr>\n",
              "    <tr>\n",
              "      <th>f</th>\n",
              "      <td>0.332272</td>\n",
              "      <td>0.155057</td>\n",
              "      <td>0.343916</td>\n",
              "      <td>bar</td>\n",
              "      <td>True</td>\n",
              "    </tr>\n",
              "    <tr>\n",
              "      <th>h</th>\n",
              "      <td>-0.791845</td>\n",
              "      <td>0.279513</td>\n",
              "      <td>0.786916</td>\n",
              "      <td>bar</td>\n",
              "      <td>False</td>\n",
              "    </tr>\n",
              "  </tbody>\n",
              "</table>\n",
              "</div>"
            ],
            "text/plain": [
              "        one       two     three four   five\n",
              "a  1.640246  0.897440  1.035000  bar   True\n",
              "c  1.039216 -0.360027 -1.288774  bar   True\n",
              "e  0.593519  0.354016 -0.736766  bar   True\n",
              "f  0.332272  0.155057  0.343916  bar   True\n",
              "h -0.791845  0.279513  0.786916  bar  False"
            ]
          },
          "metadata": {
            "tags": []
          },
          "execution_count": 9
        }
      ]
    },
    {
      "cell_type": "code",
      "metadata": {
        "id": "PKIS5LFpS1Uu",
        "colab_type": "code",
        "colab": {
          "base_uri": "https://localhost:8080/",
          "height": 297
        },
        "outputId": "f955e307-5dba-4dfb-b7ca-66a9e9d72e38"
      },
      "source": [
        "df2 = df.reindex(['a', 'b', 'c', 'd', 'e', 'f', 'g', 'h'])\n",
        "df2"
      ],
      "execution_count": 10,
      "outputs": [
        {
          "output_type": "execute_result",
          "data": {
            "text/html": [
              "<div>\n",
              "<style scoped>\n",
              "    .dataframe tbody tr th:only-of-type {\n",
              "        vertical-align: middle;\n",
              "    }\n",
              "\n",
              "    .dataframe tbody tr th {\n",
              "        vertical-align: top;\n",
              "    }\n",
              "\n",
              "    .dataframe thead th {\n",
              "        text-align: right;\n",
              "    }\n",
              "</style>\n",
              "<table border=\"1\" class=\"dataframe\">\n",
              "  <thead>\n",
              "    <tr style=\"text-align: right;\">\n",
              "      <th></th>\n",
              "      <th>one</th>\n",
              "      <th>two</th>\n",
              "      <th>three</th>\n",
              "      <th>four</th>\n",
              "      <th>five</th>\n",
              "    </tr>\n",
              "  </thead>\n",
              "  <tbody>\n",
              "    <tr>\n",
              "      <th>a</th>\n",
              "      <td>1.640246</td>\n",
              "      <td>0.897440</td>\n",
              "      <td>1.035000</td>\n",
              "      <td>bar</td>\n",
              "      <td>True</td>\n",
              "    </tr>\n",
              "    <tr>\n",
              "      <th>b</th>\n",
              "      <td>NaN</td>\n",
              "      <td>NaN</td>\n",
              "      <td>NaN</td>\n",
              "      <td>NaN</td>\n",
              "      <td>NaN</td>\n",
              "    </tr>\n",
              "    <tr>\n",
              "      <th>c</th>\n",
              "      <td>1.039216</td>\n",
              "      <td>-0.360027</td>\n",
              "      <td>-1.288774</td>\n",
              "      <td>bar</td>\n",
              "      <td>True</td>\n",
              "    </tr>\n",
              "    <tr>\n",
              "      <th>d</th>\n",
              "      <td>NaN</td>\n",
              "      <td>NaN</td>\n",
              "      <td>NaN</td>\n",
              "      <td>NaN</td>\n",
              "      <td>NaN</td>\n",
              "    </tr>\n",
              "    <tr>\n",
              "      <th>e</th>\n",
              "      <td>0.593519</td>\n",
              "      <td>0.354016</td>\n",
              "      <td>-0.736766</td>\n",
              "      <td>bar</td>\n",
              "      <td>True</td>\n",
              "    </tr>\n",
              "    <tr>\n",
              "      <th>f</th>\n",
              "      <td>0.332272</td>\n",
              "      <td>0.155057</td>\n",
              "      <td>0.343916</td>\n",
              "      <td>bar</td>\n",
              "      <td>True</td>\n",
              "    </tr>\n",
              "    <tr>\n",
              "      <th>g</th>\n",
              "      <td>NaN</td>\n",
              "      <td>NaN</td>\n",
              "      <td>NaN</td>\n",
              "      <td>NaN</td>\n",
              "      <td>NaN</td>\n",
              "    </tr>\n",
              "    <tr>\n",
              "      <th>h</th>\n",
              "      <td>-0.791845</td>\n",
              "      <td>0.279513</td>\n",
              "      <td>0.786916</td>\n",
              "      <td>bar</td>\n",
              "      <td>False</td>\n",
              "    </tr>\n",
              "  </tbody>\n",
              "</table>\n",
              "</div>"
            ],
            "text/plain": [
              "        one       two     three four   five\n",
              "a  1.640246  0.897440  1.035000  bar   True\n",
              "b       NaN       NaN       NaN  NaN    NaN\n",
              "c  1.039216 -0.360027 -1.288774  bar   True\n",
              "d       NaN       NaN       NaN  NaN    NaN\n",
              "e  0.593519  0.354016 -0.736766  bar   True\n",
              "f  0.332272  0.155057  0.343916  bar   True\n",
              "g       NaN       NaN       NaN  NaN    NaN\n",
              "h -0.791845  0.279513  0.786916  bar  False"
            ]
          },
          "metadata": {
            "tags": []
          },
          "execution_count": 10
        }
      ]
    },
    {
      "cell_type": "code",
      "metadata": {
        "id": "8I5KQZ-1S5c-",
        "colab_type": "code",
        "colab": {
          "base_uri": "https://localhost:8080/",
          "height": 170
        },
        "outputId": "b2070b1d-74cf-47f4-fccd-51cfa9c367c6"
      },
      "source": [
        "df2['one']"
      ],
      "execution_count": 11,
      "outputs": [
        {
          "output_type": "execute_result",
          "data": {
            "text/plain": [
              "a    1.640246\n",
              "b         NaN\n",
              "c    1.039216\n",
              "d         NaN\n",
              "e    0.593519\n",
              "f    0.332272\n",
              "g         NaN\n",
              "h   -0.791845\n",
              "Name: one, dtype: float64"
            ]
          },
          "metadata": {
            "tags": []
          },
          "execution_count": 11
        }
      ]
    },
    {
      "cell_type": "markdown",
      "metadata": {
        "id": "JAbqIui3TT-Z",
        "colab_type": "text"
      },
      "source": [
        "To make detecting missing values easier (and across different array dtypes), pandas provides the isna() and notna() functions, which are also methods on Series and DataFrame objects:"
      ]
    },
    {
      "cell_type": "code",
      "metadata": {
        "id": "3A9N1QGfTF68",
        "colab_type": "code",
        "colab": {
          "base_uri": "https://localhost:8080/",
          "height": 170
        },
        "outputId": "f9f02e67-51c8-40ea-f48d-37395075b5a4"
      },
      "source": [
        "df2['one'].isna()"
      ],
      "execution_count": 12,
      "outputs": [
        {
          "output_type": "execute_result",
          "data": {
            "text/plain": [
              "a    False\n",
              "b     True\n",
              "c    False\n",
              "d     True\n",
              "e    False\n",
              "f    False\n",
              "g     True\n",
              "h    False\n",
              "Name: one, dtype: bool"
            ]
          },
          "metadata": {
            "tags": []
          },
          "execution_count": 12
        }
      ]
    },
    {
      "cell_type": "code",
      "metadata": {
        "id": "IaXWVTxWTg1h",
        "colab_type": "code",
        "colab": {
          "base_uri": "https://localhost:8080/",
          "height": 170
        },
        "outputId": "59fa74ba-d9c4-44f3-80b3-829e2df42d0b"
      },
      "source": [
        "df2['one'].notna()\n",
        "\n",
        "# notna() and isna() both are opposite to each other\n",
        "# isna() return true where value is NaN(missing value)\n",
        "# notna() returns treue where value is not NaN(missing value)"
      ],
      "execution_count": 13,
      "outputs": [
        {
          "output_type": "execute_result",
          "data": {
            "text/plain": [
              "a     True\n",
              "b    False\n",
              "c     True\n",
              "d    False\n",
              "e     True\n",
              "f     True\n",
              "g    False\n",
              "h     True\n",
              "Name: one, dtype: bool"
            ]
          },
          "metadata": {
            "tags": []
          },
          "execution_count": 13
        }
      ]
    },
    {
      "cell_type": "code",
      "metadata": {
        "id": "qxCMRub7UCdO",
        "colab_type": "code",
        "colab": {
          "base_uri": "https://localhost:8080/",
          "height": 297
        },
        "outputId": "10194845-14a9-4c45-a416-3835ca31e64b"
      },
      "source": [
        "df2.isna()"
      ],
      "execution_count": 14,
      "outputs": [
        {
          "output_type": "execute_result",
          "data": {
            "text/html": [
              "<div>\n",
              "<style scoped>\n",
              "    .dataframe tbody tr th:only-of-type {\n",
              "        vertical-align: middle;\n",
              "    }\n",
              "\n",
              "    .dataframe tbody tr th {\n",
              "        vertical-align: top;\n",
              "    }\n",
              "\n",
              "    .dataframe thead th {\n",
              "        text-align: right;\n",
              "    }\n",
              "</style>\n",
              "<table border=\"1\" class=\"dataframe\">\n",
              "  <thead>\n",
              "    <tr style=\"text-align: right;\">\n",
              "      <th></th>\n",
              "      <th>one</th>\n",
              "      <th>two</th>\n",
              "      <th>three</th>\n",
              "      <th>four</th>\n",
              "      <th>five</th>\n",
              "    </tr>\n",
              "  </thead>\n",
              "  <tbody>\n",
              "    <tr>\n",
              "      <th>a</th>\n",
              "      <td>False</td>\n",
              "      <td>False</td>\n",
              "      <td>False</td>\n",
              "      <td>False</td>\n",
              "      <td>False</td>\n",
              "    </tr>\n",
              "    <tr>\n",
              "      <th>b</th>\n",
              "      <td>True</td>\n",
              "      <td>True</td>\n",
              "      <td>True</td>\n",
              "      <td>True</td>\n",
              "      <td>True</td>\n",
              "    </tr>\n",
              "    <tr>\n",
              "      <th>c</th>\n",
              "      <td>False</td>\n",
              "      <td>False</td>\n",
              "      <td>False</td>\n",
              "      <td>False</td>\n",
              "      <td>False</td>\n",
              "    </tr>\n",
              "    <tr>\n",
              "      <th>d</th>\n",
              "      <td>True</td>\n",
              "      <td>True</td>\n",
              "      <td>True</td>\n",
              "      <td>True</td>\n",
              "      <td>True</td>\n",
              "    </tr>\n",
              "    <tr>\n",
              "      <th>e</th>\n",
              "      <td>False</td>\n",
              "      <td>False</td>\n",
              "      <td>False</td>\n",
              "      <td>False</td>\n",
              "      <td>False</td>\n",
              "    </tr>\n",
              "    <tr>\n",
              "      <th>f</th>\n",
              "      <td>False</td>\n",
              "      <td>False</td>\n",
              "      <td>False</td>\n",
              "      <td>False</td>\n",
              "      <td>False</td>\n",
              "    </tr>\n",
              "    <tr>\n",
              "      <th>g</th>\n",
              "      <td>True</td>\n",
              "      <td>True</td>\n",
              "      <td>True</td>\n",
              "      <td>True</td>\n",
              "      <td>True</td>\n",
              "    </tr>\n",
              "    <tr>\n",
              "      <th>h</th>\n",
              "      <td>False</td>\n",
              "      <td>False</td>\n",
              "      <td>False</td>\n",
              "      <td>False</td>\n",
              "      <td>False</td>\n",
              "    </tr>\n",
              "  </tbody>\n",
              "</table>\n",
              "</div>"
            ],
            "text/plain": [
              "     one    two  three   four   five\n",
              "a  False  False  False  False  False\n",
              "b   True   True   True   True   True\n",
              "c  False  False  False  False  False\n",
              "d   True   True   True   True   True\n",
              "e  False  False  False  False  False\n",
              "f  False  False  False  False  False\n",
              "g   True   True   True   True   True\n",
              "h  False  False  False  False  False"
            ]
          },
          "metadata": {
            "tags": []
          },
          "execution_count": 14
        }
      ]
    },
    {
      "cell_type": "code",
      "metadata": {
        "id": "yjYs81EyUMuD",
        "colab_type": "code",
        "colab": {
          "base_uri": "https://localhost:8080/",
          "height": 297
        },
        "outputId": "9c1dbff9-c8ce-4617-a44f-ce70a513f564"
      },
      "source": [
        "df2.notna()"
      ],
      "execution_count": 15,
      "outputs": [
        {
          "output_type": "execute_result",
          "data": {
            "text/html": [
              "<div>\n",
              "<style scoped>\n",
              "    .dataframe tbody tr th:only-of-type {\n",
              "        vertical-align: middle;\n",
              "    }\n",
              "\n",
              "    .dataframe tbody tr th {\n",
              "        vertical-align: top;\n",
              "    }\n",
              "\n",
              "    .dataframe thead th {\n",
              "        text-align: right;\n",
              "    }\n",
              "</style>\n",
              "<table border=\"1\" class=\"dataframe\">\n",
              "  <thead>\n",
              "    <tr style=\"text-align: right;\">\n",
              "      <th></th>\n",
              "      <th>one</th>\n",
              "      <th>two</th>\n",
              "      <th>three</th>\n",
              "      <th>four</th>\n",
              "      <th>five</th>\n",
              "    </tr>\n",
              "  </thead>\n",
              "  <tbody>\n",
              "    <tr>\n",
              "      <th>a</th>\n",
              "      <td>True</td>\n",
              "      <td>True</td>\n",
              "      <td>True</td>\n",
              "      <td>True</td>\n",
              "      <td>True</td>\n",
              "    </tr>\n",
              "    <tr>\n",
              "      <th>b</th>\n",
              "      <td>False</td>\n",
              "      <td>False</td>\n",
              "      <td>False</td>\n",
              "      <td>False</td>\n",
              "      <td>False</td>\n",
              "    </tr>\n",
              "    <tr>\n",
              "      <th>c</th>\n",
              "      <td>True</td>\n",
              "      <td>True</td>\n",
              "      <td>True</td>\n",
              "      <td>True</td>\n",
              "      <td>True</td>\n",
              "    </tr>\n",
              "    <tr>\n",
              "      <th>d</th>\n",
              "      <td>False</td>\n",
              "      <td>False</td>\n",
              "      <td>False</td>\n",
              "      <td>False</td>\n",
              "      <td>False</td>\n",
              "    </tr>\n",
              "    <tr>\n",
              "      <th>e</th>\n",
              "      <td>True</td>\n",
              "      <td>True</td>\n",
              "      <td>True</td>\n",
              "      <td>True</td>\n",
              "      <td>True</td>\n",
              "    </tr>\n",
              "    <tr>\n",
              "      <th>f</th>\n",
              "      <td>True</td>\n",
              "      <td>True</td>\n",
              "      <td>True</td>\n",
              "      <td>True</td>\n",
              "      <td>True</td>\n",
              "    </tr>\n",
              "    <tr>\n",
              "      <th>g</th>\n",
              "      <td>False</td>\n",
              "      <td>False</td>\n",
              "      <td>False</td>\n",
              "      <td>False</td>\n",
              "      <td>False</td>\n",
              "    </tr>\n",
              "    <tr>\n",
              "      <th>h</th>\n",
              "      <td>True</td>\n",
              "      <td>True</td>\n",
              "      <td>True</td>\n",
              "      <td>True</td>\n",
              "      <td>True</td>\n",
              "    </tr>\n",
              "  </tbody>\n",
              "</table>\n",
              "</div>"
            ],
            "text/plain": [
              "     one    two  three   four   five\n",
              "a   True   True   True   True   True\n",
              "b  False  False  False  False  False\n",
              "c   True   True   True   True   True\n",
              "d  False  False  False  False  False\n",
              "e   True   True   True   True   True\n",
              "f   True   True   True   True   True\n",
              "g  False  False  False  False  False\n",
              "h   True   True   True   True   True"
            ]
          },
          "metadata": {
            "tags": []
          },
          "execution_count": 15
        }
      ]
    },
    {
      "cell_type": "markdown",
      "metadata": {
        "id": "qgTC0vfwXzH_",
        "colab_type": "text"
      },
      "source": [
        "## Integer dtypes and missing data.     \n",
        "Because NaN is a float ,a column of integers with even one missing values is cast to "
      ]
    },
    {
      "cell_type": "code",
      "metadata": {
        "id": "5DYatpV9UP_U",
        "colab_type": "code",
        "colab": {
          "base_uri": "https://localhost:8080/",
          "height": 102
        },
        "outputId": "86939d02-8186-47cc-8afc-1007a4e0c2e4"
      },
      "source": [
        "ser=pd.Series([1,2,np.nan,4])"
      ],
      "execution_count": 25,
      "outputs": [
        {
          "output_type": "execute_result",
          "data": {
            "text/plain": [
              "0    1.0\n",
              "1    2.0\n",
              "2    NaN\n",
              "3    4.0\n",
              "dtype: float64"
            ]
          },
          "metadata": {
            "tags": []
          },
          "execution_count": 25
        }
      ]
    },
    {
      "cell_type": "code",
      "metadata": {
        "id": "LQMxmVG2bPT4",
        "colab_type": "code",
        "colab": {
          "base_uri": "https://localhost:8080/",
          "height": 102
        },
        "outputId": "a744570b-881d-480d-e281-113a926f97d0"
      },
      "source": [
        "ser=pd.Series([1,2,np.nan,4],dtype=pd.Int64Dtype())\n",
        "ser"
      ],
      "execution_count": 28,
      "outputs": [
        {
          "output_type": "execute_result",
          "data": {
            "text/plain": [
              "0      1\n",
              "1      2\n",
              "2    NaN\n",
              "3      4\n",
              "dtype: Int64"
            ]
          },
          "metadata": {
            "tags": []
          },
          "execution_count": 28
        }
      ]
    },
    {
      "cell_type": "markdown",
      "metadata": {
        "id": "Zc8RQNAiYZhO",
        "colab_type": "text"
      },
      "source": [
        "## Datetimes.    \n",
        "For datetime64[ins] types,NaT represents missing values.This is pseudo-native sentinel value that can be represented by NumpPy in singular dtype.Pandas objects provide compatibility between NaT and NaN.\n"
      ]
    },
    {
      "cell_type": "code",
      "metadata": {
        "id": "oV1xa1i1ZVOO",
        "colab_type": "code",
        "colab": {
          "base_uri": "https://localhost:8080/",
          "height": 204
        },
        "outputId": "02163a00-0a76-4056-b343-925d255d5a31"
      },
      "source": [
        "df3=df.copy()\n",
        "df3\n",
        "\n",
        "df3['timestamp']=pd.Timestamp('20201226')\n",
        "\n",
        "df3"
      ],
      "execution_count": 19,
      "outputs": [
        {
          "output_type": "execute_result",
          "data": {
            "text/html": [
              "<div>\n",
              "<style scoped>\n",
              "    .dataframe tbody tr th:only-of-type {\n",
              "        vertical-align: middle;\n",
              "    }\n",
              "\n",
              "    .dataframe tbody tr th {\n",
              "        vertical-align: top;\n",
              "    }\n",
              "\n",
              "    .dataframe thead th {\n",
              "        text-align: right;\n",
              "    }\n",
              "</style>\n",
              "<table border=\"1\" class=\"dataframe\">\n",
              "  <thead>\n",
              "    <tr style=\"text-align: right;\">\n",
              "      <th></th>\n",
              "      <th>one</th>\n",
              "      <th>two</th>\n",
              "      <th>three</th>\n",
              "      <th>four</th>\n",
              "      <th>five</th>\n",
              "      <th>timestamp</th>\n",
              "    </tr>\n",
              "  </thead>\n",
              "  <tbody>\n",
              "    <tr>\n",
              "      <th>a</th>\n",
              "      <td>1.640246</td>\n",
              "      <td>0.897440</td>\n",
              "      <td>1.035000</td>\n",
              "      <td>bar</td>\n",
              "      <td>True</td>\n",
              "      <td>2020-12-26</td>\n",
              "    </tr>\n",
              "    <tr>\n",
              "      <th>c</th>\n",
              "      <td>1.039216</td>\n",
              "      <td>-0.360027</td>\n",
              "      <td>-1.288774</td>\n",
              "      <td>bar</td>\n",
              "      <td>True</td>\n",
              "      <td>2020-12-26</td>\n",
              "    </tr>\n",
              "    <tr>\n",
              "      <th>e</th>\n",
              "      <td>0.593519</td>\n",
              "      <td>0.354016</td>\n",
              "      <td>-0.736766</td>\n",
              "      <td>bar</td>\n",
              "      <td>True</td>\n",
              "      <td>2020-12-26</td>\n",
              "    </tr>\n",
              "    <tr>\n",
              "      <th>f</th>\n",
              "      <td>0.332272</td>\n",
              "      <td>0.155057</td>\n",
              "      <td>0.343916</td>\n",
              "      <td>bar</td>\n",
              "      <td>True</td>\n",
              "      <td>2020-12-26</td>\n",
              "    </tr>\n",
              "    <tr>\n",
              "      <th>h</th>\n",
              "      <td>-0.791845</td>\n",
              "      <td>0.279513</td>\n",
              "      <td>0.786916</td>\n",
              "      <td>bar</td>\n",
              "      <td>False</td>\n",
              "      <td>2020-12-26</td>\n",
              "    </tr>\n",
              "  </tbody>\n",
              "</table>\n",
              "</div>"
            ],
            "text/plain": [
              "        one       two     three four   five  timestamp\n",
              "a  1.640246  0.897440  1.035000  bar   True 2020-12-26\n",
              "c  1.039216 -0.360027 -1.288774  bar   True 2020-12-26\n",
              "e  0.593519  0.354016 -0.736766  bar   True 2020-12-26\n",
              "f  0.332272  0.155057  0.343916  bar   True 2020-12-26\n",
              "h -0.791845  0.279513  0.786916  bar  False 2020-12-26"
            ]
          },
          "metadata": {
            "tags": []
          },
          "execution_count": 19
        }
      ]
    },
    {
      "cell_type": "code",
      "metadata": {
        "id": "twqdohxkaDg4",
        "colab_type": "code",
        "colab": {
          "base_uri": "https://localhost:8080/",
          "height": 204
        },
        "outputId": "54f3012b-fcc2-4d3a-d48c-e5162e3c0029"
      },
      "source": [
        "df3.loc[['a','c','h'],['one','timestamp']]=np.nan\n",
        "\n",
        "df3"
      ],
      "execution_count": 20,
      "outputs": [
        {
          "output_type": "execute_result",
          "data": {
            "text/html": [
              "<div>\n",
              "<style scoped>\n",
              "    .dataframe tbody tr th:only-of-type {\n",
              "        vertical-align: middle;\n",
              "    }\n",
              "\n",
              "    .dataframe tbody tr th {\n",
              "        vertical-align: top;\n",
              "    }\n",
              "\n",
              "    .dataframe thead th {\n",
              "        text-align: right;\n",
              "    }\n",
              "</style>\n",
              "<table border=\"1\" class=\"dataframe\">\n",
              "  <thead>\n",
              "    <tr style=\"text-align: right;\">\n",
              "      <th></th>\n",
              "      <th>one</th>\n",
              "      <th>two</th>\n",
              "      <th>three</th>\n",
              "      <th>four</th>\n",
              "      <th>five</th>\n",
              "      <th>timestamp</th>\n",
              "    </tr>\n",
              "  </thead>\n",
              "  <tbody>\n",
              "    <tr>\n",
              "      <th>a</th>\n",
              "      <td>NaN</td>\n",
              "      <td>0.897440</td>\n",
              "      <td>1.035000</td>\n",
              "      <td>bar</td>\n",
              "      <td>True</td>\n",
              "      <td>NaT</td>\n",
              "    </tr>\n",
              "    <tr>\n",
              "      <th>c</th>\n",
              "      <td>NaN</td>\n",
              "      <td>-0.360027</td>\n",
              "      <td>-1.288774</td>\n",
              "      <td>bar</td>\n",
              "      <td>True</td>\n",
              "      <td>NaT</td>\n",
              "    </tr>\n",
              "    <tr>\n",
              "      <th>e</th>\n",
              "      <td>0.593519</td>\n",
              "      <td>0.354016</td>\n",
              "      <td>-0.736766</td>\n",
              "      <td>bar</td>\n",
              "      <td>True</td>\n",
              "      <td>2020-12-26</td>\n",
              "    </tr>\n",
              "    <tr>\n",
              "      <th>f</th>\n",
              "      <td>0.332272</td>\n",
              "      <td>0.155057</td>\n",
              "      <td>0.343916</td>\n",
              "      <td>bar</td>\n",
              "      <td>True</td>\n",
              "      <td>2020-12-26</td>\n",
              "    </tr>\n",
              "    <tr>\n",
              "      <th>h</th>\n",
              "      <td>NaN</td>\n",
              "      <td>0.279513</td>\n",
              "      <td>0.786916</td>\n",
              "      <td>bar</td>\n",
              "      <td>False</td>\n",
              "      <td>NaT</td>\n",
              "    </tr>\n",
              "  </tbody>\n",
              "</table>\n",
              "</div>"
            ],
            "text/plain": [
              "        one       two     three four   five  timestamp\n",
              "a       NaN  0.897440  1.035000  bar   True        NaT\n",
              "c       NaN -0.360027 -1.288774  bar   True        NaT\n",
              "e  0.593519  0.354016 -0.736766  bar   True 2020-12-26\n",
              "f  0.332272  0.155057  0.343916  bar   True 2020-12-26\n",
              "h       NaN  0.279513  0.786916  bar  False        NaT"
            ]
          },
          "metadata": {
            "tags": []
          },
          "execution_count": 20
        }
      ]
    },
    {
      "cell_type": "code",
      "metadata": {
        "id": "GsTq7tXvaeX4",
        "colab_type": "code",
        "colab": {
          "base_uri": "https://localhost:8080/",
          "height": 102
        },
        "outputId": "5c019ea0-4258-4486-f459-cb57c5413c7b"
      },
      "source": [
        "df.dtypes.value_counts()\n"
      ],
      "execution_count": 23,
      "outputs": [
        {
          "output_type": "execute_result",
          "data": {
            "text/plain": [
              "float64           3\n",
              "datetime64[ns]    1\n",
              "bool              1\n",
              "object            1\n",
              "dtype: int64"
            ]
          },
          "metadata": {
            "tags": []
          },
          "execution_count": 23
        }
      ]
    },
    {
      "cell_type": "code",
      "metadata": {
        "id": "CBprqZFGa3gQ",
        "colab_type": "code",
        "colab": {
          "base_uri": "https://localhost:8080/",
          "height": 102
        },
        "outputId": "5d441d21-ffce-4958-be89-9ed76b3f539e"
      },
      "source": [
        "df3.dtypes.value_counts()"
      ],
      "execution_count": 24,
      "outputs": [
        {
          "output_type": "execute_result",
          "data": {
            "text/plain": [
              "float64           3\n",
              "datetime64[ns]    1\n",
              "bool              1\n",
              "object            1\n",
              "dtype: int64"
            ]
          },
          "metadata": {
            "tags": []
          },
          "execution_count": 24
        }
      ]
    },
    {
      "cell_type": "markdown",
      "metadata": {
        "id": "LtJco5Spdflo",
        "colab_type": "text"
      },
      "source": [
        "## Inserting Missing Data.     \n",
        "We can insert missing values by simply assigning to continers.The actual missing value will be chosen based on the type.\n"
      ]
    },
    {
      "cell_type": "code",
      "metadata": {
        "id": "RMiGaESDahWe",
        "colab_type": "code",
        "colab": {
          "base_uri": "https://localhost:8080/",
          "height": 85
        },
        "outputId": "32860596-f69a-4792-cc56-0cc1795274dd"
      },
      "source": [
        "s=pd.Series([1,2,3])\n",
        "s.loc[0]=None\n",
        "\n",
        "print(s)\n",
        "\n"
      ],
      "execution_count": 30,
      "outputs": [
        {
          "output_type": "stream",
          "text": [
            "0    NaN\n",
            "1    2.0\n",
            "2    3.0\n",
            "dtype: float64\n"
          ],
          "name": "stdout"
        }
      ]
    },
    {
      "cell_type": "markdown",
      "metadata": {
        "id": "ziNnhkj9e2a4",
        "colab_type": "text"
      },
      "source": [
        "## Calculations with missing data.    \n",
        "Missing values propagate naturally through arithmetic operations between pandas objects."
      ]
    },
    {
      "cell_type": "code",
      "metadata": {
        "id": "CTWMaJ8OfhWQ",
        "colab_type": "code",
        "colab": {
          "base_uri": "https://localhost:8080/",
          "height": 204
        },
        "outputId": "18655d78-acf0-4625-aec0-a50c4ccc08e2"
      },
      "source": [
        "df3"
      ],
      "execution_count": 33,
      "outputs": [
        {
          "output_type": "execute_result",
          "data": {
            "text/html": [
              "<div>\n",
              "<style scoped>\n",
              "    .dataframe tbody tr th:only-of-type {\n",
              "        vertical-align: middle;\n",
              "    }\n",
              "\n",
              "    .dataframe tbody tr th {\n",
              "        vertical-align: top;\n",
              "    }\n",
              "\n",
              "    .dataframe thead th {\n",
              "        text-align: right;\n",
              "    }\n",
              "</style>\n",
              "<table border=\"1\" class=\"dataframe\">\n",
              "  <thead>\n",
              "    <tr style=\"text-align: right;\">\n",
              "      <th></th>\n",
              "      <th>one</th>\n",
              "      <th>two</th>\n",
              "      <th>three</th>\n",
              "      <th>four</th>\n",
              "      <th>five</th>\n",
              "      <th>timestamp</th>\n",
              "    </tr>\n",
              "  </thead>\n",
              "  <tbody>\n",
              "    <tr>\n",
              "      <th>a</th>\n",
              "      <td>NaN</td>\n",
              "      <td>0.897440</td>\n",
              "      <td>1.035000</td>\n",
              "      <td>bar</td>\n",
              "      <td>True</td>\n",
              "      <td>NaT</td>\n",
              "    </tr>\n",
              "    <tr>\n",
              "      <th>c</th>\n",
              "      <td>NaN</td>\n",
              "      <td>-0.360027</td>\n",
              "      <td>-1.288774</td>\n",
              "      <td>bar</td>\n",
              "      <td>True</td>\n",
              "      <td>NaT</td>\n",
              "    </tr>\n",
              "    <tr>\n",
              "      <th>e</th>\n",
              "      <td>0.593519</td>\n",
              "      <td>0.354016</td>\n",
              "      <td>-0.736766</td>\n",
              "      <td>bar</td>\n",
              "      <td>True</td>\n",
              "      <td>2020-12-26</td>\n",
              "    </tr>\n",
              "    <tr>\n",
              "      <th>f</th>\n",
              "      <td>0.332272</td>\n",
              "      <td>0.155057</td>\n",
              "      <td>0.343916</td>\n",
              "      <td>bar</td>\n",
              "      <td>True</td>\n",
              "      <td>2020-12-26</td>\n",
              "    </tr>\n",
              "    <tr>\n",
              "      <th>h</th>\n",
              "      <td>NaN</td>\n",
              "      <td>0.279513</td>\n",
              "      <td>0.786916</td>\n",
              "      <td>bar</td>\n",
              "      <td>False</td>\n",
              "      <td>NaT</td>\n",
              "    </tr>\n",
              "  </tbody>\n",
              "</table>\n",
              "</div>"
            ],
            "text/plain": [
              "        one       two     three four   five  timestamp\n",
              "a       NaN  0.897440  1.035000  bar   True        NaT\n",
              "c       NaN -0.360027 -1.288774  bar   True        NaT\n",
              "e  0.593519  0.354016 -0.736766  bar   True 2020-12-26\n",
              "f  0.332272  0.155057  0.343916  bar   True 2020-12-26\n",
              "h       NaN  0.279513  0.786916  bar  False        NaT"
            ]
          },
          "metadata": {
            "tags": []
          },
          "execution_count": 33
        }
      ]
    },
    {
      "cell_type": "code",
      "metadata": {
        "id": "PSElRvtDhgx9",
        "colab_type": "code",
        "colab": {
          "base_uri": "https://localhost:8080/",
          "height": 204
        },
        "outputId": "ff5559ce-b79e-489d-9d7b-6cef08f48058"
      },
      "source": [
        "a=df3[['one','two']]\n",
        "a"
      ],
      "execution_count": 35,
      "outputs": [
        {
          "output_type": "execute_result",
          "data": {
            "text/html": [
              "<div>\n",
              "<style scoped>\n",
              "    .dataframe tbody tr th:only-of-type {\n",
              "        vertical-align: middle;\n",
              "    }\n",
              "\n",
              "    .dataframe tbody tr th {\n",
              "        vertical-align: top;\n",
              "    }\n",
              "\n",
              "    .dataframe thead th {\n",
              "        text-align: right;\n",
              "    }\n",
              "</style>\n",
              "<table border=\"1\" class=\"dataframe\">\n",
              "  <thead>\n",
              "    <tr style=\"text-align: right;\">\n",
              "      <th></th>\n",
              "      <th>one</th>\n",
              "      <th>two</th>\n",
              "    </tr>\n",
              "  </thead>\n",
              "  <tbody>\n",
              "    <tr>\n",
              "      <th>a</th>\n",
              "      <td>NaN</td>\n",
              "      <td>0.897440</td>\n",
              "    </tr>\n",
              "    <tr>\n",
              "      <th>c</th>\n",
              "      <td>NaN</td>\n",
              "      <td>-0.360027</td>\n",
              "    </tr>\n",
              "    <tr>\n",
              "      <th>e</th>\n",
              "      <td>0.593519</td>\n",
              "      <td>0.354016</td>\n",
              "    </tr>\n",
              "    <tr>\n",
              "      <th>f</th>\n",
              "      <td>0.332272</td>\n",
              "      <td>0.155057</td>\n",
              "    </tr>\n",
              "    <tr>\n",
              "      <th>h</th>\n",
              "      <td>NaN</td>\n",
              "      <td>0.279513</td>\n",
              "    </tr>\n",
              "  </tbody>\n",
              "</table>\n",
              "</div>"
            ],
            "text/plain": [
              "        one       two\n",
              "a       NaN  0.897440\n",
              "c       NaN -0.360027\n",
              "e  0.593519  0.354016\n",
              "f  0.332272  0.155057\n",
              "h       NaN  0.279513"
            ]
          },
          "metadata": {
            "tags": []
          },
          "execution_count": 35
        }
      ]
    },
    {
      "cell_type": "code",
      "metadata": {
        "id": "TZWkjatfhoIu",
        "colab_type": "code",
        "colab": {
          "base_uri": "https://localhost:8080/",
          "height": 204
        },
        "outputId": "0561c071-ea6c-467a-c215-a39d4a623836"
      },
      "source": [
        "b=df3[['one','two','three']]\n",
        "b"
      ],
      "execution_count": 37,
      "outputs": [
        {
          "output_type": "execute_result",
          "data": {
            "text/html": [
              "<div>\n",
              "<style scoped>\n",
              "    .dataframe tbody tr th:only-of-type {\n",
              "        vertical-align: middle;\n",
              "    }\n",
              "\n",
              "    .dataframe tbody tr th {\n",
              "        vertical-align: top;\n",
              "    }\n",
              "\n",
              "    .dataframe thead th {\n",
              "        text-align: right;\n",
              "    }\n",
              "</style>\n",
              "<table border=\"1\" class=\"dataframe\">\n",
              "  <thead>\n",
              "    <tr style=\"text-align: right;\">\n",
              "      <th></th>\n",
              "      <th>one</th>\n",
              "      <th>two</th>\n",
              "      <th>three</th>\n",
              "    </tr>\n",
              "  </thead>\n",
              "  <tbody>\n",
              "    <tr>\n",
              "      <th>a</th>\n",
              "      <td>NaN</td>\n",
              "      <td>0.897440</td>\n",
              "      <td>1.035000</td>\n",
              "    </tr>\n",
              "    <tr>\n",
              "      <th>c</th>\n",
              "      <td>NaN</td>\n",
              "      <td>-0.360027</td>\n",
              "      <td>-1.288774</td>\n",
              "    </tr>\n",
              "    <tr>\n",
              "      <th>e</th>\n",
              "      <td>0.593519</td>\n",
              "      <td>0.354016</td>\n",
              "      <td>-0.736766</td>\n",
              "    </tr>\n",
              "    <tr>\n",
              "      <th>f</th>\n",
              "      <td>0.332272</td>\n",
              "      <td>0.155057</td>\n",
              "      <td>0.343916</td>\n",
              "    </tr>\n",
              "    <tr>\n",
              "      <th>h</th>\n",
              "      <td>NaN</td>\n",
              "      <td>0.279513</td>\n",
              "      <td>0.786916</td>\n",
              "    </tr>\n",
              "  </tbody>\n",
              "</table>\n",
              "</div>"
            ],
            "text/plain": [
              "        one       two     three\n",
              "a       NaN  0.897440  1.035000\n",
              "c       NaN -0.360027 -1.288774\n",
              "e  0.593519  0.354016 -0.736766\n",
              "f  0.332272  0.155057  0.343916\n",
              "h       NaN  0.279513  0.786916"
            ]
          },
          "metadata": {
            "tags": []
          },
          "execution_count": 37
        }
      ]
    },
    {
      "cell_type": "code",
      "metadata": {
        "id": "PV21d9R2iA-p",
        "colab_type": "code",
        "colab": {
          "base_uri": "https://localhost:8080/",
          "height": 204
        },
        "outputId": "fddf9064-b577-4fcb-af5a-de65ac18f6e2"
      },
      "source": [
        "a+b"
      ],
      "execution_count": 38,
      "outputs": [
        {
          "output_type": "execute_result",
          "data": {
            "text/html": [
              "<div>\n",
              "<style scoped>\n",
              "    .dataframe tbody tr th:only-of-type {\n",
              "        vertical-align: middle;\n",
              "    }\n",
              "\n",
              "    .dataframe tbody tr th {\n",
              "        vertical-align: top;\n",
              "    }\n",
              "\n",
              "    .dataframe thead th {\n",
              "        text-align: right;\n",
              "    }\n",
              "</style>\n",
              "<table border=\"1\" class=\"dataframe\">\n",
              "  <thead>\n",
              "    <tr style=\"text-align: right;\">\n",
              "      <th></th>\n",
              "      <th>one</th>\n",
              "      <th>three</th>\n",
              "      <th>two</th>\n",
              "    </tr>\n",
              "  </thead>\n",
              "  <tbody>\n",
              "    <tr>\n",
              "      <th>a</th>\n",
              "      <td>NaN</td>\n",
              "      <td>NaN</td>\n",
              "      <td>1.794880</td>\n",
              "    </tr>\n",
              "    <tr>\n",
              "      <th>c</th>\n",
              "      <td>NaN</td>\n",
              "      <td>NaN</td>\n",
              "      <td>-0.720054</td>\n",
              "    </tr>\n",
              "    <tr>\n",
              "      <th>e</th>\n",
              "      <td>1.187038</td>\n",
              "      <td>NaN</td>\n",
              "      <td>0.708032</td>\n",
              "    </tr>\n",
              "    <tr>\n",
              "      <th>f</th>\n",
              "      <td>0.664544</td>\n",
              "      <td>NaN</td>\n",
              "      <td>0.310114</td>\n",
              "    </tr>\n",
              "    <tr>\n",
              "      <th>h</th>\n",
              "      <td>NaN</td>\n",
              "      <td>NaN</td>\n",
              "      <td>0.559026</td>\n",
              "    </tr>\n",
              "  </tbody>\n",
              "</table>\n",
              "</div>"
            ],
            "text/plain": [
              "        one  three       two\n",
              "a       NaN    NaN  1.794880\n",
              "c       NaN    NaN -0.720054\n",
              "e  1.187038    NaN  0.708032\n",
              "f  0.664544    NaN  0.310114\n",
              "h       NaN    NaN  0.559026"
            ]
          },
          "metadata": {
            "tags": []
          },
          "execution_count": 38
        }
      ]
    },
    {
      "cell_type": "markdown",
      "metadata": {
        "id": "41SbbukFigZD",
        "colab_type": "text"
      },
      "source": [
        "- When summing data,NA(missing) values will be treated as zero.    \n",
        "- If the data are all NA,the result will be 0.      \n",
        "- Cumulative methods like cumsum() and cumprod() ignore NA values by default ,but preserve them in the resulting arrays."
      ]
    },
    {
      "cell_type": "code",
      "metadata": {
        "id": "eqZO7TVgiaUt",
        "colab_type": "code",
        "colab": {
          "base_uri": "https://localhost:8080/",
          "height": 204
        },
        "outputId": "80d71a49-de65-45b1-a1f3-b12eeef9d0f9"
      },
      "source": [
        "b"
      ],
      "execution_count": 40,
      "outputs": [
        {
          "output_type": "execute_result",
          "data": {
            "text/html": [
              "<div>\n",
              "<style scoped>\n",
              "    .dataframe tbody tr th:only-of-type {\n",
              "        vertical-align: middle;\n",
              "    }\n",
              "\n",
              "    .dataframe tbody tr th {\n",
              "        vertical-align: top;\n",
              "    }\n",
              "\n",
              "    .dataframe thead th {\n",
              "        text-align: right;\n",
              "    }\n",
              "</style>\n",
              "<table border=\"1\" class=\"dataframe\">\n",
              "  <thead>\n",
              "    <tr style=\"text-align: right;\">\n",
              "      <th></th>\n",
              "      <th>one</th>\n",
              "      <th>two</th>\n",
              "      <th>three</th>\n",
              "    </tr>\n",
              "  </thead>\n",
              "  <tbody>\n",
              "    <tr>\n",
              "      <th>a</th>\n",
              "      <td>NaN</td>\n",
              "      <td>0.897440</td>\n",
              "      <td>1.035000</td>\n",
              "    </tr>\n",
              "    <tr>\n",
              "      <th>c</th>\n",
              "      <td>NaN</td>\n",
              "      <td>-0.360027</td>\n",
              "      <td>-1.288774</td>\n",
              "    </tr>\n",
              "    <tr>\n",
              "      <th>e</th>\n",
              "      <td>0.593519</td>\n",
              "      <td>0.354016</td>\n",
              "      <td>-0.736766</td>\n",
              "    </tr>\n",
              "    <tr>\n",
              "      <th>f</th>\n",
              "      <td>0.332272</td>\n",
              "      <td>0.155057</td>\n",
              "      <td>0.343916</td>\n",
              "    </tr>\n",
              "    <tr>\n",
              "      <th>h</th>\n",
              "      <td>NaN</td>\n",
              "      <td>0.279513</td>\n",
              "      <td>0.786916</td>\n",
              "    </tr>\n",
              "  </tbody>\n",
              "</table>\n",
              "</div>"
            ],
            "text/plain": [
              "        one       two     three\n",
              "a       NaN  0.897440  1.035000\n",
              "c       NaN -0.360027 -1.288774\n",
              "e  0.593519  0.354016 -0.736766\n",
              "f  0.332272  0.155057  0.343916\n",
              "h       NaN  0.279513  0.786916"
            ]
          },
          "metadata": {
            "tags": []
          },
          "execution_count": 40
        }
      ]
    },
    {
      "cell_type": "code",
      "metadata": {
        "id": "hRqYTSwtk1k3",
        "colab_type": "code",
        "colab": {
          "base_uri": "https://localhost:8080/",
          "height": 34
        },
        "outputId": "76297e1e-f41a-4ff4-c7be-a5e45425e78c"
      },
      "source": [
        "b['one'].sum()"
      ],
      "execution_count": 41,
      "outputs": [
        {
          "output_type": "execute_result",
          "data": {
            "text/plain": [
              "0.9257911037267351"
            ]
          },
          "metadata": {
            "tags": []
          },
          "execution_count": 41
        }
      ]
    },
    {
      "cell_type": "code",
      "metadata": {
        "id": "kNDUG_o6lpMb",
        "colab_type": "code",
        "colab": {
          "base_uri": "https://localhost:8080/",
          "height": 119
        },
        "outputId": "7dd3f5ee-75f3-4bf8-9ae9-86ea96a60275"
      },
      "source": [
        "df.mean(1)"
      ],
      "execution_count": 42,
      "outputs": [
        {
          "output_type": "execute_result",
          "data": {
            "text/plain": [
              "a    1.143172\n",
              "c    0.097604\n",
              "e    0.302692\n",
              "f    0.457811\n",
              "h    0.068646\n",
              "dtype: float64"
            ]
          },
          "metadata": {
            "tags": []
          },
          "execution_count": 42
        }
      ]
    },
    {
      "cell_type": "code",
      "metadata": {
        "id": "HQx1nK6FmexW",
        "colab_type": "code",
        "colab": {
          "base_uri": "https://localhost:8080/",
          "height": 119
        },
        "outputId": "5cdd218c-9672-4441-b826-3f46c4a4bde7"
      },
      "source": [
        "print(df)"
      ],
      "execution_count": 44,
      "outputs": [
        {
          "output_type": "stream",
          "text": [
            "        one       two     three four   five\n",
            "a  1.640246  0.897440  1.035000  bar   True\n",
            "c  1.039216 -0.360027 -1.288774  bar   True\n",
            "e  0.593519  0.354016 -0.736766  bar   True\n",
            "f  0.332272  0.155057  0.343916  bar   True\n",
            "h -0.791845  0.279513  0.786916  bar  False\n"
          ],
          "name": "stdout"
        }
      ]
    },
    {
      "cell_type": "code",
      "metadata": {
        "id": "twPfbZ6Plvpk",
        "colab_type": "code",
        "colab": {
          "base_uri": "https://localhost:8080/",
          "height": 204
        },
        "outputId": "d3e8dbfc-4f76-4397-fa6e-e2b6467d3fae"
      },
      "source": [
        "df.cumsum()"
      ],
      "execution_count": 45,
      "outputs": [
        {
          "output_type": "execute_result",
          "data": {
            "text/html": [
              "<div>\n",
              "<style scoped>\n",
              "    .dataframe tbody tr th:only-of-type {\n",
              "        vertical-align: middle;\n",
              "    }\n",
              "\n",
              "    .dataframe tbody tr th {\n",
              "        vertical-align: top;\n",
              "    }\n",
              "\n",
              "    .dataframe thead th {\n",
              "        text-align: right;\n",
              "    }\n",
              "</style>\n",
              "<table border=\"1\" class=\"dataframe\">\n",
              "  <thead>\n",
              "    <tr style=\"text-align: right;\">\n",
              "      <th></th>\n",
              "      <th>one</th>\n",
              "      <th>two</th>\n",
              "      <th>three</th>\n",
              "      <th>four</th>\n",
              "      <th>five</th>\n",
              "    </tr>\n",
              "  </thead>\n",
              "  <tbody>\n",
              "    <tr>\n",
              "      <th>a</th>\n",
              "      <td>1.64025</td>\n",
              "      <td>0.89744</td>\n",
              "      <td>1.035</td>\n",
              "      <td>bar</td>\n",
              "      <td>True</td>\n",
              "    </tr>\n",
              "    <tr>\n",
              "      <th>c</th>\n",
              "      <td>2.67946</td>\n",
              "      <td>0.537413</td>\n",
              "      <td>-0.253773</td>\n",
              "      <td>barbar</td>\n",
              "      <td>2</td>\n",
              "    </tr>\n",
              "    <tr>\n",
              "      <th>e</th>\n",
              "      <td>3.27298</td>\n",
              "      <td>0.891429</td>\n",
              "      <td>-0.990539</td>\n",
              "      <td>barbarbar</td>\n",
              "      <td>3</td>\n",
              "    </tr>\n",
              "    <tr>\n",
              "      <th>f</th>\n",
              "      <td>3.60525</td>\n",
              "      <td>1.04649</td>\n",
              "      <td>-0.646623</td>\n",
              "      <td>barbarbarbar</td>\n",
              "      <td>4</td>\n",
              "    </tr>\n",
              "    <tr>\n",
              "      <th>h</th>\n",
              "      <td>2.81341</td>\n",
              "      <td>1.326</td>\n",
              "      <td>0.140292</td>\n",
              "      <td>barbarbarbarbar</td>\n",
              "      <td>4</td>\n",
              "    </tr>\n",
              "  </tbody>\n",
              "</table>\n",
              "</div>"
            ],
            "text/plain": [
              "       one       two     three             four  five\n",
              "a  1.64025   0.89744     1.035              bar  True\n",
              "c  2.67946  0.537413 -0.253773           barbar     2\n",
              "e  3.27298  0.891429 -0.990539        barbarbar     3\n",
              "f  3.60525   1.04649 -0.646623     barbarbarbar     4\n",
              "h  2.81341     1.326  0.140292  barbarbarbarbar     4"
            ]
          },
          "metadata": {
            "tags": []
          },
          "execution_count": 45
        }
      ]
    },
    {
      "cell_type": "code",
      "metadata": {
        "id": "68ug2Ao8nhsg",
        "colab_type": "code",
        "colab": {
          "base_uri": "https://localhost:8080/",
          "height": 306
        },
        "outputId": "1f1645e7-0f06-494c-9f1b-09832248b68c"
      },
      "source": [
        "print(a)\n",
        "a.cumsum()"
      ],
      "execution_count": 49,
      "outputs": [
        {
          "output_type": "stream",
          "text": [
            "        one       two\n",
            "a       NaN  0.897440\n",
            "c       NaN -0.360027\n",
            "e  0.593519  0.354016\n",
            "f  0.332272  0.155057\n",
            "h       NaN  0.279513\n"
          ],
          "name": "stdout"
        },
        {
          "output_type": "execute_result",
          "data": {
            "text/html": [
              "<div>\n",
              "<style scoped>\n",
              "    .dataframe tbody tr th:only-of-type {\n",
              "        vertical-align: middle;\n",
              "    }\n",
              "\n",
              "    .dataframe tbody tr th {\n",
              "        vertical-align: top;\n",
              "    }\n",
              "\n",
              "    .dataframe thead th {\n",
              "        text-align: right;\n",
              "    }\n",
              "</style>\n",
              "<table border=\"1\" class=\"dataframe\">\n",
              "  <thead>\n",
              "    <tr style=\"text-align: right;\">\n",
              "      <th></th>\n",
              "      <th>one</th>\n",
              "      <th>two</th>\n",
              "    </tr>\n",
              "  </thead>\n",
              "  <tbody>\n",
              "    <tr>\n",
              "      <th>a</th>\n",
              "      <td>NaN</td>\n",
              "      <td>0.897440</td>\n",
              "    </tr>\n",
              "    <tr>\n",
              "      <th>c</th>\n",
              "      <td>NaN</td>\n",
              "      <td>0.537413</td>\n",
              "    </tr>\n",
              "    <tr>\n",
              "      <th>e</th>\n",
              "      <td>0.593519</td>\n",
              "      <td>0.891429</td>\n",
              "    </tr>\n",
              "    <tr>\n",
              "      <th>f</th>\n",
              "      <td>0.925791</td>\n",
              "      <td>1.046486</td>\n",
              "    </tr>\n",
              "    <tr>\n",
              "      <th>h</th>\n",
              "      <td>NaN</td>\n",
              "      <td>1.325999</td>\n",
              "    </tr>\n",
              "  </tbody>\n",
              "</table>\n",
              "</div>"
            ],
            "text/plain": [
              "        one       two\n",
              "a       NaN  0.897440\n",
              "c       NaN  0.537413\n",
              "e  0.593519  0.891429\n",
              "f  0.925791  1.046486\n",
              "h       NaN  1.325999"
            ]
          },
          "metadata": {
            "tags": []
          },
          "execution_count": 49
        }
      ]
    },
    {
      "cell_type": "code",
      "metadata": {
        "id": "s7vExWnpnXkW",
        "colab_type": "code",
        "colab": {
          "base_uri": "https://localhost:8080/",
          "height": 204
        },
        "outputId": "6a16c437-5111-480e-9cef-fa0218e02ac9"
      },
      "source": [
        "a.cumsum(skipna=False)"
      ],
      "execution_count": 47,
      "outputs": [
        {
          "output_type": "execute_result",
          "data": {
            "text/html": [
              "<div>\n",
              "<style scoped>\n",
              "    .dataframe tbody tr th:only-of-type {\n",
              "        vertical-align: middle;\n",
              "    }\n",
              "\n",
              "    .dataframe tbody tr th {\n",
              "        vertical-align: top;\n",
              "    }\n",
              "\n",
              "    .dataframe thead th {\n",
              "        text-align: right;\n",
              "    }\n",
              "</style>\n",
              "<table border=\"1\" class=\"dataframe\">\n",
              "  <thead>\n",
              "    <tr style=\"text-align: right;\">\n",
              "      <th></th>\n",
              "      <th>one</th>\n",
              "      <th>two</th>\n",
              "    </tr>\n",
              "  </thead>\n",
              "  <tbody>\n",
              "    <tr>\n",
              "      <th>a</th>\n",
              "      <td>NaN</td>\n",
              "      <td>0.897440</td>\n",
              "    </tr>\n",
              "    <tr>\n",
              "      <th>c</th>\n",
              "      <td>NaN</td>\n",
              "      <td>0.537413</td>\n",
              "    </tr>\n",
              "    <tr>\n",
              "      <th>e</th>\n",
              "      <td>NaN</td>\n",
              "      <td>0.891429</td>\n",
              "    </tr>\n",
              "    <tr>\n",
              "      <th>f</th>\n",
              "      <td>NaN</td>\n",
              "      <td>1.046486</td>\n",
              "    </tr>\n",
              "    <tr>\n",
              "      <th>h</th>\n",
              "      <td>NaN</td>\n",
              "      <td>1.325999</td>\n",
              "    </tr>\n",
              "  </tbody>\n",
              "</table>\n",
              "</div>"
            ],
            "text/plain": [
              "   one       two\n",
              "a  NaN  0.897440\n",
              "c  NaN  0.537413\n",
              "e  NaN  0.891429\n",
              "f  NaN  1.046486\n",
              "h  NaN  1.325999"
            ]
          },
          "metadata": {
            "tags": []
          },
          "execution_count": 47
        }
      ]
    },
    {
      "cell_type": "markdown",
      "metadata": {
        "id": "cM7dx8jin6Q5",
        "colab_type": "text"
      },
      "source": [
        "## Filling Missing Values: fillna.     \n",
        "fillna() can \"fill in\" NA values with non-NA data in a couple of ways, which we illustrate:      \n",
        "**Replace NA with a scalar value**\n",
        "\n"
      ]
    },
    {
      "cell_type": "code",
      "metadata": {
        "id": "Ok8gMIE0nu-0",
        "colab_type": "code",
        "colab": {
          "base_uri": "https://localhost:8080/",
          "height": 204
        },
        "outputId": "2ddbf389-ac1e-4172-9bf3-b56d24cc2244"
      },
      "source": [
        "df3"
      ],
      "execution_count": 51,
      "outputs": [
        {
          "output_type": "execute_result",
          "data": {
            "text/html": [
              "<div>\n",
              "<style scoped>\n",
              "    .dataframe tbody tr th:only-of-type {\n",
              "        vertical-align: middle;\n",
              "    }\n",
              "\n",
              "    .dataframe tbody tr th {\n",
              "        vertical-align: top;\n",
              "    }\n",
              "\n",
              "    .dataframe thead th {\n",
              "        text-align: right;\n",
              "    }\n",
              "</style>\n",
              "<table border=\"1\" class=\"dataframe\">\n",
              "  <thead>\n",
              "    <tr style=\"text-align: right;\">\n",
              "      <th></th>\n",
              "      <th>one</th>\n",
              "      <th>two</th>\n",
              "      <th>three</th>\n",
              "      <th>four</th>\n",
              "      <th>five</th>\n",
              "      <th>timestamp</th>\n",
              "    </tr>\n",
              "  </thead>\n",
              "  <tbody>\n",
              "    <tr>\n",
              "      <th>a</th>\n",
              "      <td>NaN</td>\n",
              "      <td>0.897440</td>\n",
              "      <td>1.035000</td>\n",
              "      <td>bar</td>\n",
              "      <td>True</td>\n",
              "      <td>NaT</td>\n",
              "    </tr>\n",
              "    <tr>\n",
              "      <th>c</th>\n",
              "      <td>NaN</td>\n",
              "      <td>-0.360027</td>\n",
              "      <td>-1.288774</td>\n",
              "      <td>bar</td>\n",
              "      <td>True</td>\n",
              "      <td>NaT</td>\n",
              "    </tr>\n",
              "    <tr>\n",
              "      <th>e</th>\n",
              "      <td>0.593519</td>\n",
              "      <td>0.354016</td>\n",
              "      <td>-0.736766</td>\n",
              "      <td>bar</td>\n",
              "      <td>True</td>\n",
              "      <td>2020-12-26</td>\n",
              "    </tr>\n",
              "    <tr>\n",
              "      <th>f</th>\n",
              "      <td>0.332272</td>\n",
              "      <td>0.155057</td>\n",
              "      <td>0.343916</td>\n",
              "      <td>bar</td>\n",
              "      <td>True</td>\n",
              "      <td>2020-12-26</td>\n",
              "    </tr>\n",
              "    <tr>\n",
              "      <th>h</th>\n",
              "      <td>NaN</td>\n",
              "      <td>0.279513</td>\n",
              "      <td>0.786916</td>\n",
              "      <td>bar</td>\n",
              "      <td>False</td>\n",
              "      <td>NaT</td>\n",
              "    </tr>\n",
              "  </tbody>\n",
              "</table>\n",
              "</div>"
            ],
            "text/plain": [
              "        one       two     three four   five  timestamp\n",
              "a       NaN  0.897440  1.035000  bar   True        NaT\n",
              "c       NaN -0.360027 -1.288774  bar   True        NaT\n",
              "e  0.593519  0.354016 -0.736766  bar   True 2020-12-26\n",
              "f  0.332272  0.155057  0.343916  bar   True 2020-12-26\n",
              "h       NaN  0.279513  0.786916  bar  False        NaT"
            ]
          },
          "metadata": {
            "tags": []
          },
          "execution_count": 51
        }
      ]
    },
    {
      "cell_type": "code",
      "metadata": {
        "id": "NAbIPNgdpGMX",
        "colab_type": "code",
        "colab": {
          "base_uri": "https://localhost:8080/",
          "height": 119
        },
        "outputId": "422696bd-c987-4b40-daeb-2798d4f46231"
      },
      "source": [
        "df3['one'].fillna('missing')"
      ],
      "execution_count": 52,
      "outputs": [
        {
          "output_type": "execute_result",
          "data": {
            "text/plain": [
              "a     missing\n",
              "c     missing\n",
              "e    0.593519\n",
              "f    0.332272\n",
              "h     missing\n",
              "Name: one, dtype: object"
            ]
          },
          "metadata": {
            "tags": []
          },
          "execution_count": 52
        }
      ]
    },
    {
      "cell_type": "markdown",
      "metadata": {
        "id": "XtYcDJ64poKe",
        "colab_type": "text"
      },
      "source": [
        "## Filling with PandasObject.    \n",
        "\n",
        "Use case is to fill a DataFrame with the mean of that column\n",
        "\n"
      ]
    },
    {
      "cell_type": "code",
      "metadata": {
        "id": "53rSiocdqbpW",
        "colab_type": "code",
        "colab": {
          "base_uri": "https://localhost:8080/",
          "height": 359
        },
        "outputId": "6ffb88c1-c067-4d31-9e09-c137a799526c"
      },
      "source": [
        "dff=pd.DataFrame(np.random.randn(10,3),columns=list('ABC'))\n",
        "dff"
      ],
      "execution_count": 53,
      "outputs": [
        {
          "output_type": "execute_result",
          "data": {
            "text/html": [
              "<div>\n",
              "<style scoped>\n",
              "    .dataframe tbody tr th:only-of-type {\n",
              "        vertical-align: middle;\n",
              "    }\n",
              "\n",
              "    .dataframe tbody tr th {\n",
              "        vertical-align: top;\n",
              "    }\n",
              "\n",
              "    .dataframe thead th {\n",
              "        text-align: right;\n",
              "    }\n",
              "</style>\n",
              "<table border=\"1\" class=\"dataframe\">\n",
              "  <thead>\n",
              "    <tr style=\"text-align: right;\">\n",
              "      <th></th>\n",
              "      <th>A</th>\n",
              "      <th>B</th>\n",
              "      <th>C</th>\n",
              "    </tr>\n",
              "  </thead>\n",
              "  <tbody>\n",
              "    <tr>\n",
              "      <th>0</th>\n",
              "      <td>0.418123</td>\n",
              "      <td>-0.322760</td>\n",
              "      <td>1.304336</td>\n",
              "    </tr>\n",
              "    <tr>\n",
              "      <th>1</th>\n",
              "      <td>-0.855830</td>\n",
              "      <td>-0.886798</td>\n",
              "      <td>0.177469</td>\n",
              "    </tr>\n",
              "    <tr>\n",
              "      <th>2</th>\n",
              "      <td>-0.412588</td>\n",
              "      <td>1.186411</td>\n",
              "      <td>-0.890003</td>\n",
              "    </tr>\n",
              "    <tr>\n",
              "      <th>3</th>\n",
              "      <td>-0.719922</td>\n",
              "      <td>-0.452435</td>\n",
              "      <td>0.946900</td>\n",
              "    </tr>\n",
              "    <tr>\n",
              "      <th>4</th>\n",
              "      <td>0.656869</td>\n",
              "      <td>-0.051193</td>\n",
              "      <td>-0.498779</td>\n",
              "    </tr>\n",
              "    <tr>\n",
              "      <th>5</th>\n",
              "      <td>-0.186787</td>\n",
              "      <td>-0.302977</td>\n",
              "      <td>0.253103</td>\n",
              "    </tr>\n",
              "    <tr>\n",
              "      <th>6</th>\n",
              "      <td>-0.715688</td>\n",
              "      <td>1.370892</td>\n",
              "      <td>0.155879</td>\n",
              "    </tr>\n",
              "    <tr>\n",
              "      <th>7</th>\n",
              "      <td>0.637350</td>\n",
              "      <td>1.415408</td>\n",
              "      <td>0.830508</td>\n",
              "    </tr>\n",
              "    <tr>\n",
              "      <th>8</th>\n",
              "      <td>0.001314</td>\n",
              "      <td>0.677967</td>\n",
              "      <td>-0.844804</td>\n",
              "    </tr>\n",
              "    <tr>\n",
              "      <th>9</th>\n",
              "      <td>-1.141351</td>\n",
              "      <td>-0.977018</td>\n",
              "      <td>-1.844873</td>\n",
              "    </tr>\n",
              "  </tbody>\n",
              "</table>\n",
              "</div>"
            ],
            "text/plain": [
              "          A         B         C\n",
              "0  0.418123 -0.322760  1.304336\n",
              "1 -0.855830 -0.886798  0.177469\n",
              "2 -0.412588  1.186411 -0.890003\n",
              "3 -0.719922 -0.452435  0.946900\n",
              "4  0.656869 -0.051193 -0.498779\n",
              "5 -0.186787 -0.302977  0.253103\n",
              "6 -0.715688  1.370892  0.155879\n",
              "7  0.637350  1.415408  0.830508\n",
              "8  0.001314  0.677967 -0.844804\n",
              "9 -1.141351 -0.977018 -1.844873"
            ]
          },
          "metadata": {
            "tags": []
          },
          "execution_count": 53
        }
      ]
    },
    {
      "cell_type": "code",
      "metadata": {
        "id": "wwLWSy0czAzK",
        "colab_type": "code",
        "colab": {}
      },
      "source": [
        "dff.iloc[3:5,0]=np.nan"
      ],
      "execution_count": 0,
      "outputs": []
    },
    {
      "cell_type": "code",
      "metadata": {
        "id": "Iq6z2z5IzMlV",
        "colab_type": "code",
        "colab": {
          "base_uri": "https://localhost:8080/",
          "height": 359
        },
        "outputId": "55ed946c-4d50-4f92-8c32-953bd90089fd"
      },
      "source": [
        "dff\n"
      ],
      "execution_count": 55,
      "outputs": [
        {
          "output_type": "execute_result",
          "data": {
            "text/html": [
              "<div>\n",
              "<style scoped>\n",
              "    .dataframe tbody tr th:only-of-type {\n",
              "        vertical-align: middle;\n",
              "    }\n",
              "\n",
              "    .dataframe tbody tr th {\n",
              "        vertical-align: top;\n",
              "    }\n",
              "\n",
              "    .dataframe thead th {\n",
              "        text-align: right;\n",
              "    }\n",
              "</style>\n",
              "<table border=\"1\" class=\"dataframe\">\n",
              "  <thead>\n",
              "    <tr style=\"text-align: right;\">\n",
              "      <th></th>\n",
              "      <th>A</th>\n",
              "      <th>B</th>\n",
              "      <th>C</th>\n",
              "    </tr>\n",
              "  </thead>\n",
              "  <tbody>\n",
              "    <tr>\n",
              "      <th>0</th>\n",
              "      <td>0.418123</td>\n",
              "      <td>-0.322760</td>\n",
              "      <td>1.304336</td>\n",
              "    </tr>\n",
              "    <tr>\n",
              "      <th>1</th>\n",
              "      <td>-0.855830</td>\n",
              "      <td>-0.886798</td>\n",
              "      <td>0.177469</td>\n",
              "    </tr>\n",
              "    <tr>\n",
              "      <th>2</th>\n",
              "      <td>-0.412588</td>\n",
              "      <td>1.186411</td>\n",
              "      <td>-0.890003</td>\n",
              "    </tr>\n",
              "    <tr>\n",
              "      <th>3</th>\n",
              "      <td>NaN</td>\n",
              "      <td>-0.452435</td>\n",
              "      <td>0.946900</td>\n",
              "    </tr>\n",
              "    <tr>\n",
              "      <th>4</th>\n",
              "      <td>NaN</td>\n",
              "      <td>-0.051193</td>\n",
              "      <td>-0.498779</td>\n",
              "    </tr>\n",
              "    <tr>\n",
              "      <th>5</th>\n",
              "      <td>-0.186787</td>\n",
              "      <td>-0.302977</td>\n",
              "      <td>0.253103</td>\n",
              "    </tr>\n",
              "    <tr>\n",
              "      <th>6</th>\n",
              "      <td>-0.715688</td>\n",
              "      <td>1.370892</td>\n",
              "      <td>0.155879</td>\n",
              "    </tr>\n",
              "    <tr>\n",
              "      <th>7</th>\n",
              "      <td>0.637350</td>\n",
              "      <td>1.415408</td>\n",
              "      <td>0.830508</td>\n",
              "    </tr>\n",
              "    <tr>\n",
              "      <th>8</th>\n",
              "      <td>0.001314</td>\n",
              "      <td>0.677967</td>\n",
              "      <td>-0.844804</td>\n",
              "    </tr>\n",
              "    <tr>\n",
              "      <th>9</th>\n",
              "      <td>-1.141351</td>\n",
              "      <td>-0.977018</td>\n",
              "      <td>-1.844873</td>\n",
              "    </tr>\n",
              "  </tbody>\n",
              "</table>\n",
              "</div>"
            ],
            "text/plain": [
              "          A         B         C\n",
              "0  0.418123 -0.322760  1.304336\n",
              "1 -0.855830 -0.886798  0.177469\n",
              "2 -0.412588  1.186411 -0.890003\n",
              "3       NaN -0.452435  0.946900\n",
              "4       NaN -0.051193 -0.498779\n",
              "5 -0.186787 -0.302977  0.253103\n",
              "6 -0.715688  1.370892  0.155879\n",
              "7  0.637350  1.415408  0.830508\n",
              "8  0.001314  0.677967 -0.844804\n",
              "9 -1.141351 -0.977018 -1.844873"
            ]
          },
          "metadata": {
            "tags": []
          },
          "execution_count": 55
        }
      ]
    },
    {
      "cell_type": "code",
      "metadata": {
        "id": "kTbd4pjozWJ0",
        "colab_type": "code",
        "colab": {
          "base_uri": "https://localhost:8080/",
          "height": 359
        },
        "outputId": "2e777a35-1b87-447d-b66f-3195b7822e68"
      },
      "source": [
        "dff.iloc[4:6,1]=np.nan\n",
        "dff"
      ],
      "execution_count": 57,
      "outputs": [
        {
          "output_type": "execute_result",
          "data": {
            "text/html": [
              "<div>\n",
              "<style scoped>\n",
              "    .dataframe tbody tr th:only-of-type {\n",
              "        vertical-align: middle;\n",
              "    }\n",
              "\n",
              "    .dataframe tbody tr th {\n",
              "        vertical-align: top;\n",
              "    }\n",
              "\n",
              "    .dataframe thead th {\n",
              "        text-align: right;\n",
              "    }\n",
              "</style>\n",
              "<table border=\"1\" class=\"dataframe\">\n",
              "  <thead>\n",
              "    <tr style=\"text-align: right;\">\n",
              "      <th></th>\n",
              "      <th>A</th>\n",
              "      <th>B</th>\n",
              "      <th>C</th>\n",
              "    </tr>\n",
              "  </thead>\n",
              "  <tbody>\n",
              "    <tr>\n",
              "      <th>0</th>\n",
              "      <td>0.418123</td>\n",
              "      <td>-0.322760</td>\n",
              "      <td>1.304336</td>\n",
              "    </tr>\n",
              "    <tr>\n",
              "      <th>1</th>\n",
              "      <td>-0.855830</td>\n",
              "      <td>-0.886798</td>\n",
              "      <td>0.177469</td>\n",
              "    </tr>\n",
              "    <tr>\n",
              "      <th>2</th>\n",
              "      <td>-0.412588</td>\n",
              "      <td>1.186411</td>\n",
              "      <td>-0.890003</td>\n",
              "    </tr>\n",
              "    <tr>\n",
              "      <th>3</th>\n",
              "      <td>NaN</td>\n",
              "      <td>-0.452435</td>\n",
              "      <td>0.946900</td>\n",
              "    </tr>\n",
              "    <tr>\n",
              "      <th>4</th>\n",
              "      <td>NaN</td>\n",
              "      <td>NaN</td>\n",
              "      <td>-0.498779</td>\n",
              "    </tr>\n",
              "    <tr>\n",
              "      <th>5</th>\n",
              "      <td>-0.186787</td>\n",
              "      <td>NaN</td>\n",
              "      <td>0.253103</td>\n",
              "    </tr>\n",
              "    <tr>\n",
              "      <th>6</th>\n",
              "      <td>-0.715688</td>\n",
              "      <td>1.370892</td>\n",
              "      <td>0.155879</td>\n",
              "    </tr>\n",
              "    <tr>\n",
              "      <th>7</th>\n",
              "      <td>0.637350</td>\n",
              "      <td>1.415408</td>\n",
              "      <td>0.830508</td>\n",
              "    </tr>\n",
              "    <tr>\n",
              "      <th>8</th>\n",
              "      <td>0.001314</td>\n",
              "      <td>0.677967</td>\n",
              "      <td>-0.844804</td>\n",
              "    </tr>\n",
              "    <tr>\n",
              "      <th>9</th>\n",
              "      <td>-1.141351</td>\n",
              "      <td>-0.977018</td>\n",
              "      <td>-1.844873</td>\n",
              "    </tr>\n",
              "  </tbody>\n",
              "</table>\n",
              "</div>"
            ],
            "text/plain": [
              "          A         B         C\n",
              "0  0.418123 -0.322760  1.304336\n",
              "1 -0.855830 -0.886798  0.177469\n",
              "2 -0.412588  1.186411 -0.890003\n",
              "3       NaN -0.452435  0.946900\n",
              "4       NaN       NaN -0.498779\n",
              "5 -0.186787       NaN  0.253103\n",
              "6 -0.715688  1.370892  0.155879\n",
              "7  0.637350  1.415408  0.830508\n",
              "8  0.001314  0.677967 -0.844804\n",
              "9 -1.141351 -0.977018 -1.844873"
            ]
          },
          "metadata": {
            "tags": []
          },
          "execution_count": 57
        }
      ]
    },
    {
      "cell_type": "code",
      "metadata": {
        "id": "Qxn7ImgEzwBT",
        "colab_type": "code",
        "colab": {
          "base_uri": "https://localhost:8080/",
          "height": 359
        },
        "outputId": "1672b7f8-e05d-4a7d-815c-b9de805bf135"
      },
      "source": [
        "dff.iloc[5:8,2]=np.nan\n",
        "dff"
      ],
      "execution_count": 59,
      "outputs": [
        {
          "output_type": "execute_result",
          "data": {
            "text/html": [
              "<div>\n",
              "<style scoped>\n",
              "    .dataframe tbody tr th:only-of-type {\n",
              "        vertical-align: middle;\n",
              "    }\n",
              "\n",
              "    .dataframe tbody tr th {\n",
              "        vertical-align: top;\n",
              "    }\n",
              "\n",
              "    .dataframe thead th {\n",
              "        text-align: right;\n",
              "    }\n",
              "</style>\n",
              "<table border=\"1\" class=\"dataframe\">\n",
              "  <thead>\n",
              "    <tr style=\"text-align: right;\">\n",
              "      <th></th>\n",
              "      <th>A</th>\n",
              "      <th>B</th>\n",
              "      <th>C</th>\n",
              "    </tr>\n",
              "  </thead>\n",
              "  <tbody>\n",
              "    <tr>\n",
              "      <th>0</th>\n",
              "      <td>0.418123</td>\n",
              "      <td>-0.322760</td>\n",
              "      <td>1.304336</td>\n",
              "    </tr>\n",
              "    <tr>\n",
              "      <th>1</th>\n",
              "      <td>-0.855830</td>\n",
              "      <td>-0.886798</td>\n",
              "      <td>0.177469</td>\n",
              "    </tr>\n",
              "    <tr>\n",
              "      <th>2</th>\n",
              "      <td>-0.412588</td>\n",
              "      <td>1.186411</td>\n",
              "      <td>-0.890003</td>\n",
              "    </tr>\n",
              "    <tr>\n",
              "      <th>3</th>\n",
              "      <td>NaN</td>\n",
              "      <td>-0.452435</td>\n",
              "      <td>0.946900</td>\n",
              "    </tr>\n",
              "    <tr>\n",
              "      <th>4</th>\n",
              "      <td>NaN</td>\n",
              "      <td>NaN</td>\n",
              "      <td>-0.498779</td>\n",
              "    </tr>\n",
              "    <tr>\n",
              "      <th>5</th>\n",
              "      <td>-0.186787</td>\n",
              "      <td>NaN</td>\n",
              "      <td>NaN</td>\n",
              "    </tr>\n",
              "    <tr>\n",
              "      <th>6</th>\n",
              "      <td>-0.715688</td>\n",
              "      <td>1.370892</td>\n",
              "      <td>NaN</td>\n",
              "    </tr>\n",
              "    <tr>\n",
              "      <th>7</th>\n",
              "      <td>0.637350</td>\n",
              "      <td>1.415408</td>\n",
              "      <td>NaN</td>\n",
              "    </tr>\n",
              "    <tr>\n",
              "      <th>8</th>\n",
              "      <td>0.001314</td>\n",
              "      <td>0.677967</td>\n",
              "      <td>-0.844804</td>\n",
              "    </tr>\n",
              "    <tr>\n",
              "      <th>9</th>\n",
              "      <td>-1.141351</td>\n",
              "      <td>-0.977018</td>\n",
              "      <td>-1.844873</td>\n",
              "    </tr>\n",
              "  </tbody>\n",
              "</table>\n",
              "</div>"
            ],
            "text/plain": [
              "          A         B         C\n",
              "0  0.418123 -0.322760  1.304336\n",
              "1 -0.855830 -0.886798  0.177469\n",
              "2 -0.412588  1.186411 -0.890003\n",
              "3       NaN -0.452435  0.946900\n",
              "4       NaN       NaN -0.498779\n",
              "5 -0.186787       NaN       NaN\n",
              "6 -0.715688  1.370892       NaN\n",
              "7  0.637350  1.415408       NaN\n",
              "8  0.001314  0.677967 -0.844804\n",
              "9 -1.141351 -0.977018 -1.844873"
            ]
          },
          "metadata": {
            "tags": []
          },
          "execution_count": 59
        }
      ]
    },
    {
      "cell_type": "code",
      "metadata": {
        "id": "mjJtbalr0CDa",
        "colab_type": "code",
        "colab": {
          "base_uri": "https://localhost:8080/",
          "height": 359
        },
        "outputId": "1256bee3-6761-40a6-cafd-1b916fc66a5b"
      },
      "source": [
        "dff.fillna(dff.mean())"
      ],
      "execution_count": 60,
      "outputs": [
        {
          "output_type": "execute_result",
          "data": {
            "text/html": [
              "<div>\n",
              "<style scoped>\n",
              "    .dataframe tbody tr th:only-of-type {\n",
              "        vertical-align: middle;\n",
              "    }\n",
              "\n",
              "    .dataframe tbody tr th {\n",
              "        vertical-align: top;\n",
              "    }\n",
              "\n",
              "    .dataframe thead th {\n",
              "        text-align: right;\n",
              "    }\n",
              "</style>\n",
              "<table border=\"1\" class=\"dataframe\">\n",
              "  <thead>\n",
              "    <tr style=\"text-align: right;\">\n",
              "      <th></th>\n",
              "      <th>A</th>\n",
              "      <th>B</th>\n",
              "      <th>C</th>\n",
              "    </tr>\n",
              "  </thead>\n",
              "  <tbody>\n",
              "    <tr>\n",
              "      <th>0</th>\n",
              "      <td>0.418123</td>\n",
              "      <td>-0.322760</td>\n",
              "      <td>1.304336</td>\n",
              "    </tr>\n",
              "    <tr>\n",
              "      <th>1</th>\n",
              "      <td>-0.855830</td>\n",
              "      <td>-0.886798</td>\n",
              "      <td>0.177469</td>\n",
              "    </tr>\n",
              "    <tr>\n",
              "      <th>2</th>\n",
              "      <td>-0.412588</td>\n",
              "      <td>1.186411</td>\n",
              "      <td>-0.890003</td>\n",
              "    </tr>\n",
              "    <tr>\n",
              "      <th>3</th>\n",
              "      <td>-0.281932</td>\n",
              "      <td>-0.452435</td>\n",
              "      <td>0.946900</td>\n",
              "    </tr>\n",
              "    <tr>\n",
              "      <th>4</th>\n",
              "      <td>-0.281932</td>\n",
              "      <td>0.251459</td>\n",
              "      <td>-0.498779</td>\n",
              "    </tr>\n",
              "    <tr>\n",
              "      <th>5</th>\n",
              "      <td>-0.186787</td>\n",
              "      <td>0.251459</td>\n",
              "      <td>-0.235679</td>\n",
              "    </tr>\n",
              "    <tr>\n",
              "      <th>6</th>\n",
              "      <td>-0.715688</td>\n",
              "      <td>1.370892</td>\n",
              "      <td>-0.235679</td>\n",
              "    </tr>\n",
              "    <tr>\n",
              "      <th>7</th>\n",
              "      <td>0.637350</td>\n",
              "      <td>1.415408</td>\n",
              "      <td>-0.235679</td>\n",
              "    </tr>\n",
              "    <tr>\n",
              "      <th>8</th>\n",
              "      <td>0.001314</td>\n",
              "      <td>0.677967</td>\n",
              "      <td>-0.844804</td>\n",
              "    </tr>\n",
              "    <tr>\n",
              "      <th>9</th>\n",
              "      <td>-1.141351</td>\n",
              "      <td>-0.977018</td>\n",
              "      <td>-1.844873</td>\n",
              "    </tr>\n",
              "  </tbody>\n",
              "</table>\n",
              "</div>"
            ],
            "text/plain": [
              "          A         B         C\n",
              "0  0.418123 -0.322760  1.304336\n",
              "1 -0.855830 -0.886798  0.177469\n",
              "2 -0.412588  1.186411 -0.890003\n",
              "3 -0.281932 -0.452435  0.946900\n",
              "4 -0.281932  0.251459 -0.498779\n",
              "5 -0.186787  0.251459 -0.235679\n",
              "6 -0.715688  1.370892 -0.235679\n",
              "7  0.637350  1.415408 -0.235679\n",
              "8  0.001314  0.677967 -0.844804\n",
              "9 -1.141351 -0.977018 -1.844873"
            ]
          },
          "metadata": {
            "tags": []
          },
          "execution_count": 60
        }
      ]
    },
    {
      "cell_type": "code",
      "metadata": {
        "id": "ROl6E2Vl0Z2D",
        "colab_type": "code",
        "colab": {
          "base_uri": "https://localhost:8080/",
          "height": 359
        },
        "outputId": "83603d60-1104-4525-b63c-2a93ad4033db"
      },
      "source": [
        "dff"
      ],
      "execution_count": 61,
      "outputs": [
        {
          "output_type": "execute_result",
          "data": {
            "text/html": [
              "<div>\n",
              "<style scoped>\n",
              "    .dataframe tbody tr th:only-of-type {\n",
              "        vertical-align: middle;\n",
              "    }\n",
              "\n",
              "    .dataframe tbody tr th {\n",
              "        vertical-align: top;\n",
              "    }\n",
              "\n",
              "    .dataframe thead th {\n",
              "        text-align: right;\n",
              "    }\n",
              "</style>\n",
              "<table border=\"1\" class=\"dataframe\">\n",
              "  <thead>\n",
              "    <tr style=\"text-align: right;\">\n",
              "      <th></th>\n",
              "      <th>A</th>\n",
              "      <th>B</th>\n",
              "      <th>C</th>\n",
              "    </tr>\n",
              "  </thead>\n",
              "  <tbody>\n",
              "    <tr>\n",
              "      <th>0</th>\n",
              "      <td>0.418123</td>\n",
              "      <td>-0.322760</td>\n",
              "      <td>1.304336</td>\n",
              "    </tr>\n",
              "    <tr>\n",
              "      <th>1</th>\n",
              "      <td>-0.855830</td>\n",
              "      <td>-0.886798</td>\n",
              "      <td>0.177469</td>\n",
              "    </tr>\n",
              "    <tr>\n",
              "      <th>2</th>\n",
              "      <td>-0.412588</td>\n",
              "      <td>1.186411</td>\n",
              "      <td>-0.890003</td>\n",
              "    </tr>\n",
              "    <tr>\n",
              "      <th>3</th>\n",
              "      <td>NaN</td>\n",
              "      <td>-0.452435</td>\n",
              "      <td>0.946900</td>\n",
              "    </tr>\n",
              "    <tr>\n",
              "      <th>4</th>\n",
              "      <td>NaN</td>\n",
              "      <td>NaN</td>\n",
              "      <td>-0.498779</td>\n",
              "    </tr>\n",
              "    <tr>\n",
              "      <th>5</th>\n",
              "      <td>-0.186787</td>\n",
              "      <td>NaN</td>\n",
              "      <td>NaN</td>\n",
              "    </tr>\n",
              "    <tr>\n",
              "      <th>6</th>\n",
              "      <td>-0.715688</td>\n",
              "      <td>1.370892</td>\n",
              "      <td>NaN</td>\n",
              "    </tr>\n",
              "    <tr>\n",
              "      <th>7</th>\n",
              "      <td>0.637350</td>\n",
              "      <td>1.415408</td>\n",
              "      <td>NaN</td>\n",
              "    </tr>\n",
              "    <tr>\n",
              "      <th>8</th>\n",
              "      <td>0.001314</td>\n",
              "      <td>0.677967</td>\n",
              "      <td>-0.844804</td>\n",
              "    </tr>\n",
              "    <tr>\n",
              "      <th>9</th>\n",
              "      <td>-1.141351</td>\n",
              "      <td>-0.977018</td>\n",
              "      <td>-1.844873</td>\n",
              "    </tr>\n",
              "  </tbody>\n",
              "</table>\n",
              "</div>"
            ],
            "text/plain": [
              "          A         B         C\n",
              "0  0.418123 -0.322760  1.304336\n",
              "1 -0.855830 -0.886798  0.177469\n",
              "2 -0.412588  1.186411 -0.890003\n",
              "3       NaN -0.452435  0.946900\n",
              "4       NaN       NaN -0.498779\n",
              "5 -0.186787       NaN       NaN\n",
              "6 -0.715688  1.370892       NaN\n",
              "7  0.637350  1.415408       NaN\n",
              "8  0.001314  0.677967 -0.844804\n",
              "9 -1.141351 -0.977018 -1.844873"
            ]
          },
          "metadata": {
            "tags": []
          },
          "execution_count": 61
        }
      ]
    },
    {
      "cell_type": "code",
      "metadata": {
        "id": "w8L6VdaA0b4X",
        "colab_type": "code",
        "colab": {
          "base_uri": "https://localhost:8080/",
          "height": 359
        },
        "outputId": "90af4d1f-606a-42a6-a66b-acaaac90f5cf"
      },
      "source": [
        "dff.fillna(dff.mean()['B':'C'])"
      ],
      "execution_count": 63,
      "outputs": [
        {
          "output_type": "execute_result",
          "data": {
            "text/html": [
              "<div>\n",
              "<style scoped>\n",
              "    .dataframe tbody tr th:only-of-type {\n",
              "        vertical-align: middle;\n",
              "    }\n",
              "\n",
              "    .dataframe tbody tr th {\n",
              "        vertical-align: top;\n",
              "    }\n",
              "\n",
              "    .dataframe thead th {\n",
              "        text-align: right;\n",
              "    }\n",
              "</style>\n",
              "<table border=\"1\" class=\"dataframe\">\n",
              "  <thead>\n",
              "    <tr style=\"text-align: right;\">\n",
              "      <th></th>\n",
              "      <th>A</th>\n",
              "      <th>B</th>\n",
              "      <th>C</th>\n",
              "    </tr>\n",
              "  </thead>\n",
              "  <tbody>\n",
              "    <tr>\n",
              "      <th>0</th>\n",
              "      <td>0.418123</td>\n",
              "      <td>-0.322760</td>\n",
              "      <td>1.304336</td>\n",
              "    </tr>\n",
              "    <tr>\n",
              "      <th>1</th>\n",
              "      <td>-0.855830</td>\n",
              "      <td>-0.886798</td>\n",
              "      <td>0.177469</td>\n",
              "    </tr>\n",
              "    <tr>\n",
              "      <th>2</th>\n",
              "      <td>-0.412588</td>\n",
              "      <td>1.186411</td>\n",
              "      <td>-0.890003</td>\n",
              "    </tr>\n",
              "    <tr>\n",
              "      <th>3</th>\n",
              "      <td>NaN</td>\n",
              "      <td>-0.452435</td>\n",
              "      <td>0.946900</td>\n",
              "    </tr>\n",
              "    <tr>\n",
              "      <th>4</th>\n",
              "      <td>NaN</td>\n",
              "      <td>0.251459</td>\n",
              "      <td>-0.498779</td>\n",
              "    </tr>\n",
              "    <tr>\n",
              "      <th>5</th>\n",
              "      <td>-0.186787</td>\n",
              "      <td>0.251459</td>\n",
              "      <td>-0.235679</td>\n",
              "    </tr>\n",
              "    <tr>\n",
              "      <th>6</th>\n",
              "      <td>-0.715688</td>\n",
              "      <td>1.370892</td>\n",
              "      <td>-0.235679</td>\n",
              "    </tr>\n",
              "    <tr>\n",
              "      <th>7</th>\n",
              "      <td>0.637350</td>\n",
              "      <td>1.415408</td>\n",
              "      <td>-0.235679</td>\n",
              "    </tr>\n",
              "    <tr>\n",
              "      <th>8</th>\n",
              "      <td>0.001314</td>\n",
              "      <td>0.677967</td>\n",
              "      <td>-0.844804</td>\n",
              "    </tr>\n",
              "    <tr>\n",
              "      <th>9</th>\n",
              "      <td>-1.141351</td>\n",
              "      <td>-0.977018</td>\n",
              "      <td>-1.844873</td>\n",
              "    </tr>\n",
              "  </tbody>\n",
              "</table>\n",
              "</div>"
            ],
            "text/plain": [
              "          A         B         C\n",
              "0  0.418123 -0.322760  1.304336\n",
              "1 -0.855830 -0.886798  0.177469\n",
              "2 -0.412588  1.186411 -0.890003\n",
              "3       NaN -0.452435  0.946900\n",
              "4       NaN  0.251459 -0.498779\n",
              "5 -0.186787  0.251459 -0.235679\n",
              "6 -0.715688  1.370892 -0.235679\n",
              "7  0.637350  1.415408 -0.235679\n",
              "8  0.001314  0.677967 -0.844804\n",
              "9 -1.141351 -0.977018 -1.844873"
            ]
          },
          "metadata": {
            "tags": []
          },
          "execution_count": 63
        }
      ]
    },
    {
      "cell_type": "code",
      "metadata": {
        "id": "nqa-NwAC2Nt2",
        "colab_type": "code",
        "colab": {
          "base_uri": "https://localhost:8080/",
          "height": 359
        },
        "outputId": "fd8f3ee2-688c-4326-9403-a5f107b0711c"
      },
      "source": [
        "dff.where(pd.notna(dff),dff.mean(),axis='columns')"
      ],
      "execution_count": 64,
      "outputs": [
        {
          "output_type": "execute_result",
          "data": {
            "text/html": [
              "<div>\n",
              "<style scoped>\n",
              "    .dataframe tbody tr th:only-of-type {\n",
              "        vertical-align: middle;\n",
              "    }\n",
              "\n",
              "    .dataframe tbody tr th {\n",
              "        vertical-align: top;\n",
              "    }\n",
              "\n",
              "    .dataframe thead th {\n",
              "        text-align: right;\n",
              "    }\n",
              "</style>\n",
              "<table border=\"1\" class=\"dataframe\">\n",
              "  <thead>\n",
              "    <tr style=\"text-align: right;\">\n",
              "      <th></th>\n",
              "      <th>A</th>\n",
              "      <th>B</th>\n",
              "      <th>C</th>\n",
              "    </tr>\n",
              "  </thead>\n",
              "  <tbody>\n",
              "    <tr>\n",
              "      <th>0</th>\n",
              "      <td>0.418123</td>\n",
              "      <td>-0.322760</td>\n",
              "      <td>1.304336</td>\n",
              "    </tr>\n",
              "    <tr>\n",
              "      <th>1</th>\n",
              "      <td>-0.855830</td>\n",
              "      <td>-0.886798</td>\n",
              "      <td>0.177469</td>\n",
              "    </tr>\n",
              "    <tr>\n",
              "      <th>2</th>\n",
              "      <td>-0.412588</td>\n",
              "      <td>1.186411</td>\n",
              "      <td>-0.890003</td>\n",
              "    </tr>\n",
              "    <tr>\n",
              "      <th>3</th>\n",
              "      <td>-0.281932</td>\n",
              "      <td>-0.452435</td>\n",
              "      <td>0.946900</td>\n",
              "    </tr>\n",
              "    <tr>\n",
              "      <th>4</th>\n",
              "      <td>-0.281932</td>\n",
              "      <td>0.251459</td>\n",
              "      <td>-0.498779</td>\n",
              "    </tr>\n",
              "    <tr>\n",
              "      <th>5</th>\n",
              "      <td>-0.186787</td>\n",
              "      <td>0.251459</td>\n",
              "      <td>-0.235679</td>\n",
              "    </tr>\n",
              "    <tr>\n",
              "      <th>6</th>\n",
              "      <td>-0.715688</td>\n",
              "      <td>1.370892</td>\n",
              "      <td>-0.235679</td>\n",
              "    </tr>\n",
              "    <tr>\n",
              "      <th>7</th>\n",
              "      <td>0.637350</td>\n",
              "      <td>1.415408</td>\n",
              "      <td>-0.235679</td>\n",
              "    </tr>\n",
              "    <tr>\n",
              "      <th>8</th>\n",
              "      <td>0.001314</td>\n",
              "      <td>0.677967</td>\n",
              "      <td>-0.844804</td>\n",
              "    </tr>\n",
              "    <tr>\n",
              "      <th>9</th>\n",
              "      <td>-1.141351</td>\n",
              "      <td>-0.977018</td>\n",
              "      <td>-1.844873</td>\n",
              "    </tr>\n",
              "  </tbody>\n",
              "</table>\n",
              "</div>"
            ],
            "text/plain": [
              "          A         B         C\n",
              "0  0.418123 -0.322760  1.304336\n",
              "1 -0.855830 -0.886798  0.177469\n",
              "2 -0.412588  1.186411 -0.890003\n",
              "3 -0.281932 -0.452435  0.946900\n",
              "4 -0.281932  0.251459 -0.498779\n",
              "5 -0.186787  0.251459 -0.235679\n",
              "6 -0.715688  1.370892 -0.235679\n",
              "7  0.637350  1.415408 -0.235679\n",
              "8  0.001314  0.677967 -0.844804\n",
              "9 -1.141351 -0.977018 -1.844873"
            ]
          },
          "metadata": {
            "tags": []
          },
          "execution_count": 64
        }
      ]
    },
    {
      "cell_type": "markdown",
      "metadata": {
        "id": "1p5QlltF4Seu",
        "colab_type": "text"
      },
      "source": [
        "### Dropping axis labels with missing data :dropna"
      ]
    },
    {
      "cell_type": "code",
      "metadata": {
        "id": "iJGAlWNX4QSE",
        "colab_type": "code",
        "colab": {
          "base_uri": "https://localhost:8080/",
          "height": 306
        },
        "outputId": "b831af7c-169c-4c78-dedd-f1cf42ee8136"
      },
      "source": [
        "dfNa=df[['one','two','three']]\n",
        "dfNa['one']=np.nan\n",
        "dfNa\n"
      ],
      "execution_count": 69,
      "outputs": [
        {
          "output_type": "stream",
          "text": [
            "/usr/local/lib/python3.6/dist-packages/ipykernel_launcher.py:2: SettingWithCopyWarning: \n",
            "A value is trying to be set on a copy of a slice from a DataFrame.\n",
            "Try using .loc[row_indexer,col_indexer] = value instead\n",
            "\n",
            "See the caveats in the documentation: http://pandas.pydata.org/pandas-docs/stable/user_guide/indexing.html#returning-a-view-versus-a-copy\n",
            "  \n"
          ],
          "name": "stderr"
        },
        {
          "output_type": "execute_result",
          "data": {
            "text/html": [
              "<div>\n",
              "<style scoped>\n",
              "    .dataframe tbody tr th:only-of-type {\n",
              "        vertical-align: middle;\n",
              "    }\n",
              "\n",
              "    .dataframe tbody tr th {\n",
              "        vertical-align: top;\n",
              "    }\n",
              "\n",
              "    .dataframe thead th {\n",
              "        text-align: right;\n",
              "    }\n",
              "</style>\n",
              "<table border=\"1\" class=\"dataframe\">\n",
              "  <thead>\n",
              "    <tr style=\"text-align: right;\">\n",
              "      <th></th>\n",
              "      <th>one</th>\n",
              "      <th>two</th>\n",
              "      <th>three</th>\n",
              "    </tr>\n",
              "  </thead>\n",
              "  <tbody>\n",
              "    <tr>\n",
              "      <th>a</th>\n",
              "      <td>NaN</td>\n",
              "      <td>0.897440</td>\n",
              "      <td>1.035000</td>\n",
              "    </tr>\n",
              "    <tr>\n",
              "      <th>c</th>\n",
              "      <td>NaN</td>\n",
              "      <td>-0.360027</td>\n",
              "      <td>-1.288774</td>\n",
              "    </tr>\n",
              "    <tr>\n",
              "      <th>e</th>\n",
              "      <td>NaN</td>\n",
              "      <td>0.354016</td>\n",
              "      <td>-0.736766</td>\n",
              "    </tr>\n",
              "    <tr>\n",
              "      <th>f</th>\n",
              "      <td>NaN</td>\n",
              "      <td>0.155057</td>\n",
              "      <td>0.343916</td>\n",
              "    </tr>\n",
              "    <tr>\n",
              "      <th>h</th>\n",
              "      <td>NaN</td>\n",
              "      <td>0.279513</td>\n",
              "      <td>0.786916</td>\n",
              "    </tr>\n",
              "  </tbody>\n",
              "</table>\n",
              "</div>"
            ],
            "text/plain": [
              "   one       two     three\n",
              "a  NaN  0.897440  1.035000\n",
              "c  NaN -0.360027 -1.288774\n",
              "e  NaN  0.354016 -0.736766\n",
              "f  NaN  0.155057  0.343916\n",
              "h  NaN  0.279513  0.786916"
            ]
          },
          "metadata": {
            "tags": []
          },
          "execution_count": 69
        }
      ]
    },
    {
      "cell_type": "code",
      "metadata": {
        "id": "jmheetRT5tdS",
        "colab_type": "code",
        "colab": {
          "base_uri": "https://localhost:8080/",
          "height": 48
        },
        "outputId": "100c0cf4-e96a-4d32-dcef-b0c12069ed79"
      },
      "source": [
        "dfNa.dropna()"
      ],
      "execution_count": 70,
      "outputs": [
        {
          "output_type": "execute_result",
          "data": {
            "text/html": [
              "<div>\n",
              "<style scoped>\n",
              "    .dataframe tbody tr th:only-of-type {\n",
              "        vertical-align: middle;\n",
              "    }\n",
              "\n",
              "    .dataframe tbody tr th {\n",
              "        vertical-align: top;\n",
              "    }\n",
              "\n",
              "    .dataframe thead th {\n",
              "        text-align: right;\n",
              "    }\n",
              "</style>\n",
              "<table border=\"1\" class=\"dataframe\">\n",
              "  <thead>\n",
              "    <tr style=\"text-align: right;\">\n",
              "      <th></th>\n",
              "      <th>one</th>\n",
              "      <th>two</th>\n",
              "      <th>three</th>\n",
              "    </tr>\n",
              "  </thead>\n",
              "  <tbody>\n",
              "  </tbody>\n",
              "</table>\n",
              "</div>"
            ],
            "text/plain": [
              "Empty DataFrame\n",
              "Columns: [one, two, three]\n",
              "Index: []"
            ]
          },
          "metadata": {
            "tags": []
          },
          "execution_count": 70
        }
      ]
    },
    {
      "cell_type": "code",
      "metadata": {
        "id": "BYSb5AgP56JP",
        "colab_type": "code",
        "colab": {
          "base_uri": "https://localhost:8080/",
          "height": 204
        },
        "outputId": "f407bdbf-c4aa-4d94-a967-a93b7930e2f0"
      },
      "source": [
        "dfNa.dropna(axis=1)"
      ],
      "execution_count": 72,
      "outputs": [
        {
          "output_type": "execute_result",
          "data": {
            "text/html": [
              "<div>\n",
              "<style scoped>\n",
              "    .dataframe tbody tr th:only-of-type {\n",
              "        vertical-align: middle;\n",
              "    }\n",
              "\n",
              "    .dataframe tbody tr th {\n",
              "        vertical-align: top;\n",
              "    }\n",
              "\n",
              "    .dataframe thead th {\n",
              "        text-align: right;\n",
              "    }\n",
              "</style>\n",
              "<table border=\"1\" class=\"dataframe\">\n",
              "  <thead>\n",
              "    <tr style=\"text-align: right;\">\n",
              "      <th></th>\n",
              "      <th>two</th>\n",
              "      <th>three</th>\n",
              "    </tr>\n",
              "  </thead>\n",
              "  <tbody>\n",
              "    <tr>\n",
              "      <th>a</th>\n",
              "      <td>0.897440</td>\n",
              "      <td>1.035000</td>\n",
              "    </tr>\n",
              "    <tr>\n",
              "      <th>c</th>\n",
              "      <td>-0.360027</td>\n",
              "      <td>-1.288774</td>\n",
              "    </tr>\n",
              "    <tr>\n",
              "      <th>e</th>\n",
              "      <td>0.354016</td>\n",
              "      <td>-0.736766</td>\n",
              "    </tr>\n",
              "    <tr>\n",
              "      <th>f</th>\n",
              "      <td>0.155057</td>\n",
              "      <td>0.343916</td>\n",
              "    </tr>\n",
              "    <tr>\n",
              "      <th>h</th>\n",
              "      <td>0.279513</td>\n",
              "      <td>0.786916</td>\n",
              "    </tr>\n",
              "  </tbody>\n",
              "</table>\n",
              "</div>"
            ],
            "text/plain": [
              "        two     three\n",
              "a  0.897440  1.035000\n",
              "c -0.360027 -1.288774\n",
              "e  0.354016 -0.736766\n",
              "f  0.155057  0.343916\n",
              "h  0.279513  0.786916"
            ]
          },
          "metadata": {
            "tags": []
          },
          "execution_count": 72
        }
      ]
    },
    {
      "cell_type": "code",
      "metadata": {
        "id": "EP2evA1t8iUB",
        "colab_type": "code",
        "colab": {
          "base_uri": "https://localhost:8080/",
          "height": 359
        },
        "outputId": "9328ed50-ff21-4b01-c4ef-4dc4986b0156"
      },
      "source": [
        "import matplotlib \n",
        "%matplotlib inline\n",
        "dti = pd.date_range('2018-01-01', periods=10)\n",
        "dInter=pd.DataFrame({'A':dti,'B':np.random.randn(10)})\n",
        "dInter"
      ],
      "execution_count": 105,
      "outputs": [
        {
          "output_type": "execute_result",
          "data": {
            "text/html": [
              "<div>\n",
              "<style scoped>\n",
              "    .dataframe tbody tr th:only-of-type {\n",
              "        vertical-align: middle;\n",
              "    }\n",
              "\n",
              "    .dataframe tbody tr th {\n",
              "        vertical-align: top;\n",
              "    }\n",
              "\n",
              "    .dataframe thead th {\n",
              "        text-align: right;\n",
              "    }\n",
              "</style>\n",
              "<table border=\"1\" class=\"dataframe\">\n",
              "  <thead>\n",
              "    <tr style=\"text-align: right;\">\n",
              "      <th></th>\n",
              "      <th>A</th>\n",
              "      <th>B</th>\n",
              "    </tr>\n",
              "  </thead>\n",
              "  <tbody>\n",
              "    <tr>\n",
              "      <th>0</th>\n",
              "      <td>2018-01-01</td>\n",
              "      <td>2.196108</td>\n",
              "    </tr>\n",
              "    <tr>\n",
              "      <th>1</th>\n",
              "      <td>2018-01-02</td>\n",
              "      <td>-2.602536</td>\n",
              "    </tr>\n",
              "    <tr>\n",
              "      <th>2</th>\n",
              "      <td>2018-01-03</td>\n",
              "      <td>-1.040569</td>\n",
              "    </tr>\n",
              "    <tr>\n",
              "      <th>3</th>\n",
              "      <td>2018-01-04</td>\n",
              "      <td>0.336173</td>\n",
              "    </tr>\n",
              "    <tr>\n",
              "      <th>4</th>\n",
              "      <td>2018-01-05</td>\n",
              "      <td>0.472158</td>\n",
              "    </tr>\n",
              "    <tr>\n",
              "      <th>5</th>\n",
              "      <td>2018-01-06</td>\n",
              "      <td>-1.093014</td>\n",
              "    </tr>\n",
              "    <tr>\n",
              "      <th>6</th>\n",
              "      <td>2018-01-07</td>\n",
              "      <td>-0.561548</td>\n",
              "    </tr>\n",
              "    <tr>\n",
              "      <th>7</th>\n",
              "      <td>2018-01-08</td>\n",
              "      <td>-0.505917</td>\n",
              "    </tr>\n",
              "    <tr>\n",
              "      <th>8</th>\n",
              "      <td>2018-01-09</td>\n",
              "      <td>1.689847</td>\n",
              "    </tr>\n",
              "    <tr>\n",
              "      <th>9</th>\n",
              "      <td>2018-01-10</td>\n",
              "      <td>0.310728</td>\n",
              "    </tr>\n",
              "  </tbody>\n",
              "</table>\n",
              "</div>"
            ],
            "text/plain": [
              "           A         B\n",
              "0 2018-01-01  2.196108\n",
              "1 2018-01-02 -2.602536\n",
              "2 2018-01-03 -1.040569\n",
              "3 2018-01-04  0.336173\n",
              "4 2018-01-05  0.472158\n",
              "5 2018-01-06 -1.093014\n",
              "6 2018-01-07 -0.561548\n",
              "7 2018-01-08 -0.505917\n",
              "8 2018-01-09  1.689847\n",
              "9 2018-01-10  0.310728"
            ]
          },
          "metadata": {
            "tags": []
          },
          "execution_count": 105
        }
      ]
    }
  ]
}
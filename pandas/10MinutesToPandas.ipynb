{
  "nbformat": 4,
  "nbformat_minor": 0,
  "metadata": {
    "colab": {
      "name": "10MinutesToPandas.ipynb",
      "provenance": [],
      "include_colab_link": true
    },
    "kernelspec": {
      "name": "python3",
      "display_name": "Python 3"
    }
  },
  "cells": [
    {
      "cell_type": "markdown",
      "metadata": {
        "id": "view-in-github",
        "colab_type": "text"
      },
      "source": [
        "<a href=\"https://colab.research.google.com/github/ParasNandwani/python/blob/master/pandas/10MinutesToPandas.ipynb\" target=\"_parent\"><img src=\"https://colab.research.google.com/assets/colab-badge.svg\" alt=\"Open In Colab\"/></a>"
      ]
    },
    {
      "cell_type": "code",
      "metadata": {
        "id": "PLk1qyCce4yh",
        "colab_type": "code",
        "colab": {}
      },
      "source": [
        "import numpy as np\n",
        "import pandas as pd"
      ],
      "execution_count": 0,
      "outputs": []
    },
    {
      "cell_type": "code",
      "metadata": {
        "id": "0fpsSErTfLFs",
        "colab_type": "code",
        "outputId": "ba76d0a9-ad77-4bc5-f91a-d8c32b0c4ebb",
        "colab": {
          "base_uri": "https://localhost:8080/",
          "height": 136
        }
      },
      "source": [
        "s= pd.Series([1,3,5,np.nan,6,8])\n",
        "print(s)"
      ],
      "execution_count": 0,
      "outputs": [
        {
          "output_type": "stream",
          "text": [
            "0    1.0\n",
            "1    3.0\n",
            "2    5.0\n",
            "3    NaN\n",
            "4    6.0\n",
            "5    8.0\n",
            "dtype: float64\n"
          ],
          "name": "stdout"
        }
      ]
    },
    {
      "cell_type": "code",
      "metadata": {
        "id": "VYPuWz_jgVvo",
        "colab_type": "code",
        "outputId": "8c5f9743-1fa9-481f-849d-f4e7001e1511",
        "colab": {
          "base_uri": "https://localhost:8080/",
          "height": 68
        }
      },
      "source": [
        "dates=pd.date_range('20191221',periods=6)\n",
        "dates"
      ],
      "execution_count": 0,
      "outputs": [
        {
          "output_type": "execute_result",
          "data": {
            "text/plain": [
              "DatetimeIndex(['2019-12-21', '2019-12-22', '2019-12-23', '2019-12-24',\n",
              "               '2019-12-25', '2019-12-26'],\n",
              "              dtype='datetime64[ns]', freq='D')"
            ]
          },
          "metadata": {
            "tags": []
          },
          "execution_count": 6
        }
      ]
    },
    {
      "cell_type": "code",
      "metadata": {
        "id": "6RkVvw5vg_aL",
        "colab_type": "code",
        "outputId": "03355b14-21a1-41eb-a6a4-c33d01c22b3f",
        "colab": {
          "base_uri": "https://localhost:8080/",
          "height": 235
        }
      },
      "source": [
        "dataframe=pd.DataFrame(np.random.randn(6,4),index=dates,columns=list('ABCD'))\n",
        "dataframe"
      ],
      "execution_count": 0,
      "outputs": [
        {
          "output_type": "execute_result",
          "data": {
            "text/html": [
              "<div>\n",
              "<style scoped>\n",
              "    .dataframe tbody tr th:only-of-type {\n",
              "        vertical-align: middle;\n",
              "    }\n",
              "\n",
              "    .dataframe tbody tr th {\n",
              "        vertical-align: top;\n",
              "    }\n",
              "\n",
              "    .dataframe thead th {\n",
              "        text-align: right;\n",
              "    }\n",
              "</style>\n",
              "<table border=\"1\" class=\"dataframe\">\n",
              "  <thead>\n",
              "    <tr style=\"text-align: right;\">\n",
              "      <th></th>\n",
              "      <th>A</th>\n",
              "      <th>B</th>\n",
              "      <th>C</th>\n",
              "      <th>D</th>\n",
              "    </tr>\n",
              "  </thead>\n",
              "  <tbody>\n",
              "    <tr>\n",
              "      <th>2019-12-21</th>\n",
              "      <td>0.520897</td>\n",
              "      <td>0.775810</td>\n",
              "      <td>-0.341465</td>\n",
              "      <td>0.844287</td>\n",
              "    </tr>\n",
              "    <tr>\n",
              "      <th>2019-12-22</th>\n",
              "      <td>-0.254823</td>\n",
              "      <td>2.216440</td>\n",
              "      <td>-0.644395</td>\n",
              "      <td>0.681906</td>\n",
              "    </tr>\n",
              "    <tr>\n",
              "      <th>2019-12-23</th>\n",
              "      <td>-0.183717</td>\n",
              "      <td>0.889967</td>\n",
              "      <td>-0.143970</td>\n",
              "      <td>0.134976</td>\n",
              "    </tr>\n",
              "    <tr>\n",
              "      <th>2019-12-24</th>\n",
              "      <td>-0.001472</td>\n",
              "      <td>-0.524464</td>\n",
              "      <td>-0.031030</td>\n",
              "      <td>0.299982</td>\n",
              "    </tr>\n",
              "    <tr>\n",
              "      <th>2019-12-25</th>\n",
              "      <td>-0.430264</td>\n",
              "      <td>0.784850</td>\n",
              "      <td>1.581519</td>\n",
              "      <td>-0.686131</td>\n",
              "    </tr>\n",
              "    <tr>\n",
              "      <th>2019-12-26</th>\n",
              "      <td>0.488074</td>\n",
              "      <td>-1.108244</td>\n",
              "      <td>1.697558</td>\n",
              "      <td>0.179766</td>\n",
              "    </tr>\n",
              "  </tbody>\n",
              "</table>\n",
              "</div>"
            ],
            "text/plain": [
              "                   A         B         C         D\n",
              "2019-12-21  0.520897  0.775810 -0.341465  0.844287\n",
              "2019-12-22 -0.254823  2.216440 -0.644395  0.681906\n",
              "2019-12-23 -0.183717  0.889967 -0.143970  0.134976\n",
              "2019-12-24 -0.001472 -0.524464 -0.031030  0.299982\n",
              "2019-12-25 -0.430264  0.784850  1.581519 -0.686131\n",
              "2019-12-26  0.488074 -1.108244  1.697558  0.179766"
            ]
          },
          "metadata": {
            "tags": []
          },
          "execution_count": 7
        }
      ]
    },
    {
      "cell_type": "code",
      "metadata": {
        "id": "mQVtKiJniJex",
        "colab_type": "code",
        "outputId": "412464a9-eee7-4cb4-8910-0a8d3c83f81e",
        "colab": {
          "base_uri": "https://localhost:8080/",
          "height": 359
        }
      },
      "source": [
        "df2=pd.DataFrame({ 'A':1.\n",
        "                  ,'B':pd.Timestamp('20191221')\n",
        "                  ,'C':pd.Series(range(10),index=list(range(10)),dtype=float)\n",
        "                  ,'D':np.array([2]*10, dtype=int)\n",
        "                  ,'E':pd.Categorical(['test','train','test','train','test','train','test','train','test','train'])\n",
        "                  ,'F':'foo'\n",
        "                  })\n",
        "df2"
      ],
      "execution_count": 0,
      "outputs": [
        {
          "output_type": "execute_result",
          "data": {
            "text/html": [
              "<div>\n",
              "<style scoped>\n",
              "    .dataframe tbody tr th:only-of-type {\n",
              "        vertical-align: middle;\n",
              "    }\n",
              "\n",
              "    .dataframe tbody tr th {\n",
              "        vertical-align: top;\n",
              "    }\n",
              "\n",
              "    .dataframe thead th {\n",
              "        text-align: right;\n",
              "    }\n",
              "</style>\n",
              "<table border=\"1\" class=\"dataframe\">\n",
              "  <thead>\n",
              "    <tr style=\"text-align: right;\">\n",
              "      <th></th>\n",
              "      <th>A</th>\n",
              "      <th>B</th>\n",
              "      <th>C</th>\n",
              "      <th>D</th>\n",
              "      <th>E</th>\n",
              "      <th>F</th>\n",
              "    </tr>\n",
              "  </thead>\n",
              "  <tbody>\n",
              "    <tr>\n",
              "      <th>0</th>\n",
              "      <td>1.0</td>\n",
              "      <td>2019-12-21</td>\n",
              "      <td>0.0</td>\n",
              "      <td>2</td>\n",
              "      <td>test</td>\n",
              "      <td>foo</td>\n",
              "    </tr>\n",
              "    <tr>\n",
              "      <th>1</th>\n",
              "      <td>1.0</td>\n",
              "      <td>2019-12-21</td>\n",
              "      <td>1.0</td>\n",
              "      <td>2</td>\n",
              "      <td>train</td>\n",
              "      <td>foo</td>\n",
              "    </tr>\n",
              "    <tr>\n",
              "      <th>2</th>\n",
              "      <td>1.0</td>\n",
              "      <td>2019-12-21</td>\n",
              "      <td>2.0</td>\n",
              "      <td>2</td>\n",
              "      <td>test</td>\n",
              "      <td>foo</td>\n",
              "    </tr>\n",
              "    <tr>\n",
              "      <th>3</th>\n",
              "      <td>1.0</td>\n",
              "      <td>2019-12-21</td>\n",
              "      <td>3.0</td>\n",
              "      <td>2</td>\n",
              "      <td>train</td>\n",
              "      <td>foo</td>\n",
              "    </tr>\n",
              "    <tr>\n",
              "      <th>4</th>\n",
              "      <td>1.0</td>\n",
              "      <td>2019-12-21</td>\n",
              "      <td>4.0</td>\n",
              "      <td>2</td>\n",
              "      <td>test</td>\n",
              "      <td>foo</td>\n",
              "    </tr>\n",
              "    <tr>\n",
              "      <th>5</th>\n",
              "      <td>1.0</td>\n",
              "      <td>2019-12-21</td>\n",
              "      <td>5.0</td>\n",
              "      <td>2</td>\n",
              "      <td>train</td>\n",
              "      <td>foo</td>\n",
              "    </tr>\n",
              "    <tr>\n",
              "      <th>6</th>\n",
              "      <td>1.0</td>\n",
              "      <td>2019-12-21</td>\n",
              "      <td>6.0</td>\n",
              "      <td>2</td>\n",
              "      <td>test</td>\n",
              "      <td>foo</td>\n",
              "    </tr>\n",
              "    <tr>\n",
              "      <th>7</th>\n",
              "      <td>1.0</td>\n",
              "      <td>2019-12-21</td>\n",
              "      <td>7.0</td>\n",
              "      <td>2</td>\n",
              "      <td>train</td>\n",
              "      <td>foo</td>\n",
              "    </tr>\n",
              "    <tr>\n",
              "      <th>8</th>\n",
              "      <td>1.0</td>\n",
              "      <td>2019-12-21</td>\n",
              "      <td>8.0</td>\n",
              "      <td>2</td>\n",
              "      <td>test</td>\n",
              "      <td>foo</td>\n",
              "    </tr>\n",
              "    <tr>\n",
              "      <th>9</th>\n",
              "      <td>1.0</td>\n",
              "      <td>2019-12-21</td>\n",
              "      <td>9.0</td>\n",
              "      <td>2</td>\n",
              "      <td>train</td>\n",
              "      <td>foo</td>\n",
              "    </tr>\n",
              "  </tbody>\n",
              "</table>\n",
              "</div>"
            ],
            "text/plain": [
              "     A          B    C  D      E    F\n",
              "0  1.0 2019-12-21  0.0  2   test  foo\n",
              "1  1.0 2019-12-21  1.0  2  train  foo\n",
              "2  1.0 2019-12-21  2.0  2   test  foo\n",
              "3  1.0 2019-12-21  3.0  2  train  foo\n",
              "4  1.0 2019-12-21  4.0  2   test  foo\n",
              "5  1.0 2019-12-21  5.0  2  train  foo\n",
              "6  1.0 2019-12-21  6.0  2   test  foo\n",
              "7  1.0 2019-12-21  7.0  2  train  foo\n",
              "8  1.0 2019-12-21  8.0  2   test  foo\n",
              "9  1.0 2019-12-21  9.0  2  train  foo"
            ]
          },
          "metadata": {
            "tags": []
          },
          "execution_count": 8
        }
      ]
    },
    {
      "cell_type": "code",
      "metadata": {
        "id": "YZGur1r0k4jV",
        "colab_type": "code",
        "outputId": "918730bd-d487-4a9d-a556-2b5231acb7cb",
        "colab": {
          "base_uri": "https://localhost:8080/",
          "height": 204
        }
      },
      "source": [
        "df2.info()"
      ],
      "execution_count": 0,
      "outputs": [
        {
          "output_type": "stream",
          "text": [
            "<class 'pandas.core.frame.DataFrame'>\n",
            "Int64Index: 10 entries, 0 to 9\n",
            "Data columns (total 6 columns):\n",
            "A    10 non-null float64\n",
            "B    10 non-null datetime64[ns]\n",
            "C    10 non-null float64\n",
            "D    10 non-null int64\n",
            "E    10 non-null category\n",
            "F    10 non-null object\n",
            "dtypes: category(1), datetime64[ns](1), float64(2), int64(1), object(1)\n",
            "memory usage: 586.0+ bytes\n"
          ],
          "name": "stdout"
        }
      ]
    },
    {
      "cell_type": "code",
      "metadata": {
        "id": "N78wWTtdlC3W",
        "colab_type": "code",
        "outputId": "93f0a2c3-1cba-4eb5-ad10-4c020585b54c",
        "colab": {
          "base_uri": "https://localhost:8080/",
          "height": 204
        }
      },
      "source": [
        "df2.head()"
      ],
      "execution_count": 0,
      "outputs": [
        {
          "output_type": "execute_result",
          "data": {
            "text/html": [
              "<div>\n",
              "<style scoped>\n",
              "    .dataframe tbody tr th:only-of-type {\n",
              "        vertical-align: middle;\n",
              "    }\n",
              "\n",
              "    .dataframe tbody tr th {\n",
              "        vertical-align: top;\n",
              "    }\n",
              "\n",
              "    .dataframe thead th {\n",
              "        text-align: right;\n",
              "    }\n",
              "</style>\n",
              "<table border=\"1\" class=\"dataframe\">\n",
              "  <thead>\n",
              "    <tr style=\"text-align: right;\">\n",
              "      <th></th>\n",
              "      <th>A</th>\n",
              "      <th>B</th>\n",
              "      <th>C</th>\n",
              "      <th>D</th>\n",
              "      <th>E</th>\n",
              "      <th>F</th>\n",
              "    </tr>\n",
              "  </thead>\n",
              "  <tbody>\n",
              "    <tr>\n",
              "      <th>0</th>\n",
              "      <td>1.0</td>\n",
              "      <td>2019-12-21</td>\n",
              "      <td>0.0</td>\n",
              "      <td>2</td>\n",
              "      <td>test</td>\n",
              "      <td>foo</td>\n",
              "    </tr>\n",
              "    <tr>\n",
              "      <th>1</th>\n",
              "      <td>1.0</td>\n",
              "      <td>2019-12-21</td>\n",
              "      <td>1.0</td>\n",
              "      <td>2</td>\n",
              "      <td>train</td>\n",
              "      <td>foo</td>\n",
              "    </tr>\n",
              "    <tr>\n",
              "      <th>2</th>\n",
              "      <td>1.0</td>\n",
              "      <td>2019-12-21</td>\n",
              "      <td>2.0</td>\n",
              "      <td>2</td>\n",
              "      <td>test</td>\n",
              "      <td>foo</td>\n",
              "    </tr>\n",
              "    <tr>\n",
              "      <th>3</th>\n",
              "      <td>1.0</td>\n",
              "      <td>2019-12-21</td>\n",
              "      <td>3.0</td>\n",
              "      <td>2</td>\n",
              "      <td>train</td>\n",
              "      <td>foo</td>\n",
              "    </tr>\n",
              "    <tr>\n",
              "      <th>4</th>\n",
              "      <td>1.0</td>\n",
              "      <td>2019-12-21</td>\n",
              "      <td>4.0</td>\n",
              "      <td>2</td>\n",
              "      <td>test</td>\n",
              "      <td>foo</td>\n",
              "    </tr>\n",
              "  </tbody>\n",
              "</table>\n",
              "</div>"
            ],
            "text/plain": [
              "     A          B    C  D      E    F\n",
              "0  1.0 2019-12-21  0.0  2   test  foo\n",
              "1  1.0 2019-12-21  1.0  2  train  foo\n",
              "2  1.0 2019-12-21  2.0  2   test  foo\n",
              "3  1.0 2019-12-21  3.0  2  train  foo\n",
              "4  1.0 2019-12-21  4.0  2   test  foo"
            ]
          },
          "metadata": {
            "tags": []
          },
          "execution_count": 10
        }
      ]
    },
    {
      "cell_type": "code",
      "metadata": {
        "id": "5cyAgsgnlJi5",
        "colab_type": "code",
        "outputId": "6868df28-cc9d-4d89-af74-6da42244fba9",
        "colab": {
          "base_uri": "https://localhost:8080/",
          "height": 142
        }
      },
      "source": [
        "df2.tail(3)"
      ],
      "execution_count": 0,
      "outputs": [
        {
          "output_type": "execute_result",
          "data": {
            "text/html": [
              "<div>\n",
              "<style scoped>\n",
              "    .dataframe tbody tr th:only-of-type {\n",
              "        vertical-align: middle;\n",
              "    }\n",
              "\n",
              "    .dataframe tbody tr th {\n",
              "        vertical-align: top;\n",
              "    }\n",
              "\n",
              "    .dataframe thead th {\n",
              "        text-align: right;\n",
              "    }\n",
              "</style>\n",
              "<table border=\"1\" class=\"dataframe\">\n",
              "  <thead>\n",
              "    <tr style=\"text-align: right;\">\n",
              "      <th></th>\n",
              "      <th>A</th>\n",
              "      <th>B</th>\n",
              "      <th>C</th>\n",
              "      <th>D</th>\n",
              "      <th>E</th>\n",
              "      <th>F</th>\n",
              "    </tr>\n",
              "  </thead>\n",
              "  <tbody>\n",
              "    <tr>\n",
              "      <th>7</th>\n",
              "      <td>1.0</td>\n",
              "      <td>2019-12-21</td>\n",
              "      <td>7.0</td>\n",
              "      <td>2</td>\n",
              "      <td>train</td>\n",
              "      <td>foo</td>\n",
              "    </tr>\n",
              "    <tr>\n",
              "      <th>8</th>\n",
              "      <td>1.0</td>\n",
              "      <td>2019-12-21</td>\n",
              "      <td>8.0</td>\n",
              "      <td>2</td>\n",
              "      <td>test</td>\n",
              "      <td>foo</td>\n",
              "    </tr>\n",
              "    <tr>\n",
              "      <th>9</th>\n",
              "      <td>1.0</td>\n",
              "      <td>2019-12-21</td>\n",
              "      <td>9.0</td>\n",
              "      <td>2</td>\n",
              "      <td>train</td>\n",
              "      <td>foo</td>\n",
              "    </tr>\n",
              "  </tbody>\n",
              "</table>\n",
              "</div>"
            ],
            "text/plain": [
              "     A          B    C  D      E    F\n",
              "7  1.0 2019-12-21  7.0  2  train  foo\n",
              "8  1.0 2019-12-21  8.0  2   test  foo\n",
              "9  1.0 2019-12-21  9.0  2  train  foo"
            ]
          },
          "metadata": {
            "tags": []
          },
          "execution_count": 11
        }
      ]
    },
    {
      "cell_type": "code",
      "metadata": {
        "id": "k3M6TbC0mb1y",
        "colab_type": "code",
        "outputId": "ea09bbb8-f2c6-4400-877a-4ce5152b5541",
        "colab": {
          "base_uri": "https://localhost:8080/",
          "height": 34
        }
      },
      "source": [
        "df2.index"
      ],
      "execution_count": 0,
      "outputs": [
        {
          "output_type": "execute_result",
          "data": {
            "text/plain": [
              "Int64Index([0, 1, 2, 3, 4, 5, 6, 7, 8, 9], dtype='int64')"
            ]
          },
          "metadata": {
            "tags": []
          },
          "execution_count": 12
        }
      ]
    },
    {
      "cell_type": "code",
      "metadata": {
        "id": "eZJyuBC4mjG1",
        "colab_type": "code",
        "outputId": "efdf986f-b547-4491-9f81-83280f0ec088",
        "colab": {
          "base_uri": "https://localhost:8080/",
          "height": 68
        }
      },
      "source": [
        "dataframe.index"
      ],
      "execution_count": 0,
      "outputs": [
        {
          "output_type": "execute_result",
          "data": {
            "text/plain": [
              "DatetimeIndex(['2019-12-21', '2019-12-22', '2019-12-23', '2019-12-24',\n",
              "               '2019-12-25', '2019-12-26'],\n",
              "              dtype='datetime64[ns]', freq='D')"
            ]
          },
          "metadata": {
            "tags": []
          },
          "execution_count": 13
        }
      ]
    },
    {
      "cell_type": "code",
      "metadata": {
        "id": "LUQhRB5VmrlA",
        "colab_type": "code",
        "outputId": "ab9ffa92-5709-4587-f2db-0e15149357a7",
        "colab": {
          "base_uri": "https://localhost:8080/",
          "height": 34
        }
      },
      "source": [
        "dataframe.columns"
      ],
      "execution_count": 0,
      "outputs": [
        {
          "output_type": "execute_result",
          "data": {
            "text/plain": [
              "Index(['A', 'B', 'C', 'D'], dtype='object')"
            ]
          },
          "metadata": {
            "tags": []
          },
          "execution_count": 14
        }
      ]
    },
    {
      "cell_type": "code",
      "metadata": {
        "id": "CiUKGfFdmx63",
        "colab_type": "code",
        "outputId": "2d10538c-6013-4845-873f-10b87877b2c3",
        "colab": {
          "base_uri": "https://localhost:8080/",
          "height": 221
        }
      },
      "source": [
        "dataframe.to_numpy()"
      ],
      "execution_count": 0,
      "outputs": [
        {
          "output_type": "execute_result",
          "data": {
            "text/plain": [
              "array([[ 5.20896728e-01,  7.75810465e-01, -3.41464741e-01,\n",
              "         8.44287296e-01],\n",
              "       [-2.54822531e-01,  2.21644044e+00, -6.44394604e-01,\n",
              "         6.81905847e-01],\n",
              "       [-1.83717430e-01,  8.89967082e-01, -1.43970076e-01,\n",
              "         1.34976053e-01],\n",
              "       [-1.47246748e-03, -5.24464197e-01, -3.10304087e-02,\n",
              "         2.99982440e-01],\n",
              "       [-4.30264433e-01,  7.84849946e-01,  1.58151938e+00,\n",
              "        -6.86131394e-01],\n",
              "       [ 4.88074072e-01, -1.10824449e+00,  1.69755762e+00,\n",
              "         1.79766043e-01]])"
            ]
          },
          "metadata": {
            "tags": []
          },
          "execution_count": 15
        }
      ]
    },
    {
      "cell_type": "code",
      "metadata": {
        "id": "kc4LSsFGnAD_",
        "colab_type": "code",
        "outputId": "158b0029-dd62-49f4-b1b5-b6c2f41f77ed",
        "colab": {
          "base_uri": "https://localhost:8080/",
          "height": 204
        }
      },
      "source": [
        "df2.to_numpy()"
      ],
      "execution_count": 0,
      "outputs": [
        {
          "output_type": "execute_result",
          "data": {
            "text/plain": [
              "array([[1.0, Timestamp('2019-12-21 00:00:00'), 0.0, 2, 'test', 'foo'],\n",
              "       [1.0, Timestamp('2019-12-21 00:00:00'), 1.0, 2, 'train', 'foo'],\n",
              "       [1.0, Timestamp('2019-12-21 00:00:00'), 2.0, 2, 'test', 'foo'],\n",
              "       [1.0, Timestamp('2019-12-21 00:00:00'), 3.0, 2, 'train', 'foo'],\n",
              "       [1.0, Timestamp('2019-12-21 00:00:00'), 4.0, 2, 'test', 'foo'],\n",
              "       [1.0, Timestamp('2019-12-21 00:00:00'), 5.0, 2, 'train', 'foo'],\n",
              "       [1.0, Timestamp('2019-12-21 00:00:00'), 6.0, 2, 'test', 'foo'],\n",
              "       [1.0, Timestamp('2019-12-21 00:00:00'), 7.0, 2, 'train', 'foo'],\n",
              "       [1.0, Timestamp('2019-12-21 00:00:00'), 8.0, 2, 'test', 'foo'],\n",
              "       [1.0, Timestamp('2019-12-21 00:00:00'), 9.0, 2, 'train', 'foo']],\n",
              "      dtype=object)"
            ]
          },
          "metadata": {
            "tags": []
          },
          "execution_count": 16
        }
      ]
    },
    {
      "cell_type": "code",
      "metadata": {
        "id": "cDm-ZvZTnNqC",
        "colab_type": "code",
        "outputId": "5db216d2-d48a-4672-8223-31c5966bd301",
        "colab": {
          "base_uri": "https://localhost:8080/",
          "height": 297
        }
      },
      "source": [
        "dataframe.describe()"
      ],
      "execution_count": 0,
      "outputs": [
        {
          "output_type": "execute_result",
          "data": {
            "text/html": [
              "<div>\n",
              "<style scoped>\n",
              "    .dataframe tbody tr th:only-of-type {\n",
              "        vertical-align: middle;\n",
              "    }\n",
              "\n",
              "    .dataframe tbody tr th {\n",
              "        vertical-align: top;\n",
              "    }\n",
              "\n",
              "    .dataframe thead th {\n",
              "        text-align: right;\n",
              "    }\n",
              "</style>\n",
              "<table border=\"1\" class=\"dataframe\">\n",
              "  <thead>\n",
              "    <tr style=\"text-align: right;\">\n",
              "      <th></th>\n",
              "      <th>A</th>\n",
              "      <th>B</th>\n",
              "      <th>C</th>\n",
              "      <th>D</th>\n",
              "    </tr>\n",
              "  </thead>\n",
              "  <tbody>\n",
              "    <tr>\n",
              "      <th>count</th>\n",
              "      <td>6.000000</td>\n",
              "      <td>6.000000</td>\n",
              "      <td>6.000000</td>\n",
              "      <td>6.000000</td>\n",
              "    </tr>\n",
              "    <tr>\n",
              "      <th>mean</th>\n",
              "      <td>0.023116</td>\n",
              "      <td>0.505727</td>\n",
              "      <td>0.353036</td>\n",
              "      <td>0.242464</td>\n",
              "    </tr>\n",
              "    <tr>\n",
              "      <th>std</th>\n",
              "      <td>0.397532</td>\n",
              "      <td>1.173988</td>\n",
              "      <td>1.018688</td>\n",
              "      <td>0.535982</td>\n",
              "    </tr>\n",
              "    <tr>\n",
              "      <th>min</th>\n",
              "      <td>-0.430264</td>\n",
              "      <td>-1.108244</td>\n",
              "      <td>-0.644395</td>\n",
              "      <td>-0.686131</td>\n",
              "    </tr>\n",
              "    <tr>\n",
              "      <th>25%</th>\n",
              "      <td>-0.237046</td>\n",
              "      <td>-0.199396</td>\n",
              "      <td>-0.292091</td>\n",
              "      <td>0.146174</td>\n",
              "    </tr>\n",
              "    <tr>\n",
              "      <th>50%</th>\n",
              "      <td>-0.092595</td>\n",
              "      <td>0.780330</td>\n",
              "      <td>-0.087500</td>\n",
              "      <td>0.239874</td>\n",
              "    </tr>\n",
              "    <tr>\n",
              "      <th>75%</th>\n",
              "      <td>0.365687</td>\n",
              "      <td>0.863688</td>\n",
              "      <td>1.178382</td>\n",
              "      <td>0.586425</td>\n",
              "    </tr>\n",
              "    <tr>\n",
              "      <th>max</th>\n",
              "      <td>0.520897</td>\n",
              "      <td>2.216440</td>\n",
              "      <td>1.697558</td>\n",
              "      <td>0.844287</td>\n",
              "    </tr>\n",
              "  </tbody>\n",
              "</table>\n",
              "</div>"
            ],
            "text/plain": [
              "              A         B         C         D\n",
              "count  6.000000  6.000000  6.000000  6.000000\n",
              "mean   0.023116  0.505727  0.353036  0.242464\n",
              "std    0.397532  1.173988  1.018688  0.535982\n",
              "min   -0.430264 -1.108244 -0.644395 -0.686131\n",
              "25%   -0.237046 -0.199396 -0.292091  0.146174\n",
              "50%   -0.092595  0.780330 -0.087500  0.239874\n",
              "75%    0.365687  0.863688  1.178382  0.586425\n",
              "max    0.520897  2.216440  1.697558  0.844287"
            ]
          },
          "metadata": {
            "tags": []
          },
          "execution_count": 17
        }
      ]
    },
    {
      "cell_type": "code",
      "metadata": {
        "id": "D-4a_vDinXlF",
        "colab_type": "code",
        "outputId": "d2cbdc18-ccee-4dea-dddf-2e818a07a4ad",
        "colab": {
          "base_uri": "https://localhost:8080/",
          "height": 173
        }
      },
      "source": [
        "dataframe.T\n",
        "\n",
        "# dataframe.T for transposing..It will change row to column and column to row\n"
      ],
      "execution_count": 0,
      "outputs": [
        {
          "output_type": "execute_result",
          "data": {
            "text/html": [
              "<div>\n",
              "<style scoped>\n",
              "    .dataframe tbody tr th:only-of-type {\n",
              "        vertical-align: middle;\n",
              "    }\n",
              "\n",
              "    .dataframe tbody tr th {\n",
              "        vertical-align: top;\n",
              "    }\n",
              "\n",
              "    .dataframe thead th {\n",
              "        text-align: right;\n",
              "    }\n",
              "</style>\n",
              "<table border=\"1\" class=\"dataframe\">\n",
              "  <thead>\n",
              "    <tr style=\"text-align: right;\">\n",
              "      <th></th>\n",
              "      <th>2019-12-21</th>\n",
              "      <th>2019-12-22</th>\n",
              "      <th>2019-12-23</th>\n",
              "      <th>2019-12-24</th>\n",
              "      <th>2019-12-25</th>\n",
              "      <th>2019-12-26</th>\n",
              "    </tr>\n",
              "  </thead>\n",
              "  <tbody>\n",
              "    <tr>\n",
              "      <th>A</th>\n",
              "      <td>0.520897</td>\n",
              "      <td>-0.254823</td>\n",
              "      <td>-0.183717</td>\n",
              "      <td>-0.001472</td>\n",
              "      <td>-0.430264</td>\n",
              "      <td>0.488074</td>\n",
              "    </tr>\n",
              "    <tr>\n",
              "      <th>B</th>\n",
              "      <td>0.775810</td>\n",
              "      <td>2.216440</td>\n",
              "      <td>0.889967</td>\n",
              "      <td>-0.524464</td>\n",
              "      <td>0.784850</td>\n",
              "      <td>-1.108244</td>\n",
              "    </tr>\n",
              "    <tr>\n",
              "      <th>C</th>\n",
              "      <td>-0.341465</td>\n",
              "      <td>-0.644395</td>\n",
              "      <td>-0.143970</td>\n",
              "      <td>-0.031030</td>\n",
              "      <td>1.581519</td>\n",
              "      <td>1.697558</td>\n",
              "    </tr>\n",
              "    <tr>\n",
              "      <th>D</th>\n",
              "      <td>0.844287</td>\n",
              "      <td>0.681906</td>\n",
              "      <td>0.134976</td>\n",
              "      <td>0.299982</td>\n",
              "      <td>-0.686131</td>\n",
              "      <td>0.179766</td>\n",
              "    </tr>\n",
              "  </tbody>\n",
              "</table>\n",
              "</div>"
            ],
            "text/plain": [
              "   2019-12-21  2019-12-22  2019-12-23  2019-12-24  2019-12-25  2019-12-26\n",
              "A    0.520897   -0.254823   -0.183717   -0.001472   -0.430264    0.488074\n",
              "B    0.775810    2.216440    0.889967   -0.524464    0.784850   -1.108244\n",
              "C   -0.341465   -0.644395   -0.143970   -0.031030    1.581519    1.697558\n",
              "D    0.844287    0.681906    0.134976    0.299982   -0.686131    0.179766"
            ]
          },
          "metadata": {
            "tags": []
          },
          "execution_count": 18
        }
      ]
    },
    {
      "cell_type": "code",
      "metadata": {
        "id": "vcoMfRIInzmY",
        "colab_type": "code",
        "outputId": "646c1835-64bf-41b1-c064-0e868ae318ac",
        "colab": {
          "base_uri": "https://localhost:8080/",
          "height": 235
        }
      },
      "source": [
        "dataframe.sort_index(axis=0,ascending=False)"
      ],
      "execution_count": 0,
      "outputs": [
        {
          "output_type": "execute_result",
          "data": {
            "text/html": [
              "<div>\n",
              "<style scoped>\n",
              "    .dataframe tbody tr th:only-of-type {\n",
              "        vertical-align: middle;\n",
              "    }\n",
              "\n",
              "    .dataframe tbody tr th {\n",
              "        vertical-align: top;\n",
              "    }\n",
              "\n",
              "    .dataframe thead th {\n",
              "        text-align: right;\n",
              "    }\n",
              "</style>\n",
              "<table border=\"1\" class=\"dataframe\">\n",
              "  <thead>\n",
              "    <tr style=\"text-align: right;\">\n",
              "      <th></th>\n",
              "      <th>A</th>\n",
              "      <th>B</th>\n",
              "      <th>C</th>\n",
              "      <th>D</th>\n",
              "    </tr>\n",
              "  </thead>\n",
              "  <tbody>\n",
              "    <tr>\n",
              "      <th>2019-12-26</th>\n",
              "      <td>0.488074</td>\n",
              "      <td>-1.108244</td>\n",
              "      <td>1.697558</td>\n",
              "      <td>0.179766</td>\n",
              "    </tr>\n",
              "    <tr>\n",
              "      <th>2019-12-25</th>\n",
              "      <td>-0.430264</td>\n",
              "      <td>0.784850</td>\n",
              "      <td>1.581519</td>\n",
              "      <td>-0.686131</td>\n",
              "    </tr>\n",
              "    <tr>\n",
              "      <th>2019-12-24</th>\n",
              "      <td>-0.001472</td>\n",
              "      <td>-0.524464</td>\n",
              "      <td>-0.031030</td>\n",
              "      <td>0.299982</td>\n",
              "    </tr>\n",
              "    <tr>\n",
              "      <th>2019-12-23</th>\n",
              "      <td>-0.183717</td>\n",
              "      <td>0.889967</td>\n",
              "      <td>-0.143970</td>\n",
              "      <td>0.134976</td>\n",
              "    </tr>\n",
              "    <tr>\n",
              "      <th>2019-12-22</th>\n",
              "      <td>-0.254823</td>\n",
              "      <td>2.216440</td>\n",
              "      <td>-0.644395</td>\n",
              "      <td>0.681906</td>\n",
              "    </tr>\n",
              "    <tr>\n",
              "      <th>2019-12-21</th>\n",
              "      <td>0.520897</td>\n",
              "      <td>0.775810</td>\n",
              "      <td>-0.341465</td>\n",
              "      <td>0.844287</td>\n",
              "    </tr>\n",
              "  </tbody>\n",
              "</table>\n",
              "</div>"
            ],
            "text/plain": [
              "                   A         B         C         D\n",
              "2019-12-26  0.488074 -1.108244  1.697558  0.179766\n",
              "2019-12-25 -0.430264  0.784850  1.581519 -0.686131\n",
              "2019-12-24 -0.001472 -0.524464 -0.031030  0.299982\n",
              "2019-12-23 -0.183717  0.889967 -0.143970  0.134976\n",
              "2019-12-22 -0.254823  2.216440 -0.644395  0.681906\n",
              "2019-12-21  0.520897  0.775810 -0.341465  0.844287"
            ]
          },
          "metadata": {
            "tags": []
          },
          "execution_count": 19
        }
      ]
    },
    {
      "cell_type": "code",
      "metadata": {
        "id": "OG3NbVx6o6H-",
        "colab_type": "code",
        "outputId": "119d6a72-34dc-46ab-e397-67e4c4ba9707",
        "colab": {
          "base_uri": "https://localhost:8080/",
          "height": 235
        }
      },
      "source": [
        "dataframe.sort_values(by=['C','D'],ascending=False)"
      ],
      "execution_count": 0,
      "outputs": [
        {
          "output_type": "execute_result",
          "data": {
            "text/html": [
              "<div>\n",
              "<style scoped>\n",
              "    .dataframe tbody tr th:only-of-type {\n",
              "        vertical-align: middle;\n",
              "    }\n",
              "\n",
              "    .dataframe tbody tr th {\n",
              "        vertical-align: top;\n",
              "    }\n",
              "\n",
              "    .dataframe thead th {\n",
              "        text-align: right;\n",
              "    }\n",
              "</style>\n",
              "<table border=\"1\" class=\"dataframe\">\n",
              "  <thead>\n",
              "    <tr style=\"text-align: right;\">\n",
              "      <th></th>\n",
              "      <th>A</th>\n",
              "      <th>B</th>\n",
              "      <th>C</th>\n",
              "      <th>D</th>\n",
              "    </tr>\n",
              "  </thead>\n",
              "  <tbody>\n",
              "    <tr>\n",
              "      <th>2019-12-26</th>\n",
              "      <td>0.488074</td>\n",
              "      <td>-1.108244</td>\n",
              "      <td>1.697558</td>\n",
              "      <td>0.179766</td>\n",
              "    </tr>\n",
              "    <tr>\n",
              "      <th>2019-12-25</th>\n",
              "      <td>-0.430264</td>\n",
              "      <td>0.784850</td>\n",
              "      <td>1.581519</td>\n",
              "      <td>-0.686131</td>\n",
              "    </tr>\n",
              "    <tr>\n",
              "      <th>2019-12-24</th>\n",
              "      <td>-0.001472</td>\n",
              "      <td>-0.524464</td>\n",
              "      <td>-0.031030</td>\n",
              "      <td>0.299982</td>\n",
              "    </tr>\n",
              "    <tr>\n",
              "      <th>2019-12-23</th>\n",
              "      <td>-0.183717</td>\n",
              "      <td>0.889967</td>\n",
              "      <td>-0.143970</td>\n",
              "      <td>0.134976</td>\n",
              "    </tr>\n",
              "    <tr>\n",
              "      <th>2019-12-21</th>\n",
              "      <td>0.520897</td>\n",
              "      <td>0.775810</td>\n",
              "      <td>-0.341465</td>\n",
              "      <td>0.844287</td>\n",
              "    </tr>\n",
              "    <tr>\n",
              "      <th>2019-12-22</th>\n",
              "      <td>-0.254823</td>\n",
              "      <td>2.216440</td>\n",
              "      <td>-0.644395</td>\n",
              "      <td>0.681906</td>\n",
              "    </tr>\n",
              "  </tbody>\n",
              "</table>\n",
              "</div>"
            ],
            "text/plain": [
              "                   A         B         C         D\n",
              "2019-12-26  0.488074 -1.108244  1.697558  0.179766\n",
              "2019-12-25 -0.430264  0.784850  1.581519 -0.686131\n",
              "2019-12-24 -0.001472 -0.524464 -0.031030  0.299982\n",
              "2019-12-23 -0.183717  0.889967 -0.143970  0.134976\n",
              "2019-12-21  0.520897  0.775810 -0.341465  0.844287\n",
              "2019-12-22 -0.254823  2.216440 -0.644395  0.681906"
            ]
          },
          "metadata": {
            "tags": []
          },
          "execution_count": 20
        }
      ]
    },
    {
      "cell_type": "code",
      "metadata": {
        "id": "Zao-I9jtpgpy",
        "colab_type": "code",
        "outputId": "5faa5322-2b5e-41b8-9191-a108a2bf5d93",
        "colab": {
          "base_uri": "https://localhost:8080/",
          "height": 136
        }
      },
      "source": [
        "# Selectting on basis of column\n",
        "dataframe['A']"
      ],
      "execution_count": 0,
      "outputs": [
        {
          "output_type": "execute_result",
          "data": {
            "text/plain": [
              "2019-12-21    0.520897\n",
              "2019-12-22   -0.254823\n",
              "2019-12-23   -0.183717\n",
              "2019-12-24   -0.001472\n",
              "2019-12-25   -0.430264\n",
              "2019-12-26    0.488074\n",
              "Freq: D, Name: A, dtype: float64"
            ]
          },
          "metadata": {
            "tags": []
          },
          "execution_count": 21
        }
      ]
    },
    {
      "cell_type": "code",
      "metadata": {
        "id": "fRW_ktsepqw6",
        "colab_type": "code",
        "outputId": "e42b5d89-f779-43d6-95af-cb495d93d83c",
        "colab": {
          "base_uri": "https://localhost:8080/",
          "height": 111
        }
      },
      "source": [
        "# Seleting row on basis of index range\n",
        "dataframe[1:3]"
      ],
      "execution_count": 0,
      "outputs": [
        {
          "output_type": "execute_result",
          "data": {
            "text/html": [
              "<div>\n",
              "<style scoped>\n",
              "    .dataframe tbody tr th:only-of-type {\n",
              "        vertical-align: middle;\n",
              "    }\n",
              "\n",
              "    .dataframe tbody tr th {\n",
              "        vertical-align: top;\n",
              "    }\n",
              "\n",
              "    .dataframe thead th {\n",
              "        text-align: right;\n",
              "    }\n",
              "</style>\n",
              "<table border=\"1\" class=\"dataframe\">\n",
              "  <thead>\n",
              "    <tr style=\"text-align: right;\">\n",
              "      <th></th>\n",
              "      <th>A</th>\n",
              "      <th>B</th>\n",
              "      <th>C</th>\n",
              "      <th>D</th>\n",
              "    </tr>\n",
              "  </thead>\n",
              "  <tbody>\n",
              "    <tr>\n",
              "      <th>2019-12-22</th>\n",
              "      <td>-0.254823</td>\n",
              "      <td>2.216440</td>\n",
              "      <td>-0.644395</td>\n",
              "      <td>0.681906</td>\n",
              "    </tr>\n",
              "    <tr>\n",
              "      <th>2019-12-23</th>\n",
              "      <td>-0.183717</td>\n",
              "      <td>0.889967</td>\n",
              "      <td>-0.143970</td>\n",
              "      <td>0.134976</td>\n",
              "    </tr>\n",
              "  </tbody>\n",
              "</table>\n",
              "</div>"
            ],
            "text/plain": [
              "                   A         B         C         D\n",
              "2019-12-22 -0.254823  2.216440 -0.644395  0.681906\n",
              "2019-12-23 -0.183717  0.889967 -0.143970  0.134976"
            ]
          },
          "metadata": {
            "tags": []
          },
          "execution_count": 22
        }
      ]
    },
    {
      "cell_type": "markdown",
      "metadata": {
        "id": "u7OFDXkqqHsl",
        "colab_type": "text"
      },
      "source": [
        "### Selection by label\n"
      ]
    },
    {
      "cell_type": "code",
      "metadata": {
        "id": "QfKE3G2xqOZW",
        "colab_type": "code",
        "outputId": "7fa29c92-b993-4f2a-9043-3550a2993b25",
        "colab": {
          "base_uri": "https://localhost:8080/",
          "height": 122
        }
      },
      "source": [
        "dataframe.loc[dates[4]]"
      ],
      "execution_count": 0,
      "outputs": [
        {
          "output_type": "execute_result",
          "data": {
            "text/plain": [
              "A   -0.430264\n",
              "B    0.784850\n",
              "C    1.581519\n",
              "D   -0.686131\n",
              "Name: 2019-12-25 00:00:00, dtype: float64"
            ]
          },
          "metadata": {
            "tags": []
          },
          "execution_count": 23
        }
      ]
    },
    {
      "cell_type": "code",
      "metadata": {
        "id": "TmnS2QnE92pF",
        "colab_type": "code",
        "outputId": "cce9fb74-5a64-496f-ba58-33725c175d52",
        "colab": {
          "base_uri": "https://localhost:8080/",
          "height": 357
        }
      },
      "source": [
        "dataframe.loc[:,['A','B']]"
      ],
      "execution_count": 0,
      "outputs": [
        {
          "output_type": "execute_result",
          "data": {
            "text/html": [
              "<div>\n",
              "<style scoped>\n",
              "    .dataframe tbody tr th:only-of-type {\n",
              "        vertical-align: middle;\n",
              "    }\n",
              "\n",
              "    .dataframe tbody tr th {\n",
              "        vertical-align: top;\n",
              "    }\n",
              "\n",
              "    .dataframe thead th {\n",
              "        text-align: right;\n",
              "    }\n",
              "</style>\n",
              "<table border=\"1\" class=\"dataframe\">\n",
              "  <thead>\n",
              "    <tr style=\"text-align: right;\">\n",
              "      <th></th>\n",
              "      <th>A</th>\n",
              "      <th>B</th>\n",
              "    </tr>\n",
              "  </thead>\n",
              "  <tbody>\n",
              "    <tr>\n",
              "      <th>2019-12-21</th>\n",
              "      <td>0.520897</td>\n",
              "      <td>0.775810</td>\n",
              "    </tr>\n",
              "    <tr>\n",
              "      <th>2019-12-22</th>\n",
              "      <td>-0.254823</td>\n",
              "      <td>2.216440</td>\n",
              "    </tr>\n",
              "    <tr>\n",
              "      <th>2019-12-23</th>\n",
              "      <td>-0.183717</td>\n",
              "      <td>0.889967</td>\n",
              "    </tr>\n",
              "    <tr>\n",
              "      <th>2019-12-24</th>\n",
              "      <td>-0.001472</td>\n",
              "      <td>-0.524464</td>\n",
              "    </tr>\n",
              "    <tr>\n",
              "      <th>2019-12-25</th>\n",
              "      <td>-0.430264</td>\n",
              "      <td>0.784850</td>\n",
              "    </tr>\n",
              "    <tr>\n",
              "      <th>2019-12-26</th>\n",
              "      <td>0.488074</td>\n",
              "      <td>-1.108244</td>\n",
              "    </tr>\n",
              "  </tbody>\n",
              "</table>\n",
              "</div>"
            ],
            "text/plain": [
              "                   A         B\n",
              "2019-12-21  0.520897  0.775810\n",
              "2019-12-22 -0.254823  2.216440\n",
              "2019-12-23 -0.183717  0.889967\n",
              "2019-12-24 -0.001472 -0.524464\n",
              "2019-12-25 -0.430264  0.784850\n",
              "2019-12-26  0.488074 -1.108244"
            ]
          },
          "metadata": {
            "tags": []
          },
          "execution_count": 24
        }
      ]
    },
    {
      "cell_type": "code",
      "metadata": {
        "id": "0F8Kk--eNoEK",
        "colab_type": "code",
        "outputId": "286ebcd0-e41f-4d05-d270-ba98f3b95dcf",
        "colab": {
          "base_uri": "https://localhost:8080/",
          "height": 213
        }
      },
      "source": [
        "dataframe.loc['20191222':'20191224',['A','B']]"
      ],
      "execution_count": 0,
      "outputs": [
        {
          "output_type": "execute_result",
          "data": {
            "text/html": [
              "<div>\n",
              "<style scoped>\n",
              "    .dataframe tbody tr th:only-of-type {\n",
              "        vertical-align: middle;\n",
              "    }\n",
              "\n",
              "    .dataframe tbody tr th {\n",
              "        vertical-align: top;\n",
              "    }\n",
              "\n",
              "    .dataframe thead th {\n",
              "        text-align: right;\n",
              "    }\n",
              "</style>\n",
              "<table border=\"1\" class=\"dataframe\">\n",
              "  <thead>\n",
              "    <tr style=\"text-align: right;\">\n",
              "      <th></th>\n",
              "      <th>A</th>\n",
              "      <th>B</th>\n",
              "    </tr>\n",
              "  </thead>\n",
              "  <tbody>\n",
              "    <tr>\n",
              "      <th>2019-12-22</th>\n",
              "      <td>-0.254823</td>\n",
              "      <td>2.216440</td>\n",
              "    </tr>\n",
              "    <tr>\n",
              "      <th>2019-12-23</th>\n",
              "      <td>-0.183717</td>\n",
              "      <td>0.889967</td>\n",
              "    </tr>\n",
              "    <tr>\n",
              "      <th>2019-12-24</th>\n",
              "      <td>-0.001472</td>\n",
              "      <td>-0.524464</td>\n",
              "    </tr>\n",
              "  </tbody>\n",
              "</table>\n",
              "</div>"
            ],
            "text/plain": [
              "                   A         B\n",
              "2019-12-22 -0.254823  2.216440\n",
              "2019-12-23 -0.183717  0.889967\n",
              "2019-12-24 -0.001472 -0.524464"
            ]
          },
          "metadata": {
            "tags": []
          },
          "execution_count": 25
        }
      ]
    },
    {
      "cell_type": "code",
      "metadata": {
        "id": "iaxSVL0dOI53",
        "colab_type": "code",
        "outputId": "cd3d10b6-411d-4125-f0b5-c9f0644db586",
        "colab": {
          "base_uri": "https://localhost:8080/",
          "height": 54
        }
      },
      "source": [
        "dataframe.loc['20191222','A']"
      ],
      "execution_count": 0,
      "outputs": [
        {
          "output_type": "execute_result",
          "data": {
            "text/plain": [
              "-0.2548225306961249"
            ]
          },
          "metadata": {
            "tags": []
          },
          "execution_count": 26
        }
      ]
    },
    {
      "cell_type": "markdown",
      "metadata": {
        "id": "2FRvYCqLOfEb",
        "colab_type": "text"
      },
      "source": [
        "### Selection by position"
      ]
    },
    {
      "cell_type": "code",
      "metadata": {
        "id": "DhP54WntOkSB",
        "colab_type": "code",
        "outputId": "f1d53797-a109-4256-cc53-fbdd61035ccc",
        "colab": {
          "base_uri": "https://localhost:8080/",
          "height": 235
        }
      },
      "source": [
        "dataframe.head(6)"
      ],
      "execution_count": 0,
      "outputs": [
        {
          "output_type": "execute_result",
          "data": {
            "text/html": [
              "<div>\n",
              "<style scoped>\n",
              "    .dataframe tbody tr th:only-of-type {\n",
              "        vertical-align: middle;\n",
              "    }\n",
              "\n",
              "    .dataframe tbody tr th {\n",
              "        vertical-align: top;\n",
              "    }\n",
              "\n",
              "    .dataframe thead th {\n",
              "        text-align: right;\n",
              "    }\n",
              "</style>\n",
              "<table border=\"1\" class=\"dataframe\">\n",
              "  <thead>\n",
              "    <tr style=\"text-align: right;\">\n",
              "      <th></th>\n",
              "      <th>A</th>\n",
              "      <th>B</th>\n",
              "      <th>C</th>\n",
              "      <th>D</th>\n",
              "    </tr>\n",
              "  </thead>\n",
              "  <tbody>\n",
              "    <tr>\n",
              "      <th>2019-12-21</th>\n",
              "      <td>0.520897</td>\n",
              "      <td>0.775810</td>\n",
              "      <td>-0.341465</td>\n",
              "      <td>0.844287</td>\n",
              "    </tr>\n",
              "    <tr>\n",
              "      <th>2019-12-22</th>\n",
              "      <td>-0.254823</td>\n",
              "      <td>2.216440</td>\n",
              "      <td>-0.644395</td>\n",
              "      <td>0.681906</td>\n",
              "    </tr>\n",
              "    <tr>\n",
              "      <th>2019-12-23</th>\n",
              "      <td>-0.183717</td>\n",
              "      <td>0.889967</td>\n",
              "      <td>-0.143970</td>\n",
              "      <td>0.134976</td>\n",
              "    </tr>\n",
              "    <tr>\n",
              "      <th>2019-12-24</th>\n",
              "      <td>-0.001472</td>\n",
              "      <td>-0.524464</td>\n",
              "      <td>-0.031030</td>\n",
              "      <td>0.299982</td>\n",
              "    </tr>\n",
              "    <tr>\n",
              "      <th>2019-12-25</th>\n",
              "      <td>-0.430264</td>\n",
              "      <td>0.784850</td>\n",
              "      <td>1.581519</td>\n",
              "      <td>-0.686131</td>\n",
              "    </tr>\n",
              "    <tr>\n",
              "      <th>2019-12-26</th>\n",
              "      <td>0.488074</td>\n",
              "      <td>-1.108244</td>\n",
              "      <td>1.697558</td>\n",
              "      <td>0.179766</td>\n",
              "    </tr>\n",
              "  </tbody>\n",
              "</table>\n",
              "</div>"
            ],
            "text/plain": [
              "                   A         B         C         D\n",
              "2019-12-21  0.520897  0.775810 -0.341465  0.844287\n",
              "2019-12-22 -0.254823  2.216440 -0.644395  0.681906\n",
              "2019-12-23 -0.183717  0.889967 -0.143970  0.134976\n",
              "2019-12-24 -0.001472 -0.524464 -0.031030  0.299982\n",
              "2019-12-25 -0.430264  0.784850  1.581519 -0.686131\n",
              "2019-12-26  0.488074 -1.108244  1.697558  0.179766"
            ]
          },
          "metadata": {
            "tags": []
          },
          "execution_count": 27
        }
      ]
    },
    {
      "cell_type": "code",
      "metadata": {
        "id": "tAjjqBloOqYt",
        "colab_type": "code",
        "outputId": "59dc76f5-64b3-4d1c-c52b-6c2fdc11639d",
        "colab": {
          "base_uri": "https://localhost:8080/",
          "height": 102
        }
      },
      "source": [
        "dataframe.iloc[0]"
      ],
      "execution_count": 0,
      "outputs": [
        {
          "output_type": "execute_result",
          "data": {
            "text/plain": [
              "A    0.520897\n",
              "B    0.775810\n",
              "C   -0.341465\n",
              "D    0.844287\n",
              "Name: 2019-12-21 00:00:00, dtype: float64"
            ]
          },
          "metadata": {
            "tags": []
          },
          "execution_count": 28
        }
      ]
    },
    {
      "cell_type": "code",
      "metadata": {
        "id": "TtWav_0DO0Ub",
        "colab_type": "code",
        "outputId": "fe636d00-6bee-482f-b848-a1e3dab95fc7",
        "colab": {
          "base_uri": "https://localhost:8080/",
          "height": 111
        }
      },
      "source": [
        "dataframe.iloc[1:3,0:3]"
      ],
      "execution_count": 0,
      "outputs": [
        {
          "output_type": "execute_result",
          "data": {
            "text/html": [
              "<div>\n",
              "<style scoped>\n",
              "    .dataframe tbody tr th:only-of-type {\n",
              "        vertical-align: middle;\n",
              "    }\n",
              "\n",
              "    .dataframe tbody tr th {\n",
              "        vertical-align: top;\n",
              "    }\n",
              "\n",
              "    .dataframe thead th {\n",
              "        text-align: right;\n",
              "    }\n",
              "</style>\n",
              "<table border=\"1\" class=\"dataframe\">\n",
              "  <thead>\n",
              "    <tr style=\"text-align: right;\">\n",
              "      <th></th>\n",
              "      <th>A</th>\n",
              "      <th>B</th>\n",
              "      <th>C</th>\n",
              "    </tr>\n",
              "  </thead>\n",
              "  <tbody>\n",
              "    <tr>\n",
              "      <th>2019-12-22</th>\n",
              "      <td>-0.254823</td>\n",
              "      <td>2.216440</td>\n",
              "      <td>-0.644395</td>\n",
              "    </tr>\n",
              "    <tr>\n",
              "      <th>2019-12-23</th>\n",
              "      <td>-0.183717</td>\n",
              "      <td>0.889967</td>\n",
              "      <td>-0.143970</td>\n",
              "    </tr>\n",
              "  </tbody>\n",
              "</table>\n",
              "</div>"
            ],
            "text/plain": [
              "                   A         B         C\n",
              "2019-12-22 -0.254823  2.216440 -0.644395\n",
              "2019-12-23 -0.183717  0.889967 -0.143970"
            ]
          },
          "metadata": {
            "tags": []
          },
          "execution_count": 29
        }
      ]
    },
    {
      "cell_type": "code",
      "metadata": {
        "id": "RdJT87f0O0XQ",
        "colab_type": "code",
        "outputId": "b8f0acd6-384f-4dcc-f9b2-2a82b4b705f0",
        "colab": {
          "base_uri": "https://localhost:8080/",
          "height": 111
        }
      },
      "source": [
        "dataframe.iloc[[1,2],[1]]"
      ],
      "execution_count": 0,
      "outputs": [
        {
          "output_type": "execute_result",
          "data": {
            "text/html": [
              "<div>\n",
              "<style scoped>\n",
              "    .dataframe tbody tr th:only-of-type {\n",
              "        vertical-align: middle;\n",
              "    }\n",
              "\n",
              "    .dataframe tbody tr th {\n",
              "        vertical-align: top;\n",
              "    }\n",
              "\n",
              "    .dataframe thead th {\n",
              "        text-align: right;\n",
              "    }\n",
              "</style>\n",
              "<table border=\"1\" class=\"dataframe\">\n",
              "  <thead>\n",
              "    <tr style=\"text-align: right;\">\n",
              "      <th></th>\n",
              "      <th>B</th>\n",
              "    </tr>\n",
              "  </thead>\n",
              "  <tbody>\n",
              "    <tr>\n",
              "      <th>2019-12-22</th>\n",
              "      <td>2.216440</td>\n",
              "    </tr>\n",
              "    <tr>\n",
              "      <th>2019-12-23</th>\n",
              "      <td>0.889967</td>\n",
              "    </tr>\n",
              "  </tbody>\n",
              "</table>\n",
              "</div>"
            ],
            "text/plain": [
              "                   B\n",
              "2019-12-22  2.216440\n",
              "2019-12-23  0.889967"
            ]
          },
          "metadata": {
            "tags": []
          },
          "execution_count": 30
        }
      ]
    },
    {
      "cell_type": "code",
      "metadata": {
        "id": "DMeH6bdyPrc8",
        "colab_type": "code",
        "outputId": "47a74c67-c080-4213-f28b-ff68efeb2a07",
        "colab": {
          "base_uri": "https://localhost:8080/",
          "height": 111
        }
      },
      "source": [
        "# for slicing rows explicitly\n",
        "\n",
        "dataframe.iloc[1:3,:]"
      ],
      "execution_count": 0,
      "outputs": [
        {
          "output_type": "execute_result",
          "data": {
            "text/html": [
              "<div>\n",
              "<style scoped>\n",
              "    .dataframe tbody tr th:only-of-type {\n",
              "        vertical-align: middle;\n",
              "    }\n",
              "\n",
              "    .dataframe tbody tr th {\n",
              "        vertical-align: top;\n",
              "    }\n",
              "\n",
              "    .dataframe thead th {\n",
              "        text-align: right;\n",
              "    }\n",
              "</style>\n",
              "<table border=\"1\" class=\"dataframe\">\n",
              "  <thead>\n",
              "    <tr style=\"text-align: right;\">\n",
              "      <th></th>\n",
              "      <th>A</th>\n",
              "      <th>B</th>\n",
              "      <th>C</th>\n",
              "      <th>D</th>\n",
              "    </tr>\n",
              "  </thead>\n",
              "  <tbody>\n",
              "    <tr>\n",
              "      <th>2019-12-22</th>\n",
              "      <td>-0.254823</td>\n",
              "      <td>2.216440</td>\n",
              "      <td>-0.644395</td>\n",
              "      <td>0.681906</td>\n",
              "    </tr>\n",
              "    <tr>\n",
              "      <th>2019-12-23</th>\n",
              "      <td>-0.183717</td>\n",
              "      <td>0.889967</td>\n",
              "      <td>-0.143970</td>\n",
              "      <td>0.134976</td>\n",
              "    </tr>\n",
              "  </tbody>\n",
              "</table>\n",
              "</div>"
            ],
            "text/plain": [
              "                   A         B         C         D\n",
              "2019-12-22 -0.254823  2.216440 -0.644395  0.681906\n",
              "2019-12-23 -0.183717  0.889967 -0.143970  0.134976"
            ]
          },
          "metadata": {
            "tags": []
          },
          "execution_count": 31
        }
      ]
    },
    {
      "cell_type": "code",
      "metadata": {
        "id": "ac_MO-9wP8ay",
        "colab_type": "code",
        "outputId": "5fcd701a-c9ba-4ca3-a58b-1a414ed81ae8",
        "colab": {
          "base_uri": "https://localhost:8080/",
          "height": 235
        }
      },
      "source": [
        "# for slicing columns explicitly\n",
        "dataframe.iloc[:,1:3]\n",
        "# dataframe.iloc[rowIndex slicing,columnIndex slicing]"
      ],
      "execution_count": 0,
      "outputs": [
        {
          "output_type": "execute_result",
          "data": {
            "text/html": [
              "<div>\n",
              "<style scoped>\n",
              "    .dataframe tbody tr th:only-of-type {\n",
              "        vertical-align: middle;\n",
              "    }\n",
              "\n",
              "    .dataframe tbody tr th {\n",
              "        vertical-align: top;\n",
              "    }\n",
              "\n",
              "    .dataframe thead th {\n",
              "        text-align: right;\n",
              "    }\n",
              "</style>\n",
              "<table border=\"1\" class=\"dataframe\">\n",
              "  <thead>\n",
              "    <tr style=\"text-align: right;\">\n",
              "      <th></th>\n",
              "      <th>B</th>\n",
              "      <th>C</th>\n",
              "    </tr>\n",
              "  </thead>\n",
              "  <tbody>\n",
              "    <tr>\n",
              "      <th>2019-12-21</th>\n",
              "      <td>0.775810</td>\n",
              "      <td>-0.341465</td>\n",
              "    </tr>\n",
              "    <tr>\n",
              "      <th>2019-12-22</th>\n",
              "      <td>2.216440</td>\n",
              "      <td>-0.644395</td>\n",
              "    </tr>\n",
              "    <tr>\n",
              "      <th>2019-12-23</th>\n",
              "      <td>0.889967</td>\n",
              "      <td>-0.143970</td>\n",
              "    </tr>\n",
              "    <tr>\n",
              "      <th>2019-12-24</th>\n",
              "      <td>-0.524464</td>\n",
              "      <td>-0.031030</td>\n",
              "    </tr>\n",
              "    <tr>\n",
              "      <th>2019-12-25</th>\n",
              "      <td>0.784850</td>\n",
              "      <td>1.581519</td>\n",
              "    </tr>\n",
              "    <tr>\n",
              "      <th>2019-12-26</th>\n",
              "      <td>-1.108244</td>\n",
              "      <td>1.697558</td>\n",
              "    </tr>\n",
              "  </tbody>\n",
              "</table>\n",
              "</div>"
            ],
            "text/plain": [
              "                   B         C\n",
              "2019-12-21  0.775810 -0.341465\n",
              "2019-12-22  2.216440 -0.644395\n",
              "2019-12-23  0.889967 -0.143970\n",
              "2019-12-24 -0.524464 -0.031030\n",
              "2019-12-25  0.784850  1.581519\n",
              "2019-12-26 -1.108244  1.697558"
            ]
          },
          "metadata": {
            "tags": []
          },
          "execution_count": 32
        }
      ]
    },
    {
      "cell_type": "code",
      "metadata": {
        "id": "SkuiBq7aQMLs",
        "colab_type": "code",
        "outputId": "0916f180-3fe4-4117-d6d6-dfd1e82e0a2f",
        "colab": {
          "base_uri": "https://localhost:8080/",
          "height": 68
        }
      },
      "source": [
        "# for getting value explicitly\n",
        "dataframe.iloc[1,1:3]\n",
        "# dataframe.iloc[rowIndex,columnIndex]"
      ],
      "execution_count": 0,
      "outputs": [
        {
          "output_type": "execute_result",
          "data": {
            "text/plain": [
              "B    2.216440\n",
              "C   -0.644395\n",
              "Name: 2019-12-22 00:00:00, dtype: float64"
            ]
          },
          "metadata": {
            "tags": []
          },
          "execution_count": 33
        }
      ]
    },
    {
      "cell_type": "code",
      "metadata": {
        "id": "af3bY4SVRFcZ",
        "colab_type": "code",
        "outputId": "94bc1ab6-6d4e-420a-de9a-dc36d3fb0ff8",
        "colab": {
          "base_uri": "https://localhost:8080/",
          "height": 34
        }
      },
      "source": [
        "dataframe.iat[1,3]"
      ],
      "execution_count": 0,
      "outputs": [
        {
          "output_type": "execute_result",
          "data": {
            "text/plain": [
              "0.68190584665947"
            ]
          },
          "metadata": {
            "tags": []
          },
          "execution_count": 34
        }
      ]
    },
    {
      "cell_type": "markdown",
      "metadata": {
        "id": "ub69noX7Reaq",
        "colab_type": "text"
      },
      "source": [
        "difference between iloc and iat is index based slicing is acceptable in iloc but not in iat"
      ]
    },
    {
      "cell_type": "markdown",
      "metadata": {
        "id": "S7DwiO41Rsla",
        "colab_type": "text"
      },
      "source": [
        "### Boolean indexing\n"
      ]
    },
    {
      "cell_type": "code",
      "metadata": {
        "id": "VRamfaAwRySf",
        "colab_type": "code",
        "outputId": "ac068c86-dafb-47cb-c939-365a6db2c2bd",
        "colab": {
          "base_uri": "https://localhost:8080/",
          "height": 111
        }
      },
      "source": [
        "dataframe[dataframe.A>0]"
      ],
      "execution_count": 0,
      "outputs": [
        {
          "output_type": "execute_result",
          "data": {
            "text/html": [
              "<div>\n",
              "<style scoped>\n",
              "    .dataframe tbody tr th:only-of-type {\n",
              "        vertical-align: middle;\n",
              "    }\n",
              "\n",
              "    .dataframe tbody tr th {\n",
              "        vertical-align: top;\n",
              "    }\n",
              "\n",
              "    .dataframe thead th {\n",
              "        text-align: right;\n",
              "    }\n",
              "</style>\n",
              "<table border=\"1\" class=\"dataframe\">\n",
              "  <thead>\n",
              "    <tr style=\"text-align: right;\">\n",
              "      <th></th>\n",
              "      <th>A</th>\n",
              "      <th>B</th>\n",
              "      <th>C</th>\n",
              "      <th>D</th>\n",
              "    </tr>\n",
              "  </thead>\n",
              "  <tbody>\n",
              "    <tr>\n",
              "      <th>2019-12-21</th>\n",
              "      <td>0.520897</td>\n",
              "      <td>0.775810</td>\n",
              "      <td>-0.341465</td>\n",
              "      <td>0.844287</td>\n",
              "    </tr>\n",
              "    <tr>\n",
              "      <th>2019-12-26</th>\n",
              "      <td>0.488074</td>\n",
              "      <td>-1.108244</td>\n",
              "      <td>1.697558</td>\n",
              "      <td>0.179766</td>\n",
              "    </tr>\n",
              "  </tbody>\n",
              "</table>\n",
              "</div>"
            ],
            "text/plain": [
              "                   A         B         C         D\n",
              "2019-12-21  0.520897  0.775810 -0.341465  0.844287\n",
              "2019-12-26  0.488074 -1.108244  1.697558  0.179766"
            ]
          },
          "metadata": {
            "tags": []
          },
          "execution_count": 35
        }
      ]
    },
    {
      "cell_type": "code",
      "metadata": {
        "id": "CwSNCcRpSF9s",
        "colab_type": "code",
        "outputId": "e7c47c6e-b6d9-4f9a-c5d5-90fe4f6c0447",
        "colab": {
          "base_uri": "https://localhost:8080/",
          "height": 235
        }
      },
      "source": [
        "dataframe.head(6)"
      ],
      "execution_count": 0,
      "outputs": [
        {
          "output_type": "execute_result",
          "data": {
            "text/html": [
              "<div>\n",
              "<style scoped>\n",
              "    .dataframe tbody tr th:only-of-type {\n",
              "        vertical-align: middle;\n",
              "    }\n",
              "\n",
              "    .dataframe tbody tr th {\n",
              "        vertical-align: top;\n",
              "    }\n",
              "\n",
              "    .dataframe thead th {\n",
              "        text-align: right;\n",
              "    }\n",
              "</style>\n",
              "<table border=\"1\" class=\"dataframe\">\n",
              "  <thead>\n",
              "    <tr style=\"text-align: right;\">\n",
              "      <th></th>\n",
              "      <th>A</th>\n",
              "      <th>B</th>\n",
              "      <th>C</th>\n",
              "      <th>D</th>\n",
              "    </tr>\n",
              "  </thead>\n",
              "  <tbody>\n",
              "    <tr>\n",
              "      <th>2019-12-21</th>\n",
              "      <td>0.520897</td>\n",
              "      <td>0.775810</td>\n",
              "      <td>-0.341465</td>\n",
              "      <td>0.844287</td>\n",
              "    </tr>\n",
              "    <tr>\n",
              "      <th>2019-12-22</th>\n",
              "      <td>-0.254823</td>\n",
              "      <td>2.216440</td>\n",
              "      <td>-0.644395</td>\n",
              "      <td>0.681906</td>\n",
              "    </tr>\n",
              "    <tr>\n",
              "      <th>2019-12-23</th>\n",
              "      <td>-0.183717</td>\n",
              "      <td>0.889967</td>\n",
              "      <td>-0.143970</td>\n",
              "      <td>0.134976</td>\n",
              "    </tr>\n",
              "    <tr>\n",
              "      <th>2019-12-24</th>\n",
              "      <td>-0.001472</td>\n",
              "      <td>-0.524464</td>\n",
              "      <td>-0.031030</td>\n",
              "      <td>0.299982</td>\n",
              "    </tr>\n",
              "    <tr>\n",
              "      <th>2019-12-25</th>\n",
              "      <td>-0.430264</td>\n",
              "      <td>0.784850</td>\n",
              "      <td>1.581519</td>\n",
              "      <td>-0.686131</td>\n",
              "    </tr>\n",
              "    <tr>\n",
              "      <th>2019-12-26</th>\n",
              "      <td>0.488074</td>\n",
              "      <td>-1.108244</td>\n",
              "      <td>1.697558</td>\n",
              "      <td>0.179766</td>\n",
              "    </tr>\n",
              "  </tbody>\n",
              "</table>\n",
              "</div>"
            ],
            "text/plain": [
              "                   A         B         C         D\n",
              "2019-12-21  0.520897  0.775810 -0.341465  0.844287\n",
              "2019-12-22 -0.254823  2.216440 -0.644395  0.681906\n",
              "2019-12-23 -0.183717  0.889967 -0.143970  0.134976\n",
              "2019-12-24 -0.001472 -0.524464 -0.031030  0.299982\n",
              "2019-12-25 -0.430264  0.784850  1.581519 -0.686131\n",
              "2019-12-26  0.488074 -1.108244  1.697558  0.179766"
            ]
          },
          "metadata": {
            "tags": []
          },
          "execution_count": 36
        }
      ]
    },
    {
      "cell_type": "code",
      "metadata": {
        "id": "md2Qda29R7bs",
        "colab_type": "code",
        "outputId": "1ba5b9fa-a011-4e8d-caa4-9a3b552ed447",
        "colab": {
          "base_uri": "https://localhost:8080/",
          "height": 235
        }
      },
      "source": [
        "# Selecting values from a DataFrame where a boolean condition is me\n",
        "dataframe[dataframe>0]"
      ],
      "execution_count": 0,
      "outputs": [
        {
          "output_type": "execute_result",
          "data": {
            "text/html": [
              "<div>\n",
              "<style scoped>\n",
              "    .dataframe tbody tr th:only-of-type {\n",
              "        vertical-align: middle;\n",
              "    }\n",
              "\n",
              "    .dataframe tbody tr th {\n",
              "        vertical-align: top;\n",
              "    }\n",
              "\n",
              "    .dataframe thead th {\n",
              "        text-align: right;\n",
              "    }\n",
              "</style>\n",
              "<table border=\"1\" class=\"dataframe\">\n",
              "  <thead>\n",
              "    <tr style=\"text-align: right;\">\n",
              "      <th></th>\n",
              "      <th>A</th>\n",
              "      <th>B</th>\n",
              "      <th>C</th>\n",
              "      <th>D</th>\n",
              "    </tr>\n",
              "  </thead>\n",
              "  <tbody>\n",
              "    <tr>\n",
              "      <th>2019-12-21</th>\n",
              "      <td>0.520897</td>\n",
              "      <td>0.775810</td>\n",
              "      <td>NaN</td>\n",
              "      <td>0.844287</td>\n",
              "    </tr>\n",
              "    <tr>\n",
              "      <th>2019-12-22</th>\n",
              "      <td>NaN</td>\n",
              "      <td>2.216440</td>\n",
              "      <td>NaN</td>\n",
              "      <td>0.681906</td>\n",
              "    </tr>\n",
              "    <tr>\n",
              "      <th>2019-12-23</th>\n",
              "      <td>NaN</td>\n",
              "      <td>0.889967</td>\n",
              "      <td>NaN</td>\n",
              "      <td>0.134976</td>\n",
              "    </tr>\n",
              "    <tr>\n",
              "      <th>2019-12-24</th>\n",
              "      <td>NaN</td>\n",
              "      <td>NaN</td>\n",
              "      <td>NaN</td>\n",
              "      <td>0.299982</td>\n",
              "    </tr>\n",
              "    <tr>\n",
              "      <th>2019-12-25</th>\n",
              "      <td>NaN</td>\n",
              "      <td>0.784850</td>\n",
              "      <td>1.581519</td>\n",
              "      <td>NaN</td>\n",
              "    </tr>\n",
              "    <tr>\n",
              "      <th>2019-12-26</th>\n",
              "      <td>0.488074</td>\n",
              "      <td>NaN</td>\n",
              "      <td>1.697558</td>\n",
              "      <td>0.179766</td>\n",
              "    </tr>\n",
              "  </tbody>\n",
              "</table>\n",
              "</div>"
            ],
            "text/plain": [
              "                   A         B         C         D\n",
              "2019-12-21  0.520897  0.775810       NaN  0.844287\n",
              "2019-12-22       NaN  2.216440       NaN  0.681906\n",
              "2019-12-23       NaN  0.889967       NaN  0.134976\n",
              "2019-12-24       NaN       NaN       NaN  0.299982\n",
              "2019-12-25       NaN  0.784850  1.581519       NaN\n",
              "2019-12-26  0.488074       NaN  1.697558  0.179766"
            ]
          },
          "metadata": {
            "tags": []
          },
          "execution_count": 37
        }
      ]
    },
    {
      "cell_type": "code",
      "metadata": {
        "id": "ypBZF_ePSM9Z",
        "colab_type": "code",
        "outputId": "ff979921-0baf-4c0e-dbc0-87a48974c561",
        "colab": {
          "base_uri": "https://localhost:8080/",
          "height": 34
        }
      },
      "source": [
        "df2=dataframe.copy()\n",
        "df2['E']=['one','one','two','three','four','three']\n",
        "df2.head()\n",
        "df2.iat[1,4]"
      ],
      "execution_count": 0,
      "outputs": [
        {
          "output_type": "execute_result",
          "data": {
            "text/plain": [
              "'one'"
            ]
          },
          "metadata": {
            "tags": []
          },
          "execution_count": 38
        }
      ]
    },
    {
      "cell_type": "code",
      "metadata": {
        "id": "Bs6etw9PS66n",
        "colab_type": "code",
        "outputId": "6fb137c1-bda2-4aef-9c2d-bbcb144106d3",
        "colab": {
          "base_uri": "https://localhost:8080/",
          "height": 111
        }
      },
      "source": [
        "df2[df2['E'].isin(['two','four'])]"
      ],
      "execution_count": 0,
      "outputs": [
        {
          "output_type": "execute_result",
          "data": {
            "text/html": [
              "<div>\n",
              "<style scoped>\n",
              "    .dataframe tbody tr th:only-of-type {\n",
              "        vertical-align: middle;\n",
              "    }\n",
              "\n",
              "    .dataframe tbody tr th {\n",
              "        vertical-align: top;\n",
              "    }\n",
              "\n",
              "    .dataframe thead th {\n",
              "        text-align: right;\n",
              "    }\n",
              "</style>\n",
              "<table border=\"1\" class=\"dataframe\">\n",
              "  <thead>\n",
              "    <tr style=\"text-align: right;\">\n",
              "      <th></th>\n",
              "      <th>A</th>\n",
              "      <th>B</th>\n",
              "      <th>C</th>\n",
              "      <th>D</th>\n",
              "      <th>E</th>\n",
              "    </tr>\n",
              "  </thead>\n",
              "  <tbody>\n",
              "    <tr>\n",
              "      <th>2019-12-23</th>\n",
              "      <td>-0.183717</td>\n",
              "      <td>0.889967</td>\n",
              "      <td>-0.143970</td>\n",
              "      <td>0.134976</td>\n",
              "      <td>two</td>\n",
              "    </tr>\n",
              "    <tr>\n",
              "      <th>2019-12-25</th>\n",
              "      <td>-0.430264</td>\n",
              "      <td>0.784850</td>\n",
              "      <td>1.581519</td>\n",
              "      <td>-0.686131</td>\n",
              "      <td>four</td>\n",
              "    </tr>\n",
              "  </tbody>\n",
              "</table>\n",
              "</div>"
            ],
            "text/plain": [
              "                   A         B         C         D     E\n",
              "2019-12-23 -0.183717  0.889967 -0.143970  0.134976   two\n",
              "2019-12-25 -0.430264  0.784850  1.581519 -0.686131  four"
            ]
          },
          "metadata": {
            "tags": []
          },
          "execution_count": 39
        }
      ]
    },
    {
      "cell_type": "markdown",
      "metadata": {
        "id": "kKtTvMKUVcXH",
        "colab_type": "text"
      },
      "source": [
        "### Missing Data"
      ]
    },
    {
      "cell_type": "code",
      "metadata": {
        "id": "tp9NF5rPVhg6",
        "colab_type": "code",
        "outputId": "5213a970-5638-43ca-9791-4a96b1fc19e8",
        "colab": {
          "base_uri": "https://localhost:8080/",
          "height": 297
        }
      },
      "source": [
        "df2.describe()"
      ],
      "execution_count": 0,
      "outputs": [
        {
          "output_type": "execute_result",
          "data": {
            "text/html": [
              "<div>\n",
              "<style scoped>\n",
              "    .dataframe tbody tr th:only-of-type {\n",
              "        vertical-align: middle;\n",
              "    }\n",
              "\n",
              "    .dataframe tbody tr th {\n",
              "        vertical-align: top;\n",
              "    }\n",
              "\n",
              "    .dataframe thead th {\n",
              "        text-align: right;\n",
              "    }\n",
              "</style>\n",
              "<table border=\"1\" class=\"dataframe\">\n",
              "  <thead>\n",
              "    <tr style=\"text-align: right;\">\n",
              "      <th></th>\n",
              "      <th>A</th>\n",
              "      <th>B</th>\n",
              "      <th>C</th>\n",
              "      <th>D</th>\n",
              "    </tr>\n",
              "  </thead>\n",
              "  <tbody>\n",
              "    <tr>\n",
              "      <th>count</th>\n",
              "      <td>6.000000</td>\n",
              "      <td>6.000000</td>\n",
              "      <td>6.000000</td>\n",
              "      <td>6.000000</td>\n",
              "    </tr>\n",
              "    <tr>\n",
              "      <th>mean</th>\n",
              "      <td>0.023116</td>\n",
              "      <td>0.505727</td>\n",
              "      <td>0.353036</td>\n",
              "      <td>0.242464</td>\n",
              "    </tr>\n",
              "    <tr>\n",
              "      <th>std</th>\n",
              "      <td>0.397532</td>\n",
              "      <td>1.173988</td>\n",
              "      <td>1.018688</td>\n",
              "      <td>0.535982</td>\n",
              "    </tr>\n",
              "    <tr>\n",
              "      <th>min</th>\n",
              "      <td>-0.430264</td>\n",
              "      <td>-1.108244</td>\n",
              "      <td>-0.644395</td>\n",
              "      <td>-0.686131</td>\n",
              "    </tr>\n",
              "    <tr>\n",
              "      <th>25%</th>\n",
              "      <td>-0.237046</td>\n",
              "      <td>-0.199396</td>\n",
              "      <td>-0.292091</td>\n",
              "      <td>0.146174</td>\n",
              "    </tr>\n",
              "    <tr>\n",
              "      <th>50%</th>\n",
              "      <td>-0.092595</td>\n",
              "      <td>0.780330</td>\n",
              "      <td>-0.087500</td>\n",
              "      <td>0.239874</td>\n",
              "    </tr>\n",
              "    <tr>\n",
              "      <th>75%</th>\n",
              "      <td>0.365687</td>\n",
              "      <td>0.863688</td>\n",
              "      <td>1.178382</td>\n",
              "      <td>0.586425</td>\n",
              "    </tr>\n",
              "    <tr>\n",
              "      <th>max</th>\n",
              "      <td>0.520897</td>\n",
              "      <td>2.216440</td>\n",
              "      <td>1.697558</td>\n",
              "      <td>0.844287</td>\n",
              "    </tr>\n",
              "  </tbody>\n",
              "</table>\n",
              "</div>"
            ],
            "text/plain": [
              "              A         B         C         D\n",
              "count  6.000000  6.000000  6.000000  6.000000\n",
              "mean   0.023116  0.505727  0.353036  0.242464\n",
              "std    0.397532  1.173988  1.018688  0.535982\n",
              "min   -0.430264 -1.108244 -0.644395 -0.686131\n",
              "25%   -0.237046 -0.199396 -0.292091  0.146174\n",
              "50%   -0.092595  0.780330 -0.087500  0.239874\n",
              "75%    0.365687  0.863688  1.178382  0.586425\n",
              "max    0.520897  2.216440  1.697558  0.844287"
            ]
          },
          "metadata": {
            "tags": []
          },
          "execution_count": 40
        }
      ]
    },
    {
      "cell_type": "code",
      "metadata": {
        "id": "HS04u8CbV5Ki",
        "colab_type": "code",
        "outputId": "dce5add0-1e02-42ce-cb12-3f61798b01ed",
        "colab": {
          "base_uri": "https://localhost:8080/",
          "height": 204
        }
      },
      "source": [
        "df2.head()"
      ],
      "execution_count": 0,
      "outputs": [
        {
          "output_type": "execute_result",
          "data": {
            "text/html": [
              "<div>\n",
              "<style scoped>\n",
              "    .dataframe tbody tr th:only-of-type {\n",
              "        vertical-align: middle;\n",
              "    }\n",
              "\n",
              "    .dataframe tbody tr th {\n",
              "        vertical-align: top;\n",
              "    }\n",
              "\n",
              "    .dataframe thead th {\n",
              "        text-align: right;\n",
              "    }\n",
              "</style>\n",
              "<table border=\"1\" class=\"dataframe\">\n",
              "  <thead>\n",
              "    <tr style=\"text-align: right;\">\n",
              "      <th></th>\n",
              "      <th>A</th>\n",
              "      <th>B</th>\n",
              "      <th>C</th>\n",
              "      <th>D</th>\n",
              "      <th>E</th>\n",
              "    </tr>\n",
              "  </thead>\n",
              "  <tbody>\n",
              "    <tr>\n",
              "      <th>2019-12-21</th>\n",
              "      <td>0.520897</td>\n",
              "      <td>0.775810</td>\n",
              "      <td>-0.341465</td>\n",
              "      <td>0.844287</td>\n",
              "      <td>one</td>\n",
              "    </tr>\n",
              "    <tr>\n",
              "      <th>2019-12-22</th>\n",
              "      <td>-0.254823</td>\n",
              "      <td>2.216440</td>\n",
              "      <td>-0.644395</td>\n",
              "      <td>0.681906</td>\n",
              "      <td>one</td>\n",
              "    </tr>\n",
              "    <tr>\n",
              "      <th>2019-12-23</th>\n",
              "      <td>-0.183717</td>\n",
              "      <td>0.889967</td>\n",
              "      <td>-0.143970</td>\n",
              "      <td>0.134976</td>\n",
              "      <td>two</td>\n",
              "    </tr>\n",
              "    <tr>\n",
              "      <th>2019-12-24</th>\n",
              "      <td>-0.001472</td>\n",
              "      <td>-0.524464</td>\n",
              "      <td>-0.031030</td>\n",
              "      <td>0.299982</td>\n",
              "      <td>three</td>\n",
              "    </tr>\n",
              "    <tr>\n",
              "      <th>2019-12-25</th>\n",
              "      <td>-0.430264</td>\n",
              "      <td>0.784850</td>\n",
              "      <td>1.581519</td>\n",
              "      <td>-0.686131</td>\n",
              "      <td>four</td>\n",
              "    </tr>\n",
              "  </tbody>\n",
              "</table>\n",
              "</div>"
            ],
            "text/plain": [
              "                   A         B         C         D      E\n",
              "2019-12-21  0.520897  0.775810 -0.341465  0.844287    one\n",
              "2019-12-22 -0.254823  2.216440 -0.644395  0.681906    one\n",
              "2019-12-23 -0.183717  0.889967 -0.143970  0.134976    two\n",
              "2019-12-24 -0.001472 -0.524464 -0.031030  0.299982  three\n",
              "2019-12-25 -0.430264  0.784850  1.581519 -0.686131   four"
            ]
          },
          "metadata": {
            "tags": []
          },
          "execution_count": 41
        }
      ]
    },
    {
      "cell_type": "code",
      "metadata": {
        "id": "40e3XgClWOuU",
        "colab_type": "code",
        "outputId": "67a10791-42da-4b9e-bbd8-ecd6ef563634",
        "colab": {
          "base_uri": "https://localhost:8080/",
          "height": 204
        }
      },
      "source": [
        "df2=dataframe.copy()\n",
        "df2.loc[:, 'F'] = np.array([5] * len(df2))\n",
        "df2.at['20191221','F']=np.NaN\n",
        "# df.at works with label based indexing\n",
        "# df.iat works with pandas indexing\n",
        "df2.head()"
      ],
      "execution_count": 0,
      "outputs": [
        {
          "output_type": "execute_result",
          "data": {
            "text/html": [
              "<div>\n",
              "<style scoped>\n",
              "    .dataframe tbody tr th:only-of-type {\n",
              "        vertical-align: middle;\n",
              "    }\n",
              "\n",
              "    .dataframe tbody tr th {\n",
              "        vertical-align: top;\n",
              "    }\n",
              "\n",
              "    .dataframe thead th {\n",
              "        text-align: right;\n",
              "    }\n",
              "</style>\n",
              "<table border=\"1\" class=\"dataframe\">\n",
              "  <thead>\n",
              "    <tr style=\"text-align: right;\">\n",
              "      <th></th>\n",
              "      <th>A</th>\n",
              "      <th>B</th>\n",
              "      <th>C</th>\n",
              "      <th>D</th>\n",
              "      <th>F</th>\n",
              "    </tr>\n",
              "  </thead>\n",
              "  <tbody>\n",
              "    <tr>\n",
              "      <th>2019-12-21</th>\n",
              "      <td>0.520897</td>\n",
              "      <td>0.775810</td>\n",
              "      <td>-0.341465</td>\n",
              "      <td>0.844287</td>\n",
              "      <td>NaN</td>\n",
              "    </tr>\n",
              "    <tr>\n",
              "      <th>2019-12-22</th>\n",
              "      <td>-0.254823</td>\n",
              "      <td>2.216440</td>\n",
              "      <td>-0.644395</td>\n",
              "      <td>0.681906</td>\n",
              "      <td>5.0</td>\n",
              "    </tr>\n",
              "    <tr>\n",
              "      <th>2019-12-23</th>\n",
              "      <td>-0.183717</td>\n",
              "      <td>0.889967</td>\n",
              "      <td>-0.143970</td>\n",
              "      <td>0.134976</td>\n",
              "      <td>5.0</td>\n",
              "    </tr>\n",
              "    <tr>\n",
              "      <th>2019-12-24</th>\n",
              "      <td>-0.001472</td>\n",
              "      <td>-0.524464</td>\n",
              "      <td>-0.031030</td>\n",
              "      <td>0.299982</td>\n",
              "      <td>5.0</td>\n",
              "    </tr>\n",
              "    <tr>\n",
              "      <th>2019-12-25</th>\n",
              "      <td>-0.430264</td>\n",
              "      <td>0.784850</td>\n",
              "      <td>1.581519</td>\n",
              "      <td>-0.686131</td>\n",
              "      <td>5.0</td>\n",
              "    </tr>\n",
              "  </tbody>\n",
              "</table>\n",
              "</div>"
            ],
            "text/plain": [
              "                   A         B         C         D    F\n",
              "2019-12-21  0.520897  0.775810 -0.341465  0.844287  NaN\n",
              "2019-12-22 -0.254823  2.216440 -0.644395  0.681906  5.0\n",
              "2019-12-23 -0.183717  0.889967 -0.143970  0.134976  5.0\n",
              "2019-12-24 -0.001472 -0.524464 -0.031030  0.299982  5.0\n",
              "2019-12-25 -0.430264  0.784850  1.581519 -0.686131  5.0"
            ]
          },
          "metadata": {
            "tags": []
          },
          "execution_count": 43
        }
      ]
    },
    {
      "cell_type": "code",
      "metadata": {
        "id": "WUgGP52tXvZr",
        "colab_type": "code",
        "outputId": "84ac032b-aab6-4186-e493-b4c79cfadc55",
        "colab": {
          "base_uri": "https://localhost:8080/",
          "height": 235
        }
      },
      "source": [
        "# df2.dropna(how='any')\n",
        "df2.fillna(value=df2.F.mean())"
      ],
      "execution_count": 0,
      "outputs": [
        {
          "output_type": "execute_result",
          "data": {
            "text/html": [
              "<div>\n",
              "<style scoped>\n",
              "    .dataframe tbody tr th:only-of-type {\n",
              "        vertical-align: middle;\n",
              "    }\n",
              "\n",
              "    .dataframe tbody tr th {\n",
              "        vertical-align: top;\n",
              "    }\n",
              "\n",
              "    .dataframe thead th {\n",
              "        text-align: right;\n",
              "    }\n",
              "</style>\n",
              "<table border=\"1\" class=\"dataframe\">\n",
              "  <thead>\n",
              "    <tr style=\"text-align: right;\">\n",
              "      <th></th>\n",
              "      <th>A</th>\n",
              "      <th>B</th>\n",
              "      <th>C</th>\n",
              "      <th>D</th>\n",
              "      <th>F</th>\n",
              "    </tr>\n",
              "  </thead>\n",
              "  <tbody>\n",
              "    <tr>\n",
              "      <th>2019-12-21</th>\n",
              "      <td>0.520897</td>\n",
              "      <td>0.775810</td>\n",
              "      <td>-0.341465</td>\n",
              "      <td>0.844287</td>\n",
              "      <td>5.0</td>\n",
              "    </tr>\n",
              "    <tr>\n",
              "      <th>2019-12-22</th>\n",
              "      <td>-0.254823</td>\n",
              "      <td>2.216440</td>\n",
              "      <td>-0.644395</td>\n",
              "      <td>0.681906</td>\n",
              "      <td>5.0</td>\n",
              "    </tr>\n",
              "    <tr>\n",
              "      <th>2019-12-23</th>\n",
              "      <td>-0.183717</td>\n",
              "      <td>0.889967</td>\n",
              "      <td>-0.143970</td>\n",
              "      <td>0.134976</td>\n",
              "      <td>5.0</td>\n",
              "    </tr>\n",
              "    <tr>\n",
              "      <th>2019-12-24</th>\n",
              "      <td>-0.001472</td>\n",
              "      <td>-0.524464</td>\n",
              "      <td>-0.031030</td>\n",
              "      <td>0.299982</td>\n",
              "      <td>5.0</td>\n",
              "    </tr>\n",
              "    <tr>\n",
              "      <th>2019-12-25</th>\n",
              "      <td>-0.430264</td>\n",
              "      <td>0.784850</td>\n",
              "      <td>1.581519</td>\n",
              "      <td>-0.686131</td>\n",
              "      <td>5.0</td>\n",
              "    </tr>\n",
              "    <tr>\n",
              "      <th>2019-12-26</th>\n",
              "      <td>0.488074</td>\n",
              "      <td>-1.108244</td>\n",
              "      <td>1.697558</td>\n",
              "      <td>0.179766</td>\n",
              "      <td>5.0</td>\n",
              "    </tr>\n",
              "  </tbody>\n",
              "</table>\n",
              "</div>"
            ],
            "text/plain": [
              "                   A         B         C         D    F\n",
              "2019-12-21  0.520897  0.775810 -0.341465  0.844287  5.0\n",
              "2019-12-22 -0.254823  2.216440 -0.644395  0.681906  5.0\n",
              "2019-12-23 -0.183717  0.889967 -0.143970  0.134976  5.0\n",
              "2019-12-24 -0.001472 -0.524464 -0.031030  0.299982  5.0\n",
              "2019-12-25 -0.430264  0.784850  1.581519 -0.686131  5.0\n",
              "2019-12-26  0.488074 -1.108244  1.697558  0.179766  5.0"
            ]
          },
          "metadata": {
            "tags": []
          },
          "execution_count": 44
        }
      ]
    },
    {
      "cell_type": "markdown",
      "metadata": {
        "id": "I5eREYo9LAEw",
        "colab_type": "text"
      },
      "source": [
        "##Stats\n",
        "\n"
      ]
    },
    {
      "cell_type": "code",
      "metadata": {
        "id": "-i1wq5sRLDzk",
        "colab_type": "code",
        "outputId": "4485b6c0-ecda-4bd5-ea98-8141cd96f55f",
        "colab": {
          "base_uri": "https://localhost:8080/",
          "height": 102
        }
      },
      "source": [
        "dataframe.mean()"
      ],
      "execution_count": 0,
      "outputs": [
        {
          "output_type": "execute_result",
          "data": {
            "text/plain": [
              "A    0.023116\n",
              "B    0.505727\n",
              "C    0.353036\n",
              "D    0.242464\n",
              "dtype: float64"
            ]
          },
          "metadata": {
            "tags": []
          },
          "execution_count": 45
        }
      ]
    },
    {
      "cell_type": "code",
      "metadata": {
        "id": "8vvmSkYnLTAa",
        "colab_type": "code",
        "outputId": "e2f6224f-fd20-499e-8b1c-4e41b49ea94a",
        "colab": {
          "base_uri": "https://localhost:8080/",
          "height": 136
        }
      },
      "source": [
        "dataframe.mean(1)"
      ],
      "execution_count": 0,
      "outputs": [
        {
          "output_type": "execute_result",
          "data": {
            "text/plain": [
              "2019-12-21    0.449882\n",
              "2019-12-22    0.499782\n",
              "2019-12-23    0.174314\n",
              "2019-12-24   -0.064246\n",
              "2019-12-25    0.312493\n",
              "2019-12-26    0.314288\n",
              "Freq: D, dtype: float64"
            ]
          },
          "metadata": {
            "tags": []
          },
          "execution_count": 46
        }
      ]
    },
    {
      "cell_type": "code",
      "metadata": {
        "id": "QfKr68cVLan7",
        "colab_type": "code",
        "outputId": "5286f82c-5586-4479-dda4-542138900b7d",
        "colab": {
          "base_uri": "https://localhost:8080/",
          "height": 136
        }
      },
      "source": [
        "s=pd.Series([1,3,5,np.nan,6,8],index=dates)\n",
        "\n",
        "s "
      ],
      "execution_count": 0,
      "outputs": [
        {
          "output_type": "execute_result",
          "data": {
            "text/plain": [
              "2019-12-21    1.0\n",
              "2019-12-22    3.0\n",
              "2019-12-23    5.0\n",
              "2019-12-24    NaN\n",
              "2019-12-25    6.0\n",
              "2019-12-26    8.0\n",
              "Freq: D, dtype: float64"
            ]
          },
          "metadata": {
            "tags": []
          },
          "execution_count": 53
        }
      ]
    },
    {
      "cell_type": "code",
      "metadata": {
        "id": "2Io20lDDMtqJ",
        "colab_type": "code",
        "outputId": "1778e5c8-aeb7-4762-db6f-50b22641cf04",
        "colab": {
          "base_uri": "https://localhost:8080/",
          "height": 136
        }
      },
      "source": [
        "s1=pd.Series([1,3,5,np.nan,6,8],index=dates).shift(3)\n",
        "s1"
      ],
      "execution_count": 0,
      "outputs": [
        {
          "output_type": "execute_result",
          "data": {
            "text/plain": [
              "2019-12-21    NaN\n",
              "2019-12-22    NaN\n",
              "2019-12-23    NaN\n",
              "2019-12-24    1.0\n",
              "2019-12-25    3.0\n",
              "2019-12-26    5.0\n",
              "Freq: D, dtype: float64"
            ]
          },
          "metadata": {
            "tags": []
          },
          "execution_count": 54
        }
      ]
    },
    {
      "cell_type": "code",
      "metadata": {
        "id": "3yzYlKlRNHiS",
        "colab_type": "code",
        "outputId": "9c210da4-39af-4baf-b0a7-a8ca0d59025f",
        "colab": {
          "base_uri": "https://localhost:8080/",
          "height": 235
        }
      },
      "source": [
        "# dataframe.sub() function is used for finding the subtraction of dataframe \n",
        "dataframe.sub(s,axis='index')"
      ],
      "execution_count": 0,
      "outputs": [
        {
          "output_type": "execute_result",
          "data": {
            "text/html": [
              "<div>\n",
              "<style scoped>\n",
              "    .dataframe tbody tr th:only-of-type {\n",
              "        vertical-align: middle;\n",
              "    }\n",
              "\n",
              "    .dataframe tbody tr th {\n",
              "        vertical-align: top;\n",
              "    }\n",
              "\n",
              "    .dataframe thead th {\n",
              "        text-align: right;\n",
              "    }\n",
              "</style>\n",
              "<table border=\"1\" class=\"dataframe\">\n",
              "  <thead>\n",
              "    <tr style=\"text-align: right;\">\n",
              "      <th></th>\n",
              "      <th>A</th>\n",
              "      <th>B</th>\n",
              "      <th>C</th>\n",
              "      <th>D</th>\n",
              "    </tr>\n",
              "  </thead>\n",
              "  <tbody>\n",
              "    <tr>\n",
              "      <th>2019-12-21</th>\n",
              "      <td>-0.479103</td>\n",
              "      <td>-0.224190</td>\n",
              "      <td>-1.341465</td>\n",
              "      <td>-0.155713</td>\n",
              "    </tr>\n",
              "    <tr>\n",
              "      <th>2019-12-22</th>\n",
              "      <td>-3.254823</td>\n",
              "      <td>-0.783560</td>\n",
              "      <td>-3.644395</td>\n",
              "      <td>-2.318094</td>\n",
              "    </tr>\n",
              "    <tr>\n",
              "      <th>2019-12-23</th>\n",
              "      <td>-5.183717</td>\n",
              "      <td>-4.110033</td>\n",
              "      <td>-5.143970</td>\n",
              "      <td>-4.865024</td>\n",
              "    </tr>\n",
              "    <tr>\n",
              "      <th>2019-12-24</th>\n",
              "      <td>NaN</td>\n",
              "      <td>NaN</td>\n",
              "      <td>NaN</td>\n",
              "      <td>NaN</td>\n",
              "    </tr>\n",
              "    <tr>\n",
              "      <th>2019-12-25</th>\n",
              "      <td>-6.430264</td>\n",
              "      <td>-5.215150</td>\n",
              "      <td>-4.418481</td>\n",
              "      <td>-6.686131</td>\n",
              "    </tr>\n",
              "    <tr>\n",
              "      <th>2019-12-26</th>\n",
              "      <td>-7.511926</td>\n",
              "      <td>-9.108244</td>\n",
              "      <td>-6.302442</td>\n",
              "      <td>-7.820234</td>\n",
              "    </tr>\n",
              "  </tbody>\n",
              "</table>\n",
              "</div>"
            ],
            "text/plain": [
              "                   A         B         C         D\n",
              "2019-12-21 -0.479103 -0.224190 -1.341465 -0.155713\n",
              "2019-12-22 -3.254823 -0.783560 -3.644395 -2.318094\n",
              "2019-12-23 -5.183717 -4.110033 -5.143970 -4.865024\n",
              "2019-12-24       NaN       NaN       NaN       NaN\n",
              "2019-12-25 -6.430264 -5.215150 -4.418481 -6.686131\n",
              "2019-12-26 -7.511926 -9.108244 -6.302442 -7.820234"
            ]
          },
          "metadata": {
            "tags": []
          },
          "execution_count": 58
        }
      ]
    },
    {
      "cell_type": "markdown",
      "metadata": {
        "id": "GAwcfLeqODBe",
        "colab_type": "text"
      },
      "source": [
        "## Apply"
      ]
    },
    {
      "cell_type": "code",
      "metadata": {
        "id": "SlOI2uTDOiCc",
        "colab_type": "code",
        "outputId": "2e718790-dfb4-41cb-9a5f-ad0ce5df3d15",
        "colab": {
          "base_uri": "https://localhost:8080/",
          "height": 204
        }
      },
      "source": [
        "dataframe.head()"
      ],
      "execution_count": 0,
      "outputs": [
        {
          "output_type": "execute_result",
          "data": {
            "text/html": [
              "<div>\n",
              "<style scoped>\n",
              "    .dataframe tbody tr th:only-of-type {\n",
              "        vertical-align: middle;\n",
              "    }\n",
              "\n",
              "    .dataframe tbody tr th {\n",
              "        vertical-align: top;\n",
              "    }\n",
              "\n",
              "    .dataframe thead th {\n",
              "        text-align: right;\n",
              "    }\n",
              "</style>\n",
              "<table border=\"1\" class=\"dataframe\">\n",
              "  <thead>\n",
              "    <tr style=\"text-align: right;\">\n",
              "      <th></th>\n",
              "      <th>A</th>\n",
              "      <th>B</th>\n",
              "      <th>C</th>\n",
              "      <th>D</th>\n",
              "    </tr>\n",
              "  </thead>\n",
              "  <tbody>\n",
              "    <tr>\n",
              "      <th>2019-12-21</th>\n",
              "      <td>0.520897</td>\n",
              "      <td>0.775810</td>\n",
              "      <td>-0.341465</td>\n",
              "      <td>0.844287</td>\n",
              "    </tr>\n",
              "    <tr>\n",
              "      <th>2019-12-22</th>\n",
              "      <td>-0.254823</td>\n",
              "      <td>2.216440</td>\n",
              "      <td>-0.644395</td>\n",
              "      <td>0.681906</td>\n",
              "    </tr>\n",
              "    <tr>\n",
              "      <th>2019-12-23</th>\n",
              "      <td>-0.183717</td>\n",
              "      <td>0.889967</td>\n",
              "      <td>-0.143970</td>\n",
              "      <td>0.134976</td>\n",
              "    </tr>\n",
              "    <tr>\n",
              "      <th>2019-12-24</th>\n",
              "      <td>-0.001472</td>\n",
              "      <td>-0.524464</td>\n",
              "      <td>-0.031030</td>\n",
              "      <td>0.299982</td>\n",
              "    </tr>\n",
              "    <tr>\n",
              "      <th>2019-12-25</th>\n",
              "      <td>-0.430264</td>\n",
              "      <td>0.784850</td>\n",
              "      <td>1.581519</td>\n",
              "      <td>-0.686131</td>\n",
              "    </tr>\n",
              "  </tbody>\n",
              "</table>\n",
              "</div>"
            ],
            "text/plain": [
              "                   A         B         C         D\n",
              "2019-12-21  0.520897  0.775810 -0.341465  0.844287\n",
              "2019-12-22 -0.254823  2.216440 -0.644395  0.681906\n",
              "2019-12-23 -0.183717  0.889967 -0.143970  0.134976\n",
              "2019-12-24 -0.001472 -0.524464 -0.031030  0.299982\n",
              "2019-12-25 -0.430264  0.784850  1.581519 -0.686131"
            ]
          },
          "metadata": {
            "tags": []
          },
          "execution_count": 61
        }
      ]
    },
    {
      "cell_type": "code",
      "metadata": {
        "id": "ckDjKxoVOBdY",
        "colab_type": "code",
        "outputId": "48f67c88-e4ad-4e3e-ca5e-910c0cca994b",
        "colab": {
          "base_uri": "https://localhost:8080/",
          "height": 235
        }
      },
      "source": [
        "dataframe.apply(np.cumsum)"
      ],
      "execution_count": 0,
      "outputs": [
        {
          "output_type": "execute_result",
          "data": {
            "text/html": [
              "<div>\n",
              "<style scoped>\n",
              "    .dataframe tbody tr th:only-of-type {\n",
              "        vertical-align: middle;\n",
              "    }\n",
              "\n",
              "    .dataframe tbody tr th {\n",
              "        vertical-align: top;\n",
              "    }\n",
              "\n",
              "    .dataframe thead th {\n",
              "        text-align: right;\n",
              "    }\n",
              "</style>\n",
              "<table border=\"1\" class=\"dataframe\">\n",
              "  <thead>\n",
              "    <tr style=\"text-align: right;\">\n",
              "      <th></th>\n",
              "      <th>A</th>\n",
              "      <th>B</th>\n",
              "      <th>C</th>\n",
              "      <th>D</th>\n",
              "    </tr>\n",
              "  </thead>\n",
              "  <tbody>\n",
              "    <tr>\n",
              "      <th>2019-12-21</th>\n",
              "      <td>0.520897</td>\n",
              "      <td>0.775810</td>\n",
              "      <td>-0.341465</td>\n",
              "      <td>0.844287</td>\n",
              "    </tr>\n",
              "    <tr>\n",
              "      <th>2019-12-22</th>\n",
              "      <td>0.266074</td>\n",
              "      <td>2.992251</td>\n",
              "      <td>-0.985859</td>\n",
              "      <td>1.526193</td>\n",
              "    </tr>\n",
              "    <tr>\n",
              "      <th>2019-12-23</th>\n",
              "      <td>0.082357</td>\n",
              "      <td>3.882218</td>\n",
              "      <td>-1.129829</td>\n",
              "      <td>1.661169</td>\n",
              "    </tr>\n",
              "    <tr>\n",
              "      <th>2019-12-24</th>\n",
              "      <td>0.080884</td>\n",
              "      <td>3.357754</td>\n",
              "      <td>-1.160860</td>\n",
              "      <td>1.961152</td>\n",
              "    </tr>\n",
              "    <tr>\n",
              "      <th>2019-12-25</th>\n",
              "      <td>-0.349380</td>\n",
              "      <td>4.142604</td>\n",
              "      <td>0.420660</td>\n",
              "      <td>1.275020</td>\n",
              "    </tr>\n",
              "    <tr>\n",
              "      <th>2019-12-26</th>\n",
              "      <td>0.138694</td>\n",
              "      <td>3.034359</td>\n",
              "      <td>2.118217</td>\n",
              "      <td>1.454786</td>\n",
              "    </tr>\n",
              "  </tbody>\n",
              "</table>\n",
              "</div>"
            ],
            "text/plain": [
              "                   A         B         C         D\n",
              "2019-12-21  0.520897  0.775810 -0.341465  0.844287\n",
              "2019-12-22  0.266074  2.992251 -0.985859  1.526193\n",
              "2019-12-23  0.082357  3.882218 -1.129829  1.661169\n",
              "2019-12-24  0.080884  3.357754 -1.160860  1.961152\n",
              "2019-12-25 -0.349380  4.142604  0.420660  1.275020\n",
              "2019-12-26  0.138694  3.034359  2.118217  1.454786"
            ]
          },
          "metadata": {
            "tags": []
          },
          "execution_count": 60
        }
      ]
    },
    {
      "cell_type": "code",
      "metadata": {
        "id": "O4ykNflEOtuN",
        "colab_type": "code",
        "outputId": "9af1ca03-9f1c-4c37-e5bc-679250e6b406",
        "colab": {
          "base_uri": "https://localhost:8080/",
          "height": 204
        }
      },
      "source": [
        "dataframe.head()\n"
      ],
      "execution_count": 0,
      "outputs": [
        {
          "output_type": "execute_result",
          "data": {
            "text/html": [
              "<div>\n",
              "<style scoped>\n",
              "    .dataframe tbody tr th:only-of-type {\n",
              "        vertical-align: middle;\n",
              "    }\n",
              "\n",
              "    .dataframe tbody tr th {\n",
              "        vertical-align: top;\n",
              "    }\n",
              "\n",
              "    .dataframe thead th {\n",
              "        text-align: right;\n",
              "    }\n",
              "</style>\n",
              "<table border=\"1\" class=\"dataframe\">\n",
              "  <thead>\n",
              "    <tr style=\"text-align: right;\">\n",
              "      <th></th>\n",
              "      <th>A</th>\n",
              "      <th>B</th>\n",
              "      <th>C</th>\n",
              "      <th>D</th>\n",
              "    </tr>\n",
              "  </thead>\n",
              "  <tbody>\n",
              "    <tr>\n",
              "      <th>2019-12-21</th>\n",
              "      <td>0.520897</td>\n",
              "      <td>0.775810</td>\n",
              "      <td>-0.341465</td>\n",
              "      <td>0.844287</td>\n",
              "    </tr>\n",
              "    <tr>\n",
              "      <th>2019-12-22</th>\n",
              "      <td>-0.254823</td>\n",
              "      <td>2.216440</td>\n",
              "      <td>-0.644395</td>\n",
              "      <td>0.681906</td>\n",
              "    </tr>\n",
              "    <tr>\n",
              "      <th>2019-12-23</th>\n",
              "      <td>-0.183717</td>\n",
              "      <td>0.889967</td>\n",
              "      <td>-0.143970</td>\n",
              "      <td>0.134976</td>\n",
              "    </tr>\n",
              "    <tr>\n",
              "      <th>2019-12-24</th>\n",
              "      <td>-0.001472</td>\n",
              "      <td>-0.524464</td>\n",
              "      <td>-0.031030</td>\n",
              "      <td>0.299982</td>\n",
              "    </tr>\n",
              "    <tr>\n",
              "      <th>2019-12-25</th>\n",
              "      <td>-0.430264</td>\n",
              "      <td>0.784850</td>\n",
              "      <td>1.581519</td>\n",
              "      <td>-0.686131</td>\n",
              "    </tr>\n",
              "  </tbody>\n",
              "</table>\n",
              "</div>"
            ],
            "text/plain": [
              "                   A         B         C         D\n",
              "2019-12-21  0.520897  0.775810 -0.341465  0.844287\n",
              "2019-12-22 -0.254823  2.216440 -0.644395  0.681906\n",
              "2019-12-23 -0.183717  0.889967 -0.143970  0.134976\n",
              "2019-12-24 -0.001472 -0.524464 -0.031030  0.299982\n",
              "2019-12-25 -0.430264  0.784850  1.581519 -0.686131"
            ]
          },
          "metadata": {
            "tags": []
          },
          "execution_count": 65
        }
      ]
    },
    {
      "cell_type": "code",
      "metadata": {
        "id": "To58Zx6APREG",
        "colab_type": "code",
        "outputId": "1e295531-4c20-4876-88d1-5ac806850bdc",
        "colab": {
          "base_uri": "https://localhost:8080/",
          "height": 102
        }
      },
      "source": [
        "dataframe.apply(lambda x:x.max()-x.min())"
      ],
      "execution_count": 0,
      "outputs": [
        {
          "output_type": "execute_result",
          "data": {
            "text/plain": [
              "A    0.951161\n",
              "B    3.324685\n",
              "C    2.341952\n",
              "D    1.530419\n",
              "dtype: float64"
            ]
          },
          "metadata": {
            "tags": []
          },
          "execution_count": 64
        }
      ]
    },
    {
      "cell_type": "markdown",
      "metadata": {
        "id": "VsrRoqU3PYlG",
        "colab_type": "text"
      },
      "source": [
        "## Histogramming"
      ]
    },
    {
      "cell_type": "code",
      "metadata": {
        "id": "5t3FbA-9PcCK",
        "colab_type": "code",
        "outputId": "5cb81a02-0873-4958-d75a-606c02561e50",
        "colab": {
          "base_uri": "https://localhost:8080/",
          "height": 119
        }
      },
      "source": [
        "s1=pd.Series(np.random.randint(0,7,size=10))\n",
        "s1\n",
        "\n",
        "s1.value_counts(normalize=True)"
      ],
      "execution_count": 0,
      "outputs": [
        {
          "output_type": "execute_result",
          "data": {
            "text/plain": [
              "3    0.3\n",
              "2    0.3\n",
              "1    0.2\n",
              "4    0.1\n",
              "0    0.1\n",
              "dtype: float64"
            ]
          },
          "metadata": {
            "tags": []
          },
          "execution_count": 73
        }
      ]
    },
    {
      "cell_type": "markdown",
      "metadata": {
        "id": "F6ZbMNvYQ7SC",
        "colab_type": "text"
      },
      "source": [
        "## String Methods\n"
      ]
    },
    {
      "cell_type": "code",
      "metadata": {
        "id": "Lor5MWKtQ5dg",
        "colab_type": "code",
        "outputId": "5d3e8a8f-cc99-402a-eb20-91f435f8deee",
        "colab": {
          "base_uri": "https://localhost:8080/",
          "height": 187
        }
      },
      "source": [
        "s=pd.Series(['A','B','C','AaBa','Baca',np.nan,'CABA','dog','cat'])\n",
        "\n",
        "s.str.lower()"
      ],
      "execution_count": 0,
      "outputs": [
        {
          "output_type": "execute_result",
          "data": {
            "text/plain": [
              "0       a\n",
              "1       b\n",
              "2       c\n",
              "3    aaba\n",
              "4    baca\n",
              "5     NaN\n",
              "6    caba\n",
              "7     dog\n",
              "8     cat\n",
              "dtype: object"
            ]
          },
          "metadata": {
            "tags": []
          },
          "execution_count": 75
        }
      ]
    },
    {
      "cell_type": "markdown",
      "metadata": {
        "id": "nh3QJE1_RvJ9",
        "colab_type": "text"
      },
      "source": [
        "##Merge\n",
        "\n",
        "Concat"
      ]
    },
    {
      "cell_type": "code",
      "metadata": {
        "id": "0RInY2FpRzYD",
        "colab_type": "code",
        "outputId": "c6b82e0b-f9cf-4a05-bb67-d3aa3095e3e0",
        "colab": {
          "base_uri": "https://localhost:8080/",
          "height": 648
        }
      },
      "source": [
        "df=pd.DataFrame(np.random.randn(10,4))\n",
        "print(df.head())\n",
        "\n",
        "\n",
        "# break into pieces\n",
        "pieces=[df[:3],df[3:7],df[7:]]\n",
        "print(pieces)\n",
        "\n",
        "\n",
        "pd.concat(pieces)"
      ],
      "execution_count": 0,
      "outputs": [
        {
          "output_type": "stream",
          "text": [
            "          0         1         2         3\n",
            "0  2.155742  0.513675  1.890565 -0.200072\n",
            "1  0.407075 -0.212462  0.072326 -0.318715\n",
            "2  0.611148  0.695148  2.284980  0.621568\n",
            "3 -0.010098 -2.467333  0.105481  1.438556\n",
            "4 -0.691255 -0.344467  1.270555  1.202282\n",
            "[          0         1         2         3\n",
            "0  2.155742  0.513675  1.890565 -0.200072\n",
            "1  0.407075 -0.212462  0.072326 -0.318715\n",
            "2  0.611148  0.695148  2.284980  0.621568,           0         1         2         3\n",
            "3 -0.010098 -2.467333  0.105481  1.438556\n",
            "4 -0.691255 -0.344467  1.270555  1.202282\n",
            "5  1.257381 -2.210297  0.753047  0.227537\n",
            "6  2.285146  2.719626 -1.558184  0.661092,           0         1         2         3\n",
            "7 -0.115636 -0.807115  0.074710  0.071962\n",
            "8 -0.100623  1.367287 -0.371734 -0.006662\n",
            "9 -0.814071 -0.421801 -1.826940  0.707982]\n"
          ],
          "name": "stdout"
        },
        {
          "output_type": "execute_result",
          "data": {
            "text/html": [
              "<div>\n",
              "<style scoped>\n",
              "    .dataframe tbody tr th:only-of-type {\n",
              "        vertical-align: middle;\n",
              "    }\n",
              "\n",
              "    .dataframe tbody tr th {\n",
              "        vertical-align: top;\n",
              "    }\n",
              "\n",
              "    .dataframe thead th {\n",
              "        text-align: right;\n",
              "    }\n",
              "</style>\n",
              "<table border=\"1\" class=\"dataframe\">\n",
              "  <thead>\n",
              "    <tr style=\"text-align: right;\">\n",
              "      <th></th>\n",
              "      <th>0</th>\n",
              "      <th>1</th>\n",
              "      <th>2</th>\n",
              "      <th>3</th>\n",
              "    </tr>\n",
              "  </thead>\n",
              "  <tbody>\n",
              "    <tr>\n",
              "      <th>0</th>\n",
              "      <td>2.155742</td>\n",
              "      <td>0.513675</td>\n",
              "      <td>1.890565</td>\n",
              "      <td>-0.200072</td>\n",
              "    </tr>\n",
              "    <tr>\n",
              "      <th>1</th>\n",
              "      <td>0.407075</td>\n",
              "      <td>-0.212462</td>\n",
              "      <td>0.072326</td>\n",
              "      <td>-0.318715</td>\n",
              "    </tr>\n",
              "    <tr>\n",
              "      <th>2</th>\n",
              "      <td>0.611148</td>\n",
              "      <td>0.695148</td>\n",
              "      <td>2.284980</td>\n",
              "      <td>0.621568</td>\n",
              "    </tr>\n",
              "    <tr>\n",
              "      <th>3</th>\n",
              "      <td>-0.010098</td>\n",
              "      <td>-2.467333</td>\n",
              "      <td>0.105481</td>\n",
              "      <td>1.438556</td>\n",
              "    </tr>\n",
              "    <tr>\n",
              "      <th>4</th>\n",
              "      <td>-0.691255</td>\n",
              "      <td>-0.344467</td>\n",
              "      <td>1.270555</td>\n",
              "      <td>1.202282</td>\n",
              "    </tr>\n",
              "    <tr>\n",
              "      <th>5</th>\n",
              "      <td>1.257381</td>\n",
              "      <td>-2.210297</td>\n",
              "      <td>0.753047</td>\n",
              "      <td>0.227537</td>\n",
              "    </tr>\n",
              "    <tr>\n",
              "      <th>6</th>\n",
              "      <td>2.285146</td>\n",
              "      <td>2.719626</td>\n",
              "      <td>-1.558184</td>\n",
              "      <td>0.661092</td>\n",
              "    </tr>\n",
              "    <tr>\n",
              "      <th>7</th>\n",
              "      <td>-0.115636</td>\n",
              "      <td>-0.807115</td>\n",
              "      <td>0.074710</td>\n",
              "      <td>0.071962</td>\n",
              "    </tr>\n",
              "    <tr>\n",
              "      <th>8</th>\n",
              "      <td>-0.100623</td>\n",
              "      <td>1.367287</td>\n",
              "      <td>-0.371734</td>\n",
              "      <td>-0.006662</td>\n",
              "    </tr>\n",
              "    <tr>\n",
              "      <th>9</th>\n",
              "      <td>-0.814071</td>\n",
              "      <td>-0.421801</td>\n",
              "      <td>-1.826940</td>\n",
              "      <td>0.707982</td>\n",
              "    </tr>\n",
              "  </tbody>\n",
              "</table>\n",
              "</div>"
            ],
            "text/plain": [
              "          0         1         2         3\n",
              "0  2.155742  0.513675  1.890565 -0.200072\n",
              "1  0.407075 -0.212462  0.072326 -0.318715\n",
              "2  0.611148  0.695148  2.284980  0.621568\n",
              "3 -0.010098 -2.467333  0.105481  1.438556\n",
              "4 -0.691255 -0.344467  1.270555  1.202282\n",
              "5  1.257381 -2.210297  0.753047  0.227537\n",
              "6  2.285146  2.719626 -1.558184  0.661092\n",
              "7 -0.115636 -0.807115  0.074710  0.071962\n",
              "8 -0.100623  1.367287 -0.371734 -0.006662\n",
              "9 -0.814071 -0.421801 -1.826940  0.707982"
            ]
          },
          "metadata": {
            "tags": []
          },
          "execution_count": 82
        }
      ]
    },
    {
      "cell_type": "markdown",
      "metadata": {
        "id": "oK4yxZrwSzgi",
        "colab_type": "text"
      },
      "source": [
        "**Join**"
      ]
    },
    {
      "cell_type": "code",
      "metadata": {
        "id": "ChPkp-BvS2xB",
        "colab_type": "code",
        "outputId": "68c0650c-1cea-41fe-be27-a24a420553e9",
        "colab": {
          "base_uri": "https://localhost:8080/",
          "height": 275
        }
      },
      "source": [
        "left = pd.DataFrame({'key': ['foo', 'foo'], 'lval': [1, 2]})\n",
        "\n",
        "right = pd.DataFrame({'key': ['foo', 'foo'], 'rval': [4, 5]})\n",
        "\n",
        "print(left)\n",
        "\n",
        "print(right)\n",
        "\n",
        "pd.merge(left, right, on='key')"
      ],
      "execution_count": 0,
      "outputs": [
        {
          "output_type": "stream",
          "text": [
            "   key  lval\n",
            "0  foo     1\n",
            "1  foo     2\n",
            "   key  rval\n",
            "0  foo     4\n",
            "1  foo     5\n"
          ],
          "name": "stdout"
        },
        {
          "output_type": "execute_result",
          "data": {
            "text/html": [
              "<div>\n",
              "<style scoped>\n",
              "    .dataframe tbody tr th:only-of-type {\n",
              "        vertical-align: middle;\n",
              "    }\n",
              "\n",
              "    .dataframe tbody tr th {\n",
              "        vertical-align: top;\n",
              "    }\n",
              "\n",
              "    .dataframe thead th {\n",
              "        text-align: right;\n",
              "    }\n",
              "</style>\n",
              "<table border=\"1\" class=\"dataframe\">\n",
              "  <thead>\n",
              "    <tr style=\"text-align: right;\">\n",
              "      <th></th>\n",
              "      <th>key</th>\n",
              "      <th>lval</th>\n",
              "      <th>rval</th>\n",
              "    </tr>\n",
              "  </thead>\n",
              "  <tbody>\n",
              "    <tr>\n",
              "      <th>0</th>\n",
              "      <td>foo</td>\n",
              "      <td>1</td>\n",
              "      <td>4</td>\n",
              "    </tr>\n",
              "    <tr>\n",
              "      <th>1</th>\n",
              "      <td>foo</td>\n",
              "      <td>1</td>\n",
              "      <td>5</td>\n",
              "    </tr>\n",
              "    <tr>\n",
              "      <th>2</th>\n",
              "      <td>foo</td>\n",
              "      <td>2</td>\n",
              "      <td>4</td>\n",
              "    </tr>\n",
              "    <tr>\n",
              "      <th>3</th>\n",
              "      <td>foo</td>\n",
              "      <td>2</td>\n",
              "      <td>5</td>\n",
              "    </tr>\n",
              "  </tbody>\n",
              "</table>\n",
              "</div>"
            ],
            "text/plain": [
              "   key  lval  rval\n",
              "0  foo     1     4\n",
              "1  foo     1     5\n",
              "2  foo     2     4\n",
              "3  foo     2     5"
            ]
          },
          "metadata": {
            "tags": []
          },
          "execution_count": 86
        }
      ]
    },
    {
      "cell_type": "code",
      "metadata": {
        "id": "Hyr-3LJgUamJ",
        "colab_type": "code",
        "outputId": "ed4c73c7-5747-4e9e-e5c3-f2e68af2f844",
        "colab": {
          "base_uri": "https://localhost:8080/",
          "height": 111
        }
      },
      "source": [
        "left = pd.DataFrame({'key': ['foo', 'bar'], 'lval': [1, 2]})\n",
        "\n",
        "right = pd.DataFrame({'key': ['foo', 'bar'], 'rval': [4, 5]})\n",
        "\n",
        "pd.merge(left, right, on='key')"
      ],
      "execution_count": 0,
      "outputs": [
        {
          "output_type": "execute_result",
          "data": {
            "text/html": [
              "<div>\n",
              "<style scoped>\n",
              "    .dataframe tbody tr th:only-of-type {\n",
              "        vertical-align: middle;\n",
              "    }\n",
              "\n",
              "    .dataframe tbody tr th {\n",
              "        vertical-align: top;\n",
              "    }\n",
              "\n",
              "    .dataframe thead th {\n",
              "        text-align: right;\n",
              "    }\n",
              "</style>\n",
              "<table border=\"1\" class=\"dataframe\">\n",
              "  <thead>\n",
              "    <tr style=\"text-align: right;\">\n",
              "      <th></th>\n",
              "      <th>key</th>\n",
              "      <th>lval</th>\n",
              "      <th>rval</th>\n",
              "    </tr>\n",
              "  </thead>\n",
              "  <tbody>\n",
              "    <tr>\n",
              "      <th>0</th>\n",
              "      <td>foo</td>\n",
              "      <td>1</td>\n",
              "      <td>4</td>\n",
              "    </tr>\n",
              "    <tr>\n",
              "      <th>1</th>\n",
              "      <td>bar</td>\n",
              "      <td>2</td>\n",
              "      <td>5</td>\n",
              "    </tr>\n",
              "  </tbody>\n",
              "</table>\n",
              "</div>"
            ],
            "text/plain": [
              "   key  lval  rval\n",
              "0  foo     1     4\n",
              "1  bar     2     5"
            ]
          },
          "metadata": {
            "tags": []
          },
          "execution_count": 87
        }
      ]
    },
    {
      "cell_type": "code",
      "metadata": {
        "id": "GIX3jQuzUwu_",
        "colab_type": "code",
        "outputId": "e6d8c3f6-3890-4aa3-9e22-6ed700f96c64",
        "colab": {
          "base_uri": "https://localhost:8080/",
          "height": 515
        }
      },
      "source": [
        "dataframe=pd.DataFrame(np.random.randn(8,4),columns=['A','B','C','D'])\n",
        "print(dataframe.head())\n",
        "\n",
        "s=dataframe.iloc[3]\n",
        "print(s)\n",
        "\n",
        "dataframe.append(s,ignore_index=1)"
      ],
      "execution_count": 0,
      "outputs": [
        {
          "output_type": "stream",
          "text": [
            "          A         B         C         D\n",
            "0 -1.106791 -1.234965  0.408766  1.187245\n",
            "1  1.274093 -0.545774  0.513679  0.070311\n",
            "2  3.429736  1.236805  0.406886 -0.226054\n",
            "3  0.360672  1.502890 -1.124533  0.585924\n",
            "4  2.317187 -0.200386  0.718769 -0.674822\n",
            "A    0.360672\n",
            "B    1.502890\n",
            "C   -1.124533\n",
            "D    0.585924\n",
            "Name: 3, dtype: float64\n"
          ],
          "name": "stdout"
        },
        {
          "output_type": "execute_result",
          "data": {
            "text/html": [
              "<div>\n",
              "<style scoped>\n",
              "    .dataframe tbody tr th:only-of-type {\n",
              "        vertical-align: middle;\n",
              "    }\n",
              "\n",
              "    .dataframe tbody tr th {\n",
              "        vertical-align: top;\n",
              "    }\n",
              "\n",
              "    .dataframe thead th {\n",
              "        text-align: right;\n",
              "    }\n",
              "</style>\n",
              "<table border=\"1\" class=\"dataframe\">\n",
              "  <thead>\n",
              "    <tr style=\"text-align: right;\">\n",
              "      <th></th>\n",
              "      <th>A</th>\n",
              "      <th>B</th>\n",
              "      <th>C</th>\n",
              "      <th>D</th>\n",
              "    </tr>\n",
              "  </thead>\n",
              "  <tbody>\n",
              "    <tr>\n",
              "      <th>0</th>\n",
              "      <td>-1.106791</td>\n",
              "      <td>-1.234965</td>\n",
              "      <td>0.408766</td>\n",
              "      <td>1.187245</td>\n",
              "    </tr>\n",
              "    <tr>\n",
              "      <th>1</th>\n",
              "      <td>1.274093</td>\n",
              "      <td>-0.545774</td>\n",
              "      <td>0.513679</td>\n",
              "      <td>0.070311</td>\n",
              "    </tr>\n",
              "    <tr>\n",
              "      <th>2</th>\n",
              "      <td>3.429736</td>\n",
              "      <td>1.236805</td>\n",
              "      <td>0.406886</td>\n",
              "      <td>-0.226054</td>\n",
              "    </tr>\n",
              "    <tr>\n",
              "      <th>3</th>\n",
              "      <td>0.360672</td>\n",
              "      <td>1.502890</td>\n",
              "      <td>-1.124533</td>\n",
              "      <td>0.585924</td>\n",
              "    </tr>\n",
              "    <tr>\n",
              "      <th>4</th>\n",
              "      <td>2.317187</td>\n",
              "      <td>-0.200386</td>\n",
              "      <td>0.718769</td>\n",
              "      <td>-0.674822</td>\n",
              "    </tr>\n",
              "    <tr>\n",
              "      <th>5</th>\n",
              "      <td>-0.557754</td>\n",
              "      <td>-0.777370</td>\n",
              "      <td>-0.449638</td>\n",
              "      <td>-0.100443</td>\n",
              "    </tr>\n",
              "    <tr>\n",
              "      <th>6</th>\n",
              "      <td>-0.207145</td>\n",
              "      <td>2.992490</td>\n",
              "      <td>0.389570</td>\n",
              "      <td>-1.006357</td>\n",
              "    </tr>\n",
              "    <tr>\n",
              "      <th>7</th>\n",
              "      <td>-0.218225</td>\n",
              "      <td>-0.227983</td>\n",
              "      <td>0.933678</td>\n",
              "      <td>0.805511</td>\n",
              "    </tr>\n",
              "    <tr>\n",
              "      <th>8</th>\n",
              "      <td>0.360672</td>\n",
              "      <td>1.502890</td>\n",
              "      <td>-1.124533</td>\n",
              "      <td>0.585924</td>\n",
              "    </tr>\n",
              "  </tbody>\n",
              "</table>\n",
              "</div>"
            ],
            "text/plain": [
              "          A         B         C         D\n",
              "0 -1.106791 -1.234965  0.408766  1.187245\n",
              "1  1.274093 -0.545774  0.513679  0.070311\n",
              "2  3.429736  1.236805  0.406886 -0.226054\n",
              "3  0.360672  1.502890 -1.124533  0.585924\n",
              "4  2.317187 -0.200386  0.718769 -0.674822\n",
              "5 -0.557754 -0.777370 -0.449638 -0.100443\n",
              "6 -0.207145  2.992490  0.389570 -1.006357\n",
              "7 -0.218225 -0.227983  0.933678  0.805511\n",
              "8  0.360672  1.502890 -1.124533  0.585924"
            ]
          },
          "metadata": {
            "tags": []
          },
          "execution_count": 100
        }
      ]
    },
    {
      "cell_type": "markdown",
      "metadata": {
        "id": "RJ2Xto21XASA",
        "colab_type": "text"
      },
      "source": [
        "##Grouping.     \n",
        "By \"group by\" we are reffering to a process involvig one or more of the following steps:     \n",
        "- **Splitting** the data into groups based on some criteria\n",
        "- **Applying** a function to each group independently\n",
        "- **Combining** the results into a data structure\n"
      ]
    },
    {
      "cell_type": "code",
      "metadata": {
        "id": "VAeyAawoXrdy",
        "colab_type": "code",
        "outputId": "f5cfc92d-55af-4055-f86b-6b8f1797417a",
        "colab": {
          "base_uri": "https://localhost:8080/",
          "height": 170
        }
      },
      "source": [
        "df=pd.DataFrame({'A':['foo','bar','foo','bar',\n",
        "                      'foo','bar','foo','foo'],\n",
        "                 'B':['one','one','two','three',\n",
        "                      'two','two','one','three'],\n",
        "                 'C':np.random.randn(8),\n",
        "                 'D':np.random.randn(8)})\n",
        "print(df)"
      ],
      "execution_count": 0,
      "outputs": [
        {
          "output_type": "stream",
          "text": [
            "     A      B         C         D\n",
            "0  foo    one  0.394601  1.037468\n",
            "1  bar    one -0.028919 -1.130810\n",
            "2  foo    two -0.212790 -2.323546\n",
            "3  bar  three -0.852363 -0.483798\n",
            "4  foo    two  0.173333  0.267562\n",
            "5  bar    two -0.522602  0.201052\n",
            "6  foo    one -0.134934  0.045663\n",
            "7  foo  three -0.336865  3.420078\n"
          ],
          "name": "stdout"
        }
      ]
    },
    {
      "cell_type": "code",
      "metadata": {
        "id": "pF-c711AXvDs",
        "colab_type": "code",
        "outputId": "57d9adde-622b-49ff-eff8-b5ca1deb4c34",
        "colab": {
          "base_uri": "https://localhost:8080/",
          "height": 142
        }
      },
      "source": [
        "df.groupby('A').sum()"
      ],
      "execution_count": 0,
      "outputs": [
        {
          "output_type": "execute_result",
          "data": {
            "text/html": [
              "<div>\n",
              "<style scoped>\n",
              "    .dataframe tbody tr th:only-of-type {\n",
              "        vertical-align: middle;\n",
              "    }\n",
              "\n",
              "    .dataframe tbody tr th {\n",
              "        vertical-align: top;\n",
              "    }\n",
              "\n",
              "    .dataframe thead th {\n",
              "        text-align: right;\n",
              "    }\n",
              "</style>\n",
              "<table border=\"1\" class=\"dataframe\">\n",
              "  <thead>\n",
              "    <tr style=\"text-align: right;\">\n",
              "      <th></th>\n",
              "      <th>C</th>\n",
              "      <th>D</th>\n",
              "    </tr>\n",
              "    <tr>\n",
              "      <th>A</th>\n",
              "      <th></th>\n",
              "      <th></th>\n",
              "    </tr>\n",
              "  </thead>\n",
              "  <tbody>\n",
              "    <tr>\n",
              "      <th>bar</th>\n",
              "      <td>-1.403884</td>\n",
              "      <td>-1.413556</td>\n",
              "    </tr>\n",
              "    <tr>\n",
              "      <th>foo</th>\n",
              "      <td>-0.116655</td>\n",
              "      <td>2.447224</td>\n",
              "    </tr>\n",
              "  </tbody>\n",
              "</table>\n",
              "</div>"
            ],
            "text/plain": [
              "            C         D\n",
              "A                      \n",
              "bar -1.403884 -1.413556\n",
              "foo -0.116655  2.447224"
            ]
          },
          "metadata": {
            "tags": []
          },
          "execution_count": 105
        }
      ]
    },
    {
      "cell_type": "code",
      "metadata": {
        "id": "mOUsoEkhZuZf",
        "colab_type": "code",
        "outputId": "dca958ca-3796-49ca-da92-9ca979e35ae4",
        "colab": {
          "base_uri": "https://localhost:8080/",
          "height": 266
        }
      },
      "source": [
        "df.groupby(['A','B']).sum()"
      ],
      "execution_count": 0,
      "outputs": [
        {
          "output_type": "execute_result",
          "data": {
            "text/html": [
              "<div>\n",
              "<style scoped>\n",
              "    .dataframe tbody tr th:only-of-type {\n",
              "        vertical-align: middle;\n",
              "    }\n",
              "\n",
              "    .dataframe tbody tr th {\n",
              "        vertical-align: top;\n",
              "    }\n",
              "\n",
              "    .dataframe thead th {\n",
              "        text-align: right;\n",
              "    }\n",
              "</style>\n",
              "<table border=\"1\" class=\"dataframe\">\n",
              "  <thead>\n",
              "    <tr style=\"text-align: right;\">\n",
              "      <th></th>\n",
              "      <th></th>\n",
              "      <th>C</th>\n",
              "      <th>D</th>\n",
              "    </tr>\n",
              "    <tr>\n",
              "      <th>A</th>\n",
              "      <th>B</th>\n",
              "      <th></th>\n",
              "      <th></th>\n",
              "    </tr>\n",
              "  </thead>\n",
              "  <tbody>\n",
              "    <tr>\n",
              "      <th rowspan=\"3\" valign=\"top\">bar</th>\n",
              "      <th>one</th>\n",
              "      <td>-0.028919</td>\n",
              "      <td>-1.130810</td>\n",
              "    </tr>\n",
              "    <tr>\n",
              "      <th>three</th>\n",
              "      <td>-0.852363</td>\n",
              "      <td>-0.483798</td>\n",
              "    </tr>\n",
              "    <tr>\n",
              "      <th>two</th>\n",
              "      <td>-0.522602</td>\n",
              "      <td>0.201052</td>\n",
              "    </tr>\n",
              "    <tr>\n",
              "      <th rowspan=\"3\" valign=\"top\">foo</th>\n",
              "      <th>one</th>\n",
              "      <td>0.259667</td>\n",
              "      <td>1.083130</td>\n",
              "    </tr>\n",
              "    <tr>\n",
              "      <th>three</th>\n",
              "      <td>-0.336865</td>\n",
              "      <td>3.420078</td>\n",
              "    </tr>\n",
              "    <tr>\n",
              "      <th>two</th>\n",
              "      <td>-0.039457</td>\n",
              "      <td>-2.055984</td>\n",
              "    </tr>\n",
              "  </tbody>\n",
              "</table>\n",
              "</div>"
            ],
            "text/plain": [
              "                  C         D\n",
              "A   B                        \n",
              "bar one   -0.028919 -1.130810\n",
              "    three -0.852363 -0.483798\n",
              "    two   -0.522602  0.201052\n",
              "foo one    0.259667  1.083130\n",
              "    three -0.336865  3.420078\n",
              "    two   -0.039457 -2.055984"
            ]
          },
          "metadata": {
            "tags": []
          },
          "execution_count": 106
        }
      ]
    },
    {
      "cell_type": "markdown",
      "metadata": {
        "id": "iGiK74Z3cp40",
        "colab_type": "text"
      },
      "source": [
        "## Reshapping"
      ]
    },
    {
      "cell_type": "code",
      "metadata": {
        "id": "o54sW3kmctAk",
        "colab_type": "code",
        "colab": {}
      },
      "source": [
        ""
      ],
      "execution_count": 0,
      "outputs": []
    },
    {
      "cell_type": "markdown",
      "metadata": {
        "id": "VHZ_uojjSSCq",
        "colab_type": "text"
      },
      "source": [
        "## Pivot Table\n"
      ]
    },
    {
      "cell_type": "code",
      "metadata": {
        "id": "ir-ZFcKDSVw6",
        "colab_type": "code",
        "outputId": "d292e8e7-0bf1-454e-e656-a888ce9957e3",
        "colab": {
          "base_uri": "https://localhost:8080/",
          "height": 204
        }
      },
      "source": [
        "df = pd.DataFrame({'A': ['one', 'one', 'two', 'three'] * 3,\n",
        "                   'B': ['A', 'B', 'C'] * 4,\n",
        "                    'C': ['foo', 'foo', 'foo', 'bar', 'bar', 'bar'] * 2,\n",
        "                    'D': np.random.randn(12),\n",
        "                   'E': np.random.randn(12)})\n",
        "\n",
        "\n",
        "\n",
        "df.head()"
      ],
      "execution_count": 0,
      "outputs": [
        {
          "output_type": "execute_result",
          "data": {
            "text/html": [
              "<div>\n",
              "<style scoped>\n",
              "    .dataframe tbody tr th:only-of-type {\n",
              "        vertical-align: middle;\n",
              "    }\n",
              "\n",
              "    .dataframe tbody tr th {\n",
              "        vertical-align: top;\n",
              "    }\n",
              "\n",
              "    .dataframe thead th {\n",
              "        text-align: right;\n",
              "    }\n",
              "</style>\n",
              "<table border=\"1\" class=\"dataframe\">\n",
              "  <thead>\n",
              "    <tr style=\"text-align: right;\">\n",
              "      <th></th>\n",
              "      <th>A</th>\n",
              "      <th>B</th>\n",
              "      <th>C</th>\n",
              "      <th>D</th>\n",
              "      <th>E</th>\n",
              "    </tr>\n",
              "  </thead>\n",
              "  <tbody>\n",
              "    <tr>\n",
              "      <th>0</th>\n",
              "      <td>one</td>\n",
              "      <td>A</td>\n",
              "      <td>foo</td>\n",
              "      <td>-1.044902</td>\n",
              "      <td>-0.835041</td>\n",
              "    </tr>\n",
              "    <tr>\n",
              "      <th>1</th>\n",
              "      <td>one</td>\n",
              "      <td>B</td>\n",
              "      <td>foo</td>\n",
              "      <td>1.151403</td>\n",
              "      <td>1.147007</td>\n",
              "    </tr>\n",
              "    <tr>\n",
              "      <th>2</th>\n",
              "      <td>two</td>\n",
              "      <td>C</td>\n",
              "      <td>foo</td>\n",
              "      <td>0.266383</td>\n",
              "      <td>0.183254</td>\n",
              "    </tr>\n",
              "    <tr>\n",
              "      <th>3</th>\n",
              "      <td>three</td>\n",
              "      <td>A</td>\n",
              "      <td>bar</td>\n",
              "      <td>1.847159</td>\n",
              "      <td>-0.948187</td>\n",
              "    </tr>\n",
              "    <tr>\n",
              "      <th>4</th>\n",
              "      <td>one</td>\n",
              "      <td>B</td>\n",
              "      <td>bar</td>\n",
              "      <td>1.903590</td>\n",
              "      <td>-0.392455</td>\n",
              "    </tr>\n",
              "  </tbody>\n",
              "</table>\n",
              "</div>"
            ],
            "text/plain": [
              "       A  B    C         D         E\n",
              "0    one  A  foo -1.044902 -0.835041\n",
              "1    one  B  foo  1.151403  1.147007\n",
              "2    two  C  foo  0.266383  0.183254\n",
              "3  three  A  bar  1.847159 -0.948187\n",
              "4    one  B  bar  1.903590 -0.392455"
            ]
          },
          "metadata": {
            "tags": []
          },
          "execution_count": 3
        }
      ]
    },
    {
      "cell_type": "code",
      "metadata": {
        "id": "p62TWkbSSv0S",
        "colab_type": "code",
        "outputId": "02c09709-a1e8-4ff5-b7c7-7cccb34a00a4",
        "colab": {
          "base_uri": "https://localhost:8080/",
          "height": 390
        }
      },
      "source": [
        "pd.pivot_table(df,values=['D','E'],index=['A','B'],columns=['C'])\n"
      ],
      "execution_count": 0,
      "outputs": [
        {
          "output_type": "execute_result",
          "data": {
            "text/html": [
              "<div>\n",
              "<style scoped>\n",
              "    .dataframe tbody tr th:only-of-type {\n",
              "        vertical-align: middle;\n",
              "    }\n",
              "\n",
              "    .dataframe tbody tr th {\n",
              "        vertical-align: top;\n",
              "    }\n",
              "\n",
              "    .dataframe thead tr th {\n",
              "        text-align: left;\n",
              "    }\n",
              "\n",
              "    .dataframe thead tr:last-of-type th {\n",
              "        text-align: right;\n",
              "    }\n",
              "</style>\n",
              "<table border=\"1\" class=\"dataframe\">\n",
              "  <thead>\n",
              "    <tr>\n",
              "      <th></th>\n",
              "      <th></th>\n",
              "      <th colspan=\"2\" halign=\"left\">D</th>\n",
              "      <th colspan=\"2\" halign=\"left\">E</th>\n",
              "    </tr>\n",
              "    <tr>\n",
              "      <th></th>\n",
              "      <th>C</th>\n",
              "      <th>bar</th>\n",
              "      <th>foo</th>\n",
              "      <th>bar</th>\n",
              "      <th>foo</th>\n",
              "    </tr>\n",
              "    <tr>\n",
              "      <th>A</th>\n",
              "      <th>B</th>\n",
              "      <th></th>\n",
              "      <th></th>\n",
              "      <th></th>\n",
              "      <th></th>\n",
              "    </tr>\n",
              "  </thead>\n",
              "  <tbody>\n",
              "    <tr>\n",
              "      <th rowspan=\"3\" valign=\"top\">one</th>\n",
              "      <th>A</th>\n",
              "      <td>1.179022</td>\n",
              "      <td>-1.044902</td>\n",
              "      <td>-1.906805</td>\n",
              "      <td>-0.835041</td>\n",
              "    </tr>\n",
              "    <tr>\n",
              "      <th>B</th>\n",
              "      <td>1.903590</td>\n",
              "      <td>1.151403</td>\n",
              "      <td>-0.392455</td>\n",
              "      <td>1.147007</td>\n",
              "    </tr>\n",
              "    <tr>\n",
              "      <th>C</th>\n",
              "      <td>-0.400240</td>\n",
              "      <td>1.104005</td>\n",
              "      <td>-0.523006</td>\n",
              "      <td>-0.880194</td>\n",
              "    </tr>\n",
              "    <tr>\n",
              "      <th rowspan=\"3\" valign=\"top\">three</th>\n",
              "      <th>A</th>\n",
              "      <td>1.847159</td>\n",
              "      <td>NaN</td>\n",
              "      <td>-0.948187</td>\n",
              "      <td>NaN</td>\n",
              "    </tr>\n",
              "    <tr>\n",
              "      <th>B</th>\n",
              "      <td>NaN</td>\n",
              "      <td>-0.587223</td>\n",
              "      <td>NaN</td>\n",
              "      <td>0.085483</td>\n",
              "    </tr>\n",
              "    <tr>\n",
              "      <th>C</th>\n",
              "      <td>0.429494</td>\n",
              "      <td>NaN</td>\n",
              "      <td>-1.424086</td>\n",
              "      <td>NaN</td>\n",
              "    </tr>\n",
              "    <tr>\n",
              "      <th rowspan=\"3\" valign=\"top\">two</th>\n",
              "      <th>A</th>\n",
              "      <td>NaN</td>\n",
              "      <td>0.045879</td>\n",
              "      <td>NaN</td>\n",
              "      <td>-0.892807</td>\n",
              "    </tr>\n",
              "    <tr>\n",
              "      <th>B</th>\n",
              "      <td>-0.208642</td>\n",
              "      <td>NaN</td>\n",
              "      <td>-0.620470</td>\n",
              "      <td>NaN</td>\n",
              "    </tr>\n",
              "    <tr>\n",
              "      <th>C</th>\n",
              "      <td>NaN</td>\n",
              "      <td>0.266383</td>\n",
              "      <td>NaN</td>\n",
              "      <td>0.183254</td>\n",
              "    </tr>\n",
              "  </tbody>\n",
              "</table>\n",
              "</div>"
            ],
            "text/plain": [
              "                D                   E          \n",
              "C             bar       foo       bar       foo\n",
              "A     B                                        \n",
              "one   A  1.179022 -1.044902 -1.906805 -0.835041\n",
              "      B  1.903590  1.151403 -0.392455  1.147007\n",
              "      C -0.400240  1.104005 -0.523006 -0.880194\n",
              "three A  1.847159       NaN -0.948187       NaN\n",
              "      B       NaN -0.587223       NaN  0.085483\n",
              "      C  0.429494       NaN -1.424086       NaN\n",
              "two   A       NaN  0.045879       NaN -0.892807\n",
              "      B -0.208642       NaN -0.620470       NaN\n",
              "      C       NaN  0.266383       NaN  0.183254"
            ]
          },
          "metadata": {
            "tags": []
          },
          "execution_count": 5
        }
      ]
    },
    {
      "cell_type": "markdown",
      "metadata": {
        "id": "_iwXYL-CTY2K",
        "colab_type": "text"
      },
      "source": [
        "##Time Series.     \n",
        "pandas has simple.powerful and efficient functionality for performing resampling operations during frequency conversion"
      ]
    },
    {
      "cell_type": "code",
      "metadata": {
        "id": "N5pdYXvoTW0M",
        "colab_type": "code",
        "outputId": "b7f9ac07-c4ae-4c42-b21a-c68eafb7ca20",
        "colab": {
          "base_uri": "https://localhost:8080/",
          "height": 884
        }
      },
      "source": [
        "rng=pd.date_range('1/1/2012',periods=100,freq='S')\n",
        "\n",
        "rng"
      ],
      "execution_count": 0,
      "outputs": [
        {
          "output_type": "execute_result",
          "data": {
            "text/plain": [
              "DatetimeIndex(['2012-01-01 00:00:00', '2012-01-01 00:00:01',\n",
              "               '2012-01-01 00:00:02', '2012-01-01 00:00:03',\n",
              "               '2012-01-01 00:00:04', '2012-01-01 00:00:05',\n",
              "               '2012-01-01 00:00:06', '2012-01-01 00:00:07',\n",
              "               '2012-01-01 00:00:08', '2012-01-01 00:00:09',\n",
              "               '2012-01-01 00:00:10', '2012-01-01 00:00:11',\n",
              "               '2012-01-01 00:00:12', '2012-01-01 00:00:13',\n",
              "               '2012-01-01 00:00:14', '2012-01-01 00:00:15',\n",
              "               '2012-01-01 00:00:16', '2012-01-01 00:00:17',\n",
              "               '2012-01-01 00:00:18', '2012-01-01 00:00:19',\n",
              "               '2012-01-01 00:00:20', '2012-01-01 00:00:21',\n",
              "               '2012-01-01 00:00:22', '2012-01-01 00:00:23',\n",
              "               '2012-01-01 00:00:24', '2012-01-01 00:00:25',\n",
              "               '2012-01-01 00:00:26', '2012-01-01 00:00:27',\n",
              "               '2012-01-01 00:00:28', '2012-01-01 00:00:29',\n",
              "               '2012-01-01 00:00:30', '2012-01-01 00:00:31',\n",
              "               '2012-01-01 00:00:32', '2012-01-01 00:00:33',\n",
              "               '2012-01-01 00:00:34', '2012-01-01 00:00:35',\n",
              "               '2012-01-01 00:00:36', '2012-01-01 00:00:37',\n",
              "               '2012-01-01 00:00:38', '2012-01-01 00:00:39',\n",
              "               '2012-01-01 00:00:40', '2012-01-01 00:00:41',\n",
              "               '2012-01-01 00:00:42', '2012-01-01 00:00:43',\n",
              "               '2012-01-01 00:00:44', '2012-01-01 00:00:45',\n",
              "               '2012-01-01 00:00:46', '2012-01-01 00:00:47',\n",
              "               '2012-01-01 00:00:48', '2012-01-01 00:00:49',\n",
              "               '2012-01-01 00:00:50', '2012-01-01 00:00:51',\n",
              "               '2012-01-01 00:00:52', '2012-01-01 00:00:53',\n",
              "               '2012-01-01 00:00:54', '2012-01-01 00:00:55',\n",
              "               '2012-01-01 00:00:56', '2012-01-01 00:00:57',\n",
              "               '2012-01-01 00:00:58', '2012-01-01 00:00:59',\n",
              "               '2012-01-01 00:01:00', '2012-01-01 00:01:01',\n",
              "               '2012-01-01 00:01:02', '2012-01-01 00:01:03',\n",
              "               '2012-01-01 00:01:04', '2012-01-01 00:01:05',\n",
              "               '2012-01-01 00:01:06', '2012-01-01 00:01:07',\n",
              "               '2012-01-01 00:01:08', '2012-01-01 00:01:09',\n",
              "               '2012-01-01 00:01:10', '2012-01-01 00:01:11',\n",
              "               '2012-01-01 00:01:12', '2012-01-01 00:01:13',\n",
              "               '2012-01-01 00:01:14', '2012-01-01 00:01:15',\n",
              "               '2012-01-01 00:01:16', '2012-01-01 00:01:17',\n",
              "               '2012-01-01 00:01:18', '2012-01-01 00:01:19',\n",
              "               '2012-01-01 00:01:20', '2012-01-01 00:01:21',\n",
              "               '2012-01-01 00:01:22', '2012-01-01 00:01:23',\n",
              "               '2012-01-01 00:01:24', '2012-01-01 00:01:25',\n",
              "               '2012-01-01 00:01:26', '2012-01-01 00:01:27',\n",
              "               '2012-01-01 00:01:28', '2012-01-01 00:01:29',\n",
              "               '2012-01-01 00:01:30', '2012-01-01 00:01:31',\n",
              "               '2012-01-01 00:01:32', '2012-01-01 00:01:33',\n",
              "               '2012-01-01 00:01:34', '2012-01-01 00:01:35',\n",
              "               '2012-01-01 00:01:36', '2012-01-01 00:01:37',\n",
              "               '2012-01-01 00:01:38', '2012-01-01 00:01:39'],\n",
              "              dtype='datetime64[ns]', freq='S')"
            ]
          },
          "metadata": {
            "tags": []
          },
          "execution_count": 2
        }
      ]
    },
    {
      "cell_type": "markdown",
      "metadata": {
        "id": "lJaphqvG-pJt",
        "colab_type": "text"
      },
      "source": [
        "### Categoricals.     \n",
        "Pandas can include categorical data in Dataframe"
      ]
    },
    {
      "cell_type": "code",
      "metadata": {
        "id": "1g7d3zd0-oeV",
        "colab_type": "code",
        "colab": {
          "base_uri": "https://localhost:8080/",
          "height": 235
        },
        "outputId": "23fa9467-82df-4a46-9a01-b10ade32b525"
      },
      "source": [
        "df=pd.DataFrame({'id':[1,2,3,4,5,6],\n",
        "                 'raw_grade':['a','b','b','a','a','e']})\n",
        "df"
      ],
      "execution_count": 18,
      "outputs": [
        {
          "output_type": "execute_result",
          "data": {
            "text/html": [
              "<div>\n",
              "<style scoped>\n",
              "    .dataframe tbody tr th:only-of-type {\n",
              "        vertical-align: middle;\n",
              "    }\n",
              "\n",
              "    .dataframe tbody tr th {\n",
              "        vertical-align: top;\n",
              "    }\n",
              "\n",
              "    .dataframe thead th {\n",
              "        text-align: right;\n",
              "    }\n",
              "</style>\n",
              "<table border=\"1\" class=\"dataframe\">\n",
              "  <thead>\n",
              "    <tr style=\"text-align: right;\">\n",
              "      <th></th>\n",
              "      <th>id</th>\n",
              "      <th>raw_grade</th>\n",
              "    </tr>\n",
              "  </thead>\n",
              "  <tbody>\n",
              "    <tr>\n",
              "      <th>0</th>\n",
              "      <td>1</td>\n",
              "      <td>a</td>\n",
              "    </tr>\n",
              "    <tr>\n",
              "      <th>1</th>\n",
              "      <td>2</td>\n",
              "      <td>b</td>\n",
              "    </tr>\n",
              "    <tr>\n",
              "      <th>2</th>\n",
              "      <td>3</td>\n",
              "      <td>b</td>\n",
              "    </tr>\n",
              "    <tr>\n",
              "      <th>3</th>\n",
              "      <td>4</td>\n",
              "      <td>a</td>\n",
              "    </tr>\n",
              "    <tr>\n",
              "      <th>4</th>\n",
              "      <td>5</td>\n",
              "      <td>a</td>\n",
              "    </tr>\n",
              "    <tr>\n",
              "      <th>5</th>\n",
              "      <td>6</td>\n",
              "      <td>e</td>\n",
              "    </tr>\n",
              "  </tbody>\n",
              "</table>\n",
              "</div>"
            ],
            "text/plain": [
              "   id raw_grade\n",
              "0   1         a\n",
              "1   2         b\n",
              "2   3         b\n",
              "3   4         a\n",
              "4   5         a\n",
              "5   6         e"
            ]
          },
          "metadata": {
            "tags": []
          },
          "execution_count": 18
        }
      ]
    },
    {
      "cell_type": "code",
      "metadata": {
        "id": "M3-N7a4C_lZD",
        "colab_type": "code",
        "colab": {
          "base_uri": "https://localhost:8080/",
          "height": 153
        },
        "outputId": "40e85048-7fdc-4706-e839-c03a60b0ecd0"
      },
      "source": [
        "df['grade']=df['raw_grade'].astype(\"category\")\n",
        "df['grade']\n",
        "\n",
        "# df.info()"
      ],
      "execution_count": 20,
      "outputs": [
        {
          "output_type": "execute_result",
          "data": {
            "text/plain": [
              "0    a\n",
              "1    b\n",
              "2    b\n",
              "3    a\n",
              "4    a\n",
              "5    e\n",
              "Name: grade, dtype: category\n",
              "Categories (3, object): [a, b, e]"
            ]
          },
          "metadata": {
            "tags": []
          },
          "execution_count": 20
        }
      ]
    },
    {
      "cell_type": "code",
      "metadata": {
        "id": "W1J6T1G3FVxl",
        "colab_type": "code",
        "colab": {
          "base_uri": "https://localhost:8080/",
          "height": 235
        },
        "outputId": "373e4a83-e455-441d-ca97-db71536ecaa2"
      },
      "source": [
        "df['grade'].cat.categories=[\"very good\",\"good\",\"very bad\"]\n",
        "\n",
        "df.head(6)"
      ],
      "execution_count": 23,
      "outputs": [
        {
          "output_type": "execute_result",
          "data": {
            "text/html": [
              "<div>\n",
              "<style scoped>\n",
              "    .dataframe tbody tr th:only-of-type {\n",
              "        vertical-align: middle;\n",
              "    }\n",
              "\n",
              "    .dataframe tbody tr th {\n",
              "        vertical-align: top;\n",
              "    }\n",
              "\n",
              "    .dataframe thead th {\n",
              "        text-align: right;\n",
              "    }\n",
              "</style>\n",
              "<table border=\"1\" class=\"dataframe\">\n",
              "  <thead>\n",
              "    <tr style=\"text-align: right;\">\n",
              "      <th></th>\n",
              "      <th>id</th>\n",
              "      <th>raw_grade</th>\n",
              "      <th>grade</th>\n",
              "    </tr>\n",
              "  </thead>\n",
              "  <tbody>\n",
              "    <tr>\n",
              "      <th>0</th>\n",
              "      <td>1</td>\n",
              "      <td>a</td>\n",
              "      <td>very good</td>\n",
              "    </tr>\n",
              "    <tr>\n",
              "      <th>1</th>\n",
              "      <td>2</td>\n",
              "      <td>b</td>\n",
              "      <td>good</td>\n",
              "    </tr>\n",
              "    <tr>\n",
              "      <th>2</th>\n",
              "      <td>3</td>\n",
              "      <td>b</td>\n",
              "      <td>good</td>\n",
              "    </tr>\n",
              "    <tr>\n",
              "      <th>3</th>\n",
              "      <td>4</td>\n",
              "      <td>a</td>\n",
              "      <td>very good</td>\n",
              "    </tr>\n",
              "    <tr>\n",
              "      <th>4</th>\n",
              "      <td>5</td>\n",
              "      <td>a</td>\n",
              "      <td>very good</td>\n",
              "    </tr>\n",
              "    <tr>\n",
              "      <th>5</th>\n",
              "      <td>6</td>\n",
              "      <td>e</td>\n",
              "      <td>very bad</td>\n",
              "    </tr>\n",
              "  </tbody>\n",
              "</table>\n",
              "</div>"
            ],
            "text/plain": [
              "   id raw_grade      grade\n",
              "0   1         a  very good\n",
              "1   2         b       good\n",
              "2   3         b       good\n",
              "3   4         a  very good\n",
              "4   5         a  very good\n",
              "5   6         e   very bad"
            ]
          },
          "metadata": {
            "tags": []
          },
          "execution_count": 23
        }
      ]
    },
    {
      "cell_type": "code",
      "metadata": {
        "id": "9dg2RgLIFqk9",
        "colab_type": "code",
        "colab": {
          "base_uri": "https://localhost:8080/",
          "height": 153
        },
        "outputId": "a527e140-5faf-4910-d3d0-2e8925ab9b4a"
      },
      "source": [
        "df[\"grade\"]=df[\"grade\"].cat.set_categories([\"very bad\",\"bad\",\"medium\",\"good\",\"very good\"])\n",
        "df[\"grade\"]"
      ],
      "execution_count": 24,
      "outputs": [
        {
          "output_type": "execute_result",
          "data": {
            "text/plain": [
              "0    very good\n",
              "1         good\n",
              "2         good\n",
              "3    very good\n",
              "4    very good\n",
              "5     very bad\n",
              "Name: grade, dtype: category\n",
              "Categories (5, object): [very bad, bad, medium, good, very good]"
            ]
          },
          "metadata": {
            "tags": []
          },
          "execution_count": 24
        }
      ]
    },
    {
      "cell_type": "code",
      "metadata": {
        "id": "l7cVfiXFIy2Q",
        "colab_type": "code",
        "colab": {
          "base_uri": "https://localhost:8080/",
          "height": 136
        },
        "outputId": "d72e0881-e767-4c95-9654-cd23634b2f73"
      },
      "source": [
        "df.groupby(\"grade\").size()"
      ],
      "execution_count": 25,
      "outputs": [
        {
          "output_type": "execute_result",
          "data": {
            "text/plain": [
              "grade\n",
              "very bad     1\n",
              "bad          0\n",
              "medium       0\n",
              "good         2\n",
              "very good    3\n",
              "dtype: int64"
            ]
          },
          "metadata": {
            "tags": []
          },
          "execution_count": 25
        }
      ]
    },
    {
      "cell_type": "code",
      "metadata": {
        "id": "qFxwaB6FI48w",
        "colab_type": "code",
        "colab": {
          "base_uri": "https://localhost:8080/",
          "height": 235
        },
        "outputId": "630b7d9a-7635-4538-ebff-8a72769f7621"
      },
      "source": [
        "df['raw_grade']=['a','b','c','d','a','e']\n",
        "df['grade']=df['raw_grade'].astype(\"category\")\n",
        "df['grade'].cat.categories=[\"very good\",\"good\",\"medium\",\"ok\",\"very bad\"]\n",
        "df[\"grade\"]=df[\"grade\"].cat.set_categories([\"very bad\",\"bad\",\"medium\",\"good\",\"very good\",\"ok\"])\n",
        "df"
      ],
      "execution_count": 32,
      "outputs": [
        {
          "output_type": "execute_result",
          "data": {
            "text/html": [
              "<div>\n",
              "<style scoped>\n",
              "    .dataframe tbody tr th:only-of-type {\n",
              "        vertical-align: middle;\n",
              "    }\n",
              "\n",
              "    .dataframe tbody tr th {\n",
              "        vertical-align: top;\n",
              "    }\n",
              "\n",
              "    .dataframe thead th {\n",
              "        text-align: right;\n",
              "    }\n",
              "</style>\n",
              "<table border=\"1\" class=\"dataframe\">\n",
              "  <thead>\n",
              "    <tr style=\"text-align: right;\">\n",
              "      <th></th>\n",
              "      <th>id</th>\n",
              "      <th>raw_grade</th>\n",
              "      <th>grade</th>\n",
              "    </tr>\n",
              "  </thead>\n",
              "  <tbody>\n",
              "    <tr>\n",
              "      <th>0</th>\n",
              "      <td>1</td>\n",
              "      <td>a</td>\n",
              "      <td>very good</td>\n",
              "    </tr>\n",
              "    <tr>\n",
              "      <th>1</th>\n",
              "      <td>2</td>\n",
              "      <td>b</td>\n",
              "      <td>good</td>\n",
              "    </tr>\n",
              "    <tr>\n",
              "      <th>2</th>\n",
              "      <td>3</td>\n",
              "      <td>c</td>\n",
              "      <td>medium</td>\n",
              "    </tr>\n",
              "    <tr>\n",
              "      <th>3</th>\n",
              "      <td>4</td>\n",
              "      <td>d</td>\n",
              "      <td>ok</td>\n",
              "    </tr>\n",
              "    <tr>\n",
              "      <th>4</th>\n",
              "      <td>5</td>\n",
              "      <td>a</td>\n",
              "      <td>very good</td>\n",
              "    </tr>\n",
              "    <tr>\n",
              "      <th>5</th>\n",
              "      <td>6</td>\n",
              "      <td>e</td>\n",
              "      <td>very bad</td>\n",
              "    </tr>\n",
              "  </tbody>\n",
              "</table>\n",
              "</div>"
            ],
            "text/plain": [
              "   id raw_grade      grade\n",
              "0   1         a  very good\n",
              "1   2         b       good\n",
              "2   3         c     medium\n",
              "3   4         d         ok\n",
              "4   5         a  very good\n",
              "5   6         e   very bad"
            ]
          },
          "metadata": {
            "tags": []
          },
          "execution_count": 32
        }
      ]
    }
  ]
}
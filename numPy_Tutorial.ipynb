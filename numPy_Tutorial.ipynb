{
  "nbformat": 4,
  "nbformat_minor": 0,
  "metadata": {
    "colab": {
      "name": "numPy_Tutorial.ipynb",
      "provenance": [],
      "include_colab_link": true
    },
    "kernelspec": {
      "name": "python3",
      "display_name": "Python 3"
    }
  },
  "cells": [
    {
      "cell_type": "markdown",
      "metadata": {
        "id": "view-in-github",
        "colab_type": "text"
      },
      "source": [
        "<a href=\"https://colab.research.google.com/github/ParasNandwani/python/blob/master/numPy_Tutorial.ipynb\" target=\"_parent\"><img src=\"https://colab.research.google.com/assets/colab-badge.svg\" alt=\"Open In Colab\"/></a>"
      ]
    },
    {
      "cell_type": "markdown",
      "metadata": {
        "id": "p69bf0gIsgHY",
        "colab_type": "text"
      },
      "source": [
        "** Numpy stands for \"Numerical Python\".\n",
        "\n",
        "It is a python extension module and not a programming language.\n",
        "\n",
        "It provides fast and efficient operations on arrays of homogeneous data. **"
      ]
    },
    {
      "cell_type": "markdown",
      "metadata": {
        "id": "K098c6Nis8Os",
        "colab_type": "text"
      },
      "source": [
        "**N-dimensional Array (ndarray Object)**\n",
        "\n",
        "ndarray is multi-dimensional container which can contain only homogenous items.Shape of such array is defined by \"shape\" attribute.The datatype of the items inside an nd array is stored in an object known as 'dtype'.\n",
        "\n",
        "\n"
      ]
    },
    {
      "cell_type": "code",
      "metadata": {
        "id": "HU_3mtHatlUy",
        "colab_type": "code",
        "outputId": "ae6f5450-69c9-43eb-ecb5-626bb95e2ac2",
        "colab": {
          "base_uri": "https://localhost:8080/",
          "height": 68
        }
      },
      "source": [
        "import numpy as np\n",
        "\n",
        "x= np.array([[1,2],[3,4]])\n",
        "x.shape\n",
        "print('x:\\n', x)"
      ],
      "execution_count": 2,
      "outputs": [
        {
          "output_type": "stream",
          "text": [
            "x:\n",
            " [[1 2]\n",
            " [3 4]]\n"
          ],
          "name": "stdout"
        }
      ]
    },
    {
      "cell_type": "code",
      "metadata": {
        "id": "tghL-7_RtzzJ",
        "colab_type": "code",
        "outputId": "9689a308-b743-4c1f-93a1-bce42dfe6bea",
        "colab": {
          "base_uri": "https://localhost:8080/",
          "height": 51
        }
      },
      "source": [
        "print('x:shape\\n',x.shape)"
      ],
      "execution_count": 0,
      "outputs": [
        {
          "output_type": "stream",
          "text": [
            "x:shape\n",
            " (2, 2)\n"
          ],
          "name": "stdout"
        }
      ]
    },
    {
      "cell_type": "code",
      "metadata": {
        "id": "atv6xjwUuEnI",
        "colab_type": "code",
        "outputId": "ab4cf59e-ad99-44d9-aff6-486e65589d4a",
        "colab": {
          "base_uri": "https://localhost:8080/",
          "height": 34
        }
      },
      "source": [
        "# total number of elements of the array is returned by the size\n",
        "x.size"
      ],
      "execution_count": 0,
      "outputs": [
        {
          "output_type": "execute_result",
          "data": {
            "text/plain": [
              "4"
            ]
          },
          "metadata": {
            "tags": []
          },
          "execution_count": 4
        }
      ]
    },
    {
      "cell_type": "code",
      "metadata": {
        "id": "r7TD2ApxusNz",
        "colab_type": "code",
        "outputId": "dbc78f4e-2ca2-4d53-de8c-bc2ecf5658ac",
        "colab": {
          "base_uri": "https://localhost:8080/",
          "height": 51
        }
      },
      "source": [
        "# number of axis (dimensions) of the array \n",
        "# ndim~number of dimensions\n",
        "print('x:\\n', x.ndim)"
      ],
      "execution_count": 0,
      "outputs": [
        {
          "output_type": "stream",
          "text": [
            "x:\n",
            " 2\n"
          ],
          "name": "stdout"
        }
      ]
    },
    {
      "cell_type": "code",
      "metadata": {
        "id": "q6-Iv3WGu9_i",
        "colab_type": "code",
        "outputId": "fe4e3cb4-68b7-4158-df77-0b54f40cd9ad",
        "colab": {
          "base_uri": "https://localhost:8080/",
          "height": 51
        }
      },
      "source": [
        "# datatype of homogenous array\n",
        "print('x:\\n',x.dtype)"
      ],
      "execution_count": 0,
      "outputs": [
        {
          "output_type": "stream",
          "text": [
            "x:\n",
            " int64\n"
          ],
          "name": "stdout"
        }
      ]
    },
    {
      "cell_type": "code",
      "metadata": {
        "id": "dk436kr2vUBO",
        "colab_type": "code",
        "outputId": "c9631ecb-553b-4cb8-cf66-b1bde49d442f",
        "colab": {
          "base_uri": "https://localhost:8080/",
          "height": 34
        }
      },
      "source": [
        "# exercise\n",
        "\n",
        "#  8 (=64/8)\n",
        "\n",
        "array=np.arange(64)\n",
        "array.size"
      ],
      "execution_count": 0,
      "outputs": [
        {
          "output_type": "execute_result",
          "data": {
            "text/plain": [
              "64"
            ]
          },
          "metadata": {
            "tags": []
          },
          "execution_count": 7
        }
      ]
    },
    {
      "cell_type": "markdown",
      "metadata": {
        "id": "bTFZgzS6xVHb",
        "colab_type": "text"
      },
      "source": [
        "**Making a ndarray object**\n",
        "\n",
        "np.empty  -creates unintialized numpy array of given shape and size\n"
      ]
    },
    {
      "cell_type": "code",
      "metadata": {
        "id": "CkSjNBaDxjE6",
        "colab_type": "code",
        "outputId": "e1041629-9690-4036-8b08-9eec379546f9",
        "colab": {
          "base_uri": "https://localhost:8080/",
          "height": 68
        }
      },
      "source": [
        "arr=np.empty(shape=[2,2],dtype=int)\n",
        "\n",
        "print('arr:\\n',arr)"
      ],
      "execution_count": 0,
      "outputs": [
        {
          "output_type": "stream",
          "text": [
            "arr:\n",
            " [[4607182418800017408 4607182418800017408]\n",
            " [4607182418800017408                   0]]\n"
          ],
          "name": "stdout"
        }
      ]
    },
    {
      "cell_type": "markdown",
      "metadata": {
        "id": "U9-deej9x_3B",
        "colab_type": "text"
      },
      "source": [
        "**np.zeros**\n",
        "\n",
        "creates numpy aarray of given size and given type initialized with errors\n"
      ]
    },
    {
      "cell_type": "code",
      "metadata": {
        "id": "Rs7yTIxmyTa3",
        "colab_type": "code",
        "outputId": "5b3d0dea-47de-4420-8234-43a9d1560e02",
        "colab": {
          "base_uri": "https://localhost:8080/",
          "height": 51
        }
      },
      "source": [
        "np.zeros(shape=[2,3],dtype=\"float\",order='c')"
      ],
      "execution_count": 0,
      "outputs": [
        {
          "output_type": "execute_result",
          "data": {
            "text/plain": [
              "array([[0., 0., 0.],\n",
              "       [0., 0., 0.]])"
            ]
          },
          "metadata": {
            "tags": []
          },
          "execution_count": 9
        }
      ]
    },
    {
      "cell_type": "markdown",
      "metadata": {
        "id": "U10r5_354Qfv",
        "colab_type": "text"
      },
      "source": [
        "**np.ones**"
      ]
    },
    {
      "cell_type": "code",
      "metadata": {
        "id": "y6-JZ3EJx7hr",
        "colab_type": "code",
        "outputId": "83f280a3-1f2c-404f-93b4-9578f0b1657b",
        "colab": {
          "base_uri": "https://localhost:8080/",
          "height": 68
        }
      },
      "source": [
        "np.ones(shape=[3,3],dtype=str)"
      ],
      "execution_count": 0,
      "outputs": [
        {
          "output_type": "execute_result",
          "data": {
            "text/plain": [
              "array([['1', '1', '1'],\n",
              "       ['1', '1', '1'],\n",
              "       ['1', '1', '1']], dtype='<U1')"
            ]
          },
          "metadata": {
            "tags": []
          },
          "execution_count": 10
        }
      ]
    },
    {
      "cell_type": "markdown",
      "metadata": {
        "id": "q_JOiqwV4gkK",
        "colab_type": "text"
      },
      "source": [
        "**np.arange**"
      ]
    },
    {
      "cell_type": "code",
      "metadata": {
        "id": "H_n-oXgM4m6R",
        "colab_type": "code",
        "outputId": "7e0cb3e1-d3a4-4633-8a38-08c8c59bd7d2",
        "colab": {
          "base_uri": "https://localhost:8080/",
          "height": 34
        }
      },
      "source": [
        "# np.arange(start,stop,step,dtype)\n",
        "np.arange(start=100,stop=1000,step=200,dtype=int)"
      ],
      "execution_count": 0,
      "outputs": [
        {
          "output_type": "execute_result",
          "data": {
            "text/plain": [
              "array([100, 300, 500, 700, 900])"
            ]
          },
          "metadata": {
            "tags": []
          },
          "execution_count": 11
        }
      ]
    },
    {
      "cell_type": "markdown",
      "metadata": {
        "id": "i8A_10Ta48qr",
        "colab_type": "text"
      },
      "source": [
        "**np.linespace**\n",
        "\n",
        "it return evenly spaced numbers over a specified interval\n"
      ]
    },
    {
      "cell_type": "code",
      "metadata": {
        "id": "HiIbEWlq5Qo5",
        "colab_type": "code",
        "outputId": "56c3aebb-9911-4c01-c170-91c9a16ec4a2",
        "colab": {
          "base_uri": "https://localhost:8080/",
          "height": 187
        }
      },
      "source": [
        "print(np.linspace(start=2,stop=10,endpoint=True,retstep=2))"
      ],
      "execution_count": 0,
      "outputs": [
        {
          "output_type": "stream",
          "text": [
            "(array([ 2.        ,  2.16326531,  2.32653061,  2.48979592,  2.65306122,\n",
            "        2.81632653,  2.97959184,  3.14285714,  3.30612245,  3.46938776,\n",
            "        3.63265306,  3.79591837,  3.95918367,  4.12244898,  4.28571429,\n",
            "        4.44897959,  4.6122449 ,  4.7755102 ,  4.93877551,  5.10204082,\n",
            "        5.26530612,  5.42857143,  5.59183673,  5.75510204,  5.91836735,\n",
            "        6.08163265,  6.24489796,  6.40816327,  6.57142857,  6.73469388,\n",
            "        6.89795918,  7.06122449,  7.2244898 ,  7.3877551 ,  7.55102041,\n",
            "        7.71428571,  7.87755102,  8.04081633,  8.20408163,  8.36734694,\n",
            "        8.53061224,  8.69387755,  8.85714286,  9.02040816,  9.18367347,\n",
            "        9.34693878,  9.51020408,  9.67346939,  9.83673469, 10.        ]), 0.16326530612244897)\n"
          ],
          "name": "stdout"
        }
      ]
    },
    {
      "cell_type": "code",
      "metadata": {
        "id": "rKZ8bt1j5tVb",
        "colab_type": "code",
        "outputId": "d623e585-30a9-4e99-ccf6-a5011d8581f4",
        "colab": {
          "base_uri": "https://localhost:8080/",
          "height": 102
        }
      },
      "source": [
        "np.array([np.empty(shape=[1,3]),np.zeros(shape=[1,3]),np.ones(shape=[1,3])],dtype=int)"
      ],
      "execution_count": 0,
      "outputs": [
        {
          "output_type": "execute_result",
          "data": {
            "text/plain": [
              "array([[[0, 0, 0]],\n",
              "\n",
              "       [[0, 0, 0]],\n",
              "\n",
              "       [[1, 1, 1]]])"
            ]
          },
          "metadata": {
            "tags": []
          },
          "execution_count": 13
        }
      ]
    },
    {
      "cell_type": "markdown",
      "metadata": {
        "id": "Cfp73paS6bWL",
        "colab_type": "text"
      },
      "source": [
        "**Array Element Accessing**"
      ]
    },
    {
      "cell_type": "code",
      "metadata": {
        "id": "AGUJa4WV6gVx",
        "colab_type": "code",
        "colab": {}
      },
      "source": [
        "x=np.arange(50,100)"
      ],
      "execution_count": 0,
      "outputs": []
    },
    {
      "cell_type": "code",
      "metadata": {
        "id": "pGRJ6uzf7vjm",
        "colab_type": "code",
        "outputId": "7a08846b-f572-45ff-90a8-8f19f719c8a1",
        "colab": {
          "base_uri": "https://localhost:8080/",
          "height": 34
        }
      },
      "source": [
        "x[4]"
      ],
      "execution_count": 0,
      "outputs": [
        {
          "output_type": "execute_result",
          "data": {
            "text/plain": [
              "54"
            ]
          },
          "metadata": {
            "tags": []
          },
          "execution_count": 15
        }
      ]
    },
    {
      "cell_type": "code",
      "metadata": {
        "id": "aTO_3gav8By8",
        "colab_type": "code",
        "outputId": "c8114732-b86b-47c9-87b8-75eaee759f2a",
        "colab": {
          "base_uri": "https://localhost:8080/",
          "height": 68
        }
      },
      "source": [
        "# using slice object, x[start,stop,step]\n",
        "print('X[5:35:11]\\n',x[2:33:1])"
      ],
      "execution_count": 0,
      "outputs": [
        {
          "output_type": "stream",
          "text": [
            "X[5:35:11]\n",
            " [52 53 54 55 56 57 58 59 60 61 62 63 64 65 66 67 68 69 70 71 72 73 74 75\n",
            " 76 77 78 79 80 81 82]\n"
          ],
          "name": "stdout"
        }
      ]
    },
    {
      "cell_type": "code",
      "metadata": {
        "id": "H3GOKwC181mQ",
        "colab_type": "code",
        "outputId": "ff17b429-f4d6-417a-8961-2e232b51ebb3",
        "colab": {
          "base_uri": "https://localhost:8080/",
          "height": 51
        }
      },
      "source": [
        "# using tuple of splice object\n",
        "\n",
        "print('x\\n:',x[40:])"
      ],
      "execution_count": 0,
      "outputs": [
        {
          "output_type": "stream",
          "text": [
            "x\n",
            ": [90 91 92 93 94 95 96 97 98 99]\n"
          ],
          "name": "stdout"
        }
      ]
    },
    {
      "cell_type": "code",
      "metadata": {
        "id": "ou0_nB96-J3w",
        "colab_type": "code",
        "outputId": "1a40bc5c-3f7a-470e-8844-01f78eea2058",
        "colab": {
          "base_uri": "https://localhost:8080/",
          "height": 51
        }
      },
      "source": [
        "task=np.arange(90,100,1)\n",
        "\n",
        "print(task[[3,7,8]])\n",
        "print(task[[-3,-7,-8]])"
      ],
      "execution_count": 0,
      "outputs": [
        {
          "output_type": "stream",
          "text": [
            "[93 97 98]\n",
            "[97 93 92]\n"
          ],
          "name": "stdout"
        }
      ]
    },
    {
      "cell_type": "code",
      "metadata": {
        "id": "21AxlllI_sXs",
        "colab_type": "code",
        "outputId": "f0169fc0-3c9c-4b0e-b412-ca729c2cb0b4",
        "colab": {
          "base_uri": "https://localhost:8080/",
          "height": 34
        }
      },
      "source": [
        "x=np.random.randint(100,size=10)\n",
        "print(x)"
      ],
      "execution_count": 0,
      "outputs": [
        {
          "output_type": "stream",
          "text": [
            "[15 38  5 69 71 48 22 92 81 33]\n"
          ],
          "name": "stdout"
        }
      ]
    },
    {
      "cell_type": "markdown",
      "metadata": {
        "id": "5v4KIu5hGmhp",
        "colab_type": "text"
      },
      "source": [
        "**Boolean Indexing (return view)**"
      ]
    },
    {
      "cell_type": "markdown",
      "metadata": {
        "id": "d61jqk-a9FLv",
        "colab_type": "text"
      },
      "source": [
        "#Applied AI NumPy\n",
        "\n",
        "Numpy provides:\n",
        "1. Extension package to python for multi-dimensional arrays\n",
        "2. closer to hardware (efficiency)\n",
        "3. designed for scientific computation(convinience)\n",
        "4. also known as array oriented computing"
      ]
    },
    {
      "cell_type": "code",
      "metadata": {
        "id": "ALyo5EzaGp9r",
        "colab_type": "code",
        "outputId": "8d84db4b-bddd-4cae-b719-cb4760569d6a",
        "colab": {
          "base_uri": "https://localhost:8080/",
          "height": 51
        }
      },
      "source": [
        "import numpy as np\n",
        "a = np.array([0,1,2,3])\n",
        "print(a)\n",
        "\n",
        "np.arange(10)"
      ],
      "execution_count": 0,
      "outputs": [
        {
          "output_type": "stream",
          "text": [
            "[0 1 2 3]\n"
          ],
          "name": "stdout"
        },
        {
          "output_type": "execute_result",
          "data": {
            "text/plain": [
              "array([0, 1, 2, 3, 4, 5, 6, 7, 8, 9])"
            ]
          },
          "metadata": {
            "tags": []
          },
          "execution_count": 1
        }
      ]
    },
    {
      "cell_type": "code",
      "metadata": {
        "id": "M-5Cc02W-PPr",
        "colab_type": "code",
        "outputId": "2f50bbbc-cf71-4bb0-e075-cabebfb93d0e",
        "colab": {
          "base_uri": "https://localhost:8080/",
          "height": 34
        }
      },
      "source": [
        "l= range(1000)\n",
        "%timeit [i**2 for i in l]"
      ],
      "execution_count": 0,
      "outputs": [
        {
          "output_type": "stream",
          "text": [
            "1000 loops, best of 3: 261 µs per loop\n"
          ],
          "name": "stdout"
        }
      ]
    },
    {
      "cell_type": "code",
      "metadata": {
        "id": "PUCupAQQ-fmt",
        "colab_type": "code",
        "outputId": "58eba7e2-a06a-413b-d587-90e6f1a312ed",
        "colab": {
          "base_uri": "https://localhost:8080/",
          "height": 51
        }
      },
      "source": [
        "a= np.arange(1000)\n",
        "%timeit a**2"
      ],
      "execution_count": 0,
      "outputs": [
        {
          "output_type": "stream",
          "text": [
            "The slowest run took 23.92 times longer than the fastest. This could mean that an intermediate result is being cached.\n",
            "1000000 loops, best of 3: 1.43 µs per loop\n"
          ],
          "name": "stdout"
        }
      ]
    },
    {
      "cell_type": "markdown",
      "metadata": {
        "id": "E97C08yH_EdN",
        "colab_type": "text"
      },
      "source": [
        "# Creating Arrays\n",
        "\n",
        "## 1.1 Manual Construction of arrays\n"
      ]
    },
    {
      "cell_type": "code",
      "metadata": {
        "id": "LGKNWJcu_Nzj",
        "colab_type": "code",
        "outputId": "dc8e1f9d-e4f2-4f53-b952-f73bfdbff36d",
        "colab": {
          "base_uri": "https://localhost:8080/",
          "height": 68
        }
      },
      "source": [
        "# 1-D\n",
        "\n",
        "a = np.array([0,1,2,3])\n",
        "\n",
        "print(a.ndim)\n",
        "\n",
        "\n",
        "print(a.shape)\n",
        "\n",
        "\n",
        "print(len(a))"
      ],
      "execution_count": 0,
      "outputs": [
        {
          "output_type": "stream",
          "text": [
            "1\n",
            "(4,)\n",
            "4\n"
          ],
          "name": "stdout"
        }
      ]
    },
    {
      "cell_type": "code",
      "metadata": {
        "id": "RsyXSigkACx-",
        "colab_type": "code",
        "outputId": "09688a18-2816-497e-8f09-d60844460e0c",
        "colab": {
          "base_uri": "https://localhost:8080/",
          "height": 68
        }
      },
      "source": [
        "b = np.array([[0,1,2],[3,4,5]])\n",
        "\n",
        "print(b.ndim)\n",
        "\n",
        "print(b.shape)\n",
        "\n",
        "print(len(b))\n",
        "\n",
        "# [0,1,2]\n",
        "# [3,4,5]"
      ],
      "execution_count": 0,
      "outputs": [
        {
          "output_type": "stream",
          "text": [
            "2\n",
            "(2, 3)\n",
            "2\n"
          ],
          "name": "stdout"
        }
      ]
    },
    {
      "cell_type": "code",
      "metadata": {
        "id": "chfw-MPSASDk",
        "colab_type": "code",
        "outputId": "2653e2e6-9e7d-4fa7-f042-9d310849590d",
        "colab": {
          "base_uri": "https://localhost:8080/",
          "height": 102
        }
      },
      "source": [
        "c = np.array([[[0,1],[3,4]],[[5,6],[7,8]]])\n",
        "c"
      ],
      "execution_count": 0,
      "outputs": [
        {
          "output_type": "execute_result",
          "data": {
            "text/plain": [
              "array([[[0, 1],\n",
              "        [3, 4]],\n",
              "\n",
              "       [[5, 6],\n",
              "        [7, 8]]])"
            ]
          },
          "metadata": {
            "tags": []
          },
          "execution_count": 6
        }
      ]
    },
    {
      "cell_type": "code",
      "metadata": {
        "id": "HZA2iZSZB9xR",
        "colab_type": "code",
        "outputId": "50d58042-010f-446b-affa-f9970ab00554",
        "colab": {
          "base_uri": "https://localhost:8080/",
          "height": 34
        }
      },
      "source": [
        "print(c.ndim)"
      ],
      "execution_count": 0,
      "outputs": [
        {
          "output_type": "stream",
          "text": [
            "3\n"
          ],
          "name": "stdout"
        }
      ]
    },
    {
      "cell_type": "code",
      "metadata": {
        "id": "TAIsxgw0CAbC",
        "colab_type": "code",
        "outputId": "3fb4b8a5-9b5b-403b-b710-5e8401e7b454",
        "colab": {
          "base_uri": "https://localhost:8080/",
          "height": 34
        }
      },
      "source": [
        "print(c.shape)"
      ],
      "execution_count": 0,
      "outputs": [
        {
          "output_type": "stream",
          "text": [
            "(2, 2, 2)\n"
          ],
          "name": "stdout"
        }
      ]
    },
    {
      "cell_type": "markdown",
      "metadata": {
        "id": "ZsbIcUcrCOpZ",
        "colab_type": "text"
      },
      "source": [
        "<!-- 1D - > Vector\n",
        "     2D - > metrics\n",
        "     ND - > tensor\n",
        " -->"
      ]
    },
    {
      "cell_type": "markdown",
      "metadata": {
        "id": "52hIHlY3Ce_z",
        "colab_type": "text"
      },
      "source": [
        ""
      ]
    },
    {
      "cell_type": "markdown",
      "metadata": {
        "id": "yzRsAx6gDXMZ",
        "colab_type": "text"
      },
      "source": [
        "1D -> vector\n",
        "2D -> metrics\n",
        "3D -> Tensor"
      ]
    },
    {
      "cell_type": "markdown",
      "metadata": {
        "id": "fBCikPnfCIDG",
        "colab_type": "text"
      },
      "source": [
        "#1.2  create array using function"
      ]
    },
    {
      "cell_type": "code",
      "metadata": {
        "id": "0YWKS11oCGxe",
        "colab_type": "code",
        "outputId": "c780e26e-1d44-4fa4-fa78-a3ee3e2e6c4c",
        "colab": {
          "base_uri": "https://localhost:8080/",
          "height": 34
        }
      },
      "source": [
        "a = np.arange(1,10,2) # start,end(exclusive),step\n",
        "a"
      ],
      "execution_count": 0,
      "outputs": [
        {
          "output_type": "execute_result",
          "data": {
            "text/plain": [
              "array([1, 3, 5, 7, 9])"
            ]
          },
          "metadata": {
            "tags": []
          },
          "execution_count": 9
        }
      ]
    },
    {
      "cell_type": "code",
      "metadata": {
        "id": "HVFZ2Y77CEHz",
        "colab_type": "code",
        "outputId": "96aa7041-562c-4097-8fa1-fb32c8ceab88",
        "colab": {
          "base_uri": "https://localhost:8080/",
          "height": 34
        }
      },
      "source": [
        "# using linspace (linear space)\n",
        "b = np.linspace(0,1,6)# start,end(inclusive),number of points\n",
        "b"
      ],
      "execution_count": 0,
      "outputs": [
        {
          "output_type": "execute_result",
          "data": {
            "text/plain": [
              "array([0. , 0.2, 0.4, 0.6, 0.8, 1. ])"
            ]
          },
          "metadata": {
            "tags": []
          },
          "execution_count": 10
        }
      ]
    },
    {
      "cell_type": "code",
      "metadata": {
        "id": "sMDnc3rDDsX8",
        "colab_type": "code",
        "outputId": "5998a671-bf9d-4d83-ac3b-ed53175d6a2d",
        "colab": {
          "base_uri": "https://localhost:8080/",
          "height": 68
        }
      },
      "source": [
        "#common Arrays\n",
        "a = np.ones((3,3)) #tuple(3,3)\n",
        "a"
      ],
      "execution_count": 0,
      "outputs": [
        {
          "output_type": "execute_result",
          "data": {
            "text/plain": [
              "array([[1., 1., 1.],\n",
              "       [1., 1., 1.],\n",
              "       [1., 1., 1.]])"
            ]
          },
          "metadata": {
            "tags": []
          },
          "execution_count": 11
        }
      ]
    },
    {
      "cell_type": "code",
      "metadata": {
        "id": "cZ0JtsSfEQ-z",
        "colab_type": "code",
        "outputId": "7856019d-f52e-481d-af7f-26b9bb5aa179",
        "colab": {
          "base_uri": "https://localhost:8080/",
          "height": 68
        }
      },
      "source": [
        "b = np.zeros((3,3))\n",
        "b"
      ],
      "execution_count": 0,
      "outputs": [
        {
          "output_type": "execute_result",
          "data": {
            "text/plain": [
              "array([[0., 0., 0.],\n",
              "       [0., 0., 0.],\n",
              "       [0., 0., 0.]])"
            ]
          },
          "metadata": {
            "tags": []
          },
          "execution_count": 21
        }
      ]
    },
    {
      "cell_type": "code",
      "metadata": {
        "id": "5Sc6XHMmEbG1",
        "colab_type": "code",
        "outputId": "77ee7039-32d9-45ee-b5b1-eed471c8c0e0",
        "colab": {
          "base_uri": "https://localhost:8080/",
          "height": 68
        }
      },
      "source": [
        "# Identical metrics\n",
        "c = np.eye(3)\n",
        "c"
      ],
      "execution_count": 0,
      "outputs": [
        {
          "output_type": "execute_result",
          "data": {
            "text/plain": [
              "array([[1., 0., 0.],\n",
              "       [0., 1., 0.],\n",
              "       [0., 0., 1.]])"
            ]
          },
          "metadata": {
            "tags": []
          },
          "execution_count": 23
        }
      ]
    },
    {
      "cell_type": "code",
      "metadata": {
        "id": "fdURRwU1gU14",
        "colab_type": "code",
        "outputId": "8b13fde9-c1e4-477d-eb9f-146c65965f35",
        "colab": {
          "base_uri": "https://localhost:8080/",
          "height": 85
        }
      },
      "source": [
        "a= [1,2,3,4]\n",
        "np.diag(a)"
      ],
      "execution_count": 0,
      "outputs": [
        {
          "output_type": "execute_result",
          "data": {
            "text/plain": [
              "array([[1, 0, 0, 0],\n",
              "       [0, 2, 0, 0],\n",
              "       [0, 0, 3, 0],\n",
              "       [0, 0, 0, 4]])"
            ]
          },
          "metadata": {
            "tags": []
          },
          "execution_count": 12
        }
      ]
    },
    {
      "cell_type": "code",
      "metadata": {
        "id": "hvAxqGNqi6fA",
        "colab_type": "code",
        "outputId": "e1908145-25c8-4a2e-dddc-974a335a6e69",
        "colab": {
          "base_uri": "https://localhost:8080/",
          "height": 34
        }
      },
      "source": [
        "a= np.random.rand(4)\n",
        "print(a)\n",
        "\n",
        "# it returns an array of size 4.\n",
        "# uniform distributed random number"
      ],
      "execution_count": 0,
      "outputs": [
        {
          "output_type": "stream",
          "text": [
            "[0.15656612 0.80796613 0.60967182 0.33775509]\n"
          ],
          "name": "stdout"
        }
      ]
    },
    {
      "cell_type": "code",
      "metadata": {
        "id": "wzypg_uijVBZ",
        "colab_type": "code",
        "outputId": "71f1cfcf-9bb4-4dc1-bb68-f9f1b025deb4",
        "colab": {
          "base_uri": "https://localhost:8080/",
          "height": 34
        }
      },
      "source": [
        "b = np.random.randn(4)\n",
        "print(b)\n",
        "# guassian distributed"
      ],
      "execution_count": 0,
      "outputs": [
        {
          "output_type": "stream",
          "text": [
            "[ 0.50849285  0.03268071 -1.4419076  -1.03432996]\n"
          ],
          "name": "stdout"
        }
      ]
    },
    {
      "cell_type": "code",
      "metadata": {
        "id": "NhND0-dcjftV",
        "colab_type": "code",
        "outputId": "6d79612f-6d29-4312-fc87-da2070e4c19b",
        "colab": {
          "base_uri": "https://localhost:8080/",
          "height": 34
        }
      },
      "source": [
        "np.arange(10,dtype='float64')\n",
        "# floating numbers"
      ],
      "execution_count": 0,
      "outputs": [
        {
          "output_type": "execute_result",
          "data": {
            "text/plain": [
              "array([0., 1., 2., 3., 4., 5., 6., 7., 8., 9.])"
            ]
          },
          "metadata": {
            "tags": []
          },
          "execution_count": 17
        }
      ]
    },
    {
      "cell_type": "code",
      "metadata": {
        "id": "dpWiB0yAjFql",
        "colab_type": "code",
        "colab": {}
      },
      "source": [
        "# whenever we use ones and zeroes the iot generate floats"
      ],
      "execution_count": 0,
      "outputs": []
    },
    {
      "cell_type": "markdown",
      "metadata": {
        "id": "bvyAmZCBt0MZ",
        "colab_type": "text"
      },
      "source": [
        "#Np Array Masking"
      ]
    },
    {
      "cell_type": "code",
      "metadata": {
        "id": "b61e_XtEt-Th",
        "colab_type": "code",
        "colab": {
          "base_uri": "https://localhost:8080/",
          "height": 34
        },
        "outputId": "5d7699d9-0dfa-4e83-fee7-ec8824fbc84b"
      },
      "source": [
        "a= np.random.randint(0,50,15)\n",
        "mask = (a%2 == 0)\n",
        "\n",
        "extract_from_a= a[mask]\n",
        "\n",
        "extract_from_a"
      ],
      "execution_count": 10,
      "outputs": [
        {
          "output_type": "execute_result",
          "data": {
            "text/plain": [
              "array([ 2,  4, 48, 44, 44,  8])"
            ]
          },
          "metadata": {
            "tags": []
          },
          "execution_count": 10
        }
      ]
    },
    {
      "cell_type": "markdown",
      "metadata": {
        "id": "Mw2vTpsFu8KT",
        "colab_type": "text"
      },
      "source": [
        "# NumPy Numerical Operations"
      ]
    },
    {
      "cell_type": "code",
      "metadata": {
        "id": "yTtouQ3uvAfu",
        "colab_type": "code",
        "colab": {
          "base_uri": "https://localhost:8080/",
          "height": 34
        },
        "outputId": "63131fae-34e6-43b2-90b1-cd94bf139395"
      },
      "source": [
        " a = np. array([1,2,3,5])\n",
        " a+1  # one is going to add at each index"
      ],
      "execution_count": 12,
      "outputs": [
        {
          "output_type": "execute_result",
          "data": {
            "text/plain": [
              "array([2, 3, 4, 6])"
            ]
          },
          "metadata": {
            "tags": []
          },
          "execution_count": 12
        }
      ]
    },
    {
      "cell_type": "code",
      "metadata": {
        "id": "zxt1nToSvQaT",
        "colab_type": "code",
        "colab": {
          "base_uri": "https://localhost:8080/",
          "height": 34
        },
        "outputId": "7c85c56a-18fb-4ba9-9f4c-de78488fce85"
      },
      "source": [
        "a**2"
      ],
      "execution_count": 13,
      "outputs": [
        {
          "output_type": "execute_result",
          "data": {
            "text/plain": [
              "array([ 1,  4,  9, 25])"
            ]
          },
          "metadata": {
            "tags": []
          },
          "execution_count": 13
        }
      ]
    }
  ]
}
{
  "nbformat": 4,
  "nbformat_minor": 0,
  "metadata": {
    "colab": {
      "name": "numPy_Tutorial.ipynb",
      "provenance": [],
      "include_colab_link": true
    },
    "kernelspec": {
      "name": "python3",
      "display_name": "Python 3"
    }
  },
  "cells": [
    {
      "cell_type": "markdown",
      "metadata": {
        "id": "view-in-github",
        "colab_type": "text"
      },
      "source": [
        "<a href=\"https://colab.research.google.com/github/ParasNandwani/python/blob/master/numPy_Tutorial.ipynb\" target=\"_parent\"><img src=\"https://colab.research.google.com/assets/colab-badge.svg\" alt=\"Open In Colab\"/></a>"
      ]
    },
    {
      "cell_type": "markdown",
      "metadata": {
        "id": "p69bf0gIsgHY",
        "colab_type": "text"
      },
      "source": [
        "** Numpy stands for \"Numerical Python\".\n",
        "\n",
        "It is a python extension module and not a programming language.\n",
        "\n",
        "It provides fast and efficient operations on arrays of homogeneous data. **"
      ]
    },
    {
      "cell_type": "markdown",
      "metadata": {
        "id": "K098c6Nis8Os",
        "colab_type": "text"
      },
      "source": [
        "**N-dimensional Array (ndarray Object)**\n",
        "\n",
        "ndarray is multi-dimensional container which can contain only homogenous items.Shape of such array is defined by \"shape\" attribute.The datatype of the items inside an nd array is stored in an object known as 'dtype'.\n",
        "\n",
        "\n"
      ]
    },
    {
      "cell_type": "code",
      "metadata": {
        "id": "HU_3mtHatlUy",
        "colab_type": "code",
        "colab": {
          "base_uri": "https://localhost:8080/",
          "height": 68
        },
        "outputId": "08aaa997-0ebe-45cd-83ec-748d921c0864"
      },
      "source": [
        "import numpy as np\n",
        "\n",
        "x= np.array([[1,2],[3,4]])\n",
        "x.shape\n",
        "print('x:\\n', x)"
      ],
      "execution_count": 3,
      "outputs": [
        {
          "output_type": "stream",
          "text": [
            "x:\n",
            " [[1 2]\n",
            " [3 4]]\n"
          ],
          "name": "stdout"
        }
      ]
    },
    {
      "cell_type": "code",
      "metadata": {
        "id": "tghL-7_RtzzJ",
        "colab_type": "code",
        "colab": {
          "base_uri": "https://localhost:8080/",
          "height": 51
        },
        "outputId": "4dd39516-cbf3-409b-8720-f941efb0be08"
      },
      "source": [
        "print('x:shape\\n',x.shape)"
      ],
      "execution_count": 4,
      "outputs": [
        {
          "output_type": "stream",
          "text": [
            "x:shape\n",
            " (2, 2)\n"
          ],
          "name": "stdout"
        }
      ]
    },
    {
      "cell_type": "code",
      "metadata": {
        "id": "atv6xjwUuEnI",
        "colab_type": "code",
        "colab": {
          "base_uri": "https://localhost:8080/",
          "height": 34
        },
        "outputId": "2d5ab01f-02e3-4d35-bec6-159fb9f8bd5a"
      },
      "source": [
        "# total number of elements of the array is returned by the size\n",
        "x.size"
      ],
      "execution_count": 5,
      "outputs": [
        {
          "output_type": "execute_result",
          "data": {
            "text/plain": [
              "4"
            ]
          },
          "metadata": {
            "tags": []
          },
          "execution_count": 5
        }
      ]
    },
    {
      "cell_type": "code",
      "metadata": {
        "id": "r7TD2ApxusNz",
        "colab_type": "code",
        "colab": {
          "base_uri": "https://localhost:8080/",
          "height": 51
        },
        "outputId": "40c24f37-a2dc-4195-c17a-c4903852e660"
      },
      "source": [
        "# number of axis (dimensions) of the array \n",
        "# ndim~number of dimensions\n",
        "print('x:\\n', x.ndim)"
      ],
      "execution_count": 6,
      "outputs": [
        {
          "output_type": "stream",
          "text": [
            "x:\n",
            " 2\n"
          ],
          "name": "stdout"
        }
      ]
    },
    {
      "cell_type": "code",
      "metadata": {
        "id": "q6-Iv3WGu9_i",
        "colab_type": "code",
        "colab": {
          "base_uri": "https://localhost:8080/",
          "height": 51
        },
        "outputId": "22fc40f0-90a2-4077-c68a-645c193495f8"
      },
      "source": [
        "# datatype of homogenous array\n",
        "print('x:\\n',x.dtype)"
      ],
      "execution_count": 7,
      "outputs": [
        {
          "output_type": "stream",
          "text": [
            "x:\n",
            " int64\n"
          ],
          "name": "stdout"
        }
      ]
    },
    {
      "cell_type": "code",
      "metadata": {
        "id": "dk436kr2vUBO",
        "colab_type": "code",
        "colab": {
          "base_uri": "https://localhost:8080/",
          "height": 34
        },
        "outputId": "d8daa0bc-6669-45db-eb60-c44fd97e11b4"
      },
      "source": [
        "# exercise\n",
        "\n",
        "#  8 (=64/8)\n",
        "\n",
        "array=np.arange(64)\n",
        "array.size"
      ],
      "execution_count": 12,
      "outputs": [
        {
          "output_type": "execute_result",
          "data": {
            "text/plain": [
              "64"
            ]
          },
          "metadata": {
            "tags": []
          },
          "execution_count": 12
        }
      ]
    },
    {
      "cell_type": "markdown",
      "metadata": {
        "id": "bTFZgzS6xVHb",
        "colab_type": "text"
      },
      "source": [
        "**Making a ndarray object**\n",
        "\n",
        "np.empty  -creates unintialized numpy array of given shape and size\n"
      ]
    },
    {
      "cell_type": "code",
      "metadata": {
        "id": "CkSjNBaDxjE6",
        "colab_type": "code",
        "colab": {
          "base_uri": "https://localhost:8080/",
          "height": 68
        },
        "outputId": "1e7a7876-aef8-4f43-f82b-23d1fc260cef"
      },
      "source": [
        "arr=np.empty(shape=[2,2],dtype=int)\n",
        "\n",
        "print('arr:\\n',arr)"
      ],
      "execution_count": 18,
      "outputs": [
        {
          "output_type": "stream",
          "text": [
            "arr:\n",
            " [[       47633888               0]\n",
            " [139676554301392               0]]\n"
          ],
          "name": "stdout"
        }
      ]
    },
    {
      "cell_type": "markdown",
      "metadata": {
        "id": "U9-deej9x_3B",
        "colab_type": "text"
      },
      "source": [
        "**np.zeros**\n",
        "\n",
        "creates numpy aarray of given size and given type initialized with errors\n"
      ]
    },
    {
      "cell_type": "code",
      "metadata": {
        "id": "Rs7yTIxmyTa3",
        "colab_type": "code",
        "colab": {
          "base_uri": "https://localhost:8080/",
          "height": 51
        },
        "outputId": "c5ddb17e-8b93-44d0-f31a-3a4a36cc359b"
      },
      "source": [
        "np.zeros(shape=[2,3],dtype=\"float\",order='c')"
      ],
      "execution_count": 19,
      "outputs": [
        {
          "output_type": "execute_result",
          "data": {
            "text/plain": [
              "array([[0., 0., 0.],\n",
              "       [0., 0., 0.]])"
            ]
          },
          "metadata": {
            "tags": []
          },
          "execution_count": 19
        }
      ]
    },
    {
      "cell_type": "markdown",
      "metadata": {
        "id": "U10r5_354Qfv",
        "colab_type": "text"
      },
      "source": [
        "**np.ones**"
      ]
    },
    {
      "cell_type": "code",
      "metadata": {
        "id": "y6-JZ3EJx7hr",
        "colab_type": "code",
        "colab": {
          "base_uri": "https://localhost:8080/",
          "height": 68
        },
        "outputId": "8fa903b2-a49c-43de-8aa0-ae6ecc91761a"
      },
      "source": [
        "np.ones(shape=[3,3],dtype=str)"
      ],
      "execution_count": 20,
      "outputs": [
        {
          "output_type": "execute_result",
          "data": {
            "text/plain": [
              "array([['1', '1', '1'],\n",
              "       ['1', '1', '1'],\n",
              "       ['1', '1', '1']], dtype='<U1')"
            ]
          },
          "metadata": {
            "tags": []
          },
          "execution_count": 20
        }
      ]
    },
    {
      "cell_type": "markdown",
      "metadata": {
        "id": "q_JOiqwV4gkK",
        "colab_type": "text"
      },
      "source": [
        "**np.arange**"
      ]
    },
    {
      "cell_type": "code",
      "metadata": {
        "id": "H_n-oXgM4m6R",
        "colab_type": "code",
        "colab": {
          "base_uri": "https://localhost:8080/",
          "height": 34
        },
        "outputId": "2049839a-856c-4942-c007-3a24da8e1a4c"
      },
      "source": [
        "# np.arange(start,stop,step,dtype)\n",
        "np.arange(start=100,stop=1000,step=200,dtype=int)"
      ],
      "execution_count": 21,
      "outputs": [
        {
          "output_type": "execute_result",
          "data": {
            "text/plain": [
              "array([100, 300, 500, 700, 900])"
            ]
          },
          "metadata": {
            "tags": []
          },
          "execution_count": 21
        }
      ]
    },
    {
      "cell_type": "markdown",
      "metadata": {
        "id": "i8A_10Ta48qr",
        "colab_type": "text"
      },
      "source": [
        "**np.linespace**\n",
        "\n",
        "it return evenly spaced numbers over a specified interval\n"
      ]
    },
    {
      "cell_type": "code",
      "metadata": {
        "id": "HiIbEWlq5Qo5",
        "colab_type": "code",
        "colab": {
          "base_uri": "https://localhost:8080/",
          "height": 187
        },
        "outputId": "d9daa273-d130-41c9-bdd4-de694714d610"
      },
      "source": [
        "print(np.linspace(start=2,stop=10,endpoint=True,retstep=2))"
      ],
      "execution_count": 25,
      "outputs": [
        {
          "output_type": "stream",
          "text": [
            "(array([ 2.        ,  2.16326531,  2.32653061,  2.48979592,  2.65306122,\n",
            "        2.81632653,  2.97959184,  3.14285714,  3.30612245,  3.46938776,\n",
            "        3.63265306,  3.79591837,  3.95918367,  4.12244898,  4.28571429,\n",
            "        4.44897959,  4.6122449 ,  4.7755102 ,  4.93877551,  5.10204082,\n",
            "        5.26530612,  5.42857143,  5.59183673,  5.75510204,  5.91836735,\n",
            "        6.08163265,  6.24489796,  6.40816327,  6.57142857,  6.73469388,\n",
            "        6.89795918,  7.06122449,  7.2244898 ,  7.3877551 ,  7.55102041,\n",
            "        7.71428571,  7.87755102,  8.04081633,  8.20408163,  8.36734694,\n",
            "        8.53061224,  8.69387755,  8.85714286,  9.02040816,  9.18367347,\n",
            "        9.34693878,  9.51020408,  9.67346939,  9.83673469, 10.        ]), 0.16326530612244897)\n"
          ],
          "name": "stdout"
        }
      ]
    },
    {
      "cell_type": "code",
      "metadata": {
        "id": "rKZ8bt1j5tVb",
        "colab_type": "code",
        "colab": {
          "base_uri": "https://localhost:8080/",
          "height": 102
        },
        "outputId": "496b0717-6661-4cf1-ca8e-483416833f70"
      },
      "source": [
        "np.array([np.empty(shape=[1,3]),np.zeros(shape=[1,3]),np.ones(shape=[1,3])],dtype=int)"
      ],
      "execution_count": 28,
      "outputs": [
        {
          "output_type": "execute_result",
          "data": {
            "text/plain": [
              "array([[[10,  0,  1]],\n",
              "\n",
              "       [[ 0,  0,  0]],\n",
              "\n",
              "       [[ 1,  1,  1]]])"
            ]
          },
          "metadata": {
            "tags": []
          },
          "execution_count": 28
        }
      ]
    },
    {
      "cell_type": "markdown",
      "metadata": {
        "id": "Cfp73paS6bWL",
        "colab_type": "text"
      },
      "source": [
        "**Array Element Accessing**"
      ]
    },
    {
      "cell_type": "code",
      "metadata": {
        "id": "AGUJa4WV6gVx",
        "colab_type": "code",
        "colab": {}
      },
      "source": [
        "x=np.arange(50,100)"
      ],
      "execution_count": 0,
      "outputs": []
    },
    {
      "cell_type": "code",
      "metadata": {
        "id": "pGRJ6uzf7vjm",
        "colab_type": "code",
        "colab": {
          "base_uri": "https://localhost:8080/",
          "height": 34
        },
        "outputId": "7c01fcf7-36a9-4f8f-9cbb-200daba6b0fa"
      },
      "source": [
        "x[4]"
      ],
      "execution_count": 32,
      "outputs": [
        {
          "output_type": "execute_result",
          "data": {
            "text/plain": [
              "54"
            ]
          },
          "metadata": {
            "tags": []
          },
          "execution_count": 32
        }
      ]
    },
    {
      "cell_type": "code",
      "metadata": {
        "id": "aTO_3gav8By8",
        "colab_type": "code",
        "colab": {
          "base_uri": "https://localhost:8080/",
          "height": 68
        },
        "outputId": "9f46db0c-a82f-460e-b052-67b45c086090"
      },
      "source": [
        "# using slice object, x[start,stop,step]\n",
        "print('X[5:35:11]\\n',x[2:33:1])"
      ],
      "execution_count": 37,
      "outputs": [
        {
          "output_type": "stream",
          "text": [
            "X[5:35:11]\n",
            " [52 53 54 55 56 57 58 59 60 61 62 63 64 65 66 67 68 69 70 71 72 73 74 75\n",
            " 76 77 78 79 80 81 82]\n"
          ],
          "name": "stdout"
        }
      ]
    },
    {
      "cell_type": "code",
      "metadata": {
        "id": "H3GOKwC181mQ",
        "colab_type": "code",
        "colab": {
          "base_uri": "https://localhost:8080/",
          "height": 51
        },
        "outputId": "f0c97c17-cc84-437d-c323-7722ef7d9173"
      },
      "source": [
        "# using tuple of splice object\n",
        "\n",
        "print('x\\n:',x[40:])"
      ],
      "execution_count": 39,
      "outputs": [
        {
          "output_type": "stream",
          "text": [
            "x\n",
            ": [90 91 92 93 94 95 96 97 98 99]\n"
          ],
          "name": "stdout"
        }
      ]
    },
    {
      "cell_type": "code",
      "metadata": {
        "id": "ou0_nB96-J3w",
        "colab_type": "code",
        "colab": {
          "base_uri": "https://localhost:8080/",
          "height": 51
        },
        "outputId": "abff8f4e-480f-4ee3-deee-e70664d089e6"
      },
      "source": [
        "task=np.arange(90,100,1)\n",
        "\n",
        "print(task[[3,7,8]])\n",
        "print(task[[-3,-7,-8]])"
      ],
      "execution_count": 48,
      "outputs": [
        {
          "output_type": "stream",
          "text": [
            "[93 97 98]\n",
            "[97 93 92]\n"
          ],
          "name": "stdout"
        }
      ]
    }
  ]
}
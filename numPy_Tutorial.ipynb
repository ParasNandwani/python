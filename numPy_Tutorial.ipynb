{
  "nbformat": 4,
  "nbformat_minor": 0,
  "metadata": {
    "colab": {
      "name": "numPy_Tutorial.ipynb",
      "provenance": [],
      "include_colab_link": true
    },
    "kernelspec": {
      "name": "python3",
      "display_name": "Python 3"
    }
  },
  "cells": [
    {
      "cell_type": "markdown",
      "metadata": {
        "id": "view-in-github",
        "colab_type": "text"
      },
      "source": [
        "<a href=\"https://colab.research.google.com/github/ParasNandwani/python/blob/master/numPy_Tutorial.ipynb\" target=\"_parent\"><img src=\"https://colab.research.google.com/assets/colab-badge.svg\" alt=\"Open In Colab\"/></a>"
      ]
    },
    {
      "cell_type": "markdown",
      "metadata": {
        "id": "p69bf0gIsgHY",
        "colab_type": "text"
      },
      "source": [
        "** Numpy stands for \"Numerical Python\".\n",
        "\n",
        "It is a python extension module and not a programming language.\n",
        "\n",
        "It provides fast and efficient operations on arrays of homogeneous data. **"
      ]
    },
    {
      "cell_type": "markdown",
      "metadata": {
        "id": "K098c6Nis8Os",
        "colab_type": "text"
      },
      "source": [
        "**N-dimensional Array (ndarray Object)**\n",
        "\n",
        "ndarray is multi-dimensional container which can contain only homogenous items.Shape of such array is defined by \"shape\" attribute.The datatype of the items inside an nd array is stored in an object known as 'dtype'.\n",
        "\n",
        "\n"
      ]
    },
    {
      "cell_type": "code",
      "metadata": {
        "id": "HU_3mtHatlUy",
        "colab_type": "code",
        "outputId": "8583b6a9-c08e-4e25-da4f-a6e56459ac7a",
        "colab": {
          "base_uri": "https://localhost:8080/",
          "height": 68
        }
      },
      "source": [
        "import numpy as np\n",
        "\n",
        "x= np.array([[1,2],[3,4]])\n",
        "x.shape\n",
        "print('x:\\n', x)"
      ],
      "execution_count": 0,
      "outputs": [
        {
          "output_type": "stream",
          "text": [
            "x:\n",
            " [[1 2]\n",
            " [3 4]]\n"
          ],
          "name": "stdout"
        }
      ]
    },
    {
      "cell_type": "code",
      "metadata": {
        "id": "tghL-7_RtzzJ",
        "colab_type": "code",
        "outputId": "9689a308-b743-4c1f-93a1-bce42dfe6bea",
        "colab": {
          "base_uri": "https://localhost:8080/",
          "height": 51
        }
      },
      "source": [
        "print('x:shape\\n',x.shape)"
      ],
      "execution_count": 0,
      "outputs": [
        {
          "output_type": "stream",
          "text": [
            "x:shape\n",
            " (2, 2)\n"
          ],
          "name": "stdout"
        }
      ]
    },
    {
      "cell_type": "code",
      "metadata": {
        "id": "atv6xjwUuEnI",
        "colab_type": "code",
        "outputId": "ab4cf59e-ad99-44d9-aff6-486e65589d4a",
        "colab": {
          "base_uri": "https://localhost:8080/",
          "height": 34
        }
      },
      "source": [
        "# total number of elements of the array is returned by the size\n",
        "x.size"
      ],
      "execution_count": 0,
      "outputs": [
        {
          "output_type": "execute_result",
          "data": {
            "text/plain": [
              "4"
            ]
          },
          "metadata": {
            "tags": []
          },
          "execution_count": 4
        }
      ]
    },
    {
      "cell_type": "code",
      "metadata": {
        "id": "r7TD2ApxusNz",
        "colab_type": "code",
        "outputId": "dbc78f4e-2ca2-4d53-de8c-bc2ecf5658ac",
        "colab": {
          "base_uri": "https://localhost:8080/",
          "height": 51
        }
      },
      "source": [
        "# number of axis (dimensions) of the array \n",
        "# ndim~number of dimensions\n",
        "print('x:\\n', x.ndim)"
      ],
      "execution_count": 0,
      "outputs": [
        {
          "output_type": "stream",
          "text": [
            "x:\n",
            " 2\n"
          ],
          "name": "stdout"
        }
      ]
    },
    {
      "cell_type": "code",
      "metadata": {
        "id": "q6-Iv3WGu9_i",
        "colab_type": "code",
        "outputId": "fe4e3cb4-68b7-4158-df77-0b54f40cd9ad",
        "colab": {
          "base_uri": "https://localhost:8080/",
          "height": 51
        }
      },
      "source": [
        "# datatype of homogenous array\n",
        "print('x:\\n',x.dtype)"
      ],
      "execution_count": 0,
      "outputs": [
        {
          "output_type": "stream",
          "text": [
            "x:\n",
            " int64\n"
          ],
          "name": "stdout"
        }
      ]
    },
    {
      "cell_type": "code",
      "metadata": {
        "id": "dk436kr2vUBO",
        "colab_type": "code",
        "outputId": "c9631ecb-553b-4cb8-cf66-b1bde49d442f",
        "colab": {
          "base_uri": "https://localhost:8080/",
          "height": 34
        }
      },
      "source": [
        "# exercise\n",
        "\n",
        "#  8 (=64/8)\n",
        "\n",
        "array=np.arange(64)\n",
        "array.size"
      ],
      "execution_count": 0,
      "outputs": [
        {
          "output_type": "execute_result",
          "data": {
            "text/plain": [
              "64"
            ]
          },
          "metadata": {
            "tags": []
          },
          "execution_count": 7
        }
      ]
    },
    {
      "cell_type": "markdown",
      "metadata": {
        "id": "bTFZgzS6xVHb",
        "colab_type": "text"
      },
      "source": [
        "**Making a ndarray object**\n",
        "\n",
        "np.empty  -creates unintialized numpy array of given shape and size\n"
      ]
    },
    {
      "cell_type": "code",
      "metadata": {
        "id": "CkSjNBaDxjE6",
        "colab_type": "code",
        "outputId": "e1041629-9690-4036-8b08-9eec379546f9",
        "colab": {
          "base_uri": "https://localhost:8080/",
          "height": 68
        }
      },
      "source": [
        "arr=np.empty(shape=[2,2],dtype=int)\n",
        "\n",
        "print('arr:\\n',arr)"
      ],
      "execution_count": 0,
      "outputs": [
        {
          "output_type": "stream",
          "text": [
            "arr:\n",
            " [[4607182418800017408 4607182418800017408]\n",
            " [4607182418800017408                   0]]\n"
          ],
          "name": "stdout"
        }
      ]
    },
    {
      "cell_type": "markdown",
      "metadata": {
        "id": "U9-deej9x_3B",
        "colab_type": "text"
      },
      "source": [
        "**np.zeros**\n",
        "\n",
        "creates numpy aarray of given size and given type initialized with errors\n"
      ]
    },
    {
      "cell_type": "code",
      "metadata": {
        "id": "Rs7yTIxmyTa3",
        "colab_type": "code",
        "outputId": "5b3d0dea-47de-4420-8234-43a9d1560e02",
        "colab": {
          "base_uri": "https://localhost:8080/",
          "height": 51
        }
      },
      "source": [
        "np.zeros(shape=[2,3],dtype=\"float\",order='c')"
      ],
      "execution_count": 0,
      "outputs": [
        {
          "output_type": "execute_result",
          "data": {
            "text/plain": [
              "array([[0., 0., 0.],\n",
              "       [0., 0., 0.]])"
            ]
          },
          "metadata": {
            "tags": []
          },
          "execution_count": 9
        }
      ]
    },
    {
      "cell_type": "markdown",
      "metadata": {
        "id": "U10r5_354Qfv",
        "colab_type": "text"
      },
      "source": [
        "**np.ones**"
      ]
    },
    {
      "cell_type": "code",
      "metadata": {
        "id": "y6-JZ3EJx7hr",
        "colab_type": "code",
        "outputId": "83f280a3-1f2c-404f-93b4-9578f0b1657b",
        "colab": {
          "base_uri": "https://localhost:8080/",
          "height": 68
        }
      },
      "source": [
        "np.ones(shape=[3,3],dtype=str)"
      ],
      "execution_count": 0,
      "outputs": [
        {
          "output_type": "execute_result",
          "data": {
            "text/plain": [
              "array([['1', '1', '1'],\n",
              "       ['1', '1', '1'],\n",
              "       ['1', '1', '1']], dtype='<U1')"
            ]
          },
          "metadata": {
            "tags": []
          },
          "execution_count": 10
        }
      ]
    },
    {
      "cell_type": "markdown",
      "metadata": {
        "id": "q_JOiqwV4gkK",
        "colab_type": "text"
      },
      "source": [
        "**np.arange**"
      ]
    },
    {
      "cell_type": "code",
      "metadata": {
        "id": "H_n-oXgM4m6R",
        "colab_type": "code",
        "outputId": "7e0cb3e1-d3a4-4633-8a38-08c8c59bd7d2",
        "colab": {
          "base_uri": "https://localhost:8080/",
          "height": 34
        }
      },
      "source": [
        "# np.arange(start,stop,step,dtype)\n",
        "np.arange(start=100,stop=1000,step=200,dtype=int)"
      ],
      "execution_count": 0,
      "outputs": [
        {
          "output_type": "execute_result",
          "data": {
            "text/plain": [
              "array([100, 300, 500, 700, 900])"
            ]
          },
          "metadata": {
            "tags": []
          },
          "execution_count": 11
        }
      ]
    },
    {
      "cell_type": "markdown",
      "metadata": {
        "id": "i8A_10Ta48qr",
        "colab_type": "text"
      },
      "source": [
        "**np.linespace**\n",
        "\n",
        "it return evenly spaced numbers over a specified interval\n"
      ]
    },
    {
      "cell_type": "code",
      "metadata": {
        "id": "HiIbEWlq5Qo5",
        "colab_type": "code",
        "outputId": "56c3aebb-9911-4c01-c170-91c9a16ec4a2",
        "colab": {
          "base_uri": "https://localhost:8080/",
          "height": 187
        }
      },
      "source": [
        "print(np.linspace(start=2,stop=10,endpoint=True,retstep=2))"
      ],
      "execution_count": 0,
      "outputs": [
        {
          "output_type": "stream",
          "text": [
            "(array([ 2.        ,  2.16326531,  2.32653061,  2.48979592,  2.65306122,\n",
            "        2.81632653,  2.97959184,  3.14285714,  3.30612245,  3.46938776,\n",
            "        3.63265306,  3.79591837,  3.95918367,  4.12244898,  4.28571429,\n",
            "        4.44897959,  4.6122449 ,  4.7755102 ,  4.93877551,  5.10204082,\n",
            "        5.26530612,  5.42857143,  5.59183673,  5.75510204,  5.91836735,\n",
            "        6.08163265,  6.24489796,  6.40816327,  6.57142857,  6.73469388,\n",
            "        6.89795918,  7.06122449,  7.2244898 ,  7.3877551 ,  7.55102041,\n",
            "        7.71428571,  7.87755102,  8.04081633,  8.20408163,  8.36734694,\n",
            "        8.53061224,  8.69387755,  8.85714286,  9.02040816,  9.18367347,\n",
            "        9.34693878,  9.51020408,  9.67346939,  9.83673469, 10.        ]), 0.16326530612244897)\n"
          ],
          "name": "stdout"
        }
      ]
    },
    {
      "cell_type": "code",
      "metadata": {
        "id": "rKZ8bt1j5tVb",
        "colab_type": "code",
        "outputId": "d623e585-30a9-4e99-ccf6-a5011d8581f4",
        "colab": {
          "base_uri": "https://localhost:8080/",
          "height": 102
        }
      },
      "source": [
        "np.array([np.empty(shape=[1,3]),np.zeros(shape=[1,3]),np.ones(shape=[1,3])],dtype=int)"
      ],
      "execution_count": 0,
      "outputs": [
        {
          "output_type": "execute_result",
          "data": {
            "text/plain": [
              "array([[[0, 0, 0]],\n",
              "\n",
              "       [[0, 0, 0]],\n",
              "\n",
              "       [[1, 1, 1]]])"
            ]
          },
          "metadata": {
            "tags": []
          },
          "execution_count": 13
        }
      ]
    },
    {
      "cell_type": "markdown",
      "metadata": {
        "id": "Cfp73paS6bWL",
        "colab_type": "text"
      },
      "source": [
        "**Array Element Accessing**"
      ]
    },
    {
      "cell_type": "code",
      "metadata": {
        "id": "AGUJa4WV6gVx",
        "colab_type": "code",
        "colab": {}
      },
      "source": [
        "x=np.arange(50,100)"
      ],
      "execution_count": 0,
      "outputs": []
    },
    {
      "cell_type": "code",
      "metadata": {
        "id": "pGRJ6uzf7vjm",
        "colab_type": "code",
        "outputId": "7a08846b-f572-45ff-90a8-8f19f719c8a1",
        "colab": {
          "base_uri": "https://localhost:8080/",
          "height": 34
        }
      },
      "source": [
        "x[4]"
      ],
      "execution_count": 0,
      "outputs": [
        {
          "output_type": "execute_result",
          "data": {
            "text/plain": [
              "54"
            ]
          },
          "metadata": {
            "tags": []
          },
          "execution_count": 15
        }
      ]
    },
    {
      "cell_type": "code",
      "metadata": {
        "id": "aTO_3gav8By8",
        "colab_type": "code",
        "outputId": "c8114732-b86b-47c9-87b8-75eaee759f2a",
        "colab": {
          "base_uri": "https://localhost:8080/",
          "height": 68
        }
      },
      "source": [
        "# using slice object, x[start,stop,step]\n",
        "print('X[5:35:11]\\n',x[2:33:1])"
      ],
      "execution_count": 0,
      "outputs": [
        {
          "output_type": "stream",
          "text": [
            "X[5:35:11]\n",
            " [52 53 54 55 56 57 58 59 60 61 62 63 64 65 66 67 68 69 70 71 72 73 74 75\n",
            " 76 77 78 79 80 81 82]\n"
          ],
          "name": "stdout"
        }
      ]
    },
    {
      "cell_type": "code",
      "metadata": {
        "id": "H3GOKwC181mQ",
        "colab_type": "code",
        "outputId": "ff17b429-f4d6-417a-8961-2e232b51ebb3",
        "colab": {
          "base_uri": "https://localhost:8080/",
          "height": 51
        }
      },
      "source": [
        "# using tuple of splice object\n",
        "\n",
        "print('x\\n:',x[40:])"
      ],
      "execution_count": 0,
      "outputs": [
        {
          "output_type": "stream",
          "text": [
            "x\n",
            ": [90 91 92 93 94 95 96 97 98 99]\n"
          ],
          "name": "stdout"
        }
      ]
    },
    {
      "cell_type": "code",
      "metadata": {
        "id": "ou0_nB96-J3w",
        "colab_type": "code",
        "outputId": "1a40bc5c-3f7a-470e-8844-01f78eea2058",
        "colab": {
          "base_uri": "https://localhost:8080/",
          "height": 51
        }
      },
      "source": [
        "task=np.arange(90,100,1)\n",
        "\n",
        "print(task[[3,7,8]])\n",
        "print(task[[-3,-7,-8]])"
      ],
      "execution_count": 0,
      "outputs": [
        {
          "output_type": "stream",
          "text": [
            "[93 97 98]\n",
            "[97 93 92]\n"
          ],
          "name": "stdout"
        }
      ]
    },
    {
      "cell_type": "code",
      "metadata": {
        "id": "21AxlllI_sXs",
        "colab_type": "code",
        "outputId": "f0169fc0-3c9c-4b0e-b412-ca729c2cb0b4",
        "colab": {
          "base_uri": "https://localhost:8080/",
          "height": 34
        }
      },
      "source": [
        "x=np.random.randint(100,size=10)\n",
        "print(x)"
      ],
      "execution_count": 0,
      "outputs": [
        {
          "output_type": "stream",
          "text": [
            "[15 38  5 69 71 48 22 92 81 33]\n"
          ],
          "name": "stdout"
        }
      ]
    },
    {
      "cell_type": "markdown",
      "metadata": {
        "id": "5v4KIu5hGmhp",
        "colab_type": "text"
      },
      "source": [
        "**Boolean Indexing (return view)**"
      ]
    },
    {
      "cell_type": "markdown",
      "metadata": {
        "id": "d61jqk-a9FLv",
        "colab_type": "text"
      },
      "source": [
        "#Applied AI NumPy\n",
        "\n",
        "Numpy provides:\n",
        "1. Extension package to python for multi-dimensional arrays\n",
        "2. closer to hardware (efficiency)\n",
        "3. designed for scientific computation(convinience)\n",
        "4. also known as array oriented computing"
      ]
    },
    {
      "cell_type": "code",
      "metadata": {
        "id": "ALyo5EzaGp9r",
        "colab_type": "code",
        "colab": {
          "base_uri": "https://localhost:8080/",
          "height": 51
        },
        "outputId": "d4e6181a-dd77-4789-de63-825b76f93ad5"
      },
      "source": [
        "import numpy as np\n",
        "a = np.array([0,1,2,3])\n",
        "print(a)\n",
        "\n",
        "np.arange(10)"
      ],
      "execution_count": 2,
      "outputs": [
        {
          "output_type": "stream",
          "text": [
            "[0 1 2 3]\n"
          ],
          "name": "stdout"
        },
        {
          "output_type": "execute_result",
          "data": {
            "text/plain": [
              "array([0, 1, 2, 3, 4, 5, 6, 7, 8, 9])"
            ]
          },
          "metadata": {
            "tags": []
          },
          "execution_count": 2
        }
      ]
    },
    {
      "cell_type": "code",
      "metadata": {
        "id": "M-5Cc02W-PPr",
        "colab_type": "code",
        "colab": {
          "base_uri": "https://localhost:8080/",
          "height": 51
        },
        "outputId": "3a04d123-799c-4e0b-c26e-82202ab2e0de"
      },
      "source": [
        "l= range(1000)\n",
        "%timeit [i**2 for i in l]"
      ],
      "execution_count": 3,
      "outputs": [
        {
          "output_type": "stream",
          "text": [
            "The slowest run took 6.58 times longer than the fastest. This could mean that an intermediate result is being cached.\n",
            "1000 loops, best of 3: 255 µs per loop\n"
          ],
          "name": "stdout"
        }
      ]
    },
    {
      "cell_type": "code",
      "metadata": {
        "id": "PUCupAQQ-fmt",
        "colab_type": "code",
        "colab": {
          "base_uri": "https://localhost:8080/",
          "height": 51
        },
        "outputId": "7bb5351f-27c8-43c7-822f-196a0198ec46"
      },
      "source": [
        "a= np.arange(1000)\n",
        "%timeit a**2"
      ],
      "execution_count": 4,
      "outputs": [
        {
          "output_type": "stream",
          "text": [
            "The slowest run took 27.77 times longer than the fastest. This could mean that an intermediate result is being cached.\n",
            "1000000 loops, best of 3: 1.38 µs per loop\n"
          ],
          "name": "stdout"
        }
      ]
    },
    {
      "cell_type": "markdown",
      "metadata": {
        "id": "E97C08yH_EdN",
        "colab_type": "text"
      },
      "source": [
        "# Creating Arrays\n",
        "\n",
        "## 1.1 Manual Construction of arrays\n"
      ]
    },
    {
      "cell_type": "code",
      "metadata": {
        "id": "LGKNWJcu_Nzj",
        "colab_type": "code",
        "colab": {
          "base_uri": "https://localhost:8080/",
          "height": 68
        },
        "outputId": "8f42b484-f8cd-4cdb-c98e-a598cf0bcbc9"
      },
      "source": [
        "# 1-D\n",
        "\n",
        "a = np.array([0,1,2,3])\n",
        "\n",
        "print(a.ndim)\n",
        "\n",
        "\n",
        "print(a.shape)\n",
        "\n",
        "\n",
        "print(len(a))"
      ],
      "execution_count": 7,
      "outputs": [
        {
          "output_type": "stream",
          "text": [
            "1\n",
            "(4,)\n",
            "4\n"
          ],
          "name": "stdout"
        }
      ]
    },
    {
      "cell_type": "code",
      "metadata": {
        "id": "RsyXSigkACx-",
        "colab_type": "code",
        "colab": {
          "base_uri": "https://localhost:8080/",
          "height": 68
        },
        "outputId": "40ce9c6c-70cd-4add-d42a-bc5c4d4435c7"
      },
      "source": [
        "b = np.array([[0,1,2],[3,4,5]])\n",
        "\n",
        "print(b.ndim)\n",
        "\n",
        "print(b.shape)\n",
        "\n",
        "print(len(b))\n",
        "\n",
        "# [0,1,2]\n",
        "# [3,4,5]"
      ],
      "execution_count": 10,
      "outputs": [
        {
          "output_type": "stream",
          "text": [
            "2\n",
            "(2, 3)\n",
            "2\n"
          ],
          "name": "stdout"
        }
      ]
    },
    {
      "cell_type": "code",
      "metadata": {
        "id": "chfw-MPSASDk",
        "colab_type": "code",
        "colab": {
          "base_uri": "https://localhost:8080/",
          "height": 102
        },
        "outputId": "ef29f22b-907c-4e13-ee58-7bb42907e707"
      },
      "source": [
        "c = np.array([[[0,1],[3,4]],[[5,6],[7,8]]])\n",
        "c"
      ],
      "execution_count": 11,
      "outputs": [
        {
          "output_type": "execute_result",
          "data": {
            "text/plain": [
              "array([[[0, 1],\n",
              "        [3, 4]],\n",
              "\n",
              "       [[5, 6],\n",
              "        [7, 8]]])"
            ]
          },
          "metadata": {
            "tags": []
          },
          "execution_count": 11
        }
      ]
    },
    {
      "cell_type": "code",
      "metadata": {
        "id": "HZA2iZSZB9xR",
        "colab_type": "code",
        "colab": {
          "base_uri": "https://localhost:8080/",
          "height": 34
        },
        "outputId": "92719083-9a42-4391-bf5c-f46adc78c823"
      },
      "source": [
        "print(c.ndim)"
      ],
      "execution_count": 12,
      "outputs": [
        {
          "output_type": "stream",
          "text": [
            "3\n"
          ],
          "name": "stdout"
        }
      ]
    },
    {
      "cell_type": "code",
      "metadata": {
        "id": "TAIsxgw0CAbC",
        "colab_type": "code",
        "colab": {
          "base_uri": "https://localhost:8080/",
          "height": 34
        },
        "outputId": "2a8ae63f-54ad-479d-8aaf-a7cae9b13bbd"
      },
      "source": [
        "print(c.shape)"
      ],
      "execution_count": 13,
      "outputs": [
        {
          "output_type": "stream",
          "text": [
            "(2, 2, 2)\n"
          ],
          "name": "stdout"
        }
      ]
    },
    {
      "cell_type": "markdown",
      "metadata": {
        "id": "ZsbIcUcrCOpZ",
        "colab_type": "text"
      },
      "source": [
        "<!-- 1D - > Vector\n",
        "     2D - > metrics\n",
        "     ND - > tensor\n",
        " -->"
      ]
    },
    {
      "cell_type": "markdown",
      "metadata": {
        "id": "52hIHlY3Ce_z",
        "colab_type": "text"
      },
      "source": [
        ""
      ]
    },
    {
      "cell_type": "markdown",
      "metadata": {
        "id": "yzRsAx6gDXMZ",
        "colab_type": "text"
      },
      "source": [
        "1D -> vector\n",
        "2D -> metrics\n",
        "3D -> Tensor"
      ]
    },
    {
      "cell_type": "markdown",
      "metadata": {
        "id": "fBCikPnfCIDG",
        "colab_type": "text"
      },
      "source": [
        "#1.2  create array using function"
      ]
    },
    {
      "cell_type": "code",
      "metadata": {
        "id": "0YWKS11oCGxe",
        "colab_type": "code",
        "colab": {
          "base_uri": "https://localhost:8080/",
          "height": 34
        },
        "outputId": "2f2dbc29-f373-4850-cf8d-bc61e9286c01"
      },
      "source": [
        "a = np.arange(1,10,2) # start,end(exclusive),step\n",
        "a"
      ],
      "execution_count": 14,
      "outputs": [
        {
          "output_type": "execute_result",
          "data": {
            "text/plain": [
              "array([1, 3, 5, 7, 9])"
            ]
          },
          "metadata": {
            "tags": []
          },
          "execution_count": 14
        }
      ]
    },
    {
      "cell_type": "code",
      "metadata": {
        "id": "HVFZ2Y77CEHz",
        "colab_type": "code",
        "colab": {
          "base_uri": "https://localhost:8080/",
          "height": 34
        },
        "outputId": "0f23511d-24f5-413d-b854-47e1763c55c4"
      },
      "source": [
        "# using linspace (linear space)\n",
        "b = np.linspace(0,1,6)# start,end(inclusive),number of points\n",
        "b"
      ],
      "execution_count": 16,
      "outputs": [
        {
          "output_type": "execute_result",
          "data": {
            "text/plain": [
              "array([0. , 0.2, 0.4, 0.6, 0.8, 1. ])"
            ]
          },
          "metadata": {
            "tags": []
          },
          "execution_count": 16
        }
      ]
    },
    {
      "cell_type": "code",
      "metadata": {
        "id": "sMDnc3rDDsX8",
        "colab_type": "code",
        "colab": {
          "base_uri": "https://localhost:8080/",
          "height": 68
        },
        "outputId": "c571cc8b-01cc-4414-ebcf-2fe01e388097"
      },
      "source": [
        "#common Arrays\n",
        "a = np.ones((3,3)) #tuple(3,3)\n",
        "a"
      ],
      "execution_count": 18,
      "outputs": [
        {
          "output_type": "execute_result",
          "data": {
            "text/plain": [
              "array([[1., 1., 1.],\n",
              "       [1., 1., 1.],\n",
              "       [1., 1., 1.]])"
            ]
          },
          "metadata": {
            "tags": []
          },
          "execution_count": 18
        }
      ]
    },
    {
      "cell_type": "code",
      "metadata": {
        "id": "cZ0JtsSfEQ-z",
        "colab_type": "code",
        "colab": {
          "base_uri": "https://localhost:8080/",
          "height": 68
        },
        "outputId": "7856019d-f52e-481d-af7f-26b9bb5aa179"
      },
      "source": [
        "b = np.zeros((3,3))\n",
        "b"
      ],
      "execution_count": 21,
      "outputs": [
        {
          "output_type": "execute_result",
          "data": {
            "text/plain": [
              "array([[0., 0., 0.],\n",
              "       [0., 0., 0.],\n",
              "       [0., 0., 0.]])"
            ]
          },
          "metadata": {
            "tags": []
          },
          "execution_count": 21
        }
      ]
    },
    {
      "cell_type": "code",
      "metadata": {
        "id": "5Sc6XHMmEbG1",
        "colab_type": "code",
        "colab": {
          "base_uri": "https://localhost:8080/",
          "height": 68
        },
        "outputId": "77ee7039-32d9-45ee-b5b1-eed471c8c0e0"
      },
      "source": [
        "# Identical metrics\n",
        "c = np.eye(3)\n",
        "c"
      ],
      "execution_count": 23,
      "outputs": [
        {
          "output_type": "execute_result",
          "data": {
            "text/plain": [
              "array([[1., 0., 0.],\n",
              "       [0., 1., 0.],\n",
              "       [0., 0., 1.]])"
            ]
          },
          "metadata": {
            "tags": []
          },
          "execution_count": 23
        }
      ]
    }
  ]
}
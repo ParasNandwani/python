{
  "nbformat": 4,
  "nbformat_minor": 0,
  "metadata": {
    "colab": {
      "name": "dateDifference.ipynb",
      "provenance": [],
      "include_colab_link": true
    },
    "kernelspec": {
      "name": "python3",
      "display_name": "Python 3"
    }
  },
  "cells": [
    {
      "cell_type": "markdown",
      "metadata": {
        "id": "view-in-github",
        "colab_type": "text"
      },
      "source": [
        "<a href=\"https://colab.research.google.com/github/ParasNandwani/python/blob/master/dateDifference.ipynb\" target=\"_parent\"><img src=\"https://colab.research.google.com/assets/colab-badge.svg\" alt=\"Open In Colab\"/></a>"
      ]
    },
    {
      "cell_type": "code",
      "metadata": {
        "id": "T7aFBwGea8WH",
        "colab_type": "code",
        "colab": {
          "base_uri": "https://localhost:8080/",
          "height": 122
        },
        "outputId": "e7224334-942b-4dce-c7c1-71ad9ca551b6"
      },
      "source": [
        "from google.colab import drive\n",
        "drive.mount('/content/drive')\n",
        "\n"
      ],
      "execution_count": 2,
      "outputs": [
        {
          "output_type": "stream",
          "text": [
            "Go to this URL in a browser: https://accounts.google.com/o/oauth2/auth?client_id=947318989803-6bn6qk8qdgf4n4g3pfee6491hc0brc4i.apps.googleusercontent.com&redirect_uri=urn%3aietf%3awg%3aoauth%3a2.0%3aoob&response_type=code&scope=email%20https%3a%2f%2fwww.googleapis.com%2fauth%2fdocs.test%20https%3a%2f%2fwww.googleapis.com%2fauth%2fdrive%20https%3a%2f%2fwww.googleapis.com%2fauth%2fdrive.photos.readonly%20https%3a%2f%2fwww.googleapis.com%2fauth%2fpeopleapi.readonly\n",
            "\n",
            "Enter your authorization code:\n",
            "··········\n",
            "Mounted at /content/drive\n"
          ],
          "name": "stdout"
        }
      ]
    },
    {
      "cell_type": "code",
      "metadata": {
        "id": "QGNzMt2aGYZI",
        "colab_type": "code",
        "colab": {
          "base_uri": "https://localhost:8080/",
          "height": 564
        },
        "outputId": "ca472d88-0c53-4777-fa26-301f00cd952c"
      },
      "source": [
        "import pandas as pd\n",
        "import numpy as np\n",
        "file = 'drive/My Drive/Openinc_dch.xlsx'\n",
        "\n",
        "\n",
        "dataFrame=pd.read_excel(file,sheet_name=0)\n",
        "# firstRow=dataFrame.iloc[0]\n",
        "# print(firstRow)\n",
        "# timeDifference=firstRow['Last_Resolved_Date']-firstRow['Submit_Date']\n",
        "# print(timeDifference)\n",
        "\n",
        "# diff_minutes = (timeDifference.days * 24 * 60) + (timeDifference.seconds/60)\n",
        "\n",
        "# print(diff_minutes)\n",
        "\n",
        "dataFrame['Business Hours/Mins']=(dataFrame['Last_Resolved_Date']-dataFrame['Submit_Date'])/np.timedelta64(1,'m')\n",
        "dataFrame.head()\n"
      ],
      "execution_count": 32,
      "outputs": [
        {
          "output_type": "execute_result",
          "data": {
            "text/html": [
              "<div>\n",
              "<style scoped>\n",
              "    .dataframe tbody tr th:only-of-type {\n",
              "        vertical-align: middle;\n",
              "    }\n",
              "\n",
              "    .dataframe tbody tr th {\n",
              "        vertical-align: top;\n",
              "    }\n",
              "\n",
              "    .dataframe thead th {\n",
              "        text-align: right;\n",
              "    }\n",
              "</style>\n",
              "<table border=\"1\" class=\"dataframe\">\n",
              "  <thead>\n",
              "    <tr style=\"text-align: right;\">\n",
              "      <th></th>\n",
              "      <th>Incident_ID</th>\n",
              "      <th>Priority</th>\n",
              "      <th>Impact</th>\n",
              "      <th>Urgency</th>\n",
              "      <th>Status</th>\n",
              "      <th>Incident_Type</th>\n",
              "      <th>SLM_Real_Time_Status</th>\n",
              "      <th>First_Name</th>\n",
              "      <th>Last_Name</th>\n",
              "      <th>Submit_Date</th>\n",
              "      <th>Last_Resolved_Date</th>\n",
              "      <th>Assigned_Group</th>\n",
              "      <th>Assignee</th>\n",
              "      <th>CI</th>\n",
              "      <th>Notes</th>\n",
              "      <th>Assigned_Support_Organization</th>\n",
              "      <th>Business Hours/Mins</th>\n",
              "    </tr>\n",
              "  </thead>\n",
              "  <tbody>\n",
              "    <tr>\n",
              "      <th>0</th>\n",
              "      <td>INC000005201652</td>\n",
              "      <td>Medium</td>\n",
              "      <td>4-Minor/Localized</td>\n",
              "      <td>2-High</td>\n",
              "      <td>Closed</td>\n",
              "      <td>Infrastructure Event</td>\n",
              "      <td>Within the Service Target</td>\n",
              "      <td>Hp</td>\n",
              "      <td>Enduser</td>\n",
              "      <td>2019-08-31 23:46:02</td>\n",
              "      <td>2019-09-01 04:28:03</td>\n",
              "      <td>TCS_WINTEL</td>\n",
              "      <td>Chaman Singh</td>\n",
              "      <td>haj0gbmv4050</td>\n",
              "      <td>Memory exceeds threshold 95%.</td>\n",
              "      <td>DCH</td>\n",
              "      <td>282.016667</td>\n",
              "    </tr>\n",
              "    <tr>\n",
              "      <th>1</th>\n",
              "      <td>INC000005201643</td>\n",
              "      <td>Medium</td>\n",
              "      <td>2-Significant/Large</td>\n",
              "      <td>3-Medium</td>\n",
              "      <td>Closed</td>\n",
              "      <td>Infrastructure Event</td>\n",
              "      <td>Within the Service Target</td>\n",
              "      <td>Hp</td>\n",
              "      <td>Enduser</td>\n",
              "      <td>2019-08-31 23:11:11</td>\n",
              "      <td>2019-09-02 02:18:29</td>\n",
              "      <td>TCS_WINTEL</td>\n",
              "      <td>Rahul Dhamija</td>\n",
              "      <td>sul04115</td>\n",
              "      <td>Filesystem Utilization for C: has breached 80%...</td>\n",
              "      <td>DCH</td>\n",
              "      <td>1627.300000</td>\n",
              "    </tr>\n",
              "    <tr>\n",
              "      <th>2</th>\n",
              "      <td>INC000005201637</td>\n",
              "      <td>Medium</td>\n",
              "      <td>2-Significant/Large</td>\n",
              "      <td>3-Medium</td>\n",
              "      <td>Closed</td>\n",
              "      <td>Infrastructure Event</td>\n",
              "      <td>Within the Service Target</td>\n",
              "      <td>Hp</td>\n",
              "      <td>Enduser</td>\n",
              "      <td>2019-08-31 22:01:11</td>\n",
              "      <td>2019-09-02 02:23:08</td>\n",
              "      <td>TCS_WINTEL</td>\n",
              "      <td>Rahul Dhamija</td>\n",
              "      <td>sul02413</td>\n",
              "      <td>Filesystem Utilization for C: has breached 80%...</td>\n",
              "      <td>DCH</td>\n",
              "      <td>1701.950000</td>\n",
              "    </tr>\n",
              "    <tr>\n",
              "      <th>3</th>\n",
              "      <td>INC000005201636</td>\n",
              "      <td>Medium</td>\n",
              "      <td>2-Significant/Large</td>\n",
              "      <td>3-Medium</td>\n",
              "      <td>Closed</td>\n",
              "      <td>Infrastructure Event</td>\n",
              "      <td>Within the Service Target</td>\n",
              "      <td>Hp</td>\n",
              "      <td>Enduser</td>\n",
              "      <td>2019-08-31 22:00:01</td>\n",
              "      <td>2019-09-02 02:20:54</td>\n",
              "      <td>TCS_WINTEL</td>\n",
              "      <td>Rahul Dhamija</td>\n",
              "      <td>sul02420</td>\n",
              "      <td>Filesystem Utilization for C: has breached 80%...</td>\n",
              "      <td>DCH</td>\n",
              "      <td>1700.883333</td>\n",
              "    </tr>\n",
              "    <tr>\n",
              "      <th>4</th>\n",
              "      <td>INC000005201622</td>\n",
              "      <td>Medium</td>\n",
              "      <td>2-Significant/Large</td>\n",
              "      <td>3-Medium</td>\n",
              "      <td>Closed</td>\n",
              "      <td>Infrastructure Event</td>\n",
              "      <td>Within the Service Target</td>\n",
              "      <td>Hp</td>\n",
              "      <td>Enduser</td>\n",
              "      <td>2019-08-31 18:17:36</td>\n",
              "      <td>2019-09-02 02:45:01</td>\n",
              "      <td>TCS_WINTEL</td>\n",
              "      <td>Rahul Dhamija</td>\n",
              "      <td>sul0gbmr2001</td>\n",
              "      <td>Filesystem Utilization for C: has breached 80%...</td>\n",
              "      <td>DCH</td>\n",
              "      <td>1947.416667</td>\n",
              "    </tr>\n",
              "  </tbody>\n",
              "</table>\n",
              "</div>"
            ],
            "text/plain": [
              "       Incident_ID Priority  ... Assigned_Support_Organization Business Hours/Mins\n",
              "0  INC000005201652   Medium  ...                           DCH          282.016667\n",
              "1  INC000005201643   Medium  ...                           DCH         1627.300000\n",
              "2  INC000005201637   Medium  ...                           DCH         1701.950000\n",
              "3  INC000005201636   Medium  ...                           DCH         1700.883333\n",
              "4  INC000005201622   Medium  ...                           DCH         1947.416667\n",
              "\n",
              "[5 rows x 17 columns]"
            ]
          },
          "metadata": {
            "tags": []
          },
          "execution_count": 32
        }
      ]
    }
  ]
}
{
  "nbformat": 4,
  "nbformat_minor": 0,
  "metadata": {
    "colab": {
      "name": "DataStructureDemo.ipynb",
      "provenance": [],
      "collapsed_sections": [],
      "authorship_tag": "ABX9TyMjrRvYUs0gRkbbXDyJlnlU",
      "include_colab_link": true
    },
    "kernelspec": {
      "name": "python3",
      "display_name": "Python 3"
    }
  },
  "cells": [
    {
      "cell_type": "markdown",
      "metadata": {
        "id": "view-in-github",
        "colab_type": "text"
      },
      "source": [
        "<a href=\"https://colab.research.google.com/github/ParasNandwani/python/blob/master/DataStructureDemo.ipynb\" target=\"_parent\"><img src=\"https://colab.research.google.com/assets/colab-badge.svg\" alt=\"Open In Colab\"/></a>"
      ]
    },
    {
      "cell_type": "code",
      "metadata": {
        "id": "Ea1zSAM8PYEk",
        "colab_type": "code",
        "colab": {
          "base_uri": "https://localhost:8080/",
          "height": 173
        },
        "outputId": "c31792aa-5e25-42fc-dd47-dfb86aa81f6e"
      },
      "source": [
        "!pip install faker"
      ],
      "execution_count": 4,
      "outputs": [
        {
          "output_type": "stream",
          "text": [
            "Collecting faker\n",
            "\u001b[?25l  Downloading https://files.pythonhosted.org/packages/de/21/a0c2ed68ca140d0a5bd0ac762f05cbe03dd52ffb577ae5d5c973dc85e103/Faker-4.1.1-py3-none-any.whl (1.0MB)\n",
            "\r\u001b[K     |▎                               | 10kB 17.9MB/s eta 0:00:01\r\u001b[K     |▋                               | 20kB 5.8MB/s eta 0:00:01\r\u001b[K     |█                               | 30kB 4.5MB/s eta 0:00:01\r\u001b[K     |█▎                              | 40kB 5.6MB/s eta 0:00:01\r\u001b[K     |█▋                              | 51kB 6.0MB/s eta 0:00:01\r\u001b[K     |██                              | 61kB 6.6MB/s eta 0:00:01\r\u001b[K     |██▎                             | 71kB 7.0MB/s eta 0:00:01\r\u001b[K     |██▌                             | 81kB 7.7MB/s eta 0:00:01\r\u001b[K     |██▉                             | 92kB 7.3MB/s eta 0:00:01\r\u001b[K     |███▏                            | 102kB 7.9MB/s eta 0:00:01\r\u001b[K     |███▌                            | 112kB 7.9MB/s eta 0:00:01\r\u001b[K     |███▉                            | 122kB 7.9MB/s eta 0:00:01\r\u001b[K     |████▏                           | 133kB 7.9MB/s eta 0:00:01\r\u001b[K     |████▌                           | 143kB 7.9MB/s eta 0:00:01\r\u001b[K     |████▉                           | 153kB 7.9MB/s eta 0:00:01\r\u001b[K     |█████                           | 163kB 7.9MB/s eta 0:00:01\r\u001b[K     |█████▍                          | 174kB 7.9MB/s eta 0:00:01\r\u001b[K     |█████▊                          | 184kB 7.9MB/s eta 0:00:01\r\u001b[K     |██████                          | 194kB 7.9MB/s eta 0:00:01\r\u001b[K     |██████▍                         | 204kB 7.9MB/s eta 0:00:01\r\u001b[K     |██████▊                         | 215kB 7.9MB/s eta 0:00:01\r\u001b[K     |███████                         | 225kB 7.9MB/s eta 0:00:01\r\u001b[K     |███████▍                        | 235kB 7.9MB/s eta 0:00:01\r\u001b[K     |███████▋                        | 245kB 7.9MB/s eta 0:00:01\r\u001b[K     |████████                        | 256kB 7.9MB/s eta 0:00:01\r\u001b[K     |████████▎                       | 266kB 7.9MB/s eta 0:00:01\r\u001b[K     |████████▋                       | 276kB 7.9MB/s eta 0:00:01\r\u001b[K     |█████████                       | 286kB 7.9MB/s eta 0:00:01\r\u001b[K     |█████████▎                      | 296kB 7.9MB/s eta 0:00:01\r\u001b[K     |█████████▋                      | 307kB 7.9MB/s eta 0:00:01\r\u001b[K     |██████████                      | 317kB 7.9MB/s eta 0:00:01\r\u001b[K     |██████████▏                     | 327kB 7.9MB/s eta 0:00:01\r\u001b[K     |██████████▌                     | 337kB 7.9MB/s eta 0:00:01\r\u001b[K     |██████████▉                     | 348kB 7.9MB/s eta 0:00:01\r\u001b[K     |███████████▏                    | 358kB 7.9MB/s eta 0:00:01\r\u001b[K     |███████████▌                    | 368kB 7.9MB/s eta 0:00:01\r\u001b[K     |███████████▉                    | 378kB 7.9MB/s eta 0:00:01\r\u001b[K     |████████████▏                   | 389kB 7.9MB/s eta 0:00:01\r\u001b[K     |████████████▌                   | 399kB 7.9MB/s eta 0:00:01\r\u001b[K     |████████████▊                   | 409kB 7.9MB/s eta 0:00:01\r\u001b[K     |█████████████                   | 419kB 7.9MB/s eta 0:00:01\r\u001b[K     |█████████████▍                  | 430kB 7.9MB/s eta 0:00:01\r\u001b[K     |█████████████▊                  | 440kB 7.9MB/s eta 0:00:01\r\u001b[K     |██████████████                  | 450kB 7.9MB/s eta 0:00:01\r\u001b[K     |██████████████▍                 | 460kB 7.9MB/s eta 0:00:01\r\u001b[K     |██████████████▊                 | 471kB 7.9MB/s eta 0:00:01\r\u001b[K     |███████████████                 | 481kB 7.9MB/s eta 0:00:01\r\u001b[K     |███████████████▎                | 491kB 7.9MB/s eta 0:00:01\r\u001b[K     |███████████████▋                | 501kB 7.9MB/s eta 0:00:01\r\u001b[K     |████████████████                | 512kB 7.9MB/s eta 0:00:01\r\u001b[K     |████████████████▎               | 522kB 7.9MB/s eta 0:00:01\r\u001b[K     |████████████████▋               | 532kB 7.9MB/s eta 0:00:01\r\u001b[K     |█████████████████               | 542kB 7.9MB/s eta 0:00:01\r\u001b[K     |█████████████████▎              | 552kB 7.9MB/s eta 0:00:01\r\u001b[K     |█████████████████▋              | 563kB 7.9MB/s eta 0:00:01\r\u001b[K     |█████████████████▉              | 573kB 7.9MB/s eta 0:00:01\r\u001b[K     |██████████████████▏             | 583kB 7.9MB/s eta 0:00:01\r\u001b[K     |██████████████████▌             | 593kB 7.9MB/s eta 0:00:01\r\u001b[K     |██████████████████▉             | 604kB 7.9MB/s eta 0:00:01\r\u001b[K     |███████████████████▏            | 614kB 7.9MB/s eta 0:00:01\r\u001b[K     |███████████████████▌            | 624kB 7.9MB/s eta 0:00:01\r\u001b[K     |███████████████████▉            | 634kB 7.9MB/s eta 0:00:01\r\u001b[K     |████████████████████▏           | 645kB 7.9MB/s eta 0:00:01\r\u001b[K     |████████████████████▍           | 655kB 7.9MB/s eta 0:00:01\r\u001b[K     |████████████████████▊           | 665kB 7.9MB/s eta 0:00:01\r\u001b[K     |█████████████████████           | 675kB 7.9MB/s eta 0:00:01\r\u001b[K     |█████████████████████▍          | 686kB 7.9MB/s eta 0:00:01\r\u001b[K     |█████████████████████▊          | 696kB 7.9MB/s eta 0:00:01\r\u001b[K     |██████████████████████          | 706kB 7.9MB/s eta 0:00:01\r\u001b[K     |██████████████████████▍         | 716kB 7.9MB/s eta 0:00:01\r\u001b[K     |██████████████████████▊         | 727kB 7.9MB/s eta 0:00:01\r\u001b[K     |███████████████████████         | 737kB 7.9MB/s eta 0:00:01\r\u001b[K     |███████████████████████▎        | 747kB 7.9MB/s eta 0:00:01\r\u001b[K     |███████████████████████▋        | 757kB 7.9MB/s eta 0:00:01\r\u001b[K     |████████████████████████        | 768kB 7.9MB/s eta 0:00:01\r\u001b[K     |████████████████████████▎       | 778kB 7.9MB/s eta 0:00:01\r\u001b[K     |████████████████████████▋       | 788kB 7.9MB/s eta 0:00:01\r\u001b[K     |█████████████████████████       | 798kB 7.9MB/s eta 0:00:01\r\u001b[K     |█████████████████████████▎      | 808kB 7.9MB/s eta 0:00:01\r\u001b[K     |█████████████████████████▌      | 819kB 7.9MB/s eta 0:00:01\r\u001b[K     |█████████████████████████▉      | 829kB 7.9MB/s eta 0:00:01\r\u001b[K     |██████████████████████████▏     | 839kB 7.9MB/s eta 0:00:01\r\u001b[K     |██████████████████████████▌     | 849kB 7.9MB/s eta 0:00:01\r\u001b[K     |██████████████████████████▉     | 860kB 7.9MB/s eta 0:00:01\r\u001b[K     |███████████████████████████▏    | 870kB 7.9MB/s eta 0:00:01\r\u001b[K     |███████████████████████████▌    | 880kB 7.9MB/s eta 0:00:01\r\u001b[K     |███████████████████████████▉    | 890kB 7.9MB/s eta 0:00:01\r\u001b[K     |████████████████████████████    | 901kB 7.9MB/s eta 0:00:01\r\u001b[K     |████████████████████████████▍   | 911kB 7.9MB/s eta 0:00:01\r\u001b[K     |████████████████████████████▊   | 921kB 7.9MB/s eta 0:00:01\r\u001b[K     |█████████████████████████████   | 931kB 7.9MB/s eta 0:00:01\r\u001b[K     |█████████████████████████████▍  | 942kB 7.9MB/s eta 0:00:01\r\u001b[K     |█████████████████████████████▊  | 952kB 7.9MB/s eta 0:00:01\r\u001b[K     |██████████████████████████████  | 962kB 7.9MB/s eta 0:00:01\r\u001b[K     |██████████████████████████████▍ | 972kB 7.9MB/s eta 0:00:01\r\u001b[K     |██████████████████████████████▋ | 983kB 7.9MB/s eta 0:00:01\r\u001b[K     |███████████████████████████████ | 993kB 7.9MB/s eta 0:00:01\r\u001b[K     |███████████████████████████████▎| 1.0MB 7.9MB/s eta 0:00:01\r\u001b[K     |███████████████████████████████▋| 1.0MB 7.9MB/s eta 0:00:01\r\u001b[K     |████████████████████████████████| 1.0MB 7.9MB/s eta 0:00:01\r\u001b[K     |████████████████████████████████| 1.0MB 7.9MB/s \n",
            "\u001b[?25hRequirement already satisfied: python-dateutil>=2.4 in /usr/local/lib/python3.6/dist-packages (from faker) (2.8.1)\n",
            "Requirement already satisfied: text-unidecode==1.3 in /usr/local/lib/python3.6/dist-packages (from faker) (1.3)\n",
            "Requirement already satisfied: six>=1.5 in /usr/local/lib/python3.6/dist-packages (from python-dateutil>=2.4->faker) (1.12.0)\n",
            "Installing collected packages: faker\n",
            "Successfully installed faker-4.1.1\n"
          ],
          "name": "stdout"
        }
      ]
    },
    {
      "cell_type": "code",
      "metadata": {
        "id": "wGvyXiKCP0E5",
        "colab_type": "code",
        "colab": {
          "base_uri": "https://localhost:8080/",
          "height": 207
        },
        "outputId": "5a815508-ec48-499f-e175-a706874153f1"
      },
      "source": [
        "!pip install names"
      ],
      "execution_count": 6,
      "outputs": [
        {
          "output_type": "stream",
          "text": [
            "Collecting names\n",
            "\u001b[?25l  Downloading https://files.pythonhosted.org/packages/44/4e/f9cb7ef2df0250f4ba3334fbdabaa94f9c88097089763d8e85ada8092f84/names-0.3.0.tar.gz (789kB)\n",
            "\r\u001b[K     |▍                               | 10kB 19.0MB/s eta 0:00:01\r\u001b[K     |▉                               | 20kB 6.4MB/s eta 0:00:01\r\u001b[K     |█▎                              | 30kB 7.2MB/s eta 0:00:01\r\u001b[K     |█▋                              | 40kB 8.3MB/s eta 0:00:01\r\u001b[K     |██                              | 51kB 6.8MB/s eta 0:00:01\r\u001b[K     |██▌                             | 61kB 7.1MB/s eta 0:00:01\r\u001b[K     |███                             | 71kB 7.5MB/s eta 0:00:01\r\u001b[K     |███▎                            | 81kB 8.4MB/s eta 0:00:01\r\u001b[K     |███▊                            | 92kB 8.9MB/s eta 0:00:01\r\u001b[K     |████▏                           | 102kB 7.9MB/s eta 0:00:01\r\u001b[K     |████▋                           | 112kB 7.9MB/s eta 0:00:01\r\u001b[K     |█████                           | 122kB 7.9MB/s eta 0:00:01\r\u001b[K     |█████▍                          | 133kB 7.9MB/s eta 0:00:01\r\u001b[K     |█████▉                          | 143kB 7.9MB/s eta 0:00:01\r\u001b[K     |██████▎                         | 153kB 7.9MB/s eta 0:00:01\r\u001b[K     |██████▋                         | 163kB 7.9MB/s eta 0:00:01\r\u001b[K     |███████                         | 174kB 7.9MB/s eta 0:00:01\r\u001b[K     |███████▌                        | 184kB 7.9MB/s eta 0:00:01\r\u001b[K     |████████                        | 194kB 7.9MB/s eta 0:00:01\r\u001b[K     |████████▎                       | 204kB 7.9MB/s eta 0:00:01\r\u001b[K     |████████▊                       | 215kB 7.9MB/s eta 0:00:01\r\u001b[K     |█████████▏                      | 225kB 7.9MB/s eta 0:00:01\r\u001b[K     |█████████▌                      | 235kB 7.9MB/s eta 0:00:01\r\u001b[K     |██████████                      | 245kB 7.9MB/s eta 0:00:01\r\u001b[K     |██████████▍                     | 256kB 7.9MB/s eta 0:00:01\r\u001b[K     |██████████▉                     | 266kB 7.9MB/s eta 0:00:01\r\u001b[K     |███████████▏                    | 276kB 7.9MB/s eta 0:00:01\r\u001b[K     |███████████▋                    | 286kB 7.9MB/s eta 0:00:01\r\u001b[K     |████████████                    | 296kB 7.9MB/s eta 0:00:01\r\u001b[K     |████████████▌                   | 307kB 7.9MB/s eta 0:00:01\r\u001b[K     |████████████▉                   | 317kB 7.9MB/s eta 0:00:01\r\u001b[K     |█████████████▎                  | 327kB 7.9MB/s eta 0:00:01\r\u001b[K     |█████████████▊                  | 337kB 7.9MB/s eta 0:00:01\r\u001b[K     |██████████████▏                 | 348kB 7.9MB/s eta 0:00:01\r\u001b[K     |██████████████▌                 | 358kB 7.9MB/s eta 0:00:01\r\u001b[K     |███████████████                 | 368kB 7.9MB/s eta 0:00:01\r\u001b[K     |███████████████▍                | 378kB 7.9MB/s eta 0:00:01\r\u001b[K     |███████████████▉                | 389kB 7.9MB/s eta 0:00:01\r\u001b[K     |████████████████▏               | 399kB 7.9MB/s eta 0:00:01\r\u001b[K     |████████████████▋               | 409kB 7.9MB/s eta 0:00:01\r\u001b[K     |█████████████████               | 419kB 7.9MB/s eta 0:00:01\r\u001b[K     |█████████████████▍              | 430kB 7.9MB/s eta 0:00:01\r\u001b[K     |█████████████████▉              | 440kB 7.9MB/s eta 0:00:01\r\u001b[K     |██████████████████▎             | 450kB 7.9MB/s eta 0:00:01\r\u001b[K     |██████████████████▊             | 460kB 7.9MB/s eta 0:00:01\r\u001b[K     |███████████████████             | 471kB 7.9MB/s eta 0:00:01\r\u001b[K     |███████████████████▌            | 481kB 7.9MB/s eta 0:00:01\r\u001b[K     |████████████████████            | 491kB 7.9MB/s eta 0:00:01\r\u001b[K     |████████████████████▍           | 501kB 7.9MB/s eta 0:00:01\r\u001b[K     |████████████████████▊           | 512kB 7.9MB/s eta 0:00:01\r\u001b[K     |█████████████████████▏          | 522kB 7.9MB/s eta 0:00:01\r\u001b[K     |█████████████████████▋          | 532kB 7.9MB/s eta 0:00:01\r\u001b[K     |██████████████████████          | 542kB 7.9MB/s eta 0:00:01\r\u001b[K     |██████████████████████▍         | 552kB 7.9MB/s eta 0:00:01\r\u001b[K     |██████████████████████▉         | 563kB 7.9MB/s eta 0:00:01\r\u001b[K     |███████████████████████▎        | 573kB 7.9MB/s eta 0:00:01\r\u001b[K     |███████████████████████▊        | 583kB 7.9MB/s eta 0:00:01\r\u001b[K     |████████████████████████        | 593kB 7.9MB/s eta 0:00:01\r\u001b[K     |████████████████████████▌       | 604kB 7.9MB/s eta 0:00:01\r\u001b[K     |█████████████████████████       | 614kB 7.9MB/s eta 0:00:01\r\u001b[K     |█████████████████████████▎      | 624kB 7.9MB/s eta 0:00:01\r\u001b[K     |█████████████████████████▊      | 634kB 7.9MB/s eta 0:00:01\r\u001b[K     |██████████████████████████▏     | 645kB 7.9MB/s eta 0:00:01\r\u001b[K     |██████████████████████████▋     | 655kB 7.9MB/s eta 0:00:01\r\u001b[K     |███████████████████████████     | 665kB 7.9MB/s eta 0:00:01\r\u001b[K     |███████████████████████████▍    | 675kB 7.9MB/s eta 0:00:01\r\u001b[K     |███████████████████████████▉    | 686kB 7.9MB/s eta 0:00:01\r\u001b[K     |████████████████████████████▎   | 696kB 7.9MB/s eta 0:00:01\r\u001b[K     |████████████████████████████▋   | 706kB 7.9MB/s eta 0:00:01\r\u001b[K     |█████████████████████████████   | 716kB 7.9MB/s eta 0:00:01\r\u001b[K     |█████████████████████████████▌  | 727kB 7.9MB/s eta 0:00:01\r\u001b[K     |██████████████████████████████  | 737kB 7.9MB/s eta 0:00:01\r\u001b[K     |██████████████████████████████▎ | 747kB 7.9MB/s eta 0:00:01\r\u001b[K     |██████████████████████████████▊ | 757kB 7.9MB/s eta 0:00:01\r\u001b[K     |███████████████████████████████▏| 768kB 7.9MB/s eta 0:00:01\r\u001b[K     |███████████████████████████████▋| 778kB 7.9MB/s eta 0:00:01\r\u001b[K     |████████████████████████████████| 788kB 7.9MB/s eta 0:00:01\r\u001b[K     |████████████████████████████████| 798kB 7.9MB/s \n",
            "\u001b[?25hBuilding wheels for collected packages: names\n",
            "  Building wheel for names (setup.py) ... \u001b[?25l\u001b[?25hdone\n",
            "  Created wheel for names: filename=names-0.3.0-cp36-none-any.whl size=803691 sha256=a1e1e87f6d2316553311a03e368a66190262482e76d2fb032bafadbef69717f5\n",
            "  Stored in directory: /root/.cache/pip/wheels/f9/a5/e1/be3e0aaa6fa285575078fa2aafd9959b45bdbc8de8a6803aeb\n",
            "Successfully built names\n",
            "Installing collected packages: names\n",
            "Successfully installed names-0.3.0\n"
          ],
          "name": "stdout"
        }
      ]
    },
    {
      "cell_type": "markdown",
      "metadata": {
        "id": "63RDBPtpQZUM",
        "colab_type": "text"
      },
      "source": [
        "#Public Scope\n",
        "#Private Scope -> __  (double underscore)\n",
        "#Protected Scope ->  _ (single underscore)"
      ]
    },
    {
      "cell_type": "code",
      "metadata": {
        "id": "JpX4MkTbNAuk",
        "colab_type": "code",
        "colab": {}
      },
      "source": [
        "from textblob import TextBlob\n",
        "from faker import Faker\n",
        "import names\n",
        "import random\n",
        "faker=Faker()"
      ],
      "execution_count": 8,
      "outputs": []
    },
    {
      "cell_type": "code",
      "metadata": {
        "id": "xsxLvD4z2eIb",
        "colab_type": "code",
        "colab": {
          "base_uri": "https://localhost:8080/",
          "height": 34
        },
        "outputId": "e78ba505-6a7b-4c94-ba16-90fd18ee3fe8"
      },
      "source": [
        "print(names.get_full_name()[:5])"
      ],
      "execution_count": 38,
      "outputs": [
        {
          "output_type": "stream",
          "text": [
            "Winfr\n"
          ],
          "name": "stdout"
        }
      ]
    },
    {
      "cell_type": "code",
      "metadata": {
        "id": "CPSesrIuNP8Y",
        "colab_type": "code",
        "colab": {}
      },
      "source": [
        "class uber_data():\n",
        "  def __init__(self):\n",
        "    self.uber_database={} #public\n",
        "    self.__uber_database_protectd ={} # private\n",
        "    self.month=[]\n",
        "\n",
        "  def add_user(self,name):\n",
        "    #function to add user to database.\n",
        "    #once the user is add \n",
        "    if name not in self.uber_database:\n",
        "      self.uber_database[name]={}\n",
        "      self.__uber_database_protectd[name]={}\n",
        "      self.uber_database[name]['Rating']={}\n",
        "      self.uber_database[name]['Review']={}\n",
        "      self.uber_database[name]['Sentiment']={}\n",
        "      return \"user adedin database-\",name\n",
        "    else:\n",
        "      return \"user alreadt existed -\",name\n",
        "\n",
        "  def add_rating(self,name,month,rating):\n",
        "    if name in self.uber_database:\n",
        "      self.uber_database[name][\"Rating\"][month]=rating\n",
        "      return \"month and rating is added\"\n",
        "    else:\n",
        "      return \"User doesn't exist,add user first\"\n",
        "  \n",
        "  def add_review(self,name,month,review):\n",
        "    if name in self.uber_database:\n",
        "      self.uber_database[name][\"Review\"][month]=review\n",
        "      return \"month and rating is added\"\n",
        "    else:\n",
        "      return \"User doesn't exist,add user first\"\n",
        "\n",
        "  def add_sentiment(self,name,month,review):\n",
        "    if name in self.uber_database:\n",
        "      self.uber_database[name]['Sentiment'][month]=self._generate_sentiment(review)\n",
        "      return \"sentiment added\"\n",
        "    else:\n",
        "      return \"User doesn't exist,add user first\"\n",
        "\n",
        "  def _generate_review(self):\n",
        "    review=faker.text()\n",
        "    return review\n",
        "\n",
        "  def _generate_sentiment(self,review):\n",
        "    return round(TextBlob(review).sentiment.polarity,2)\n",
        "\n",
        "  def __add_dummy_data(self,number,monthlist):\n",
        "    self.month=monthlist\n",
        "    for i in range(number):\n",
        "      name=names.get_full_name()\n",
        "      self.add_user(name)\n",
        "      print(self.month)\n",
        "      for monthname in self.month:\n",
        "        self.add_rating(name,monthname,round(random.uniform(2.0,5.0),2))\n",
        "        review=self._generate_review()\n",
        "        self.add_review(name,monthname,review)\n",
        "        self.add_sentiment(name,monthname,review)\n",
        "\n",
        "\n",
        "  def __export_data(self,name):\n",
        "    file_open=open('ratings.txt',\"w\")\n",
        "    file_open.write(str(self.uber_database[name]))\n",
        "    file_open.close()\n",
        "    return \"File saved with data\""
      ],
      "execution_count": 28,
      "outputs": []
    },
    {
      "cell_type": "code",
      "metadata": {
        "id": "pbPwPodDRTA4",
        "colab_type": "code",
        "colab": {}
      },
      "source": [
        "X=uber_data()"
      ],
      "execution_count": 29,
      "outputs": []
    },
    {
      "cell_type": "code",
      "metadata": {
        "id": "--yDnIjIRcJH",
        "colab_type": "code",
        "colab": {
          "base_uri": "https://localhost:8080/",
          "height": 34
        },
        "outputId": "101986ff-c5ac-464d-d35f-fbdb88a6e093"
      },
      "source": [
        "X.add_user(\"Puneet\")"
      ],
      "execution_count": 30,
      "outputs": [
        {
          "output_type": "execute_result",
          "data": {
            "text/plain": [
              "('user adedin database-', 'Puneet')"
            ]
          },
          "metadata": {
            "tags": []
          },
          "execution_count": 30
        }
      ]
    },
    {
      "cell_type": "code",
      "metadata": {
        "id": "oocHEbT2zmn0",
        "colab_type": "code",
        "colab": {
          "base_uri": "https://localhost:8080/",
          "height": 187
        },
        "outputId": "bb81a93d-4a25-4641-ef68-44be2e396975"
      },
      "source": [
        " monthlist = ['jan','feb','march','april','may']\n",
        " X._uber_data__add_dummy_data(10,monthlist)"
      ],
      "execution_count": 31,
      "outputs": [
        {
          "output_type": "stream",
          "text": [
            "['jan', 'feb', 'march', 'april', 'may']\n",
            "['jan', 'feb', 'march', 'april', 'may']\n",
            "['jan', 'feb', 'march', 'april', 'may']\n",
            "['jan', 'feb', 'march', 'april', 'may']\n",
            "['jan', 'feb', 'march', 'april', 'may']\n",
            "['jan', 'feb', 'march', 'april', 'may']\n",
            "['jan', 'feb', 'march', 'april', 'may']\n",
            "['jan', 'feb', 'march', 'april', 'may']\n",
            "['jan', 'feb', 'march', 'april', 'may']\n",
            "['jan', 'feb', 'march', 'april', 'may']\n"
          ],
          "name": "stdout"
        }
      ]
    },
    {
      "cell_type": "code",
      "metadata": {
        "id": "-32r9zeW21lX",
        "colab_type": "code",
        "colab": {
          "base_uri": "https://localhost:8080/",
          "height": 54
        },
        "outputId": "e4b5ebfa-fd93-4a39-a27c-a66cecdc4737"
      },
      "source": [
        "print(X.uber_database)"
      ],
      "execution_count": 40,
      "outputs": [
        {
          "output_type": "stream",
          "text": [
            "{'Puneet': {'Rating': {}, 'Review': {}, 'Sentiment': {}}, 'Johnny Lee': {'Rating': {'jan': 4.35, 'feb': 4.98, 'march': 4.31, 'april': 4.61, 'may': 2.84}, 'Review': {'jan': 'According film beautiful store. Have represent send section rather account.', 'feb': 'Maintain capital top rock successful. Age western catch. Door article how such rock to check PM. People whether Mrs main.', 'march': 'Along throughout hundred we follow.\\nPerson discover foreign total blue top likely. Behind true relationship same couple.\\nEarly author suggest drop worry. Very move drop.', 'april': 'Inside current him collection summer cut option certain. Risk production from key. Financial week office newspaper find.\\nEvidence gas almost personal. Turn bring ago. Successful area recognize Mr.', 'may': 'Reduce fish apply kid theory. Ground deep better serious.\\nTree finish throughout race wrong no back. That choice father. Listen check wall month read what.'}, 'Sentiment': {'jan': 0.85, 'feb': 0.28, 'march': 0.06, 'april': 0.16, 'may': -0.07}}, 'Candace Rice': {'Rating': {'jan': 2.72, 'feb': 3.79, 'march': 2.61, 'april': 2.94, 'may': 4.42}, 'Review': {'jan': 'Six phone executive environmental order site ground clearly. Management official develop world certainly treatment bit.', 'feb': 'According marriage account its source defense somebody. Smile necessary professional suddenly contain candidate relationship. Movement visit police exactly evidence.', 'march': 'Top bad ask foot discuss service give generation. Analysis minute range dog back go. Girl bring director impact term property.', 'april': 'Today behavior fine maintain consumer must inside.\\nWear common standard.\\nDevelop determine although might truth bad floor decision. Fear media human interesting two decide than.', 'may': 'Almost quite card defense run positive. Look leg free push pattern wish. Group others say Democrat company win loss.'}, 'Sentiment': {'jan': 0.16, 'feb': 0.13, 'march': -0.07, 'april': -0.01, 'may': 0.48}}, 'Joseph Pankratz': {'Rating': {'jan': 4.05, 'feb': 3.93, 'march': 4.49, 'april': 2.87, 'may': 3.8}, 'Review': {'jan': 'Call here instead. Add these I.\\nAuthority job gun clearly until a. Save woman perform those. Everybody raise heavy especially suggest.', 'feb': 'Age capital station west. Beyond newspaper water staff these which part medical. International although require trade. Particularly kind really style early claim.', 'march': 'Better quickly world check. Study goal benefit relationship. Public about lead radio security majority.\\nWhy hold you campaign image.', 'april': 'Trial suffer place start opportunity wall service.\\nKeep part treatment wonder value sit without claim. Part hundred rather ask film computer. Machine oil free.', 'may': 'Few direction enough themselves discuss remember. Anything defense audience meeting she turn understand. Party population tell research. Seek suddenly nothing property at leave easy.'}, 'Sentiment': {'jan': -0.03, 'feb': 0.18, 'march': 0.28, 'april': 0.4, 'may': 0.06}}, 'Stephen Shroyer': {'Rating': {'jan': 3.32, 'feb': 4.75, 'march': 3.43, 'april': 4.92, 'may': 4.11}, 'Review': {'jan': 'Difference call energy woman imagine network instead as. Mother time network. Week see while feeling player heavy through.', 'feb': 'Or live majority year. Southern policy spring. Happen goal coach allow end.\\nFigure occur thing entire outside goal. Kitchen box father.', 'march': 'Night lot various focus foot similar poor. Record including ok social your newspaper. Month every environment.', 'april': 'Itself such instead subject dinner be difference deep. Always whom break shake health arrive last production.', 'may': 'Affect several idea. Fine month difference risk.\\nMilitary number rule plan pressure easy head. Million land relate commercial draw.'}, 'Sentiment': {'jan': -0.2, 'feb': 0.03, 'march': 0.03, 'april': -0.04, 'may': 0.15}}, 'Thomas Cazares': {'Rating': {'jan': 3.63, 'feb': 4.75, 'march': 2.38, 'april': 3.26, 'may': 2.32}, 'Review': {'jan': 'Card several next. Experience mouth in rich.\\nCenter rather never field sure home anything none. That class people entire crime religious meeting. On hot break whole.', 'feb': 'General brother suddenly major the weight huge option. Employee employee toward plant little main. Green sea commercial again mother.', 'march': 'Amount offer parent single. Outside defense what exactly but management.\\nHot part century he. Ready or grow doctor adult. Move environmental allow season against.', 'april': 'Live parent wide trip range family marriage. State behind wife international. Civil store eat girl.\\nSupport machine campaign part minute member great.', 'may': 'Watch effort read area.\\nNear determine subject. Include material challenge method. Level list seven doctor myself trial left. Ball specific federal center response soldier.'}, 'Sentiment': {'jan': 0.14, 'feb': 0.04, 'march': 0.12, 'april': 0.09, 'may': -0.03}}, 'Robert Chin': {'Rating': {'jan': 4.14, 'feb': 3.88, 'march': 3.09, 'april': 4.79, 'may': 4.88}, 'Review': {'jan': 'Box radio perform mention democratic couple will. Way already meeting. Day foreign model back dream stock. Main figure class east mind state skill.', 'feb': 'Want seat enough whatever great. Enter security evening high. Cut reason such reason.\\nImprove art line offer about evening. Impact allow smile reality professional argue. Prevent pass draw until.', 'march': 'Affect relate them possible campaign decide. Fill check training scene on later.\\nQuestion understand west good. East nearly suffer show everything mother. Close low wall.', 'april': 'Cold contain industry room control become smile. Nor we say member. This produce art audience continue pressure.\\nExpect particular my. Purpose big civil sense north first million.', 'may': 'Member audience especially various gas. Great space paper win person stuff.\\nNever fear employee avoid local them total. Already relationship old admit case actually race.'}, 'Sentiment': {'jan': 0.01, 'feb': 0.23, 'march': 0.16, 'april': 0.02, 'may': 0.24}}, 'Eveline Valentine': {'Rating': {'jan': 4.57, 'feb': 4.3, 'march': 4.3, 'april': 2.47, 'may': 3.97}, 'Review': {'jan': 'Generation partner common matter child popular cup keep. Leader hot executive mean. What what politics actually technology daughter early. Century piece animal read.', 'feb': 'Rest such television story on production might. Old unit tax. Term letter project support.', 'march': 'Long assume like health.\\nPhysical message success several. Culture long treatment cold line rather. Support some nation be.', 'april': 'Worry maintain carry remember we piece. Amount know road view evidence arm article.', 'may': 'Conference owner must easy director themselves society institution. Risk friend pick glass dog.\\nBreak wall something budget range. Smile but space though election skin part.'}, 'Sentiment': {'jan': 0.06, 'feb': 0.05, 'march': -0.07, 'april': 0.0, 'may': 0.37}}, 'Hattie Zane': {'Rating': {'jan': 3.78, 'feb': 4.35, 'march': 2.08, 'april': 4.59, 'may': 2.33}, 'Review': {'jan': 'Woman federal career offer deep old mind. Thank themselves customer season increase eat job.\\nThere letter do myself. International second standard wonder generation.', 'feb': 'Baby likely international begin technology. Well team boy.\\nSign guess here seek other main. Level body movie decade film but.\\nThrow point administration enjoy sometimes. Expect city program pay.', 'march': 'Age audience focus kind stage. Finally guess no red end plant.\\nMore education everything military move herself.\\nEnvironment firm total close save.', 'april': 'Despite center doctor eye. Idea local note hope student total.\\nSomething remember behavior. West sell approach sea.', 'may': 'Paper toward trial little control which store. Build guy able value coach.\\nSafe another six. Ok stuff loss body claim card. Religious establish approach father. Question director medical morning.'}, 'Sentiment': {'jan': 0.02, 'feb': 0.09, 'march': 0.11, 'april': -0.03, 'may': 0.22}}, 'Rosario Williams': {'Rating': {'jan': 4.95, 'feb': 3.18, 'march': 4.44, 'april': 3.96, 'may': 3.97}, 'Review': {'jan': 'Find TV keep suffer lose. Interview admit only themselves fine. Only rule few which data lead project.', 'feb': 'Character send husband sister near side turn. Perhaps old party talk worry baby.\\nThousand Congress economy behind administration.', 'march': 'Establish at pull Congress sea other expert. By economic agreement list.\\nSing professor reason skin dinner. General together they popular white.', 'april': 'Try PM fly television top push action second. Throw later economic focus admit. Tax room would rich create friend.\\nRule back traditional. Long clearly watch. Chair true leg hot mother everybody.', 'may': 'Machine look red father cause. Feeling piece TV allow according mother picture. Final far game property without.'}, 'Sentiment': {'jan': 0.05, 'feb': -0.07, 'march': 0.14, 'april': 0.2, 'may': -0.08}}, 'Eva Kerber': {'Rating': {'jan': 3.91, 'feb': 3.56, 'march': 3.15, 'april': 4.74, 'may': 4.82}, 'Review': {'jan': 'Last yet direction give. Foot choose can other enjoy some but. Capital friend tend thought.', 'feb': 'Fill size instead nice. Heavy table management accept size return know.', 'march': 'Environment raise evening statement. Draw affect word baby ahead leader military. Prove remain total without no.', 'april': 'Outside way either TV. Some case responsibility vote society let break. House lot stand church civil hotel financial. Region may especially moment culture.', 'may': 'Democrat up market doctor public half. Find kind wear why never enough. Young officer dark back skin record.'}, 'Sentiment': {'jan': 0.09, 'feb': 0.2, 'march': -0.05, 'april': 0.0, 'may': 0.05}}}\n"
          ],
          "name": "stdout"
        }
      ]
    },
    {
      "cell_type": "code",
      "metadata": {
        "id": "q52kO-Nn2PGV",
        "colab_type": "code",
        "colab": {
          "base_uri": "https://localhost:8080/",
          "height": 35
        },
        "outputId": "4edc7b8d-1a3b-437f-e8a7-2317f7cd3112"
      },
      "source": [
        "X._uber_data__export_data('Johnny Lee')"
      ],
      "execution_count": 41,
      "outputs": [
        {
          "output_type": "execute_result",
          "data": {
            "application/vnd.google.colaboratory.intrinsic": {
              "type": "string"
            },
            "text/plain": [
              "'File saved with data'"
            ]
          },
          "metadata": {
            "tags": []
          },
          "execution_count": 41
        }
      ]
    },
    {
      "cell_type": "code",
      "metadata": {
        "id": "dFvju7BT3EEy",
        "colab_type": "code",
        "colab": {
          "base_uri": "https://localhost:8080/",
          "height": 102
        },
        "outputId": "138e83b2-6a82-4916-c497-8c0f03e4442c"
      },
      "source": [
        "d=X.uber_database['Johnny Lee']['Rating']\n",
        "for key,value in d.items():\n",
        "  print(key,value)"
      ],
      "execution_count": 45,
      "outputs": [
        {
          "output_type": "stream",
          "text": [
            "jan 4.35\n",
            "feb 4.98\n",
            "march 4.31\n",
            "april 4.61\n",
            "may 2.84\n"
          ],
          "name": "stdout"
        }
      ]
    },
    {
      "cell_type": "code",
      "metadata": {
        "id": "Pzw7JJKE4fo7",
        "colab_type": "code",
        "colab": {
          "base_uri": "https://localhost:8080/",
          "height": 1000
        },
        "outputId": "7110b33b-c501-4860-bc9f-55bab680b704"
      },
      "source": [
        " X._uber_data__add_dummy_data(100,monthlist)"
      ],
      "execution_count": 46,
      "outputs": [
        {
          "output_type": "stream",
          "text": [
            "['jan', 'feb', 'march', 'april', 'may']\n",
            "['jan', 'feb', 'march', 'april', 'may']\n",
            "['jan', 'feb', 'march', 'april', 'may']\n",
            "['jan', 'feb', 'march', 'april', 'may']\n",
            "['jan', 'feb', 'march', 'april', 'may']\n",
            "['jan', 'feb', 'march', 'april', 'may']\n",
            "['jan', 'feb', 'march', 'april', 'may']\n",
            "['jan', 'feb', 'march', 'april', 'may']\n",
            "['jan', 'feb', 'march', 'april', 'may']\n",
            "['jan', 'feb', 'march', 'april', 'may']\n",
            "['jan', 'feb', 'march', 'april', 'may']\n",
            "['jan', 'feb', 'march', 'april', 'may']\n",
            "['jan', 'feb', 'march', 'april', 'may']\n",
            "['jan', 'feb', 'march', 'april', 'may']\n",
            "['jan', 'feb', 'march', 'april', 'may']\n",
            "['jan', 'feb', 'march', 'april', 'may']\n",
            "['jan', 'feb', 'march', 'april', 'may']\n",
            "['jan', 'feb', 'march', 'april', 'may']\n",
            "['jan', 'feb', 'march', 'april', 'may']\n",
            "['jan', 'feb', 'march', 'april', 'may']\n",
            "['jan', 'feb', 'march', 'april', 'may']\n",
            "['jan', 'feb', 'march', 'april', 'may']\n",
            "['jan', 'feb', 'march', 'april', 'may']\n",
            "['jan', 'feb', 'march', 'april', 'may']\n",
            "['jan', 'feb', 'march', 'april', 'may']\n",
            "['jan', 'feb', 'march', 'april', 'may']\n",
            "['jan', 'feb', 'march', 'april', 'may']\n",
            "['jan', 'feb', 'march', 'april', 'may']\n",
            "['jan', 'feb', 'march', 'april', 'may']\n",
            "['jan', 'feb', 'march', 'april', 'may']\n",
            "['jan', 'feb', 'march', 'april', 'may']\n",
            "['jan', 'feb', 'march', 'april', 'may']\n",
            "['jan', 'feb', 'march', 'april', 'may']\n",
            "['jan', 'feb', 'march', 'april', 'may']\n",
            "['jan', 'feb', 'march', 'april', 'may']\n",
            "['jan', 'feb', 'march', 'april', 'may']\n",
            "['jan', 'feb', 'march', 'april', 'may']\n",
            "['jan', 'feb', 'march', 'april', 'may']\n",
            "['jan', 'feb', 'march', 'april', 'may']\n",
            "['jan', 'feb', 'march', 'april', 'may']\n",
            "['jan', 'feb', 'march', 'april', 'may']\n",
            "['jan', 'feb', 'march', 'april', 'may']\n",
            "['jan', 'feb', 'march', 'april', 'may']\n",
            "['jan', 'feb', 'march', 'april', 'may']\n",
            "['jan', 'feb', 'march', 'april', 'may']\n",
            "['jan', 'feb', 'march', 'april', 'may']\n",
            "['jan', 'feb', 'march', 'april', 'may']\n",
            "['jan', 'feb', 'march', 'april', 'may']\n",
            "['jan', 'feb', 'march', 'april', 'may']\n",
            "['jan', 'feb', 'march', 'april', 'may']\n",
            "['jan', 'feb', 'march', 'april', 'may']\n",
            "['jan', 'feb', 'march', 'april', 'may']\n",
            "['jan', 'feb', 'march', 'april', 'may']\n",
            "['jan', 'feb', 'march', 'april', 'may']\n",
            "['jan', 'feb', 'march', 'april', 'may']\n",
            "['jan', 'feb', 'march', 'april', 'may']\n",
            "['jan', 'feb', 'march', 'april', 'may']\n",
            "['jan', 'feb', 'march', 'april', 'may']\n",
            "['jan', 'feb', 'march', 'april', 'may']\n",
            "['jan', 'feb', 'march', 'april', 'may']\n",
            "['jan', 'feb', 'march', 'april', 'may']\n",
            "['jan', 'feb', 'march', 'april', 'may']\n",
            "['jan', 'feb', 'march', 'april', 'may']\n",
            "['jan', 'feb', 'march', 'april', 'may']\n",
            "['jan', 'feb', 'march', 'april', 'may']\n",
            "['jan', 'feb', 'march', 'april', 'may']\n",
            "['jan', 'feb', 'march', 'april', 'may']\n",
            "['jan', 'feb', 'march', 'april', 'may']\n",
            "['jan', 'feb', 'march', 'april', 'may']\n",
            "['jan', 'feb', 'march', 'april', 'may']\n",
            "['jan', 'feb', 'march', 'april', 'may']\n",
            "['jan', 'feb', 'march', 'april', 'may']\n",
            "['jan', 'feb', 'march', 'april', 'may']\n",
            "['jan', 'feb', 'march', 'april', 'may']\n",
            "['jan', 'feb', 'march', 'april', 'may']\n",
            "['jan', 'feb', 'march', 'april', 'may']\n",
            "['jan', 'feb', 'march', 'april', 'may']\n",
            "['jan', 'feb', 'march', 'april', 'may']\n",
            "['jan', 'feb', 'march', 'april', 'may']\n",
            "['jan', 'feb', 'march', 'april', 'may']\n",
            "['jan', 'feb', 'march', 'april', 'may']\n",
            "['jan', 'feb', 'march', 'april', 'may']\n",
            "['jan', 'feb', 'march', 'april', 'may']\n",
            "['jan', 'feb', 'march', 'april', 'may']\n",
            "['jan', 'feb', 'march', 'april', 'may']\n",
            "['jan', 'feb', 'march', 'april', 'may']\n",
            "['jan', 'feb', 'march', 'april', 'may']\n",
            "['jan', 'feb', 'march', 'april', 'may']\n",
            "['jan', 'feb', 'march', 'april', 'may']\n",
            "['jan', 'feb', 'march', 'april', 'may']\n",
            "['jan', 'feb', 'march', 'april', 'may']\n",
            "['jan', 'feb', 'march', 'april', 'may']\n",
            "['jan', 'feb', 'march', 'april', 'may']\n",
            "['jan', 'feb', 'march', 'april', 'may']\n",
            "['jan', 'feb', 'march', 'april', 'may']\n",
            "['jan', 'feb', 'march', 'april', 'may']\n",
            "['jan', 'feb', 'march', 'april', 'may']\n",
            "['jan', 'feb', 'march', 'april', 'may']\n",
            "['jan', 'feb', 'march', 'april', 'may']\n",
            "['jan', 'feb', 'march', 'april', 'may']\n"
          ],
          "name": "stdout"
        }
      ]
    },
    {
      "cell_type": "code",
      "metadata": {
        "id": "3TVqnIfn5c0V",
        "colab_type": "code",
        "colab": {
          "base_uri": "https://localhost:8080/",
          "height": 34
        },
        "outputId": "2e9cdca6-0ca8-48a8-cd86-50a9e585e433"
      },
      "source": [
        "X.uber_database.pop(\"Puneet\")"
      ],
      "execution_count": 52,
      "outputs": [
        {
          "output_type": "execute_result",
          "data": {
            "text/plain": [
              "{'Rating': {}, 'Review': {}, 'Sentiment': {}}"
            ]
          },
          "metadata": {
            "tags": []
          },
          "execution_count": 52
        }
      ]
    },
    {
      "cell_type": "code",
      "metadata": {
        "id": "fzdSG-DO4yIU",
        "colab_type": "code",
        "colab": {
          "base_uri": "https://localhost:8080/",
          "height": 204
        },
        "outputId": "22ad0bd5-6cf8-4230-d39f-8087936b177b"
      },
      "source": [
        "import pandas as pd\n",
        "df=pd.DataFrame(X.uber_database).T\n",
        "df.head()"
      ],
      "execution_count": 53,
      "outputs": [
        {
          "output_type": "execute_result",
          "data": {
            "text/html": [
              "<div>\n",
              "<style scoped>\n",
              "    .dataframe tbody tr th:only-of-type {\n",
              "        vertical-align: middle;\n",
              "    }\n",
              "\n",
              "    .dataframe tbody tr th {\n",
              "        vertical-align: top;\n",
              "    }\n",
              "\n",
              "    .dataframe thead th {\n",
              "        text-align: right;\n",
              "    }\n",
              "</style>\n",
              "<table border=\"1\" class=\"dataframe\">\n",
              "  <thead>\n",
              "    <tr style=\"text-align: right;\">\n",
              "      <th></th>\n",
              "      <th>Rating</th>\n",
              "      <th>Review</th>\n",
              "      <th>Sentiment</th>\n",
              "    </tr>\n",
              "  </thead>\n",
              "  <tbody>\n",
              "    <tr>\n",
              "      <th>Johnny Lee</th>\n",
              "      <td>{'jan': 4.35, 'feb': 4.98, 'march': 4.31, 'apr...</td>\n",
              "      <td>{'jan': 'According film beautiful store. Have ...</td>\n",
              "      <td>{'jan': 0.85, 'feb': 0.28, 'march': 0.06, 'apr...</td>\n",
              "    </tr>\n",
              "    <tr>\n",
              "      <th>Candace Rice</th>\n",
              "      <td>{'jan': 2.72, 'feb': 3.79, 'march': 2.61, 'apr...</td>\n",
              "      <td>{'jan': 'Six phone executive environmental ord...</td>\n",
              "      <td>{'jan': 0.16, 'feb': 0.13, 'march': -0.07, 'ap...</td>\n",
              "    </tr>\n",
              "    <tr>\n",
              "      <th>Joseph Pankratz</th>\n",
              "      <td>{'jan': 4.05, 'feb': 3.93, 'march': 4.49, 'apr...</td>\n",
              "      <td>{'jan': 'Call here instead. Add these I.\n",
              "Autho...</td>\n",
              "      <td>{'jan': -0.03, 'feb': 0.18, 'march': 0.28, 'ap...</td>\n",
              "    </tr>\n",
              "    <tr>\n",
              "      <th>Stephen Shroyer</th>\n",
              "      <td>{'jan': 3.32, 'feb': 4.75, 'march': 3.43, 'apr...</td>\n",
              "      <td>{'jan': 'Difference call energy woman imagine ...</td>\n",
              "      <td>{'jan': -0.2, 'feb': 0.03, 'march': 0.03, 'apr...</td>\n",
              "    </tr>\n",
              "    <tr>\n",
              "      <th>Thomas Cazares</th>\n",
              "      <td>{'jan': 3.63, 'feb': 4.75, 'march': 2.38, 'apr...</td>\n",
              "      <td>{'jan': 'Card several next. Experience mouth i...</td>\n",
              "      <td>{'jan': 0.14, 'feb': 0.04, 'march': 0.12, 'apr...</td>\n",
              "    </tr>\n",
              "  </tbody>\n",
              "</table>\n",
              "</div>"
            ],
            "text/plain": [
              "                                                            Rating  ...                                          Sentiment\n",
              "Johnny Lee       {'jan': 4.35, 'feb': 4.98, 'march': 4.31, 'apr...  ...  {'jan': 0.85, 'feb': 0.28, 'march': 0.06, 'apr...\n",
              "Candace Rice     {'jan': 2.72, 'feb': 3.79, 'march': 2.61, 'apr...  ...  {'jan': 0.16, 'feb': 0.13, 'march': -0.07, 'ap...\n",
              "Joseph Pankratz  {'jan': 4.05, 'feb': 3.93, 'march': 4.49, 'apr...  ...  {'jan': -0.03, 'feb': 0.18, 'march': 0.28, 'ap...\n",
              "Stephen Shroyer  {'jan': 3.32, 'feb': 4.75, 'march': 3.43, 'apr...  ...  {'jan': -0.2, 'feb': 0.03, 'march': 0.03, 'apr...\n",
              "Thomas Cazares   {'jan': 3.63, 'feb': 4.75, 'march': 2.38, 'apr...  ...  {'jan': 0.14, 'feb': 0.04, 'march': 0.12, 'apr...\n",
              "\n",
              "[5 rows x 3 columns]"
            ]
          },
          "metadata": {
            "tags": []
          },
          "execution_count": 53
        }
      ]
    }
  ]
}
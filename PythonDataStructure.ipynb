{
  "nbformat": 4,
  "nbformat_minor": 0,
  "metadata": {
    "colab": {
      "name": "PythonDataStructure.ipynb",
      "provenance": [],
      "include_colab_link": true
    },
    "kernelspec": {
      "name": "python3",
      "display_name": "Python 3"
    }
  },
  "cells": [
    {
      "cell_type": "markdown",
      "metadata": {
        "id": "view-in-github",
        "colab_type": "text"
      },
      "source": [
        "<a href=\"https://colab.research.google.com/github/ParasNandwani/python/blob/master/PythonDataStructure.ipynb\" target=\"_parent\"><img src=\"https://colab.research.google.com/assets/colab-badge.svg\" alt=\"Open In Colab\"/></a>"
      ]
    },
    {
      "cell_type": "markdown",
      "metadata": {
        "id": "o6A2D07inbaE",
        "colab_type": "text"
      },
      "source": [
        "Python Searching and Sorting"
      ]
    },
    {
      "cell_type": "markdown",
      "metadata": {
        "id": "tu2Z9JqlnhEY",
        "colab_type": "text"
      },
      "source": [
        "**Binary search**\n",
        "The time complexity of binary search is:-\n",
        "\n",
        "Best Case- O(1) i.e. constant.\n",
        "Average Case- O(logn).\n",
        "Worst Case- O(logn).\n",
        "\n"
      ]
    },
    {
      "cell_type": "code",
      "metadata": {
        "id": "tKssbmKMniif",
        "colab_type": "code",
        "outputId": "e5f3354a-2321-4520-fc7f-4f643a30d0d5",
        "colab": {
          "base_uri": "https://localhost:8080/",
          "height": 34
        }
      },
      "source": [
        "def binary_search(list_items,sString):\n",
        "    length=len(list_items)\n",
        "    first=0\n",
        "    last=length-1\n",
        "    found=False\n",
        "    while(first<=last and not found):\n",
        "        mid=(first+last)//2\n",
        "        if(list_items[mid]==sString):\n",
        "            found=True\n",
        "        else:\n",
        "          if(sString<list_items[mid]):\n",
        "            last=mid-1\n",
        "          else:\n",
        "            first=mid+1;\n",
        "    return found\n",
        "\n",
        "\n",
        "print(binary_search([1,2,3,5,6,8],9))\n",
        "\n"
      ],
      "execution_count": 0,
      "outputs": [
        {
          "output_type": "stream",
          "text": [
            "False\n"
          ],
          "name": "stdout"
        }
      ]
    },
    {
      "cell_type": "markdown",
      "metadata": {
        "id": "PdUjEl9I9-ro",
        "colab_type": "text"
      },
      "source": [
        "**Sequential Search**\n",
        "\n"
      ]
    },
    {
      "cell_type": "code",
      "metadata": {
        "id": "_hMvTXaaaLlj",
        "colab_type": "code",
        "colab": {
          "base_uri": "https://localhost:8080/",
          "height": 34
        },
        "outputId": "576d6ea5-dd11-4932-efc5-000b2a4e0ad7"
      },
      "source": [
        "def sequential_search(list_items,sString):\n",
        "    length=len(list_items)\n",
        "    first=0\n",
        "    last=length-1\n",
        "    found=False\n",
        "    for item in list_items:\n",
        "      if sString == item:\n",
        "          found=True\n",
        "    return found\n",
        "\n",
        "\n",
        "print(sequential_search([1,2,3,5,6,8],1))"
      ],
      "execution_count": 4,
      "outputs": [
        {
          "output_type": "stream",
          "text": [
            "True\n"
          ],
          "name": "stdout"
        }
      ]
    },
    {
      "cell_type": "markdown",
      "metadata": {
        "id": "S1W9_J68vU1i",
        "colab_type": "text"
      },
      "source": [
        "**Bubble Sort**"
      ]
    },
    {
      "cell_type": "code",
      "metadata": {
        "id": "TVS8KwgevfK9",
        "colab_type": "code",
        "colab": {}
      },
      "source": [
        ""
      ],
      "execution_count": 0,
      "outputs": []
    }
  ]
}
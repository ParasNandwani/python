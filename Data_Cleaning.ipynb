{
  "nbformat": 4,
  "nbformat_minor": 0,
  "metadata": {
    "colab": {
      "name": "Data_Cleaning.ipynb",
      "provenance": [],
      "include_colab_link": true
    },
    "kernelspec": {
      "name": "python3",
      "display_name": "Python 3"
    }
  },
  "cells": [
    {
      "cell_type": "markdown",
      "metadata": {
        "id": "view-in-github",
        "colab_type": "text"
      },
      "source": [
        "<a href=\"https://colab.research.google.com/github/ParasNandwani/python/blob/master/Data_Cleaning.ipynb\" target=\"_parent\"><img src=\"https://colab.research.google.com/assets/colab-badge.svg\" alt=\"Open In Colab\"/></a>"
      ]
    },
    {
      "cell_type": "markdown",
      "metadata": {
        "id": "dr3BPc7YT-o8",
        "colab_type": "text"
      },
      "source": [
        "In This We Will See Various Data Cleaning Tasks Using python's Pandas Library.We'll be focusing biggest data cleaning task i.e Missing Values.\n",
        "Lets see the Various sources of missing values.\n",
        "\n",
        "**Sources Of Missing Values:**\n",
        "1. Sources Of Missing Values\n",
        "2. Getting Started\n",
        "3. Checking Missing Values\n",
        "  3.1 Standard Missing Values<br/>\n",
        "  3.2 Non Standard Missing Values<br/>\n",
        "  3.3 Unexpected Missing Values<br/>\n",
        "  3.4 Summarizing Missing Values<br/>\n",
        "4. Replacing Missing Values\n",
        "  4.1 Replacing Missing values with either numbers or string<br/>\n",
        "  4.2 Replacing Missing values with mean,medain or mod ,fill or backfill methods<br/>\n",
        "  4.3 Another way of checking and inputingmissing values<br/>\n",
        "      4.3.1 Checking for missing values<br/>\n",
        "      4.3.2 Imputing missing values<br/>\n",
        "5. Dropping Rows containing missing values\n",
        "6. Conversion of data types\n",
        "  6.1 Implicit Conversion<br/>\n",
        "  6.2 Explicit Conversion<br/>\n",
        "7. Outlier Detetction\n",
        "  7.1  What is an Outlier ?<br/>\n",
        "  7.2  What are types of Outliers?<br/>\n",
        "  7.3 How to Detect outliers ?<br/>\n",
        "  7.4 Visualisation of features inorder to detect the outliers<br/>\n",
        "  7.5 Mathematically detecting outliers using inter quartile range and Z-score<br/>\n",
        "      7.5.1 IQR<br/>\n",
        "      7.5.2 \n",
        "\n",
        "\n",
        "\n",
        "\n",
        "\n",
        "\n"
      ]
    },
    {
      "cell_type": "code",
      "metadata": {
        "id": "fGRa4yvyUcsN",
        "colab_type": "code",
        "colab": {
          "base_uri": "https://localhost:8080/",
          "height": 34
        },
        "outputId": "38e3e964-e53d-41f2-fefb-084336e5017b"
      },
      "source": [
        "print('commit')"
      ],
      "execution_count": 1,
      "outputs": [
        {
          "output_type": "stream",
          "text": [
            "commit\n"
          ],
          "name": "stdout"
        }
      ]
    }
  ]
}